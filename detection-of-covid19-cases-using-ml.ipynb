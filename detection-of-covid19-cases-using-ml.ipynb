{
 "cells": [
  {
   "cell_type": "markdown",
   "id": "86e960bf",
   "metadata": {
    "papermill": {
     "duration": 0.052312,
     "end_time": "2022-05-31T07:35:18.824051",
     "exception": false,
     "start_time": "2022-05-31T07:35:18.771739",
     "status": "completed"
    },
    "tags": []
   },
   "source": [
    "# **Detection of Covid19 Cases using Supervised Machine Learning**"
   ]
  },
  {
   "cell_type": "code",
   "execution_count": 1,
   "id": "0c4e2ac7",
   "metadata": {
    "_kg_hide-input": true,
    "execution": {
     "iopub.execute_input": "2022-05-31T07:35:18.935783Z",
     "iopub.status.busy": "2022-05-31T07:35:18.935118Z",
     "iopub.status.idle": "2022-05-31T07:35:18.944893Z",
     "shell.execute_reply": "2022-05-31T07:35:18.944034Z",
     "shell.execute_reply.started": "2022-05-31T07:19:42.081256Z"
    },
    "papermill": {
     "duration": 0.071156,
     "end_time": "2022-05-31T07:35:18.945062",
     "exception": false,
     "start_time": "2022-05-31T07:35:18.873906",
     "status": "completed"
    },
    "tags": []
   },
   "outputs": [
    {
     "data": {
      "text/html": [
       "\n",
       "<html>\n",
       "    <body>\n",
       "        <iframe src = \"https://atharv-chaudhari.github.io/Project-Covid-NLP/\" height = \"650px\" width = \"100%\">\n",
       "        </iframe>\n",
       "    </body>\n",
       "</html>\n"
      ],
      "text/plain": [
       "<IPython.core.display.HTML object>"
      ]
     },
     "metadata": {},
     "output_type": "display_data"
    }
   ],
   "source": [
    "%%HTML\n",
    "\n",
    "<html>\n",
    "    <body>\n",
    "        <iframe src = \"https://atharv-chaudhari.github.io/Project-Covid-NLP/\" height = \"650px\" width = \"100%\">\n",
    "        </iframe>\n",
    "    </body>\n",
    "</html>"
   ]
  },
  {
   "cell_type": "markdown",
   "id": "eb08def4",
   "metadata": {
    "papermill": {
     "duration": 0.051256,
     "end_time": "2022-05-31T07:35:19.051665",
     "exception": false,
     "start_time": "2022-05-31T07:35:19.000409",
     "status": "completed"
    },
    "tags": []
   },
   "source": [
    "# [Data Source](https://data.gov.il/dataset/covid-19/resource/d337959a-020a-4ed3-84f7-fca182292308)\n",
    "\n",
    "# [Extracted Data Code Used for this Project](https://www.kaggle.com/mykeysid10/israel-covid-19-data-extraction#Dataset-Link) "
   ]
  },
  {
   "cell_type": "markdown",
   "id": "ba08770e",
   "metadata": {
    "papermill": {
     "duration": 0.050792,
     "end_time": "2022-05-31T07:35:19.153511",
     "exception": false,
     "start_time": "2022-05-31T07:35:19.102719",
     "status": "completed"
    },
    "tags": []
   },
   "source": [
    "# Loading Required Libraries "
   ]
  },
  {
   "cell_type": "code",
   "execution_count": 2,
   "id": "04132dd2",
   "metadata": {
    "execution": {
     "iopub.execute_input": "2022-05-31T07:35:19.263216Z",
     "iopub.status.busy": "2022-05-31T07:35:19.262353Z",
     "iopub.status.idle": "2022-05-31T07:35:22.477688Z",
     "shell.execute_reply": "2022-05-31T07:35:22.476788Z",
     "shell.execute_reply.started": "2022-05-31T07:23:22.456239Z"
    },
    "papermill": {
     "duration": 3.274308,
     "end_time": "2022-05-31T07:35:22.477879",
     "exception": false,
     "start_time": "2022-05-31T07:35:19.203571",
     "status": "completed"
    },
    "tags": []
   },
   "outputs": [],
   "source": [
    "# Data Preprocessing\n",
    "\n",
    "import numpy as np\n",
    "import pandas as pd\n",
    "\n",
    "# Data Analysis\n",
    "\n",
    "import plotly.express as px\n",
    "import missingno as msno\n",
    "\n",
    "# Feature Selection\n",
    "\n",
    "import scipy.stats as stats\n",
    "from scipy.stats import chi2_contingency\n",
    "\n",
    "# Data Modeling\n",
    "\n",
    "from sklearn.model_selection import train_test_split\n",
    "from imblearn.under_sampling import RandomUnderSampler \n",
    "from sklearn.model_selection import GridSearchCV\n",
    "from sklearn.linear_model import LogisticRegression\n",
    "from sklearn.ensemble import RandomForestClassifier\n",
    "from xgboost import XGBClassifier\n",
    "\n",
    "# Model Evaluation & saving the model\n",
    "\n",
    "from sklearn.metrics import classification_report, confusion_matrix, ConfusionMatrixDisplay, recall_score, accuracy_score, precision_score, f1_score\n",
    "import pickle"
   ]
  },
  {
   "cell_type": "markdown",
   "id": "8ed6a26f",
   "metadata": {
    "papermill": {
     "duration": 0.051089,
     "end_time": "2022-05-31T07:35:22.584513",
     "exception": false,
     "start_time": "2022-05-31T07:35:22.533424",
     "status": "completed"
    },
    "tags": []
   },
   "source": [
    "# Reading The Data"
   ]
  },
  {
   "cell_type": "code",
   "execution_count": 3,
   "id": "da3fa693",
   "metadata": {
    "execution": {
     "iopub.execute_input": "2022-05-31T07:35:22.697375Z",
     "iopub.status.busy": "2022-05-31T07:35:22.696661Z",
     "iopub.status.idle": "2022-05-31T07:35:31.385279Z",
     "shell.execute_reply": "2022-05-31T07:35:31.384778Z",
     "shell.execute_reply.started": "2022-05-31T07:23:24.876723Z"
    },
    "papermill": {
     "duration": 8.746038,
     "end_time": "2022-05-31T07:35:31.385461",
     "exception": false,
     "start_time": "2022-05-31T07:35:22.639423",
     "status": "completed"
    },
    "tags": []
   },
   "outputs": [
    {
     "data": {
      "text/html": [
       "<div>\n",
       "<style scoped>\n",
       "    .dataframe tbody tr th:only-of-type {\n",
       "        vertical-align: middle;\n",
       "    }\n",
       "\n",
       "    .dataframe tbody tr th {\n",
       "        vertical-align: top;\n",
       "    }\n",
       "\n",
       "    .dataframe thead th {\n",
       "        text-align: right;\n",
       "    }\n",
       "</style>\n",
       "<table border=\"1\" class=\"dataframe\">\n",
       "  <thead>\n",
       "    <tr style=\"text-align: right;\">\n",
       "      <th></th>\n",
       "      <th>test_date</th>\n",
       "      <th>cough</th>\n",
       "      <th>fever</th>\n",
       "      <th>sore_throat</th>\n",
       "      <th>shortness_of_breath</th>\n",
       "      <th>head_ache</th>\n",
       "      <th>corona_result</th>\n",
       "      <th>age_60_and_above</th>\n",
       "      <th>gender</th>\n",
       "      <th>test_indication</th>\n",
       "    </tr>\n",
       "  </thead>\n",
       "  <tbody>\n",
       "    <tr>\n",
       "      <th>0</th>\n",
       "      <td>2021-10-11</td>\n",
       "      <td>0</td>\n",
       "      <td>0</td>\n",
       "      <td>0</td>\n",
       "      <td>0</td>\n",
       "      <td>0</td>\n",
       "      <td>Negative</td>\n",
       "      <td>Yes</td>\n",
       "      <td>female</td>\n",
       "      <td>Other</td>\n",
       "    </tr>\n",
       "    <tr>\n",
       "      <th>1</th>\n",
       "      <td>2021-10-11</td>\n",
       "      <td>0</td>\n",
       "      <td>0</td>\n",
       "      <td>0</td>\n",
       "      <td>0</td>\n",
       "      <td>0</td>\n",
       "      <td>Negative</td>\n",
       "      <td>Yes</td>\n",
       "      <td>male</td>\n",
       "      <td>Other</td>\n",
       "    </tr>\n",
       "    <tr>\n",
       "      <th>2</th>\n",
       "      <td>2021-10-11</td>\n",
       "      <td>0</td>\n",
       "      <td>0</td>\n",
       "      <td>0</td>\n",
       "      <td>0</td>\n",
       "      <td>0</td>\n",
       "      <td>Negative</td>\n",
       "      <td>No</td>\n",
       "      <td>female</td>\n",
       "      <td>Other</td>\n",
       "    </tr>\n",
       "    <tr>\n",
       "      <th>3</th>\n",
       "      <td>2021-10-11</td>\n",
       "      <td>0</td>\n",
       "      <td>0</td>\n",
       "      <td>0</td>\n",
       "      <td>0</td>\n",
       "      <td>0</td>\n",
       "      <td>Negative</td>\n",
       "      <td>Yes</td>\n",
       "      <td>female</td>\n",
       "      <td>Other</td>\n",
       "    </tr>\n",
       "    <tr>\n",
       "      <th>4</th>\n",
       "      <td>2021-10-11</td>\n",
       "      <td>0</td>\n",
       "      <td>0</td>\n",
       "      <td>0</td>\n",
       "      <td>0</td>\n",
       "      <td>0</td>\n",
       "      <td>Negative</td>\n",
       "      <td>Yes</td>\n",
       "      <td>female</td>\n",
       "      <td>Other</td>\n",
       "    </tr>\n",
       "  </tbody>\n",
       "</table>\n",
       "</div>"
      ],
      "text/plain": [
       "    test_date  cough  fever  sore_throat  shortness_of_breath  head_ache  \\\n",
       "0  2021-10-11      0      0            0                    0          0   \n",
       "1  2021-10-11      0      0            0                    0          0   \n",
       "2  2021-10-11      0      0            0                    0          0   \n",
       "3  2021-10-11      0      0            0                    0          0   \n",
       "4  2021-10-11      0      0            0                    0          0   \n",
       "\n",
       "  corona_result age_60_and_above  gender test_indication  \n",
       "0      Negative              Yes  female           Other  \n",
       "1      Negative              Yes    male           Other  \n",
       "2      Negative               No  female           Other  \n",
       "3      Negative              Yes  female           Other  \n",
       "4      Negative              Yes  female           Other  "
      ]
     },
     "execution_count": 3,
     "metadata": {},
     "output_type": "execute_result"
    }
   ],
   "source": [
    "# Loading the Data\n",
    "\n",
    "data = pd.read_csv(\"../input/covid19-dataset-for-year-2020/covid_data_2020-2021.csv\")\n",
    "data.head()"
   ]
  },
  {
   "cell_type": "code",
   "execution_count": 4,
   "id": "f2e71969",
   "metadata": {
    "execution": {
     "iopub.execute_input": "2022-05-31T07:35:31.510429Z",
     "iopub.status.busy": "2022-05-31T07:35:31.501157Z",
     "iopub.status.idle": "2022-05-31T07:35:31.515906Z",
     "shell.execute_reply": "2022-05-31T07:35:31.516907Z",
     "shell.execute_reply.started": "2022-05-31T07:23:30.219277Z"
    },
    "papermill": {
     "duration": 0.080994,
     "end_time": "2022-05-31T07:35:31.517128",
     "exception": false,
     "start_time": "2022-05-31T07:35:31.436134",
     "status": "completed"
    },
    "tags": []
   },
   "outputs": [
    {
     "name": "stdout",
     "output_type": "stream",
     "text": [
      "<class 'pandas.core.frame.DataFrame'>\n",
      "RangeIndex: 5861480 entries, 0 to 5861479\n",
      "Data columns (total 10 columns):\n",
      " #   Column               Dtype \n",
      "---  ------               ----- \n",
      " 0   test_date            object\n",
      " 1   cough                int64 \n",
      " 2   fever                int64 \n",
      " 3   sore_throat          int64 \n",
      " 4   shortness_of_breath  int64 \n",
      " 5   head_ache            int64 \n",
      " 6   corona_result        object\n",
      " 7   age_60_and_above     object\n",
      " 8   gender               object\n",
      " 9   test_indication      object\n",
      "dtypes: int64(5), object(5)\n",
      "memory usage: 447.2+ MB\n"
     ]
    }
   ],
   "source": [
    "data.info()"
   ]
  },
  {
   "cell_type": "markdown",
   "id": "fab83020",
   "metadata": {
    "papermill": {
     "duration": 0.050722,
     "end_time": "2022-05-31T07:35:31.619208",
     "exception": false,
     "start_time": "2022-05-31T07:35:31.568486",
     "status": "completed"
    },
    "tags": []
   },
   "source": [
    "> #### Dataset has 5861480 records and 10 features.\n",
    "\n",
    "> #### This is a Binary Classification Problem. "
   ]
  },
  {
   "cell_type": "code",
   "execution_count": 5,
   "id": "ac841e04",
   "metadata": {
    "execution": {
     "iopub.execute_input": "2022-05-31T07:35:31.730430Z",
     "iopub.status.busy": "2022-05-31T07:35:31.727145Z",
     "iopub.status.idle": "2022-05-31T07:35:33.790369Z",
     "shell.execute_reply": "2022-05-31T07:35:33.789531Z",
     "shell.execute_reply.started": "2022-05-31T07:23:30.234944Z"
    },
    "papermill": {
     "duration": 2.119716,
     "end_time": "2022-05-31T07:35:33.790685",
     "exception": false,
     "start_time": "2022-05-31T07:35:31.670969",
     "status": "completed"
    },
    "tags": []
   },
   "outputs": [
    {
     "name": "stdout",
     "output_type": "stream",
     "text": [
      "Feature: cough with [0 1] Levels\n",
      "Feature: fever with [0 1] Levels\n",
      "Feature: sore_throat with [0 1] Levels\n",
      "Feature: shortness_of_breath with [0 1] Levels\n",
      "Feature: head_ache with [0 1] Levels\n",
      "Feature: corona_result with ['Negative' 'Positive'] Levels\n",
      "Feature: age_60_and_above with ['Yes' 'No'] Levels\n",
      "Feature: gender with ['female' 'male'] Levels\n",
      "Feature: test_indication with ['Other' 'Contact with confirmed' 'Abroad'] Levels\n"
     ]
    }
   ],
   "source": [
    "# Checking the levels for categorical features\n",
    "\n",
    "def show(data):\n",
    "  for i in data.columns[1:]:\n",
    "    print(\"Feature: {} with {} Levels\".format(i,data[i].unique()))\n",
    "\n",
    "show(data)"
   ]
  },
  {
   "cell_type": "markdown",
   "id": "4b0454dd",
   "metadata": {
    "papermill": {
     "duration": 0.051689,
     "end_time": "2022-05-31T07:35:33.898454",
     "exception": false,
     "start_time": "2022-05-31T07:35:33.846765",
     "status": "completed"
    },
    "tags": []
   },
   "source": [
    "> #### Target Feature is Corona_result.\n",
    "\n",
    "> #### Data is completely Categorical except test_date feature."
   ]
  },
  {
   "cell_type": "markdown",
   "id": "26a880fd",
   "metadata": {
    "papermill": {
     "duration": 0.054457,
     "end_time": "2022-05-31T07:35:34.005121",
     "exception": false,
     "start_time": "2022-05-31T07:35:33.950664",
     "status": "completed"
    },
    "tags": []
   },
   "source": [
    "# Exploratory Data Analysis using Tableau"
   ]
  },
  {
   "cell_type": "code",
   "execution_count": 6,
   "id": "d7b0255c",
   "metadata": {
    "execution": {
     "iopub.execute_input": "2022-05-31T07:35:34.115916Z",
     "iopub.status.busy": "2022-05-31T07:35:34.114568Z",
     "iopub.status.idle": "2022-05-31T07:35:37.356734Z",
     "shell.execute_reply": "2022-05-31T07:35:37.356059Z",
     "shell.execute_reply.started": "2022-05-31T07:23:31.840642Z"
    },
    "papermill": {
     "duration": 3.299377,
     "end_time": "2022-05-31T07:35:37.356883",
     "exception": false,
     "start_time": "2022-05-31T07:35:34.057506",
     "status": "completed"
    },
    "tags": []
   },
   "outputs": [
    {
     "data": {
      "text/plain": [
       "test_date              0\n",
       "cough                  0\n",
       "fever                  0\n",
       "sore_throat            0\n",
       "shortness_of_breath    0\n",
       "head_ache              0\n",
       "corona_result          0\n",
       "age_60_and_above       0\n",
       "gender                 0\n",
       "test_indication        0\n",
       "dtype: int64"
      ]
     },
     "execution_count": 6,
     "metadata": {},
     "output_type": "execute_result"
    }
   ],
   "source": [
    "data.isnull().sum()"
   ]
  },
  {
   "cell_type": "markdown",
   "id": "3b68cba0",
   "metadata": {
    "papermill": {
     "duration": 0.0521,
     "end_time": "2022-05-31T07:35:37.462901",
     "exception": false,
     "start_time": "2022-05-31T07:35:37.410801",
     "status": "completed"
    },
    "tags": []
   },
   "source": [
    "> #### There are no missing values in the data."
   ]
  },
  {
   "cell_type": "code",
   "execution_count": 7,
   "id": "f8a28ae6",
   "metadata": {
    "_kg_hide-input": true,
    "execution": {
     "iopub.execute_input": "2022-05-31T07:35:37.576434Z",
     "iopub.status.busy": "2022-05-31T07:35:37.575448Z",
     "iopub.status.idle": "2022-05-31T07:35:37.580008Z",
     "shell.execute_reply": "2022-05-31T07:35:37.579516Z",
     "shell.execute_reply.started": "2022-05-31T07:15:03.411790Z"
    },
    "papermill": {
     "duration": 0.064568,
     "end_time": "2022-05-31T07:35:37.580152",
     "exception": false,
     "start_time": "2022-05-31T07:35:37.515584",
     "status": "completed"
    },
    "tags": []
   },
   "outputs": [
    {
     "data": {
      "text/html": [
       "\n",
       "<div class='tableauPlaceholder' id='viz1639243913844' style='position: relative'>\n",
       "    <object class='tableauViz'  style='display:none;'>\n",
       "        <param name='host_url' value='https%3A%2F%2Fpublic.tableau.com%2F' /> \n",
       "        <param name='embed_code_version' value='3' /> \n",
       "        <param name='site_root' value='' />\n",
       "        <param name='name' value='IsraelCovidDataAnalysis_16391222654010&#47;Covid19Dashboard' />\n",
       "        <param name='tabs' value='no' />\n",
       "        <param name='toolbar' value='yes' />\n",
       "        <param name='animate_transition' value='yes' />\n",
       "        <param name='display_static_image' value='yes' />\n",
       "        <param name='display_spinner' value='yes' />\n",
       "        <param name='display_overlay' value='yes' />\n",
       "        <param name='display_count' value='yes' />\n",
       "        <param name='language' value='en-US' />\n",
       "    </object>\n",
       "</div>                \n",
       "\n",
       "<script type='text/javascript'>                    \n",
       "    var divElement = document.getElementById('viz1639243913844');                    \n",
       "    var vizElement = divElement.getElementsByTagName('object')[0];                    \n",
       "    if ( divElement.offsetWidth > 800 ) { \n",
       "        vizElement.style.width='100%';\n",
       "        vizElement.style.height=(divElement.offsetWidth*0.75)+'px';\n",
       "    } \n",
       "    else if ( divElement.offsetWidth > 500 ) { \n",
       "        vizElement.style.width='100%';\n",
       "        vizElement.style.height=(divElement.offsetWidth*0.75)+'px';\n",
       "    } \n",
       "    else { \n",
       "        vizElement.style.width='100%';\n",
       "        vizElement.style.height='2327px';\n",
       "    }                     \n",
       "    var scriptElement = document.createElement('script');                    \n",
       "    scriptElement.src = 'https://public.tableau.com/javascripts/api/viz_v1.js';                    \n",
       "    vizElement.parentNode.insertBefore(scriptElement, vizElement);                \n",
       "</script>\n"
      ],
      "text/plain": [
       "<IPython.core.display.HTML object>"
      ]
     },
     "metadata": {},
     "output_type": "display_data"
    }
   ],
   "source": [
    "%%HTML\n",
    "\n",
    "<div class='tableauPlaceholder' id='viz1639243913844' style='position: relative'>\n",
    "    <object class='tableauViz'  style='display:none;'>\n",
    "        <param name='host_url' value='https%3A%2F%2Fpublic.tableau.com%2F' /> \n",
    "        <param name='embed_code_version' value='3' /> \n",
    "        <param name='site_root' value='' />\n",
    "        <param name='name' value='IsraelCovidDataAnalysis_16391222654010&#47;Covid19Dashboard' />\n",
    "        <param name='tabs' value='no' />\n",
    "        <param name='toolbar' value='yes' />\n",
    "        <param name='animate_transition' value='yes' />\n",
    "        <param name='display_static_image' value='yes' />\n",
    "        <param name='display_spinner' value='yes' />\n",
    "        <param name='display_overlay' value='yes' />\n",
    "        <param name='display_count' value='yes' />\n",
    "        <param name='language' value='en-US' />\n",
    "    </object>\n",
    "</div>                \n",
    "\n",
    "<script type='text/javascript'>                    \n",
    "    var divElement = document.getElementById('viz1639243913844');                    \n",
    "    var vizElement = divElement.getElementsByTagName('object')[0];                    \n",
    "    if ( divElement.offsetWidth > 800 ) { \n",
    "        vizElement.style.width='100%';\n",
    "        vizElement.style.height=(divElement.offsetWidth*0.75)+'px';\n",
    "    } \n",
    "    else if ( divElement.offsetWidth > 500 ) { \n",
    "        vizElement.style.width='100%';\n",
    "        vizElement.style.height=(divElement.offsetWidth*0.75)+'px';\n",
    "    } \n",
    "    else { \n",
    "        vizElement.style.width='100%';\n",
    "        vizElement.style.height='2327px';\n",
    "    }                     \n",
    "    var scriptElement = document.createElement('script');                    \n",
    "    scriptElement.src = 'https://public.tableau.com/javascripts/api/viz_v1.js';                    \n",
    "    vizElement.parentNode.insertBefore(scriptElement, vizElement);                \n",
    "</script>"
   ]
  },
  {
   "cell_type": "markdown",
   "id": "b9bdbe04",
   "metadata": {
    "papermill": {
     "duration": 0.053474,
     "end_time": "2022-05-31T07:35:37.688704",
     "exception": false,
     "start_time": "2022-05-31T07:35:37.635230",
     "status": "completed"
    },
    "tags": []
   },
   "source": [
    "> #### A Tableau Dashboard consisting the EDA of data. \n",
    "\n",
    "> #### Use the filters and check the graphs for specified filters.\n",
    "\n",
    "> #### [Tableau Dashboard Link](https://public.tableau.com/views/IsraelCovidDataAnalysis_16391222654010/Covid19Dashboard?:language=en-US&:display_count=n&:origin=viz_share_link)"
   ]
  },
  {
   "cell_type": "markdown",
   "id": "0cf2fead",
   "metadata": {
    "papermill": {
     "duration": 0.053814,
     "end_time": "2022-05-31T07:35:37.795446",
     "exception": false,
     "start_time": "2022-05-31T07:35:37.741632",
     "status": "completed"
    },
    "tags": []
   },
   "source": [
    "![](https://raw.githubusercontent.com/Atharv-Chaudhari/Project-Covid-NLP/main/Project%20Covid%20Images/Tableau.jpeg)"
   ]
  },
  {
   "cell_type": "markdown",
   "id": "41c93902",
   "metadata": {
    "papermill": {
     "duration": 0.052727,
     "end_time": "2022-05-31T07:35:37.902023",
     "exception": false,
     "start_time": "2022-05-31T07:35:37.849296",
     "status": "completed"
    },
    "tags": []
   },
   "source": [
    "# Encoding The Features"
   ]
  },
  {
   "cell_type": "code",
   "execution_count": 8,
   "id": "f1462329",
   "metadata": {
    "execution": {
     "iopub.execute_input": "2022-05-31T07:35:38.013846Z",
     "iopub.status.busy": "2022-05-31T07:35:38.012848Z",
     "iopub.status.idle": "2022-05-31T07:35:43.231301Z",
     "shell.execute_reply": "2022-05-31T07:35:43.230656Z",
     "shell.execute_reply.started": "2022-05-31T07:23:41.805068Z"
    },
    "papermill": {
     "duration": 5.276049,
     "end_time": "2022-05-31T07:35:43.231491",
     "exception": false,
     "start_time": "2022-05-31T07:35:37.955442",
     "status": "completed"
    },
    "tags": []
   },
   "outputs": [],
   "source": [
    "# Label Encoding\n",
    "\n",
    "data['corona_result'] = data['corona_result'].map({'Negative': 0, 'Positive': 1})\n",
    "data['gender'] = data['gender'].map({'female': 0, 'male': 1})\n",
    "data['age_60_and_above'] = data['age_60_and_above'].map({'No': 0, 'Yes': 1})\n",
    "\n",
    "# One Hot Encoding \n",
    "\n",
    "data['test_indication'] = data['test_indication'].map({'Abroad': 'abroad', 'Contact with confirmed': 'contact_with_covid_positive_patient', 'Other': 'other'})\n",
    "data = pd.get_dummies(data, columns = ['test_indication'])"
   ]
  },
  {
   "cell_type": "code",
   "execution_count": 9,
   "id": "279602c3",
   "metadata": {
    "execution": {
     "iopub.execute_input": "2022-05-31T07:35:43.480891Z",
     "iopub.status.busy": "2022-05-31T07:35:43.480122Z",
     "iopub.status.idle": "2022-05-31T07:35:43.515539Z",
     "shell.execute_reply": "2022-05-31T07:35:43.514838Z",
     "shell.execute_reply.started": "2022-05-31T07:23:45.850084Z"
    },
    "papermill": {
     "duration": 0.228439,
     "end_time": "2022-05-31T07:35:43.515696",
     "exception": false,
     "start_time": "2022-05-31T07:35:43.287257",
     "status": "completed"
    },
    "tags": []
   },
   "outputs": [
    {
     "data": {
      "text/html": [
       "<div>\n",
       "<style scoped>\n",
       "    .dataframe tbody tr th:only-of-type {\n",
       "        vertical-align: middle;\n",
       "    }\n",
       "\n",
       "    .dataframe tbody tr th {\n",
       "        vertical-align: top;\n",
       "    }\n",
       "\n",
       "    .dataframe thead th {\n",
       "        text-align: right;\n",
       "    }\n",
       "</style>\n",
       "<table border=\"1\" class=\"dataframe\">\n",
       "  <thead>\n",
       "    <tr style=\"text-align: right;\">\n",
       "      <th></th>\n",
       "      <th>cough</th>\n",
       "      <th>fever</th>\n",
       "      <th>sore_throat</th>\n",
       "      <th>shortness_of_breath</th>\n",
       "      <th>head_ache</th>\n",
       "      <th>corona_result</th>\n",
       "      <th>age_60_and_above</th>\n",
       "      <th>gender</th>\n",
       "      <th>abroad</th>\n",
       "      <th>contact_with_covid_positive_patient</th>\n",
       "    </tr>\n",
       "  </thead>\n",
       "  <tbody>\n",
       "    <tr>\n",
       "      <th>0</th>\n",
       "      <td>0</td>\n",
       "      <td>0</td>\n",
       "      <td>0</td>\n",
       "      <td>0</td>\n",
       "      <td>0</td>\n",
       "      <td>0</td>\n",
       "      <td>1</td>\n",
       "      <td>0</td>\n",
       "      <td>0</td>\n",
       "      <td>0</td>\n",
       "    </tr>\n",
       "    <tr>\n",
       "      <th>1</th>\n",
       "      <td>0</td>\n",
       "      <td>0</td>\n",
       "      <td>0</td>\n",
       "      <td>0</td>\n",
       "      <td>0</td>\n",
       "      <td>0</td>\n",
       "      <td>1</td>\n",
       "      <td>1</td>\n",
       "      <td>0</td>\n",
       "      <td>0</td>\n",
       "    </tr>\n",
       "    <tr>\n",
       "      <th>2</th>\n",
       "      <td>0</td>\n",
       "      <td>0</td>\n",
       "      <td>0</td>\n",
       "      <td>0</td>\n",
       "      <td>0</td>\n",
       "      <td>0</td>\n",
       "      <td>0</td>\n",
       "      <td>0</td>\n",
       "      <td>0</td>\n",
       "      <td>0</td>\n",
       "    </tr>\n",
       "    <tr>\n",
       "      <th>3</th>\n",
       "      <td>0</td>\n",
       "      <td>0</td>\n",
       "      <td>0</td>\n",
       "      <td>0</td>\n",
       "      <td>0</td>\n",
       "      <td>0</td>\n",
       "      <td>1</td>\n",
       "      <td>0</td>\n",
       "      <td>0</td>\n",
       "      <td>0</td>\n",
       "    </tr>\n",
       "    <tr>\n",
       "      <th>4</th>\n",
       "      <td>0</td>\n",
       "      <td>0</td>\n",
       "      <td>0</td>\n",
       "      <td>0</td>\n",
       "      <td>0</td>\n",
       "      <td>0</td>\n",
       "      <td>1</td>\n",
       "      <td>0</td>\n",
       "      <td>0</td>\n",
       "      <td>0</td>\n",
       "    </tr>\n",
       "  </tbody>\n",
       "</table>\n",
       "</div>"
      ],
      "text/plain": [
       "   cough  fever  sore_throat  shortness_of_breath  head_ache  corona_result  \\\n",
       "0      0      0            0                    0          0              0   \n",
       "1      0      0            0                    0          0              0   \n",
       "2      0      0            0                    0          0              0   \n",
       "3      0      0            0                    0          0              0   \n",
       "4      0      0            0                    0          0              0   \n",
       "\n",
       "   age_60_and_above  gender  abroad  contact_with_covid_positive_patient  \n",
       "0                 1       0       0                                    0  \n",
       "1                 1       1       0                                    0  \n",
       "2                 0       0       0                                    0  \n",
       "3                 1       0       0                                    0  \n",
       "4                 1       0       0                                    0  "
      ]
     },
     "execution_count": 9,
     "metadata": {},
     "output_type": "execute_result"
    }
   ],
   "source": [
    "# Renaming the encoded feature names & dropping test_indication_other & test_date feature\n",
    "\n",
    "data.rename({'test_indication_abroad': 'abroad',\n",
    "             'test_indication_contact_with_covid_positive_patient': 'contact_with_covid_positive_patient'},\n",
    "             axis='columns', inplace = True)\n",
    "\n",
    "data.drop(['test_date','test_indication_other'], axis = 1, inplace = True)\n",
    "data.head()"
   ]
  },
  {
   "cell_type": "markdown",
   "id": "a2af6555",
   "metadata": {
    "papermill": {
     "duration": 0.056264,
     "end_time": "2022-05-31T07:35:43.628766",
     "exception": false,
     "start_time": "2022-05-31T07:35:43.572502",
     "status": "completed"
    },
    "tags": []
   },
   "source": [
    "> #### Dropped test_indication = other because it is not specified what other means in this [PDF](https://github.com/Atharv-Chaudhari/Sem-7-Covid/blob/main/Phase-1-ML/Dataset%20Description.pdf).\n",
    "\n",
    "> #### Dropped test_date because our objective is to detect if a patient is Covid Positive or Negative based on Symptoms, Gender, Age & Test Indications."
   ]
  },
  {
   "cell_type": "code",
   "execution_count": 10,
   "id": "4eea12b8",
   "metadata": {
    "execution": {
     "iopub.execute_input": "2022-05-31T07:35:43.753038Z",
     "iopub.status.busy": "2022-05-31T07:35:43.751621Z",
     "iopub.status.idle": "2022-05-31T07:35:46.963532Z",
     "shell.execute_reply": "2022-05-31T07:35:46.964043Z",
     "shell.execute_reply.started": "2022-05-31T07:23:50.284775Z"
    },
    "papermill": {
     "duration": 3.276889,
     "end_time": "2022-05-31T07:35:46.964239",
     "exception": false,
     "start_time": "2022-05-31T07:35:43.687350",
     "status": "completed"
    },
    "tags": []
   },
   "outputs": [
    {
     "data": {
      "text/html": [
       "        <script type=\"text/javascript\">\n",
       "        window.PlotlyConfig = {MathJaxConfig: 'local'};\n",
       "        if (window.MathJax) {MathJax.Hub.Config({SVG: {font: \"STIX-Web\"}});}\n",
       "        if (typeof require !== 'undefined') {\n",
       "        require.undef(\"plotly\");\n",
       "        requirejs.config({\n",
       "            paths: {\n",
       "                'plotly': ['https://cdn.plot.ly/plotly-2.6.3.min']\n",
       "            }\n",
       "        });\n",
       "        require(['plotly'], function(Plotly) {\n",
       "            window._Plotly = Plotly;\n",
       "        });\n",
       "        }\n",
       "        </script>\n",
       "        "
      ]
     },
     "metadata": {},
     "output_type": "display_data"
    },
    {
     "data": {
      "text/html": [
       "<div>                            <div id=\"e39615d4-b285-4a22-ad09-6d4183b48cec\" class=\"plotly-graph-div\" style=\"height:525px; width:100%;\"></div>            <script type=\"text/javascript\">                require([\"plotly\"], function(Plotly) {                    window.PLOTLYENV=window.PLOTLYENV || {};                                    if (document.getElementById(\"e39615d4-b285-4a22-ad09-6d4183b48cec\")) {                    Plotly.newPlot(                        \"e39615d4-b285-4a22-ad09-6d4183b48cec\",                        [{\"coloraxis\":\"coloraxis\",\"name\":\"0\",\"x\":[\"cough\",\"fever\",\"sore_throat\",\"shortness_of_breath\",\"head_ache\",\"corona_result\",\"age_60_and_above\",\"gender\",\"abroad\",\"contact_with_covid_positive_patient\"],\"y\":[\"cough\",\"fever\",\"sore_throat\",\"shortness_of_breath\",\"head_ache\",\"corona_result\",\"age_60_and_above\",\"gender\",\"abroad\",\"contact_with_covid_positive_patient\"],\"z\":[[1.0,0.3560784332962189,0.28138469327712545,0.17116129007030972,0.32901511079784745,0.22965428746827982,-0.0005769990587999812,-0.0175533717732006,0.13919782990679588,0.29539917335233756],[0.3560784332962189,1.0,0.21751232620739255,0.1290233615375195,0.31540192286403546,0.23687057270984746,-0.00717282538242803,0.0033387329372887103,0.06948977663837691,0.26871825675972766],[0.28138469327712545,0.21751232620739255,1.0,0.1300324838979195,0.33179341648238275,0.16901267037155404,-0.018754496859211944,-0.028611967626837365,0.013617264121598577,0.22249398783098995],[0.17116129007030972,0.1290233615375195,0.1300324838979195,1.0,0.14762163568715048,0.10212962339786134,0.00745756866924029,-0.013696507705027196,0.011389701918023446,0.09461042354852238],[0.32901511079784745,0.31540192286403546,0.33179341648238275,0.14762163568715048,1.0,0.24888006300954427,-0.032147889555159716,-0.02679036580027233,0.008482260770081344,0.32883612115971456],[0.22965428746827982,0.23687057270984746,0.16901267037155404,0.10212962339786134,0.24888006300954427,1.0,-0.00749606536322347,0.008121146178039988,0.004795520241489712,0.3742652918876838],[-0.0005769990587999812,-0.00717282538242803,-0.018754496859211944,0.00745756866924029,-0.032147889555159716,-0.00749606536322347,1.0,-0.011355094882359133,-0.002031275389496276,-0.04100090918406032],[-0.0175533717732006,0.0033387329372887103,-0.028611967626837365,-0.013696507705027196,-0.02679036580027233,0.008121146178039988,-0.011355094882359133,1.0,0.0056452076548524,-0.014340588008522346],[0.13919782990679588,0.06948977663837691,0.013617264121598577,0.011389701918023446,0.008482260770081344,0.004795520241489712,-0.002031275389496276,0.0056452076548524,1.0,-0.0165521210860788],[0.29539917335233756,0.26871825675972766,0.22249398783098995,0.09461042354852238,0.32883612115971456,0.3742652918876838,-0.04100090918406032,-0.014340588008522346,-0.0165521210860788,1.0]],\"type\":\"heatmap\",\"xaxis\":\"x\",\"yaxis\":\"y\",\"hovertemplate\":\"x: %{x}<br>y: %{y}<br>color: %{z}<extra></extra>\"}],                        {\"template\":{\"data\":{\"bar\":[{\"error_x\":{\"color\":\"#2a3f5f\"},\"error_y\":{\"color\":\"#2a3f5f\"},\"marker\":{\"line\":{\"color\":\"#E5ECF6\",\"width\":0.5},\"pattern\":{\"fillmode\":\"overlay\",\"size\":10,\"solidity\":0.2}},\"type\":\"bar\"}],\"barpolar\":[{\"marker\":{\"line\":{\"color\":\"#E5ECF6\",\"width\":0.5},\"pattern\":{\"fillmode\":\"overlay\",\"size\":10,\"solidity\":0.2}},\"type\":\"barpolar\"}],\"carpet\":[{\"aaxis\":{\"endlinecolor\":\"#2a3f5f\",\"gridcolor\":\"white\",\"linecolor\":\"white\",\"minorgridcolor\":\"white\",\"startlinecolor\":\"#2a3f5f\"},\"baxis\":{\"endlinecolor\":\"#2a3f5f\",\"gridcolor\":\"white\",\"linecolor\":\"white\",\"minorgridcolor\":\"white\",\"startlinecolor\":\"#2a3f5f\"},\"type\":\"carpet\"}],\"choropleth\":[{\"colorbar\":{\"outlinewidth\":0,\"ticks\":\"\"},\"type\":\"choropleth\"}],\"contour\":[{\"colorbar\":{\"outlinewidth\":0,\"ticks\":\"\"},\"colorscale\":[[0.0,\"#0d0887\"],[0.1111111111111111,\"#46039f\"],[0.2222222222222222,\"#7201a8\"],[0.3333333333333333,\"#9c179e\"],[0.4444444444444444,\"#bd3786\"],[0.5555555555555556,\"#d8576b\"],[0.6666666666666666,\"#ed7953\"],[0.7777777777777778,\"#fb9f3a\"],[0.8888888888888888,\"#fdca26\"],[1.0,\"#f0f921\"]],\"type\":\"contour\"}],\"contourcarpet\":[{\"colorbar\":{\"outlinewidth\":0,\"ticks\":\"\"},\"type\":\"contourcarpet\"}],\"heatmap\":[{\"colorbar\":{\"outlinewidth\":0,\"ticks\":\"\"},\"colorscale\":[[0.0,\"#0d0887\"],[0.1111111111111111,\"#46039f\"],[0.2222222222222222,\"#7201a8\"],[0.3333333333333333,\"#9c179e\"],[0.4444444444444444,\"#bd3786\"],[0.5555555555555556,\"#d8576b\"],[0.6666666666666666,\"#ed7953\"],[0.7777777777777778,\"#fb9f3a\"],[0.8888888888888888,\"#fdca26\"],[1.0,\"#f0f921\"]],\"type\":\"heatmap\"}],\"heatmapgl\":[{\"colorbar\":{\"outlinewidth\":0,\"ticks\":\"\"},\"colorscale\":[[0.0,\"#0d0887\"],[0.1111111111111111,\"#46039f\"],[0.2222222222222222,\"#7201a8\"],[0.3333333333333333,\"#9c179e\"],[0.4444444444444444,\"#bd3786\"],[0.5555555555555556,\"#d8576b\"],[0.6666666666666666,\"#ed7953\"],[0.7777777777777778,\"#fb9f3a\"],[0.8888888888888888,\"#fdca26\"],[1.0,\"#f0f921\"]],\"type\":\"heatmapgl\"}],\"histogram\":[{\"marker\":{\"pattern\":{\"fillmode\":\"overlay\",\"size\":10,\"solidity\":0.2}},\"type\":\"histogram\"}],\"histogram2d\":[{\"colorbar\":{\"outlinewidth\":0,\"ticks\":\"\"},\"colorscale\":[[0.0,\"#0d0887\"],[0.1111111111111111,\"#46039f\"],[0.2222222222222222,\"#7201a8\"],[0.3333333333333333,\"#9c179e\"],[0.4444444444444444,\"#bd3786\"],[0.5555555555555556,\"#d8576b\"],[0.6666666666666666,\"#ed7953\"],[0.7777777777777778,\"#fb9f3a\"],[0.8888888888888888,\"#fdca26\"],[1.0,\"#f0f921\"]],\"type\":\"histogram2d\"}],\"histogram2dcontour\":[{\"colorbar\":{\"outlinewidth\":0,\"ticks\":\"\"},\"colorscale\":[[0.0,\"#0d0887\"],[0.1111111111111111,\"#46039f\"],[0.2222222222222222,\"#7201a8\"],[0.3333333333333333,\"#9c179e\"],[0.4444444444444444,\"#bd3786\"],[0.5555555555555556,\"#d8576b\"],[0.6666666666666666,\"#ed7953\"],[0.7777777777777778,\"#fb9f3a\"],[0.8888888888888888,\"#fdca26\"],[1.0,\"#f0f921\"]],\"type\":\"histogram2dcontour\"}],\"mesh3d\":[{\"colorbar\":{\"outlinewidth\":0,\"ticks\":\"\"},\"type\":\"mesh3d\"}],\"parcoords\":[{\"line\":{\"colorbar\":{\"outlinewidth\":0,\"ticks\":\"\"}},\"type\":\"parcoords\"}],\"pie\":[{\"automargin\":true,\"type\":\"pie\"}],\"scatter\":[{\"marker\":{\"colorbar\":{\"outlinewidth\":0,\"ticks\":\"\"}},\"type\":\"scatter\"}],\"scatter3d\":[{\"line\":{\"colorbar\":{\"outlinewidth\":0,\"ticks\":\"\"}},\"marker\":{\"colorbar\":{\"outlinewidth\":0,\"ticks\":\"\"}},\"type\":\"scatter3d\"}],\"scattercarpet\":[{\"marker\":{\"colorbar\":{\"outlinewidth\":0,\"ticks\":\"\"}},\"type\":\"scattercarpet\"}],\"scattergeo\":[{\"marker\":{\"colorbar\":{\"outlinewidth\":0,\"ticks\":\"\"}},\"type\":\"scattergeo\"}],\"scattergl\":[{\"marker\":{\"colorbar\":{\"outlinewidth\":0,\"ticks\":\"\"}},\"type\":\"scattergl\"}],\"scattermapbox\":[{\"marker\":{\"colorbar\":{\"outlinewidth\":0,\"ticks\":\"\"}},\"type\":\"scattermapbox\"}],\"scatterpolar\":[{\"marker\":{\"colorbar\":{\"outlinewidth\":0,\"ticks\":\"\"}},\"type\":\"scatterpolar\"}],\"scatterpolargl\":[{\"marker\":{\"colorbar\":{\"outlinewidth\":0,\"ticks\":\"\"}},\"type\":\"scatterpolargl\"}],\"scatterternary\":[{\"marker\":{\"colorbar\":{\"outlinewidth\":0,\"ticks\":\"\"}},\"type\":\"scatterternary\"}],\"surface\":[{\"colorbar\":{\"outlinewidth\":0,\"ticks\":\"\"},\"colorscale\":[[0.0,\"#0d0887\"],[0.1111111111111111,\"#46039f\"],[0.2222222222222222,\"#7201a8\"],[0.3333333333333333,\"#9c179e\"],[0.4444444444444444,\"#bd3786\"],[0.5555555555555556,\"#d8576b\"],[0.6666666666666666,\"#ed7953\"],[0.7777777777777778,\"#fb9f3a\"],[0.8888888888888888,\"#fdca26\"],[1.0,\"#f0f921\"]],\"type\":\"surface\"}],\"table\":[{\"cells\":{\"fill\":{\"color\":\"#EBF0F8\"},\"line\":{\"color\":\"white\"}},\"header\":{\"fill\":{\"color\":\"#C8D4E3\"},\"line\":{\"color\":\"white\"}},\"type\":\"table\"}]},\"layout\":{\"annotationdefaults\":{\"arrowcolor\":\"#2a3f5f\",\"arrowhead\":0,\"arrowwidth\":1},\"autotypenumbers\":\"strict\",\"coloraxis\":{\"colorbar\":{\"outlinewidth\":0,\"ticks\":\"\"}},\"colorscale\":{\"diverging\":[[0,\"#8e0152\"],[0.1,\"#c51b7d\"],[0.2,\"#de77ae\"],[0.3,\"#f1b6da\"],[0.4,\"#fde0ef\"],[0.5,\"#f7f7f7\"],[0.6,\"#e6f5d0\"],[0.7,\"#b8e186\"],[0.8,\"#7fbc41\"],[0.9,\"#4d9221\"],[1,\"#276419\"]],\"sequential\":[[0.0,\"#0d0887\"],[0.1111111111111111,\"#46039f\"],[0.2222222222222222,\"#7201a8\"],[0.3333333333333333,\"#9c179e\"],[0.4444444444444444,\"#bd3786\"],[0.5555555555555556,\"#d8576b\"],[0.6666666666666666,\"#ed7953\"],[0.7777777777777778,\"#fb9f3a\"],[0.8888888888888888,\"#fdca26\"],[1.0,\"#f0f921\"]],\"sequentialminus\":[[0.0,\"#0d0887\"],[0.1111111111111111,\"#46039f\"],[0.2222222222222222,\"#7201a8\"],[0.3333333333333333,\"#9c179e\"],[0.4444444444444444,\"#bd3786\"],[0.5555555555555556,\"#d8576b\"],[0.6666666666666666,\"#ed7953\"],[0.7777777777777778,\"#fb9f3a\"],[0.8888888888888888,\"#fdca26\"],[1.0,\"#f0f921\"]]},\"colorway\":[\"#636efa\",\"#EF553B\",\"#00cc96\",\"#ab63fa\",\"#FFA15A\",\"#19d3f3\",\"#FF6692\",\"#B6E880\",\"#FF97FF\",\"#FECB52\"],\"font\":{\"color\":\"#2a3f5f\"},\"geo\":{\"bgcolor\":\"white\",\"lakecolor\":\"white\",\"landcolor\":\"#E5ECF6\",\"showlakes\":true,\"showland\":true,\"subunitcolor\":\"white\"},\"hoverlabel\":{\"align\":\"left\"},\"hovermode\":\"closest\",\"mapbox\":{\"style\":\"light\"},\"paper_bgcolor\":\"white\",\"plot_bgcolor\":\"#E5ECF6\",\"polar\":{\"angularaxis\":{\"gridcolor\":\"white\",\"linecolor\":\"white\",\"ticks\":\"\"},\"bgcolor\":\"#E5ECF6\",\"radialaxis\":{\"gridcolor\":\"white\",\"linecolor\":\"white\",\"ticks\":\"\"}},\"scene\":{\"xaxis\":{\"backgroundcolor\":\"#E5ECF6\",\"gridcolor\":\"white\",\"gridwidth\":2,\"linecolor\":\"white\",\"showbackground\":true,\"ticks\":\"\",\"zerolinecolor\":\"white\"},\"yaxis\":{\"backgroundcolor\":\"#E5ECF6\",\"gridcolor\":\"white\",\"gridwidth\":2,\"linecolor\":\"white\",\"showbackground\":true,\"ticks\":\"\",\"zerolinecolor\":\"white\"},\"zaxis\":{\"backgroundcolor\":\"#E5ECF6\",\"gridcolor\":\"white\",\"gridwidth\":2,\"linecolor\":\"white\",\"showbackground\":true,\"ticks\":\"\",\"zerolinecolor\":\"white\"}},\"shapedefaults\":{\"line\":{\"color\":\"#2a3f5f\"}},\"ternary\":{\"aaxis\":{\"gridcolor\":\"white\",\"linecolor\":\"white\",\"ticks\":\"\"},\"baxis\":{\"gridcolor\":\"white\",\"linecolor\":\"white\",\"ticks\":\"\"},\"bgcolor\":\"#E5ECF6\",\"caxis\":{\"gridcolor\":\"white\",\"linecolor\":\"white\",\"ticks\":\"\"}},\"title\":{\"x\":0.05},\"xaxis\":{\"automargin\":true,\"gridcolor\":\"white\",\"linecolor\":\"white\",\"ticks\":\"\",\"title\":{\"standoff\":15},\"zerolinecolor\":\"white\",\"zerolinewidth\":2},\"yaxis\":{\"automargin\":true,\"gridcolor\":\"white\",\"linecolor\":\"white\",\"ticks\":\"\",\"title\":{\"standoff\":15},\"zerolinecolor\":\"white\",\"zerolinewidth\":2}}},\"xaxis\":{\"anchor\":\"y\",\"domain\":[0.0,1.0],\"scaleanchor\":\"y\",\"constrain\":\"domain\"},\"yaxis\":{\"anchor\":\"x\",\"domain\":[0.0,1.0],\"autorange\":\"reversed\",\"constrain\":\"domain\"},\"coloraxis\":{\"colorscale\":[[0.0,\"rgb(255,0,0)\"],[0.125,\"rgb(255,111,0)\"],[0.25,\"rgb(255,234,0)\"],[0.375,\"rgb(151,255,0)\"],[0.5,\"rgb(44,255,150)\"],[0.625,\"rgb(0,152,255)\"],[0.75,\"rgb(0,25,255)\"],[0.875,\"rgb(0,0,200)\"],[1.0,\"rgb(150,0,90)\"]]},\"margin\":{\"t\":60}},                        {\"responsive\": true}                    ).then(function(){\n",
       "                            \n",
       "var gd = document.getElementById('e39615d4-b285-4a22-ad09-6d4183b48cec');\n",
       "var x = new MutationObserver(function (mutations, observer) {{\n",
       "        var display = window.getComputedStyle(gd).display;\n",
       "        if (!display || display === 'none') {{\n",
       "            console.log([gd, 'removed!']);\n",
       "            Plotly.purge(gd);\n",
       "            observer.disconnect();\n",
       "        }}\n",
       "}});\n",
       "\n",
       "// Listen for the removal of the full notebook cells\n",
       "var notebookContainer = gd.closest('#notebook-container');\n",
       "if (notebookContainer) {{\n",
       "    x.observe(notebookContainer, {childList: true});\n",
       "}}\n",
       "\n",
       "// Listen for the clearing of the current output cell\n",
       "var outputEl = gd.closest('.output');\n",
       "if (outputEl) {{\n",
       "    x.observe(outputEl, {childList: true});\n",
       "}}\n",
       "\n",
       "                        })                };                });            </script>        </div>"
      ]
     },
     "metadata": {},
     "output_type": "display_data"
    }
   ],
   "source": [
    "# Correlation Map\n",
    "\n",
    "fig = px.imshow(data.corr(), color_continuous_scale = 'rainbow_r')\n",
    "fig.show()"
   ]
  },
  {
   "cell_type": "markdown",
   "id": "b43ef4da",
   "metadata": {
    "papermill": {
     "duration": 0.057608,
     "end_time": "2022-05-31T07:35:47.082558",
     "exception": false,
     "start_time": "2022-05-31T07:35:47.024950",
     "status": "completed"
    },
    "tags": []
   },
   "source": [
    "> #### We observe that none of the features are highly co-related. "
   ]
  },
  {
   "cell_type": "markdown",
   "id": "e73aa741",
   "metadata": {
    "papermill": {
     "duration": 0.056361,
     "end_time": "2022-05-31T07:35:47.198252",
     "exception": false,
     "start_time": "2022-05-31T07:35:47.141891",
     "status": "completed"
    },
    "tags": []
   },
   "source": [
    "# Feature Extraction "
   ]
  },
  {
   "cell_type": "markdown",
   "id": "472f6cea",
   "metadata": {
    "papermill": {
     "duration": 0.055663,
     "end_time": "2022-05-31T07:35:47.313560",
     "exception": false,
     "start_time": "2022-05-31T07:35:47.257897",
     "status": "completed"
    },
    "tags": []
   },
   "source": [
    "> #### We will be extracting Risk coefficient from the data."
   ]
  },
  {
   "cell_type": "code",
   "execution_count": 11,
   "id": "a76a078c",
   "metadata": {
    "execution": {
     "iopub.execute_input": "2022-05-31T07:35:47.438822Z",
     "iopub.status.busy": "2022-05-31T07:35:47.434029Z",
     "iopub.status.idle": "2022-05-31T07:35:47.761461Z",
     "shell.execute_reply": "2022-05-31T07:35:47.760931Z",
     "shell.execute_reply.started": "2022-05-31T07:23:57.065337Z"
    },
    "papermill": {
     "duration": 0.388908,
     "end_time": "2022-05-31T07:35:47.761617",
     "exception": false,
     "start_time": "2022-05-31T07:35:47.372709",
     "status": "completed"
    },
    "tags": []
   },
   "outputs": [
    {
     "data": {
      "text/html": [
       "<div>\n",
       "<style scoped>\n",
       "    .dataframe tbody tr th:only-of-type {\n",
       "        vertical-align: middle;\n",
       "    }\n",
       "\n",
       "    .dataframe tbody tr th {\n",
       "        vertical-align: top;\n",
       "    }\n",
       "\n",
       "    .dataframe thead th {\n",
       "        text-align: right;\n",
       "    }\n",
       "</style>\n",
       "<table border=\"1\" class=\"dataframe\">\n",
       "  <thead>\n",
       "    <tr style=\"text-align: right;\">\n",
       "      <th></th>\n",
       "      <th>cough</th>\n",
       "      <th>fever</th>\n",
       "      <th>sore_throat</th>\n",
       "      <th>shortness_of_breath</th>\n",
       "      <th>head_ache</th>\n",
       "      <th>corona_result</th>\n",
       "      <th>age_60_and_above</th>\n",
       "      <th>gender</th>\n",
       "      <th>abroad</th>\n",
       "      <th>contact_with_covid_positive_patient</th>\n",
       "      <th>risk_coef</th>\n",
       "    </tr>\n",
       "  </thead>\n",
       "  <tbody>\n",
       "    <tr>\n",
       "      <th>0</th>\n",
       "      <td>0</td>\n",
       "      <td>0</td>\n",
       "      <td>0</td>\n",
       "      <td>0</td>\n",
       "      <td>0</td>\n",
       "      <td>0</td>\n",
       "      <td>1</td>\n",
       "      <td>0</td>\n",
       "      <td>0</td>\n",
       "      <td>0</td>\n",
       "      <td>0.1</td>\n",
       "    </tr>\n",
       "    <tr>\n",
       "      <th>1</th>\n",
       "      <td>0</td>\n",
       "      <td>0</td>\n",
       "      <td>0</td>\n",
       "      <td>0</td>\n",
       "      <td>0</td>\n",
       "      <td>0</td>\n",
       "      <td>1</td>\n",
       "      <td>1</td>\n",
       "      <td>0</td>\n",
       "      <td>0</td>\n",
       "      <td>0.1</td>\n",
       "    </tr>\n",
       "    <tr>\n",
       "      <th>2</th>\n",
       "      <td>0</td>\n",
       "      <td>0</td>\n",
       "      <td>0</td>\n",
       "      <td>0</td>\n",
       "      <td>0</td>\n",
       "      <td>0</td>\n",
       "      <td>0</td>\n",
       "      <td>0</td>\n",
       "      <td>0</td>\n",
       "      <td>0</td>\n",
       "      <td>0.0</td>\n",
       "    </tr>\n",
       "    <tr>\n",
       "      <th>3</th>\n",
       "      <td>0</td>\n",
       "      <td>0</td>\n",
       "      <td>0</td>\n",
       "      <td>0</td>\n",
       "      <td>0</td>\n",
       "      <td>0</td>\n",
       "      <td>1</td>\n",
       "      <td>0</td>\n",
       "      <td>0</td>\n",
       "      <td>0</td>\n",
       "      <td>0.1</td>\n",
       "    </tr>\n",
       "    <tr>\n",
       "      <th>4</th>\n",
       "      <td>0</td>\n",
       "      <td>0</td>\n",
       "      <td>0</td>\n",
       "      <td>0</td>\n",
       "      <td>0</td>\n",
       "      <td>0</td>\n",
       "      <td>1</td>\n",
       "      <td>0</td>\n",
       "      <td>0</td>\n",
       "      <td>0</td>\n",
       "      <td>0.1</td>\n",
       "    </tr>\n",
       "  </tbody>\n",
       "</table>\n",
       "</div>"
      ],
      "text/plain": [
       "   cough  fever  sore_throat  shortness_of_breath  head_ache  corona_result  \\\n",
       "0      0      0            0                    0          0              0   \n",
       "1      0      0            0                    0          0              0   \n",
       "2      0      0            0                    0          0              0   \n",
       "3      0      0            0                    0          0              0   \n",
       "4      0      0            0                    0          0              0   \n",
       "\n",
       "   age_60_and_above  gender  abroad  contact_with_covid_positive_patient  \\\n",
       "0                 1       0       0                                    0   \n",
       "1                 1       1       0                                    0   \n",
       "2                 0       0       0                                    0   \n",
       "3                 1       0       0                                    0   \n",
       "4                 1       0       0                                    0   \n",
       "\n",
       "   risk_coef  \n",
       "0        0.1  \n",
       "1        0.1  \n",
       "2        0.0  \n",
       "3        0.1  \n",
       "4        0.1  "
      ]
     },
     "execution_count": 11,
     "metadata": {},
     "output_type": "execute_result"
    }
   ],
   "source": [
    "# Creating feature risk coeficient\n",
    "\n",
    "data['risk_coef'] = data['cough']*0.1 + data['fever']*0.2 + data['sore_throat']*0.1 + data['shortness_of_breath']*0.1 + data['head_ache']*0.1 + data['age_60_and_above']*0.1 + data['abroad']*0.1 + data['contact_with_covid_positive_patient']*0.2\n",
    "data.head()"
   ]
  },
  {
   "cell_type": "markdown",
   "id": "385328e6",
   "metadata": {
    "papermill": {
     "duration": 0.05894,
     "end_time": "2022-05-31T07:35:47.876769",
     "exception": false,
     "start_time": "2022-05-31T07:35:47.817829",
     "status": "completed"
    },
    "tags": []
   },
   "source": [
    "> #### To calculate risk_coeficient, we have given the weights for features based on the following links -\n",
    "\n",
    "> #### [Ref-1](https://www.mayoclinic.org/diseases-conditions/coronavirus/symptoms-causes/syc-20479963) \n",
    "\n",
    "> #### [Ref-2](https://www.cidrap.umn.edu/news-perspective/2021/07/israeli-study-finds-26-covid-breakthrough-infection-rate) \n",
    "\n",
    "> #### [Ref-3](https://www.gov.il/en/departments/faq/faq-coronavirus#groupcollapseItem1collapseItem5) \n",
    "\n",
    "> #### [Ref-4](https://www.gov.il/en/Departments/General/corona-confirmed-cases) \n",
    "\n",
    "> #### [Ref-5](https://www.sciencedirect.com/science/article/pii/S1198743X21000835) \n",
    "\n",
    "> #### We observed that fever was the most common symptom found among covid positive patients (Links + EDA Dashboard) so we gave 0.2 weight for it.\n",
    "\n",
    "> #### Contact with covid patient would directly lead to home quarantine so we gave 0.2 weight for it.\n",
    "\n",
    "> #### Remaining symptoms & Age 60+ features got 0.1 weight."
   ]
  },
  {
   "cell_type": "code",
   "execution_count": 12,
   "id": "bf00bf86",
   "metadata": {
    "execution": {
     "iopub.execute_input": "2022-05-31T07:35:48.000912Z",
     "iopub.status.busy": "2022-05-31T07:35:47.999896Z",
     "iopub.status.idle": "2022-05-31T07:35:49.844070Z",
     "shell.execute_reply": "2022-05-31T07:35:49.843424Z",
     "shell.execute_reply.started": "2022-05-31T07:24:01.844826Z"
    },
    "papermill": {
     "duration": 1.909793,
     "end_time": "2022-05-31T07:35:49.844229",
     "exception": false,
     "start_time": "2022-05-31T07:35:47.934436",
     "status": "completed"
    },
    "tags": []
   },
   "outputs": [],
   "source": [
    "# Removing all records with risk_coef >= 0.6 and corona_result = 0 and risk_coef <= 0.3 and corona_result = 1\n",
    "\n",
    "i1 = data[(data['risk_coef'] >= 0.6) & (data['corona_result'] == 0)].index\n",
    "i2 = data[(data['risk_coef'] <= 0.3) & (data['corona_result'] == 1)].index\n",
    "data.drop(i1, inplace = True)\n",
    "data.drop(i2, inplace = True)\n",
    "\n",
    "# Dropping risk coeficient\n",
    "\n",
    "data.drop(['risk_coef'], axis = 1, inplace = True)"
   ]
  },
  {
   "cell_type": "markdown",
   "id": "62cc0bae",
   "metadata": {
    "papermill": {
     "duration": 0.060112,
     "end_time": "2022-05-31T07:35:49.960579",
     "exception": false,
     "start_time": "2022-05-31T07:35:49.900467",
     "status": "completed"
    },
    "tags": []
   },
   "source": [
    "> #### Removed Contradictory records using risk coeficient. And the use of risk coeficient is over."
   ]
  },
  {
   "cell_type": "code",
   "execution_count": 13,
   "id": "fbd77ed2",
   "metadata": {
    "execution": {
     "iopub.execute_input": "2022-05-31T07:35:50.085052Z",
     "iopub.status.busy": "2022-05-31T07:35:50.084425Z",
     "iopub.status.idle": "2022-05-31T07:35:50.371066Z",
     "shell.execute_reply": "2022-05-31T07:35:50.371599Z",
     "shell.execute_reply.started": "2022-05-31T07:24:06.559710Z"
    },
    "papermill": {
     "duration": 0.351967,
     "end_time": "2022-05-31T07:35:50.371848",
     "exception": false,
     "start_time": "2022-05-31T07:35:50.019881",
     "status": "completed"
    },
    "tags": []
   },
   "outputs": [
    {
     "name": "stdout",
     "output_type": "stream",
     "text": [
      "<class 'pandas.core.frame.DataFrame'>\n",
      "Int64Index: 5499031 entries, 0 to 5861479\n",
      "Data columns (total 10 columns):\n",
      " #   Column                               Dtype\n",
      "---  ------                               -----\n",
      " 0   cough                                int64\n",
      " 1   fever                                int64\n",
      " 2   sore_throat                          int64\n",
      " 3   shortness_of_breath                  int64\n",
      " 4   head_ache                            int64\n",
      " 5   corona_result                        int64\n",
      " 6   age_60_and_above                     int64\n",
      " 7   gender                               int64\n",
      " 8   abroad                               int64\n",
      " 9   contact_with_covid_positive_patient  int64\n",
      "dtypes: int64(10)\n",
      "memory usage: 461.5 MB\n"
     ]
    }
   ],
   "source": [
    "data = data.astype(int)\n",
    "data.info()"
   ]
  },
  {
   "cell_type": "markdown",
   "id": "41d875e1",
   "metadata": {
    "papermill": {
     "duration": 0.059232,
     "end_time": "2022-05-31T07:35:50.492301",
     "exception": false,
     "start_time": "2022-05-31T07:35:50.433069",
     "status": "completed"
    },
    "tags": []
   },
   "source": [
    "> #### Datatype for all features is converted to integer."
   ]
  },
  {
   "cell_type": "markdown",
   "id": "f93f1f7b",
   "metadata": {
    "papermill": {
     "duration": 0.057769,
     "end_time": "2022-05-31T07:35:50.612776",
     "exception": false,
     "start_time": "2022-05-31T07:35:50.555007",
     "status": "completed"
    },
    "tags": []
   },
   "source": [
    "# [Undersampling the Data](https://machinelearningmastery.com/undersampling-algorithms-for-imbalanced-classification/)"
   ]
  },
  {
   "cell_type": "code",
   "execution_count": 14,
   "id": "f81582ae",
   "metadata": {
    "execution": {
     "iopub.execute_input": "2022-05-31T07:35:50.750173Z",
     "iopub.status.busy": "2022-05-31T07:35:50.749048Z",
     "iopub.status.idle": "2022-05-31T07:35:51.871074Z",
     "shell.execute_reply": "2022-05-31T07:35:51.870436Z",
     "shell.execute_reply.started": "2022-05-31T07:24:11.804996Z"
    },
    "papermill": {
     "duration": 1.193123,
     "end_time": "2022-05-31T07:35:51.871230",
     "exception": false,
     "start_time": "2022-05-31T07:35:50.678107",
     "status": "completed"
    },
    "tags": []
   },
   "outputs": [
    {
     "data": {
      "text/html": [
       "<div>                            <div id=\"8dc0ffde-4aad-4110-a8d0-091b0e187b20\" class=\"plotly-graph-div\" style=\"height:525px; width:600px;\"></div>            <script type=\"text/javascript\">                require([\"plotly\"], function(Plotly) {                    window.PLOTLYENV=window.PLOTLYENV || {};                                    if (document.getElementById(\"8dc0ffde-4aad-4110-a8d0-091b0e187b20\")) {                    Plotly.newPlot(                        \"8dc0ffde-4aad-4110-a8d0-091b0e187b20\",                        [{\"alignmentgroup\":\"True\",\"hovertemplate\":\"corona_result=%{x}<br>count=%{y}<extra></extra>\",\"legendgroup\":\"Negative\",\"marker\":{\"color\":\"orange\",\"pattern\":{\"shape\":\"\"}},\"name\":\"Negative\",\"offsetgroup\":\"Negative\",\"orientation\":\"v\",\"showlegend\":true,\"textposition\":\"auto\",\"x\":[\"Negative\"],\"xaxis\":\"x\",\"y\":[5337010],\"yaxis\":\"y\",\"type\":\"bar\"},{\"alignmentgroup\":\"True\",\"hovertemplate\":\"corona_result=%{x}<br>count=%{y}<extra></extra>\",\"legendgroup\":\"Positive\",\"marker\":{\"color\":\"purple\",\"pattern\":{\"shape\":\"\"}},\"name\":\"Positive\",\"offsetgroup\":\"Positive\",\"orientation\":\"v\",\"showlegend\":true,\"textposition\":\"auto\",\"x\":[\"Positive\"],\"xaxis\":\"x\",\"y\":[162021],\"yaxis\":\"y\",\"type\":\"bar\"}],                        {\"template\":{\"data\":{\"barpolar\":[{\"marker\":{\"line\":{\"color\":\"rgb(17,17,17)\",\"width\":0.5},\"pattern\":{\"fillmode\":\"overlay\",\"size\":10,\"solidity\":0.2}},\"type\":\"barpolar\"}],\"bar\":[{\"error_x\":{\"color\":\"#f2f5fa\"},\"error_y\":{\"color\":\"#f2f5fa\"},\"marker\":{\"line\":{\"color\":\"rgb(17,17,17)\",\"width\":0.5},\"pattern\":{\"fillmode\":\"overlay\",\"size\":10,\"solidity\":0.2}},\"type\":\"bar\"}],\"carpet\":[{\"aaxis\":{\"endlinecolor\":\"#A2B1C6\",\"gridcolor\":\"#506784\",\"linecolor\":\"#506784\",\"minorgridcolor\":\"#506784\",\"startlinecolor\":\"#A2B1C6\"},\"baxis\":{\"endlinecolor\":\"#A2B1C6\",\"gridcolor\":\"#506784\",\"linecolor\":\"#506784\",\"minorgridcolor\":\"#506784\",\"startlinecolor\":\"#A2B1C6\"},\"type\":\"carpet\"}],\"choropleth\":[{\"colorbar\":{\"outlinewidth\":0,\"ticks\":\"\"},\"type\":\"choropleth\"}],\"contourcarpet\":[{\"colorbar\":{\"outlinewidth\":0,\"ticks\":\"\"},\"type\":\"contourcarpet\"}],\"contour\":[{\"colorbar\":{\"outlinewidth\":0,\"ticks\":\"\"},\"colorscale\":[[0.0,\"#0d0887\"],[0.1111111111111111,\"#46039f\"],[0.2222222222222222,\"#7201a8\"],[0.3333333333333333,\"#9c179e\"],[0.4444444444444444,\"#bd3786\"],[0.5555555555555556,\"#d8576b\"],[0.6666666666666666,\"#ed7953\"],[0.7777777777777778,\"#fb9f3a\"],[0.8888888888888888,\"#fdca26\"],[1.0,\"#f0f921\"]],\"type\":\"contour\"}],\"heatmapgl\":[{\"colorbar\":{\"outlinewidth\":0,\"ticks\":\"\"},\"colorscale\":[[0.0,\"#0d0887\"],[0.1111111111111111,\"#46039f\"],[0.2222222222222222,\"#7201a8\"],[0.3333333333333333,\"#9c179e\"],[0.4444444444444444,\"#bd3786\"],[0.5555555555555556,\"#d8576b\"],[0.6666666666666666,\"#ed7953\"],[0.7777777777777778,\"#fb9f3a\"],[0.8888888888888888,\"#fdca26\"],[1.0,\"#f0f921\"]],\"type\":\"heatmapgl\"}],\"heatmap\":[{\"colorbar\":{\"outlinewidth\":0,\"ticks\":\"\"},\"colorscale\":[[0.0,\"#0d0887\"],[0.1111111111111111,\"#46039f\"],[0.2222222222222222,\"#7201a8\"],[0.3333333333333333,\"#9c179e\"],[0.4444444444444444,\"#bd3786\"],[0.5555555555555556,\"#d8576b\"],[0.6666666666666666,\"#ed7953\"],[0.7777777777777778,\"#fb9f3a\"],[0.8888888888888888,\"#fdca26\"],[1.0,\"#f0f921\"]],\"type\":\"heatmap\"}],\"histogram2dcontour\":[{\"colorbar\":{\"outlinewidth\":0,\"ticks\":\"\"},\"colorscale\":[[0.0,\"#0d0887\"],[0.1111111111111111,\"#46039f\"],[0.2222222222222222,\"#7201a8\"],[0.3333333333333333,\"#9c179e\"],[0.4444444444444444,\"#bd3786\"],[0.5555555555555556,\"#d8576b\"],[0.6666666666666666,\"#ed7953\"],[0.7777777777777778,\"#fb9f3a\"],[0.8888888888888888,\"#fdca26\"],[1.0,\"#f0f921\"]],\"type\":\"histogram2dcontour\"}],\"histogram2d\":[{\"colorbar\":{\"outlinewidth\":0,\"ticks\":\"\"},\"colorscale\":[[0.0,\"#0d0887\"],[0.1111111111111111,\"#46039f\"],[0.2222222222222222,\"#7201a8\"],[0.3333333333333333,\"#9c179e\"],[0.4444444444444444,\"#bd3786\"],[0.5555555555555556,\"#d8576b\"],[0.6666666666666666,\"#ed7953\"],[0.7777777777777778,\"#fb9f3a\"],[0.8888888888888888,\"#fdca26\"],[1.0,\"#f0f921\"]],\"type\":\"histogram2d\"}],\"histogram\":[{\"marker\":{\"pattern\":{\"fillmode\":\"overlay\",\"size\":10,\"solidity\":0.2}},\"type\":\"histogram\"}],\"mesh3d\":[{\"colorbar\":{\"outlinewidth\":0,\"ticks\":\"\"},\"type\":\"mesh3d\"}],\"parcoords\":[{\"line\":{\"colorbar\":{\"outlinewidth\":0,\"ticks\":\"\"}},\"type\":\"parcoords\"}],\"pie\":[{\"automargin\":true,\"type\":\"pie\"}],\"scatter3d\":[{\"line\":{\"colorbar\":{\"outlinewidth\":0,\"ticks\":\"\"}},\"marker\":{\"colorbar\":{\"outlinewidth\":0,\"ticks\":\"\"}},\"type\":\"scatter3d\"}],\"scattercarpet\":[{\"marker\":{\"colorbar\":{\"outlinewidth\":0,\"ticks\":\"\"}},\"type\":\"scattercarpet\"}],\"scattergeo\":[{\"marker\":{\"colorbar\":{\"outlinewidth\":0,\"ticks\":\"\"}},\"type\":\"scattergeo\"}],\"scattergl\":[{\"marker\":{\"line\":{\"color\":\"#283442\"}},\"type\":\"scattergl\"}],\"scattermapbox\":[{\"marker\":{\"colorbar\":{\"outlinewidth\":0,\"ticks\":\"\"}},\"type\":\"scattermapbox\"}],\"scatterpolargl\":[{\"marker\":{\"colorbar\":{\"outlinewidth\":0,\"ticks\":\"\"}},\"type\":\"scatterpolargl\"}],\"scatterpolar\":[{\"marker\":{\"colorbar\":{\"outlinewidth\":0,\"ticks\":\"\"}},\"type\":\"scatterpolar\"}],\"scatter\":[{\"marker\":{\"line\":{\"color\":\"#283442\"}},\"type\":\"scatter\"}],\"scatterternary\":[{\"marker\":{\"colorbar\":{\"outlinewidth\":0,\"ticks\":\"\"}},\"type\":\"scatterternary\"}],\"surface\":[{\"colorbar\":{\"outlinewidth\":0,\"ticks\":\"\"},\"colorscale\":[[0.0,\"#0d0887\"],[0.1111111111111111,\"#46039f\"],[0.2222222222222222,\"#7201a8\"],[0.3333333333333333,\"#9c179e\"],[0.4444444444444444,\"#bd3786\"],[0.5555555555555556,\"#d8576b\"],[0.6666666666666666,\"#ed7953\"],[0.7777777777777778,\"#fb9f3a\"],[0.8888888888888888,\"#fdca26\"],[1.0,\"#f0f921\"]],\"type\":\"surface\"}],\"table\":[{\"cells\":{\"fill\":{\"color\":\"#506784\"},\"line\":{\"color\":\"rgb(17,17,17)\"}},\"header\":{\"fill\":{\"color\":\"#2a3f5f\"},\"line\":{\"color\":\"rgb(17,17,17)\"}},\"type\":\"table\"}]},\"layout\":{\"annotationdefaults\":{\"arrowcolor\":\"#f2f5fa\",\"arrowhead\":0,\"arrowwidth\":1},\"autotypenumbers\":\"strict\",\"coloraxis\":{\"colorbar\":{\"outlinewidth\":0,\"ticks\":\"\"}},\"colorscale\":{\"diverging\":[[0,\"#8e0152\"],[0.1,\"#c51b7d\"],[0.2,\"#de77ae\"],[0.3,\"#f1b6da\"],[0.4,\"#fde0ef\"],[0.5,\"#f7f7f7\"],[0.6,\"#e6f5d0\"],[0.7,\"#b8e186\"],[0.8,\"#7fbc41\"],[0.9,\"#4d9221\"],[1,\"#276419\"]],\"sequential\":[[0.0,\"#0d0887\"],[0.1111111111111111,\"#46039f\"],[0.2222222222222222,\"#7201a8\"],[0.3333333333333333,\"#9c179e\"],[0.4444444444444444,\"#bd3786\"],[0.5555555555555556,\"#d8576b\"],[0.6666666666666666,\"#ed7953\"],[0.7777777777777778,\"#fb9f3a\"],[0.8888888888888888,\"#fdca26\"],[1.0,\"#f0f921\"]],\"sequentialminus\":[[0.0,\"#0d0887\"],[0.1111111111111111,\"#46039f\"],[0.2222222222222222,\"#7201a8\"],[0.3333333333333333,\"#9c179e\"],[0.4444444444444444,\"#bd3786\"],[0.5555555555555556,\"#d8576b\"],[0.6666666666666666,\"#ed7953\"],[0.7777777777777778,\"#fb9f3a\"],[0.8888888888888888,\"#fdca26\"],[1.0,\"#f0f921\"]]},\"colorway\":[\"#636efa\",\"#EF553B\",\"#00cc96\",\"#ab63fa\",\"#FFA15A\",\"#19d3f3\",\"#FF6692\",\"#B6E880\",\"#FF97FF\",\"#FECB52\"],\"font\":{\"color\":\"#f2f5fa\"},\"geo\":{\"bgcolor\":\"rgb(17,17,17)\",\"lakecolor\":\"rgb(17,17,17)\",\"landcolor\":\"rgb(17,17,17)\",\"showlakes\":true,\"showland\":true,\"subunitcolor\":\"#506784\"},\"hoverlabel\":{\"align\":\"left\"},\"hovermode\":\"closest\",\"mapbox\":{\"style\":\"dark\"},\"paper_bgcolor\":\"rgb(17,17,17)\",\"plot_bgcolor\":\"rgb(17,17,17)\",\"polar\":{\"angularaxis\":{\"gridcolor\":\"#506784\",\"linecolor\":\"#506784\",\"ticks\":\"\"},\"bgcolor\":\"rgb(17,17,17)\",\"radialaxis\":{\"gridcolor\":\"#506784\",\"linecolor\":\"#506784\",\"ticks\":\"\"}},\"scene\":{\"xaxis\":{\"backgroundcolor\":\"rgb(17,17,17)\",\"gridcolor\":\"#506784\",\"gridwidth\":2,\"linecolor\":\"#506784\",\"showbackground\":true,\"ticks\":\"\",\"zerolinecolor\":\"#C8D4E3\"},\"yaxis\":{\"backgroundcolor\":\"rgb(17,17,17)\",\"gridcolor\":\"#506784\",\"gridwidth\":2,\"linecolor\":\"#506784\",\"showbackground\":true,\"ticks\":\"\",\"zerolinecolor\":\"#C8D4E3\"},\"zaxis\":{\"backgroundcolor\":\"rgb(17,17,17)\",\"gridcolor\":\"#506784\",\"gridwidth\":2,\"linecolor\":\"#506784\",\"showbackground\":true,\"ticks\":\"\",\"zerolinecolor\":\"#C8D4E3\"}},\"shapedefaults\":{\"line\":{\"color\":\"#f2f5fa\"}},\"sliderdefaults\":{\"bgcolor\":\"#C8D4E3\",\"bordercolor\":\"rgb(17,17,17)\",\"borderwidth\":1,\"tickwidth\":0},\"ternary\":{\"aaxis\":{\"gridcolor\":\"#506784\",\"linecolor\":\"#506784\",\"ticks\":\"\"},\"baxis\":{\"gridcolor\":\"#506784\",\"linecolor\":\"#506784\",\"ticks\":\"\"},\"bgcolor\":\"rgb(17,17,17)\",\"caxis\":{\"gridcolor\":\"#506784\",\"linecolor\":\"#506784\",\"ticks\":\"\"}},\"title\":{\"x\":0.05},\"updatemenudefaults\":{\"bgcolor\":\"#506784\",\"borderwidth\":0},\"xaxis\":{\"automargin\":true,\"gridcolor\":\"#283442\",\"linecolor\":\"#506784\",\"ticks\":\"\",\"title\":{\"standoff\":15},\"zerolinecolor\":\"#283442\",\"zerolinewidth\":2},\"yaxis\":{\"automargin\":true,\"gridcolor\":\"#283442\",\"linecolor\":\"#506784\",\"ticks\":\"\",\"title\":{\"standoff\":15},\"zerolinecolor\":\"#283442\",\"zerolinewidth\":2}}},\"xaxis\":{\"anchor\":\"y\",\"domain\":[0.0,1.0],\"title\":{\"text\":\"corona_result\"},\"categoryorder\":\"array\",\"categoryarray\":[\"Negative\",\"Positive\"]},\"yaxis\":{\"anchor\":\"x\",\"domain\":[0.0,1.0],\"title\":{\"text\":\"count\"}},\"legend\":{\"title\":{\"text\":\"corona_result\"},\"tracegroupgap\":0},\"margin\":{\"t\":60},\"barmode\":\"relative\",\"width\":600},                        {\"responsive\": true}                    ).then(function(){\n",
       "                            \n",
       "var gd = document.getElementById('8dc0ffde-4aad-4110-a8d0-091b0e187b20');\n",
       "var x = new MutationObserver(function (mutations, observer) {{\n",
       "        var display = window.getComputedStyle(gd).display;\n",
       "        if (!display || display === 'none') {{\n",
       "            console.log([gd, 'removed!']);\n",
       "            Plotly.purge(gd);\n",
       "            observer.disconnect();\n",
       "        }}\n",
       "}});\n",
       "\n",
       "// Listen for the removal of the full notebook cells\n",
       "var notebookContainer = gd.closest('#notebook-container');\n",
       "if (notebookContainer) {{\n",
       "    x.observe(notebookContainer, {childList: true});\n",
       "}}\n",
       "\n",
       "// Listen for the clearing of the current output cell\n",
       "var outputEl = gd.closest('.output');\n",
       "if (outputEl) {{\n",
       "    x.observe(outputEl, {childList: true});\n",
       "}}\n",
       "\n",
       "                        })                };                });            </script>        </div>"
      ]
     },
     "metadata": {},
     "output_type": "display_data"
    }
   ],
   "source": [
    "# Analyzing Target Feature\n",
    "\n",
    "df = pd.DataFrame()\n",
    "df['corona_result'] = ['Negative','Positive']\n",
    "df['count'] = [len(data[data['corona_result'] == 0]), len(data[data['corona_result'] == 1])]\n",
    "df = df.sort_values(by = ['count'], ascending = False)\n",
    "fig = px.bar(df, x = 'corona_result', y = 'count', \n",
    "             color = \"corona_result\", width = 600, \n",
    "             color_discrete_sequence = [\"orange\", \"purple\"],\n",
    "             template = 'plotly_dark')\n",
    "\n",
    "fig.show()"
   ]
  },
  {
   "cell_type": "code",
   "execution_count": 15,
   "id": "efad10a1",
   "metadata": {
    "execution": {
     "iopub.execute_input": "2022-05-31T07:35:52.053721Z",
     "iopub.status.busy": "2022-05-31T07:35:52.052459Z",
     "iopub.status.idle": "2022-05-31T07:35:52.064074Z",
     "shell.execute_reply": "2022-05-31T07:35:52.064956Z",
     "shell.execute_reply.started": "2022-05-31T07:24:16.319786Z"
    },
    "papermill": {
     "duration": 0.125975,
     "end_time": "2022-05-31T07:35:52.065222",
     "exception": false,
     "start_time": "2022-05-31T07:35:51.939247",
     "status": "completed"
    },
    "tags": []
   },
   "outputs": [
    {
     "data": {
      "text/plain": [
       "0    5337010\n",
       "1     162021\n",
       "Name: corona_result, dtype: int64"
      ]
     },
     "execution_count": 15,
     "metadata": {},
     "output_type": "execute_result"
    }
   ],
   "source": [
    "data['corona_result'].value_counts()"
   ]
  },
  {
   "cell_type": "markdown",
   "id": "2d029b8f",
   "metadata": {
    "papermill": {
     "duration": 0.066631,
     "end_time": "2022-05-31T07:35:52.222839",
     "exception": false,
     "start_time": "2022-05-31T07:35:52.156208",
     "status": "completed"
    },
    "tags": []
   },
   "source": [
    "> #### Covid Positive Cases - 162021, Covid Negative Cases - 5337010"
   ]
  },
  {
   "cell_type": "markdown",
   "id": "813420ee",
   "metadata": {
    "papermill": {
     "duration": 0.066831,
     "end_time": "2022-05-31T07:35:52.354525",
     "exception": false,
     "start_time": "2022-05-31T07:35:52.287694",
     "status": "completed"
    },
    "tags": []
   },
   "source": [
    "#### We decided to do Undersampling instead of Oversampling because -\n",
    "\n",
    "> #### 1. Data is abundent for Negative Cases.\n",
    "\n",
    "> #### 2. Increasing Positive Cases by oversampling would be an issue according to real world scenario."
   ]
  },
  {
   "cell_type": "markdown",
   "id": "e715448c",
   "metadata": {
    "papermill": {
     "duration": 0.067092,
     "end_time": "2022-05-31T07:35:52.487947",
     "exception": false,
     "start_time": "2022-05-31T07:35:52.420855",
     "status": "completed"
    },
    "tags": []
   },
   "source": [
    "![](https://raw.githubusercontent.com/Atharv-Chaudhari/Project-Covid-NLP/main/Project%20Covid%20Images/Carnage.jpg)"
   ]
  },
  {
   "cell_type": "code",
   "execution_count": 16,
   "id": "83e05b90",
   "metadata": {
    "execution": {
     "iopub.execute_input": "2022-05-31T07:35:52.628786Z",
     "iopub.status.busy": "2022-05-31T07:35:52.627143Z",
     "iopub.status.idle": "2022-05-31T07:35:52.890988Z",
     "shell.execute_reply": "2022-05-31T07:35:52.890227Z",
     "shell.execute_reply.started": "2022-05-31T07:24:20.150108Z"
    },
    "papermill": {
     "duration": 0.334306,
     "end_time": "2022-05-31T07:35:52.891142",
     "exception": false,
     "start_time": "2022-05-31T07:35:52.556836",
     "status": "completed"
    },
    "tags": []
   },
   "outputs": [],
   "source": [
    "x = data.drop(columns = ['corona_result'], axis = 1) # Independent Features\n",
    "y = data['corona_result'] # Target Feature"
   ]
  },
  {
   "cell_type": "code",
   "execution_count": 17,
   "id": "0df133e7",
   "metadata": {
    "execution": {
     "iopub.execute_input": "2022-05-31T07:35:53.023508Z",
     "iopub.status.busy": "2022-05-31T07:35:53.021499Z",
     "iopub.status.idle": "2022-05-31T07:35:57.772624Z",
     "shell.execute_reply": "2022-05-31T07:35:57.771943Z",
     "shell.execute_reply.started": "2022-05-31T07:24:24.605211Z"
    },
    "papermill": {
     "duration": 4.819311,
     "end_time": "2022-05-31T07:35:57.772778",
     "exception": false,
     "start_time": "2022-05-31T07:35:52.953467",
     "status": "completed"
    },
    "tags": []
   },
   "outputs": [],
   "source": [
    "# Undersampling Covid Negative Cases (Setting n(+ve cases) = 0.6 * n(-ve cases))\n",
    "\n",
    "under = RandomUnderSampler(sampling_strategy = 0.6, random_state = 42)\n",
    "os_x, os_y = under.fit_resample(x, y)"
   ]
  },
  {
   "cell_type": "code",
   "execution_count": 18,
   "id": "41b341c2",
   "metadata": {
    "execution": {
     "iopub.execute_input": "2022-05-31T07:35:57.909460Z",
     "iopub.status.busy": "2022-05-31T07:35:57.908035Z",
     "iopub.status.idle": "2022-05-31T07:35:57.983849Z",
     "shell.execute_reply": "2022-05-31T07:35:57.984424Z",
     "shell.execute_reply.started": "2022-05-31T07:24:30.445072Z"
    },
    "papermill": {
     "duration": 0.147965,
     "end_time": "2022-05-31T07:35:57.984602",
     "exception": false,
     "start_time": "2022-05-31T07:35:57.836637",
     "status": "completed"
    },
    "tags": []
   },
   "outputs": [
    {
     "data": {
      "text/html": [
       "<div>                            <div id=\"27c0bad9-fc36-468a-b54d-b55f222020a6\" class=\"plotly-graph-div\" style=\"height:525px; width:600px;\"></div>            <script type=\"text/javascript\">                require([\"plotly\"], function(Plotly) {                    window.PLOTLYENV=window.PLOTLYENV || {};                                    if (document.getElementById(\"27c0bad9-fc36-468a-b54d-b55f222020a6\")) {                    Plotly.newPlot(                        \"27c0bad9-fc36-468a-b54d-b55f222020a6\",                        [{\"alignmentgroup\":\"True\",\"hovertemplate\":\"Corona_result=%{x}<br>Count=%{y}<extra></extra>\",\"legendgroup\":\"Negative\",\"marker\":{\"color\":\"orange\",\"pattern\":{\"shape\":\"\"}},\"name\":\"Negative\",\"offsetgroup\":\"Negative\",\"orientation\":\"v\",\"showlegend\":true,\"textposition\":\"auto\",\"x\":[\"Negative\"],\"xaxis\":\"x\",\"y\":[270035],\"yaxis\":\"y\",\"type\":\"bar\"},{\"alignmentgroup\":\"True\",\"hovertemplate\":\"Corona_result=%{x}<br>Count=%{y}<extra></extra>\",\"legendgroup\":\"Positive\",\"marker\":{\"color\":\"purple\",\"pattern\":{\"shape\":\"\"}},\"name\":\"Positive\",\"offsetgroup\":\"Positive\",\"orientation\":\"v\",\"showlegend\":true,\"textposition\":\"auto\",\"x\":[\"Positive\"],\"xaxis\":\"x\",\"y\":[162021],\"yaxis\":\"y\",\"type\":\"bar\"}],                        {\"template\":{\"data\":{\"barpolar\":[{\"marker\":{\"line\":{\"color\":\"rgb(17,17,17)\",\"width\":0.5},\"pattern\":{\"fillmode\":\"overlay\",\"size\":10,\"solidity\":0.2}},\"type\":\"barpolar\"}],\"bar\":[{\"error_x\":{\"color\":\"#f2f5fa\"},\"error_y\":{\"color\":\"#f2f5fa\"},\"marker\":{\"line\":{\"color\":\"rgb(17,17,17)\",\"width\":0.5},\"pattern\":{\"fillmode\":\"overlay\",\"size\":10,\"solidity\":0.2}},\"type\":\"bar\"}],\"carpet\":[{\"aaxis\":{\"endlinecolor\":\"#A2B1C6\",\"gridcolor\":\"#506784\",\"linecolor\":\"#506784\",\"minorgridcolor\":\"#506784\",\"startlinecolor\":\"#A2B1C6\"},\"baxis\":{\"endlinecolor\":\"#A2B1C6\",\"gridcolor\":\"#506784\",\"linecolor\":\"#506784\",\"minorgridcolor\":\"#506784\",\"startlinecolor\":\"#A2B1C6\"},\"type\":\"carpet\"}],\"choropleth\":[{\"colorbar\":{\"outlinewidth\":0,\"ticks\":\"\"},\"type\":\"choropleth\"}],\"contourcarpet\":[{\"colorbar\":{\"outlinewidth\":0,\"ticks\":\"\"},\"type\":\"contourcarpet\"}],\"contour\":[{\"colorbar\":{\"outlinewidth\":0,\"ticks\":\"\"},\"colorscale\":[[0.0,\"#0d0887\"],[0.1111111111111111,\"#46039f\"],[0.2222222222222222,\"#7201a8\"],[0.3333333333333333,\"#9c179e\"],[0.4444444444444444,\"#bd3786\"],[0.5555555555555556,\"#d8576b\"],[0.6666666666666666,\"#ed7953\"],[0.7777777777777778,\"#fb9f3a\"],[0.8888888888888888,\"#fdca26\"],[1.0,\"#f0f921\"]],\"type\":\"contour\"}],\"heatmapgl\":[{\"colorbar\":{\"outlinewidth\":0,\"ticks\":\"\"},\"colorscale\":[[0.0,\"#0d0887\"],[0.1111111111111111,\"#46039f\"],[0.2222222222222222,\"#7201a8\"],[0.3333333333333333,\"#9c179e\"],[0.4444444444444444,\"#bd3786\"],[0.5555555555555556,\"#d8576b\"],[0.6666666666666666,\"#ed7953\"],[0.7777777777777778,\"#fb9f3a\"],[0.8888888888888888,\"#fdca26\"],[1.0,\"#f0f921\"]],\"type\":\"heatmapgl\"}],\"heatmap\":[{\"colorbar\":{\"outlinewidth\":0,\"ticks\":\"\"},\"colorscale\":[[0.0,\"#0d0887\"],[0.1111111111111111,\"#46039f\"],[0.2222222222222222,\"#7201a8\"],[0.3333333333333333,\"#9c179e\"],[0.4444444444444444,\"#bd3786\"],[0.5555555555555556,\"#d8576b\"],[0.6666666666666666,\"#ed7953\"],[0.7777777777777778,\"#fb9f3a\"],[0.8888888888888888,\"#fdca26\"],[1.0,\"#f0f921\"]],\"type\":\"heatmap\"}],\"histogram2dcontour\":[{\"colorbar\":{\"outlinewidth\":0,\"ticks\":\"\"},\"colorscale\":[[0.0,\"#0d0887\"],[0.1111111111111111,\"#46039f\"],[0.2222222222222222,\"#7201a8\"],[0.3333333333333333,\"#9c179e\"],[0.4444444444444444,\"#bd3786\"],[0.5555555555555556,\"#d8576b\"],[0.6666666666666666,\"#ed7953\"],[0.7777777777777778,\"#fb9f3a\"],[0.8888888888888888,\"#fdca26\"],[1.0,\"#f0f921\"]],\"type\":\"histogram2dcontour\"}],\"histogram2d\":[{\"colorbar\":{\"outlinewidth\":0,\"ticks\":\"\"},\"colorscale\":[[0.0,\"#0d0887\"],[0.1111111111111111,\"#46039f\"],[0.2222222222222222,\"#7201a8\"],[0.3333333333333333,\"#9c179e\"],[0.4444444444444444,\"#bd3786\"],[0.5555555555555556,\"#d8576b\"],[0.6666666666666666,\"#ed7953\"],[0.7777777777777778,\"#fb9f3a\"],[0.8888888888888888,\"#fdca26\"],[1.0,\"#f0f921\"]],\"type\":\"histogram2d\"}],\"histogram\":[{\"marker\":{\"pattern\":{\"fillmode\":\"overlay\",\"size\":10,\"solidity\":0.2}},\"type\":\"histogram\"}],\"mesh3d\":[{\"colorbar\":{\"outlinewidth\":0,\"ticks\":\"\"},\"type\":\"mesh3d\"}],\"parcoords\":[{\"line\":{\"colorbar\":{\"outlinewidth\":0,\"ticks\":\"\"}},\"type\":\"parcoords\"}],\"pie\":[{\"automargin\":true,\"type\":\"pie\"}],\"scatter3d\":[{\"line\":{\"colorbar\":{\"outlinewidth\":0,\"ticks\":\"\"}},\"marker\":{\"colorbar\":{\"outlinewidth\":0,\"ticks\":\"\"}},\"type\":\"scatter3d\"}],\"scattercarpet\":[{\"marker\":{\"colorbar\":{\"outlinewidth\":0,\"ticks\":\"\"}},\"type\":\"scattercarpet\"}],\"scattergeo\":[{\"marker\":{\"colorbar\":{\"outlinewidth\":0,\"ticks\":\"\"}},\"type\":\"scattergeo\"}],\"scattergl\":[{\"marker\":{\"line\":{\"color\":\"#283442\"}},\"type\":\"scattergl\"}],\"scattermapbox\":[{\"marker\":{\"colorbar\":{\"outlinewidth\":0,\"ticks\":\"\"}},\"type\":\"scattermapbox\"}],\"scatterpolargl\":[{\"marker\":{\"colorbar\":{\"outlinewidth\":0,\"ticks\":\"\"}},\"type\":\"scatterpolargl\"}],\"scatterpolar\":[{\"marker\":{\"colorbar\":{\"outlinewidth\":0,\"ticks\":\"\"}},\"type\":\"scatterpolar\"}],\"scatter\":[{\"marker\":{\"line\":{\"color\":\"#283442\"}},\"type\":\"scatter\"}],\"scatterternary\":[{\"marker\":{\"colorbar\":{\"outlinewidth\":0,\"ticks\":\"\"}},\"type\":\"scatterternary\"}],\"surface\":[{\"colorbar\":{\"outlinewidth\":0,\"ticks\":\"\"},\"colorscale\":[[0.0,\"#0d0887\"],[0.1111111111111111,\"#46039f\"],[0.2222222222222222,\"#7201a8\"],[0.3333333333333333,\"#9c179e\"],[0.4444444444444444,\"#bd3786\"],[0.5555555555555556,\"#d8576b\"],[0.6666666666666666,\"#ed7953\"],[0.7777777777777778,\"#fb9f3a\"],[0.8888888888888888,\"#fdca26\"],[1.0,\"#f0f921\"]],\"type\":\"surface\"}],\"table\":[{\"cells\":{\"fill\":{\"color\":\"#506784\"},\"line\":{\"color\":\"rgb(17,17,17)\"}},\"header\":{\"fill\":{\"color\":\"#2a3f5f\"},\"line\":{\"color\":\"rgb(17,17,17)\"}},\"type\":\"table\"}]},\"layout\":{\"annotationdefaults\":{\"arrowcolor\":\"#f2f5fa\",\"arrowhead\":0,\"arrowwidth\":1},\"autotypenumbers\":\"strict\",\"coloraxis\":{\"colorbar\":{\"outlinewidth\":0,\"ticks\":\"\"}},\"colorscale\":{\"diverging\":[[0,\"#8e0152\"],[0.1,\"#c51b7d\"],[0.2,\"#de77ae\"],[0.3,\"#f1b6da\"],[0.4,\"#fde0ef\"],[0.5,\"#f7f7f7\"],[0.6,\"#e6f5d0\"],[0.7,\"#b8e186\"],[0.8,\"#7fbc41\"],[0.9,\"#4d9221\"],[1,\"#276419\"]],\"sequential\":[[0.0,\"#0d0887\"],[0.1111111111111111,\"#46039f\"],[0.2222222222222222,\"#7201a8\"],[0.3333333333333333,\"#9c179e\"],[0.4444444444444444,\"#bd3786\"],[0.5555555555555556,\"#d8576b\"],[0.6666666666666666,\"#ed7953\"],[0.7777777777777778,\"#fb9f3a\"],[0.8888888888888888,\"#fdca26\"],[1.0,\"#f0f921\"]],\"sequentialminus\":[[0.0,\"#0d0887\"],[0.1111111111111111,\"#46039f\"],[0.2222222222222222,\"#7201a8\"],[0.3333333333333333,\"#9c179e\"],[0.4444444444444444,\"#bd3786\"],[0.5555555555555556,\"#d8576b\"],[0.6666666666666666,\"#ed7953\"],[0.7777777777777778,\"#fb9f3a\"],[0.8888888888888888,\"#fdca26\"],[1.0,\"#f0f921\"]]},\"colorway\":[\"#636efa\",\"#EF553B\",\"#00cc96\",\"#ab63fa\",\"#FFA15A\",\"#19d3f3\",\"#FF6692\",\"#B6E880\",\"#FF97FF\",\"#FECB52\"],\"font\":{\"color\":\"#f2f5fa\"},\"geo\":{\"bgcolor\":\"rgb(17,17,17)\",\"lakecolor\":\"rgb(17,17,17)\",\"landcolor\":\"rgb(17,17,17)\",\"showlakes\":true,\"showland\":true,\"subunitcolor\":\"#506784\"},\"hoverlabel\":{\"align\":\"left\"},\"hovermode\":\"closest\",\"mapbox\":{\"style\":\"dark\"},\"paper_bgcolor\":\"rgb(17,17,17)\",\"plot_bgcolor\":\"rgb(17,17,17)\",\"polar\":{\"angularaxis\":{\"gridcolor\":\"#506784\",\"linecolor\":\"#506784\",\"ticks\":\"\"},\"bgcolor\":\"rgb(17,17,17)\",\"radialaxis\":{\"gridcolor\":\"#506784\",\"linecolor\":\"#506784\",\"ticks\":\"\"}},\"scene\":{\"xaxis\":{\"backgroundcolor\":\"rgb(17,17,17)\",\"gridcolor\":\"#506784\",\"gridwidth\":2,\"linecolor\":\"#506784\",\"showbackground\":true,\"ticks\":\"\",\"zerolinecolor\":\"#C8D4E3\"},\"yaxis\":{\"backgroundcolor\":\"rgb(17,17,17)\",\"gridcolor\":\"#506784\",\"gridwidth\":2,\"linecolor\":\"#506784\",\"showbackground\":true,\"ticks\":\"\",\"zerolinecolor\":\"#C8D4E3\"},\"zaxis\":{\"backgroundcolor\":\"rgb(17,17,17)\",\"gridcolor\":\"#506784\",\"gridwidth\":2,\"linecolor\":\"#506784\",\"showbackground\":true,\"ticks\":\"\",\"zerolinecolor\":\"#C8D4E3\"}},\"shapedefaults\":{\"line\":{\"color\":\"#f2f5fa\"}},\"sliderdefaults\":{\"bgcolor\":\"#C8D4E3\",\"bordercolor\":\"rgb(17,17,17)\",\"borderwidth\":1,\"tickwidth\":0},\"ternary\":{\"aaxis\":{\"gridcolor\":\"#506784\",\"linecolor\":\"#506784\",\"ticks\":\"\"},\"baxis\":{\"gridcolor\":\"#506784\",\"linecolor\":\"#506784\",\"ticks\":\"\"},\"bgcolor\":\"rgb(17,17,17)\",\"caxis\":{\"gridcolor\":\"#506784\",\"linecolor\":\"#506784\",\"ticks\":\"\"}},\"title\":{\"x\":0.05},\"updatemenudefaults\":{\"bgcolor\":\"#506784\",\"borderwidth\":0},\"xaxis\":{\"automargin\":true,\"gridcolor\":\"#283442\",\"linecolor\":\"#506784\",\"ticks\":\"\",\"title\":{\"standoff\":15},\"zerolinecolor\":\"#283442\",\"zerolinewidth\":2},\"yaxis\":{\"automargin\":true,\"gridcolor\":\"#283442\",\"linecolor\":\"#506784\",\"ticks\":\"\",\"title\":{\"standoff\":15},\"zerolinecolor\":\"#283442\",\"zerolinewidth\":2}}},\"xaxis\":{\"anchor\":\"y\",\"domain\":[0.0,1.0],\"title\":{\"text\":\"Corona_result\"},\"categoryorder\":\"array\",\"categoryarray\":[\"Negative\",\"Positive\"]},\"yaxis\":{\"anchor\":\"x\",\"domain\":[0.0,1.0],\"title\":{\"text\":\"Count\"}},\"legend\":{\"title\":{\"text\":\"Corona_result\"},\"tracegroupgap\":0},\"margin\":{\"t\":60},\"barmode\":\"relative\",\"width\":600},                        {\"responsive\": true}                    ).then(function(){\n",
       "                            \n",
       "var gd = document.getElementById('27c0bad9-fc36-468a-b54d-b55f222020a6');\n",
       "var x = new MutationObserver(function (mutations, observer) {{\n",
       "        var display = window.getComputedStyle(gd).display;\n",
       "        if (!display || display === 'none') {{\n",
       "            console.log([gd, 'removed!']);\n",
       "            Plotly.purge(gd);\n",
       "            observer.disconnect();\n",
       "        }}\n",
       "}});\n",
       "\n",
       "// Listen for the removal of the full notebook cells\n",
       "var notebookContainer = gd.closest('#notebook-container');\n",
       "if (notebookContainer) {{\n",
       "    x.observe(notebookContainer, {childList: true});\n",
       "}}\n",
       "\n",
       "// Listen for the clearing of the current output cell\n",
       "var outputEl = gd.closest('.output');\n",
       "if (outputEl) {{\n",
       "    x.observe(outputEl, {childList: true});\n",
       "}}\n",
       "\n",
       "                        })                };                });            </script>        </div>"
      ]
     },
     "metadata": {},
     "output_type": "display_data"
    }
   ],
   "source": [
    "# Analyzing Target Feature after undersampling\n",
    "\n",
    "df = pd.DataFrame()\n",
    "df['Corona_result'] = ['Negative','Positive']\n",
    "df['Count'] = [len(os_y[os_y == 0]), len(os_y[os_y == 1])]\n",
    "df = df.sort_values(by = ['Count'], ascending = False)\n",
    "fig = px.bar(df, x = 'Corona_result', y = 'Count', \n",
    "             color = \"Corona_result\", width = 600,\n",
    "             color_discrete_sequence = [\"orange\", \"purple\"],\n",
    "             template = 'plotly_dark')\n",
    "\n",
    "fig.show()"
   ]
  },
  {
   "cell_type": "code",
   "execution_count": 19,
   "id": "2b504e8f",
   "metadata": {
    "execution": {
     "iopub.execute_input": "2022-05-31T07:35:58.116247Z",
     "iopub.status.busy": "2022-05-31T07:35:58.113582Z",
     "iopub.status.idle": "2022-05-31T07:35:58.125646Z",
     "shell.execute_reply": "2022-05-31T07:35:58.126196Z",
     "shell.execute_reply.started": "2022-05-31T07:25:23.835799Z"
    },
    "papermill": {
     "duration": 0.078491,
     "end_time": "2022-05-31T07:35:58.126382",
     "exception": false,
     "start_time": "2022-05-31T07:35:58.047891",
     "status": "completed"
    },
    "tags": []
   },
   "outputs": [
    {
     "data": {
      "text/html": [
       "<div>\n",
       "<style scoped>\n",
       "    .dataframe tbody tr th:only-of-type {\n",
       "        vertical-align: middle;\n",
       "    }\n",
       "\n",
       "    .dataframe tbody tr th {\n",
       "        vertical-align: top;\n",
       "    }\n",
       "\n",
       "    .dataframe thead th {\n",
       "        text-align: right;\n",
       "    }\n",
       "</style>\n",
       "<table border=\"1\" class=\"dataframe\">\n",
       "  <thead>\n",
       "    <tr style=\"text-align: right;\">\n",
       "      <th></th>\n",
       "      <th>cough</th>\n",
       "      <th>fever</th>\n",
       "      <th>sore_throat</th>\n",
       "      <th>shortness_of_breath</th>\n",
       "      <th>head_ache</th>\n",
       "      <th>age_60_and_above</th>\n",
       "      <th>gender</th>\n",
       "      <th>abroad</th>\n",
       "      <th>contact_with_covid_positive_patient</th>\n",
       "    </tr>\n",
       "  </thead>\n",
       "  <tbody>\n",
       "    <tr>\n",
       "      <th>0</th>\n",
       "      <td>0</td>\n",
       "      <td>0</td>\n",
       "      <td>0</td>\n",
       "      <td>0</td>\n",
       "      <td>0</td>\n",
       "      <td>0</td>\n",
       "      <td>1</td>\n",
       "      <td>0</td>\n",
       "      <td>0</td>\n",
       "    </tr>\n",
       "    <tr>\n",
       "      <th>1</th>\n",
       "      <td>0</td>\n",
       "      <td>0</td>\n",
       "      <td>0</td>\n",
       "      <td>0</td>\n",
       "      <td>0</td>\n",
       "      <td>1</td>\n",
       "      <td>1</td>\n",
       "      <td>0</td>\n",
       "      <td>0</td>\n",
       "    </tr>\n",
       "    <tr>\n",
       "      <th>2</th>\n",
       "      <td>0</td>\n",
       "      <td>0</td>\n",
       "      <td>0</td>\n",
       "      <td>0</td>\n",
       "      <td>0</td>\n",
       "      <td>0</td>\n",
       "      <td>1</td>\n",
       "      <td>0</td>\n",
       "      <td>0</td>\n",
       "    </tr>\n",
       "  </tbody>\n",
       "</table>\n",
       "</div>"
      ],
      "text/plain": [
       "   cough  fever  sore_throat  shortness_of_breath  head_ache  \\\n",
       "0      0      0            0                    0          0   \n",
       "1      0      0            0                    0          0   \n",
       "2      0      0            0                    0          0   \n",
       "\n",
       "   age_60_and_above  gender  abroad  contact_with_covid_positive_patient  \n",
       "0                 0       1       0                                    0  \n",
       "1                 1       1       0                                    0  \n",
       "2                 0       1       0                                    0  "
      ]
     },
     "execution_count": 19,
     "metadata": {},
     "output_type": "execute_result"
    }
   ],
   "source": [
    "os_x.head(3)"
   ]
  },
  {
   "cell_type": "code",
   "execution_count": 20,
   "id": "ce7dd491",
   "metadata": {
    "execution": {
     "iopub.execute_input": "2022-05-31T07:35:58.258787Z",
     "iopub.status.busy": "2022-05-31T07:35:58.257954Z",
     "iopub.status.idle": "2022-05-31T07:35:58.261341Z",
     "shell.execute_reply": "2022-05-31T07:35:58.261972Z",
     "shell.execute_reply.started": "2022-05-31T07:25:25.939850Z"
    },
    "papermill": {
     "duration": 0.074767,
     "end_time": "2022-05-31T07:35:58.262148",
     "exception": false,
     "start_time": "2022-05-31T07:35:58.187381",
     "status": "completed"
    },
    "tags": []
   },
   "outputs": [
    {
     "data": {
      "text/plain": [
       "0    270035\n",
       "1    162021\n",
       "Name: corona_result, dtype: int64"
      ]
     },
     "execution_count": 20,
     "metadata": {},
     "output_type": "execute_result"
    }
   ],
   "source": [
    "os_y.value_counts()"
   ]
  },
  {
   "cell_type": "markdown",
   "id": "092e0443",
   "metadata": {
    "papermill": {
     "duration": 0.062533,
     "end_time": "2022-05-31T07:35:58.387281",
     "exception": false,
     "start_time": "2022-05-31T07:35:58.324748",
     "status": "completed"
    },
    "tags": []
   },
   "source": [
    "> #### We observe that the data is now balanced. \n",
    "\n",
    "> #### Covid Positive Cases - 162021, Covid Negative Cases - 270035"
   ]
  },
  {
   "cell_type": "markdown",
   "id": "857d2ba2",
   "metadata": {
    "papermill": {
     "duration": 0.06275,
     "end_time": "2022-05-31T07:35:58.512975",
     "exception": false,
     "start_time": "2022-05-31T07:35:58.450225",
     "status": "completed"
    },
    "tags": []
   },
   "source": [
    "# Feature Selection"
   ]
  },
  {
   "cell_type": "markdown",
   "id": "bb3ba8e5",
   "metadata": {
    "papermill": {
     "duration": 0.059247,
     "end_time": "2022-05-31T07:35:58.631795",
     "exception": false,
     "start_time": "2022-05-31T07:35:58.572548",
     "status": "completed"
    },
    "tags": []
   },
   "source": [
    "### Anova Test"
   ]
  },
  {
   "cell_type": "code",
   "execution_count": 21,
   "id": "104bdfdc",
   "metadata": {
    "execution": {
     "iopub.execute_input": "2022-05-31T07:35:58.789108Z",
     "iopub.status.busy": "2022-05-31T07:35:58.788379Z",
     "iopub.status.idle": "2022-05-31T07:35:59.219674Z",
     "shell.execute_reply": "2022-05-31T07:35:59.219041Z",
     "shell.execute_reply.started": "2022-05-31T07:24:56.461116Z"
    },
    "papermill": {
     "duration": 0.520868,
     "end_time": "2022-05-31T07:35:59.219828",
     "exception": false,
     "start_time": "2022-05-31T07:35:58.698960",
     "status": "completed"
    },
    "tags": []
   },
   "outputs": [
    {
     "name": "stdout",
     "output_type": "stream",
     "text": [
      "Feature cough: 192608.2258928771\n",
      "Feature fever: 220284.88679801146\n",
      "Feature sore_throat: 68068.08027512691\n",
      "Feature shortness_of_breath: 18068.67505125996\n",
      "Feature head_ache: 183361.56080913165\n",
      "Feature age_60_and_above: 5206.646303572826\n",
      "Feature gender: 260.8806203365523\n",
      "Feature abroad: 140.97884184356178\n",
      "Feature contact_with_covid_positive_patient: 463452.3432929935\n"
     ]
    },
    {
     "data": {
      "image/png": "[encoded data removed]",
      "text/plain": [
       "<Figure size 432x288 with 1 Axes>"
      ]
     },
     "metadata": {
      "needs_background": "light"
     },
     "output_type": "display_data"
    }
   ],
   "source": [
    "from sklearn.feature_selection import SelectKBest\n",
    "from sklearn.feature_selection import f_classif\n",
    "from matplotlib import pyplot\n",
    "\n",
    "fs = SelectKBest(score_func=f_classif, k='all')\n",
    "fs.fit(os_x, os_y)\n",
    "\n",
    "l = list(os_x.columns)\n",
    "\n",
    "for i in range(len(fs.scores_)):\n",
    "    print('Feature {}: {}'.format(l[i], fs.scores_[i]))\n",
    "pyplot.bar([i for i in range(len(fs.scores_))], fs.scores_)\n",
    "pyplot.show()"
   ]
  },
  {
   "cell_type": "markdown",
   "id": "73c54fc1",
   "metadata": {
    "papermill": {
     "duration": 0.062009,
     "end_time": "2022-05-31T07:35:59.344092",
     "exception": false,
     "start_time": "2022-05-31T07:35:59.282083",
     "status": "completed"
    },
    "tags": []
   },
   "source": [
    "### Chi Square Test"
   ]
  },
  {
   "cell_type": "markdown",
   "id": "9d61eb79",
   "metadata": {
    "papermill": {
     "duration": 0.060899,
     "end_time": "2022-05-31T07:35:59.465940",
     "exception": false,
     "start_time": "2022-05-31T07:35:59.405041",
     "status": "completed"
    },
    "tags": []
   },
   "source": [
    "![](https://raw.githubusercontent.com/Atharv-Chaudhari/Project-Covid-NLP/main/Project%20Covid%20Images/Hulk.jpg)"
   ]
  },
  {
   "cell_type": "code",
   "execution_count": 22,
   "id": "558ecac9",
   "metadata": {
    "execution": {
     "iopub.execute_input": "2022-05-31T07:35:59.602802Z",
     "iopub.status.busy": "2022-05-31T07:35:59.602078Z",
     "iopub.status.idle": "2022-05-31T07:35:59.604108Z",
     "shell.execute_reply": "2022-05-31T07:35:59.604699Z",
     "shell.execute_reply.started": "2022-05-31T07:25:37.657096Z"
    },
    "papermill": {
     "duration": 0.077935,
     "end_time": "2022-05-31T07:35:59.604872",
     "exception": false,
     "start_time": "2022-05-31T07:35:59.526937",
     "status": "completed"
    },
    "tags": []
   },
   "outputs": [],
   "source": [
    "imp_var = []\n",
    "h = dict()\n",
    "u = dict()\n",
    "unimp_var = []\n",
    "\n",
    "# Creating a class for Chi Square Test\n",
    "\n",
    "class ChiSquare:\n",
    "    def __init__(self, dataframe):\n",
    "        self.df = dataframe\n",
    "        self.p = None \n",
    "        self.chi2 = None \n",
    "        self.dof = None\n",
    "        \n",
    "        self.dfTabular = None\n",
    "        self.dfExpected = None\n",
    "    \n",
    "    # Checking for level of significance \n",
    "    \n",
    "    def _print_chisquare_result(self, colX, alpha):\n",
    "        if self.p < alpha:\n",
    "          h[colX] = self.p\n",
    "        else:\n",
    "          unimp_var.append(colX)\n",
    "          u[colX] = self.p\n",
    "            \n",
    "    def TestIndependence(self, colX, colY, alpha = 0.05):\n",
    "        X = self.df[colX].astype(str)\n",
    "        Y = self.df[colY].astype(str)\n",
    "        \n",
    "        self.dfObserved = pd.crosstab(Y, X) \n",
    "        chi2, p, dof, expected = stats.chi2_contingency(self.dfObserved.values)\n",
    "        self.p = p\n",
    "        self.chi2 = chi2\n",
    "        self.dof = dof \n",
    "        \n",
    "        self.dfExpected = pd.DataFrame(expected, columns = self.dfObserved.columns, index = self.dfObserved.index)\n",
    "        \n",
    "        self._print_chisquare_result(colX, alpha)"
   ]
  },
  {
   "cell_type": "code",
   "execution_count": 23,
   "id": "a74c0e5e",
   "metadata": {
    "execution": {
     "iopub.execute_input": "2022-05-31T07:35:59.737071Z",
     "iopub.status.busy": "2022-05-31T07:35:59.736161Z",
     "iopub.status.idle": "2022-05-31T07:35:59.739578Z",
     "shell.execute_reply": "2022-05-31T07:35:59.740109Z",
     "shell.execute_reply.started": "2022-05-31T07:27:25.456179Z"
    },
    "papermill": {
     "duration": 0.073227,
     "end_time": "2022-05-31T07:35:59.740303",
     "exception": false,
     "start_time": "2022-05-31T07:35:59.667076",
     "status": "completed"
    },
    "tags": []
   },
   "outputs": [],
   "source": [
    "temp = os_x\n",
    "temp['corona_result'] = os_y"
   ]
  },
  {
   "cell_type": "code",
   "execution_count": 24,
   "id": "e58403e0",
   "metadata": {
    "execution": {
     "iopub.execute_input": "2022-05-31T07:35:59.898268Z",
     "iopub.status.busy": "2022-05-31T07:35:59.897206Z",
     "iopub.status.idle": "2022-05-31T07:36:11.988925Z",
     "shell.execute_reply": "2022-05-31T07:36:11.989463Z",
     "shell.execute_reply.started": "2022-05-31T07:28:33.575967Z"
    },
    "papermill": {
     "duration": 12.170947,
     "end_time": "2022-05-31T07:36:11.989778",
     "exception": false,
     "start_time": "2022-05-31T07:35:59.818831",
     "status": "completed"
    },
    "tags": []
   },
   "outputs": [
    {
     "data": {
      "text/html": [
       "<div>\n",
       "<style scoped>\n",
       "    .dataframe tbody tr th:only-of-type {\n",
       "        vertical-align: middle;\n",
       "    }\n",
       "\n",
       "    .dataframe tbody tr th {\n",
       "        vertical-align: top;\n",
       "    }\n",
       "\n",
       "    .dataframe thead th {\n",
       "        text-align: right;\n",
       "    }\n",
       "</style>\n",
       "<table border=\"1\" class=\"dataframe\">\n",
       "  <thead>\n",
       "    <tr style=\"text-align: right;\">\n",
       "      <th></th>\n",
       "      <th>Important Variables</th>\n",
       "      <th>Unimportant Variables</th>\n",
       "    </tr>\n",
       "  </thead>\n",
       "  <tbody>\n",
       "    <tr>\n",
       "      <th>0</th>\n",
       "      <td>cough</td>\n",
       "      <td></td>\n",
       "    </tr>\n",
       "    <tr>\n",
       "      <th>1</th>\n",
       "      <td>fever</td>\n",
       "      <td></td>\n",
       "    </tr>\n",
       "    <tr>\n",
       "      <th>2</th>\n",
       "      <td>sore_throat</td>\n",
       "      <td></td>\n",
       "    </tr>\n",
       "    <tr>\n",
       "      <th>3</th>\n",
       "      <td>shortness_of_breath</td>\n",
       "      <td></td>\n",
       "    </tr>\n",
       "    <tr>\n",
       "      <th>4</th>\n",
       "      <td>head_ache</td>\n",
       "      <td></td>\n",
       "    </tr>\n",
       "    <tr>\n",
       "      <th>5</th>\n",
       "      <td>age_60_and_above</td>\n",
       "      <td></td>\n",
       "    </tr>\n",
       "    <tr>\n",
       "      <th>6</th>\n",
       "      <td>contact_with_covid_positive_patient</td>\n",
       "      <td></td>\n",
       "    </tr>\n",
       "    <tr>\n",
       "      <th>7</th>\n",
       "      <td>gender</td>\n",
       "      <td></td>\n",
       "    </tr>\n",
       "    <tr>\n",
       "      <th>8</th>\n",
       "      <td>abroad</td>\n",
       "      <td></td>\n",
       "    </tr>\n",
       "  </tbody>\n",
       "</table>\n",
       "</div>"
      ],
      "text/plain": [
       "                   Important Variables Unimportant Variables\n",
       "0                                cough                      \n",
       "1                                fever                      \n",
       "2                          sore_throat                      \n",
       "3                  shortness_of_breath                      \n",
       "4                            head_ache                      \n",
       "5                     age_60_and_above                      \n",
       "6  contact_with_covid_positive_patient                      \n",
       "7                               gender                      \n",
       "8                               abroad                      "
      ]
     },
     "execution_count": 24,
     "metadata": {},
     "output_type": "execute_result"
    }
   ],
   "source": [
    "cT = ChiSquare(temp)\n",
    "testColumns = temp.drop(columns = ['corona_result']).columns\n",
    "\n",
    "# Checking for all features whether they contribute in detecting covid cases or not\n",
    "\n",
    "for var in testColumns:\n",
    "    cT.TestIndependence(colX = var, colY = \"corona_result\")  \n",
    "\n",
    "# Creating a DataFrame to bifurcate Important & Unimportant Features Classified by Chi Square Test\n",
    "\n",
    "imp = pd.DataFrame()\n",
    "\n",
    "m = sorted(h.items(), key = lambda x: x[1], reverse = False)\n",
    "\n",
    "for i in range(len(m)):\n",
    "  imp_var.append(m[i][0])\n",
    "\n",
    "if(len(imp_var) > len(unimp_var)):\n",
    "  for i in range(len(imp_var) - len(unimp_var)):\n",
    "    unimp_var.append(\"\")\n",
    "else:\n",
    "  for i in range(len(unimp_var) - len(imp_var)):\n",
    "    imp_var.append(\"\")\n",
    "    \n",
    "imp['Important Variables'] = imp_var\n",
    "imp['Unimportant Variables'] = unimp_var\n",
    "\n",
    "imp"
   ]
  },
  {
   "cell_type": "markdown",
   "id": "48a2fcb4",
   "metadata": {
    "papermill": {
     "duration": 0.06141,
     "end_time": "2022-05-31T07:36:12.116369",
     "exception": false,
     "start_time": "2022-05-31T07:36:12.054959",
     "status": "completed"
    },
    "tags": []
   },
   "source": [
    "> #### No feature seems unimportant. \n",
    "\n",
    "> #### All the features are contributing towards the detection of covid cases."
   ]
  },
  {
   "cell_type": "markdown",
   "id": "f02cd426",
   "metadata": {
    "papermill": {
     "duration": 0.061445,
     "end_time": "2022-05-31T07:36:12.239503",
     "exception": false,
     "start_time": "2022-05-31T07:36:12.178058",
     "status": "completed"
    },
    "tags": []
   },
   "source": [
    "# Data Modeling"
   ]
  },
  {
   "cell_type": "markdown",
   "id": "e402fd82",
   "metadata": {
    "papermill": {
     "duration": 0.061957,
     "end_time": "2022-05-31T07:36:12.362080",
     "exception": false,
     "start_time": "2022-05-31T07:36:12.300123",
     "status": "completed"
    },
    "tags": []
   },
   "source": [
    "### Train Test Split "
   ]
  },
  {
   "cell_type": "code",
   "execution_count": 25,
   "id": "7b87d04b",
   "metadata": {
    "execution": {
     "iopub.execute_input": "2022-05-31T07:36:12.489436Z",
     "iopub.status.busy": "2022-05-31T07:36:12.488406Z",
     "iopub.status.idle": "2022-05-31T07:36:12.506897Z",
     "shell.execute_reply": "2022-05-31T07:36:12.507466Z",
     "shell.execute_reply.started": "2022-05-31T07:31:28.065958Z"
    },
    "papermill": {
     "duration": 0.085254,
     "end_time": "2022-05-31T07:36:12.507634",
     "exception": false,
     "start_time": "2022-05-31T07:36:12.422380",
     "status": "completed"
    },
    "tags": []
   },
   "outputs": [
    {
     "data": {
      "text/html": [
       "<div>\n",
       "<style scoped>\n",
       "    .dataframe tbody tr th:only-of-type {\n",
       "        vertical-align: middle;\n",
       "    }\n",
       "\n",
       "    .dataframe tbody tr th {\n",
       "        vertical-align: top;\n",
       "    }\n",
       "\n",
       "    .dataframe thead th {\n",
       "        text-align: right;\n",
       "    }\n",
       "</style>\n",
       "<table border=\"1\" class=\"dataframe\">\n",
       "  <thead>\n",
       "    <tr style=\"text-align: right;\">\n",
       "      <th></th>\n",
       "      <th>cough</th>\n",
       "      <th>fever</th>\n",
       "      <th>sore_throat</th>\n",
       "      <th>shortness_of_breath</th>\n",
       "      <th>head_ache</th>\n",
       "      <th>age_60_and_above</th>\n",
       "      <th>gender</th>\n",
       "      <th>abroad</th>\n",
       "      <th>contact_with_covid_positive_patient</th>\n",
       "    </tr>\n",
       "  </thead>\n",
       "  <tbody>\n",
       "    <tr>\n",
       "      <th>0</th>\n",
       "      <td>0</td>\n",
       "      <td>0</td>\n",
       "      <td>0</td>\n",
       "      <td>0</td>\n",
       "      <td>0</td>\n",
       "      <td>0</td>\n",
       "      <td>1</td>\n",
       "      <td>0</td>\n",
       "      <td>0</td>\n",
       "    </tr>\n",
       "    <tr>\n",
       "      <th>1</th>\n",
       "      <td>0</td>\n",
       "      <td>0</td>\n",
       "      <td>0</td>\n",
       "      <td>0</td>\n",
       "      <td>0</td>\n",
       "      <td>1</td>\n",
       "      <td>1</td>\n",
       "      <td>0</td>\n",
       "      <td>0</td>\n",
       "    </tr>\n",
       "    <tr>\n",
       "      <th>2</th>\n",
       "      <td>0</td>\n",
       "      <td>0</td>\n",
       "      <td>0</td>\n",
       "      <td>0</td>\n",
       "      <td>0</td>\n",
       "      <td>0</td>\n",
       "      <td>1</td>\n",
       "      <td>0</td>\n",
       "      <td>0</td>\n",
       "    </tr>\n",
       "    <tr>\n",
       "      <th>3</th>\n",
       "      <td>0</td>\n",
       "      <td>0</td>\n",
       "      <td>0</td>\n",
       "      <td>0</td>\n",
       "      <td>0</td>\n",
       "      <td>0</td>\n",
       "      <td>1</td>\n",
       "      <td>0</td>\n",
       "      <td>0</td>\n",
       "    </tr>\n",
       "    <tr>\n",
       "      <th>4</th>\n",
       "      <td>0</td>\n",
       "      <td>0</td>\n",
       "      <td>0</td>\n",
       "      <td>0</td>\n",
       "      <td>0</td>\n",
       "      <td>0</td>\n",
       "      <td>0</td>\n",
       "      <td>0</td>\n",
       "      <td>0</td>\n",
       "    </tr>\n",
       "  </tbody>\n",
       "</table>\n",
       "</div>"
      ],
      "text/plain": [
       "   cough  fever  sore_throat  shortness_of_breath  head_ache  \\\n",
       "0      0      0            0                    0          0   \n",
       "1      0      0            0                    0          0   \n",
       "2      0      0            0                    0          0   \n",
       "3      0      0            0                    0          0   \n",
       "4      0      0            0                    0          0   \n",
       "\n",
       "   age_60_and_above  gender  abroad  contact_with_covid_positive_patient  \n",
       "0                 0       1       0                                    0  \n",
       "1                 1       1       0                                    0  \n",
       "2                 0       1       0                                    0  \n",
       "3                 0       1       0                                    0  \n",
       "4                 0       0       0                                    0  "
      ]
     },
     "execution_count": 25,
     "metadata": {},
     "output_type": "execute_result"
    }
   ],
   "source": [
    "os_x = os_x.drop(['corona_result'], axis = 1)\n",
    "os_x.head()"
   ]
  },
  {
   "cell_type": "code",
   "execution_count": 26,
   "id": "47d1c8ed",
   "metadata": {
    "execution": {
     "iopub.execute_input": "2022-05-31T07:36:12.635050Z",
     "iopub.status.busy": "2022-05-31T07:36:12.634060Z",
     "iopub.status.idle": "2022-05-31T07:36:12.718347Z",
     "shell.execute_reply": "2022-05-31T07:36:12.718946Z",
     "shell.execute_reply.started": "2022-05-31T07:31:46.185662Z"
    },
    "papermill": {
     "duration": 0.149604,
     "end_time": "2022-05-31T07:36:12.719124",
     "exception": false,
     "start_time": "2022-05-31T07:36:12.569520",
     "status": "completed"
    },
    "tags": []
   },
   "outputs": [
    {
     "name": "stdout",
     "output_type": "stream",
     "text": [
      "(302439, 9) (129617, 9) (302439,) (129617,)\n",
      "\n",
      "0    188938\n",
      "1    113501\n",
      "Name: corona_result, dtype: int64\n",
      "\n",
      "0    81097\n",
      "1    48520\n",
      "Name: corona_result, dtype: int64\n"
     ]
    }
   ],
   "source": [
    "# Setting Train:Test ratio as 70:30\n",
    "\n",
    "X_train, X_test, Y_train, Y_test = train_test_split(os_x, os_y, test_size = 0.3, random_state = 42)\n",
    "\n",
    "print(X_train.shape, X_test.shape, Y_train.shape, Y_test.shape)\n",
    "print()\n",
    "print(Y_train.value_counts())\n",
    "print()\n",
    "print(Y_test.value_counts())"
   ]
  },
  {
   "cell_type": "markdown",
   "id": "c5c00e70",
   "metadata": {
    "papermill": {
     "duration": 0.062438,
     "end_time": "2022-05-31T07:36:12.845066",
     "exception": false,
     "start_time": "2022-05-31T07:36:12.782628",
     "status": "completed"
    },
    "tags": []
   },
   "source": [
    "### [Evaluation Metrics](https://www.analyticsvidhya.com/blog/2020/10/how-to-choose-evaluation-metrics-for-classification-model/)"
   ]
  },
  {
   "cell_type": "markdown",
   "id": "79264ec9",
   "metadata": {
    "papermill": {
     "duration": 0.061101,
     "end_time": "2022-05-31T07:36:12.967398",
     "exception": false,
     "start_time": "2022-05-31T07:36:12.906297",
     "status": "completed"
    },
    "tags": []
   },
   "source": [
    "> ![](https://raw.githubusercontent.com/Atharv-Chaudhari/Project-Covid-NLP/main/Project%20Covid%20Images/Confusion%20Matrix.jpg)\n",
    "\n",
    "> #### We will be using 5 metrics to evaluate our Models.\n",
    "\n",
    "> #### Metrics - Recall, Specificity, Accuracy, Precision & F1 Score."
   ]
  },
  {
   "cell_type": "code",
   "execution_count": 27,
   "id": "44d2af5c",
   "metadata": {
    "execution": {
     "iopub.execute_input": "2022-05-31T07:36:13.098994Z",
     "iopub.status.busy": "2022-05-31T07:36:13.097929Z",
     "iopub.status.idle": "2022-05-31T07:36:13.111685Z",
     "shell.execute_reply": "2022-05-31T07:36:13.111096Z",
     "shell.execute_reply.started": "2022-05-31T07:31:50.767528Z"
    },
    "papermill": {
     "duration": 0.080275,
     "end_time": "2022-05-31T07:36:13.111848",
     "exception": false,
     "start_time": "2022-05-31T07:36:13.031573",
     "status": "completed"
    },
    "tags": []
   },
   "outputs": [],
   "source": [
    "# Function for Model Evaluation\n",
    "\n",
    "def evaluation_parametrics(name, y_train, yp_train, y_test, yp_test):\n",
    "    \n",
    "    print(\"\\n-----------------------------{}-----------------------------\\n\".format(name))\n",
    "    \n",
    "    cm_train = confusion_matrix(y_train, yp_train)\n",
    "    t1 = ConfusionMatrixDisplay(cm_train)\n",
    "    s1 = round((cm_train[0,0]/(cm_train[0,0] + cm_train[0,1])),4)\n",
    "    \n",
    "    print(\"Classification Report for Train Data\\n\")\n",
    "    print(classification_report(y_train, yp_train)) \n",
    "    print(\"--------------------------------------------------------------------------\")\n",
    "    print(\"Recall on Train Data: \", round(recall_score(y_train, yp_train),4))\n",
    "    print(\"Specificity on Train Data: \", s1)\n",
    "    print(\"Accuracy on Train Data: \", round(accuracy_score(y_train, yp_train),4))\n",
    "    print(\"Precision on Train Data: \", round(precision_score(y_train, yp_train),4))\n",
    "    print(\"F1 Score on Train Data: \", round(f1_score(y_train, yp_train),4))\n",
    "    print(\"--------------------------------------------------------------------------\")\n",
    "          \n",
    "    cm_test = confusion_matrix(y_test, yp_test)\n",
    "    t2 = ConfusionMatrixDisplay(cm_test)\n",
    "    s2 = round((cm_test[0,0]/(cm_test[0,0] + cm_test[0,1])),4)\n",
    "    \n",
    "    print(\"\\nClassification Report for Test Data\\n\")\n",
    "    print(classification_report(y_test, yp_test))   \n",
    "    print(\"--------------------------------------------------------------------------\")\n",
    "    print(\"Recall on Test Data: \", round(recall_score(y_test, yp_test), 4))\n",
    "    print(\"Specificity on Test Data: \", s2)\n",
    "    print(\"Accuracy on Test Data: \", round(accuracy_score(y_test, yp_test), 4))\n",
    "    print(\"Precision on Test Data: \", round(precision_score(y_test, yp_test), 4))\n",
    "    print(\"F1 Score Test Data: \", round(f1_score(y_test, yp_test), 4))\n",
    "    print(\"--------------------------------------------------------------------------\")\n",
    "    \n",
    "    t1.plot()\n",
    "    t2.plot()"
   ]
  },
  {
   "cell_type": "markdown",
   "id": "89f15d64",
   "metadata": {
    "papermill": {
     "duration": 0.063816,
     "end_time": "2022-05-31T07:36:13.241700",
     "exception": false,
     "start_time": "2022-05-31T07:36:13.177884",
     "status": "completed"
    },
    "tags": []
   },
   "source": [
    "### Feature Importance Graph"
   ]
  },
  {
   "cell_type": "code",
   "execution_count": 28,
   "id": "580a514f",
   "metadata": {
    "execution": {
     "iopub.execute_input": "2022-05-31T07:36:13.373566Z",
     "iopub.status.busy": "2022-05-31T07:36:13.372509Z",
     "iopub.status.idle": "2022-05-31T07:36:13.377904Z",
     "shell.execute_reply": "2022-05-31T07:36:13.378553Z",
     "shell.execute_reply.started": "2022-05-31T07:31:53.980090Z"
    },
    "papermill": {
     "duration": 0.072524,
     "end_time": "2022-05-31T07:36:13.378749",
     "exception": false,
     "start_time": "2022-05-31T07:36:13.306225",
     "status": "completed"
    },
    "tags": []
   },
   "outputs": [],
   "source": [
    "# Function for feature importance graph \n",
    "\n",
    "def feature_importance(df):\n",
    "    \n",
    "    df = df.sort_values(by = ['Variable Importance Score'], ascending = False)\n",
    "    fig = px.bar(df, x = 'Features', y = 'Variable Importance Score', \n",
    "                 color = \"Features\", \n",
    "                 color_discrete_sequence = px.colors.sequential.Plasma_r, \n",
    "                 template ='plotly_dark')\n",
    "\n",
    "    fig.show()"
   ]
  },
  {
   "cell_type": "markdown",
   "id": "bc2e284a",
   "metadata": {
    "papermill": {
     "duration": 0.060998,
     "end_time": "2022-05-31T07:36:13.503244",
     "exception": false,
     "start_time": "2022-05-31T07:36:13.442246",
     "status": "completed"
    },
    "tags": []
   },
   "source": [
    "### M1 - Logistic Regression using GridSearchCv"
   ]
  },
  {
   "cell_type": "code",
   "execution_count": 29,
   "id": "3cdb918a",
   "metadata": {
    "execution": {
     "iopub.execute_input": "2022-05-31T07:36:13.635985Z",
     "iopub.status.busy": "2022-05-31T07:36:13.635286Z",
     "iopub.status.idle": "2022-05-31T07:37:20.949956Z",
     "shell.execute_reply": "2022-05-31T07:37:20.950562Z",
     "shell.execute_reply.started": "2022-05-31T07:15:28.525789Z"
    },
    "papermill": {
     "duration": 67.385327,
     "end_time": "2022-05-31T07:37:20.950775",
     "exception": false,
     "start_time": "2022-05-31T07:36:13.565448",
     "status": "completed"
    },
    "tags": []
   },
   "outputs": [
    {
     "name": "stdout",
     "output_type": "stream",
     "text": [
      "Best Parameters:  {'C': 1.0, 'penalty': 'l1'}\n",
      "Accuracy:  0.9769540303995186\n"
     ]
    }
   ],
   "source": [
    "grid1 = {\"C\": np.logspace(-3,3,7), \"penalty\": [\"l1\",\"l2\"]}\n",
    "\n",
    "lr = LogisticRegression(solver = \"saga\")\n",
    "lr_cv = GridSearchCV(lr, grid1, cv = 3)\n",
    "lr_cv.fit(X_train, Y_train)\n",
    "\n",
    "print(\"Best Parameters: \", lr_cv.best_params_)\n",
    "print(\"Accuracy: \",lr_cv.best_score_)"
   ]
  },
  {
   "cell_type": "code",
   "execution_count": 30,
   "id": "ee0a5b42",
   "metadata": {
    "execution": {
     "iopub.execute_input": "2022-05-31T07:37:21.086212Z",
     "iopub.status.busy": "2022-05-31T07:37:21.085490Z",
     "iopub.status.idle": "2022-05-31T07:37:26.162283Z",
     "shell.execute_reply": "2022-05-31T07:37:26.162847Z",
     "shell.execute_reply.started": "2022-05-31T07:31:56.419782Z"
    },
    "papermill": {
     "duration": 5.145922,
     "end_time": "2022-05-31T07:37:26.163094",
     "exception": false,
     "start_time": "2022-05-31T07:37:21.017172",
     "status": "completed"
    },
    "tags": []
   },
   "outputs": [
    {
     "name": "stdout",
     "output_type": "stream",
     "text": [
      "\n",
      "-----------------------------Logistic Regression Classifier-----------------------------\n",
      "\n",
      "Classification Report for Train Data\n",
      "\n",
      "              precision    recall  f1-score   support\n",
      "\n",
      "           0       1.00      0.96      0.98    188938\n",
      "           1       0.94      1.00      0.97    113501\n",
      "\n",
      "    accuracy                           0.98    302439\n",
      "   macro avg       0.97      0.98      0.98    302439\n",
      "weighted avg       0.98      0.98      0.98    302439\n",
      "\n",
      "--------------------------------------------------------------------------\n",
      "Recall on Train Data:  0.9984\n",
      "Specificity on Train Data:  0.964\n",
      "Accuracy on Train Data:  0.9769\n",
      "Precision on Train Data:  0.9434\n",
      "F1 Score on Train Data:  0.9701\n",
      "--------------------------------------------------------------------------\n",
      "\n",
      "Classification Report for Test Data\n",
      "\n",
      "              precision    recall  f1-score   support\n",
      "\n",
      "           0       1.00      0.96      0.98     81097\n",
      "           1       0.94      1.00      0.97     48520\n",
      "\n",
      "    accuracy                           0.98    129617\n",
      "   macro avg       0.97      0.98      0.98    129617\n",
      "weighted avg       0.98      0.98      0.98    129617\n",
      "\n",
      "--------------------------------------------------------------------------\n",
      "Recall on Test Data:  0.9987\n",
      "Specificity on Test Data:  0.9644\n",
      "Accuracy on Test Data:  0.9772\n",
      "Precision on Test Data:  0.9437\n",
      "F1 Score Test Data:  0.9704\n",
      "--------------------------------------------------------------------------\n"
     ]
    },
    {
     "data": {
      "image/png": "[encoded data removed]",
      "text/plain": [
       "<Figure size 432x288 with 2 Axes>"
      ]
     },
     "metadata": {
      "needs_background": "light"
     },
     "output_type": "display_data"
    },
    {
     "data": {
      "image/png": "[encoded data removed]",
      "text/plain": [
       "<Figure size 432x288 with 2 Axes>"
      ]
     },
     "metadata": {
      "needs_background": "light"
     },
     "output_type": "display_data"
    }
   ],
   "source": [
    "# Applying Best Parameters Suggested by GridSearch\n",
    "\n",
    "lr = LogisticRegression(C = 1.0, penalty = 'l1', solver = \"saga\")\n",
    "\n",
    "lr.fit(X_train, Y_train)\n",
    "\n",
    "lr_yp_train = lr.predict(X_train)\n",
    "lr_yp_test = lr.predict(X_test)\n",
    "\n",
    "# Model Evaluation\n",
    "\n",
    "evaluation_parametrics(\"Logistic Regression Classifier\", Y_train, lr_yp_train, Y_test, lr_yp_test)"
   ]
  },
  {
   "cell_type": "code",
   "execution_count": 31,
   "id": "7eb53719",
   "metadata": {
    "execution": {
     "iopub.execute_input": "2022-05-31T07:37:26.319819Z",
     "iopub.status.busy": "2022-05-31T07:37:26.319133Z",
     "iopub.status.idle": "2022-05-31T07:37:26.416518Z",
     "shell.execute_reply": "2022-05-31T07:37:26.417193Z",
     "shell.execute_reply.started": "2022-05-31T07:32:00.892949Z"
    },
    "papermill": {
     "duration": 0.186265,
     "end_time": "2022-05-31T07:37:26.417405",
     "exception": false,
     "start_time": "2022-05-31T07:37:26.231140",
     "status": "completed"
    },
    "tags": []
   },
   "outputs": [
    {
     "data": {
      "text/html": [
       "<div>                            <div id=\"600698c6-d49d-4348-a07d-d01ec8e4d600\" class=\"plotly-graph-div\" style=\"height:525px; width:100%;\"></div>            <script type=\"text/javascript\">                require([\"plotly\"], function(Plotly) {                    window.PLOTLYENV=window.PLOTLYENV || {};                                    if (document.getElementById(\"600698c6-d49d-4348-a07d-d01ec8e4d600\")) {                    Plotly.newPlot(                        \"600698c6-d49d-4348-a07d-d01ec8e4d600\",                        [{\"alignmentgroup\":\"True\",\"hovertemplate\":\"Features=%{x}<br>Variable Importance Score=%{y}<extra></extra>\",\"legendgroup\":\"contact_with_covid_positive_patient\",\"marker\":{\"color\":\"#f0f921\",\"pattern\":{\"shape\":\"\"}},\"name\":\"contact_with_covid_positive_patient\",\"offsetgroup\":\"contact_with_covid_positive_patient\",\"orientation\":\"v\",\"showlegend\":true,\"textposition\":\"auto\",\"x\":[\"contact_with_covid_positive_patient\"],\"xaxis\":\"x\",\"y\":[5.164],\"yaxis\":\"y\",\"type\":\"bar\"},{\"alignmentgroup\":\"True\",\"hovertemplate\":\"Features=%{x}<br>Variable Importance Score=%{y}<extra></extra>\",\"legendgroup\":\"fever\",\"marker\":{\"color\":\"#fdca26\",\"pattern\":{\"shape\":\"\"}},\"name\":\"fever\",\"offsetgroup\":\"fever\",\"orientation\":\"v\",\"showlegend\":true,\"textposition\":\"auto\",\"x\":[\"fever\"],\"xaxis\":\"x\",\"y\":[4.873],\"yaxis\":\"y\",\"type\":\"bar\"},{\"alignmentgroup\":\"True\",\"hovertemplate\":\"Features=%{x}<br>Variable Importance Score=%{y}<extra></extra>\",\"legendgroup\":\"head_ache\",\"marker\":{\"color\":\"#fb9f3a\",\"pattern\":{\"shape\":\"\"}},\"name\":\"head_ache\",\"offsetgroup\":\"head_ache\",\"orientation\":\"v\",\"showlegend\":true,\"textposition\":\"auto\",\"x\":[\"head_ache\"],\"xaxis\":\"x\",\"y\":[2.984],\"yaxis\":\"y\",\"type\":\"bar\"},{\"alignmentgroup\":\"True\",\"hovertemplate\":\"Features=%{x}<br>Variable Importance Score=%{y}<extra></extra>\",\"legendgroup\":\"age_60_and_above\",\"marker\":{\"color\":\"#ed7953\",\"pattern\":{\"shape\":\"\"}},\"name\":\"age_60_and_above\",\"offsetgroup\":\"age_60_and_above\",\"orientation\":\"v\",\"showlegend\":true,\"textposition\":\"auto\",\"x\":[\"age_60_and_above\"],\"xaxis\":\"x\",\"y\":[2.934],\"yaxis\":\"y\",\"type\":\"bar\"},{\"alignmentgroup\":\"True\",\"hovertemplate\":\"Features=%{x}<br>Variable Importance Score=%{y}<extra></extra>\",\"legendgroup\":\"cough\",\"marker\":{\"color\":\"#d8576b\",\"pattern\":{\"shape\":\"\"}},\"name\":\"cough\",\"offsetgroup\":\"cough\",\"orientation\":\"v\",\"showlegend\":true,\"textposition\":\"auto\",\"x\":[\"cough\"],\"xaxis\":\"x\",\"y\":[2.81],\"yaxis\":\"y\",\"type\":\"bar\"},{\"alignmentgroup\":\"True\",\"hovertemplate\":\"Features=%{x}<br>Variable Importance Score=%{y}<extra></extra>\",\"legendgroup\":\"shortness_of_breath\",\"marker\":{\"color\":\"#bd3786\",\"pattern\":{\"shape\":\"\"}},\"name\":\"shortness_of_breath\",\"offsetgroup\":\"shortness_of_breath\",\"orientation\":\"v\",\"showlegend\":true,\"textposition\":\"auto\",\"x\":[\"shortness_of_breath\"],\"xaxis\":\"x\",\"y\":[2.68],\"yaxis\":\"y\",\"type\":\"bar\"},{\"alignmentgroup\":\"True\",\"hovertemplate\":\"Features=%{x}<br>Variable Importance Score=%{y}<extra></extra>\",\"legendgroup\":\"sore_throat\",\"marker\":{\"color\":\"#9c179e\",\"pattern\":{\"shape\":\"\"}},\"name\":\"sore_throat\",\"offsetgroup\":\"sore_throat\",\"orientation\":\"v\",\"showlegend\":true,\"textposition\":\"auto\",\"x\":[\"sore_throat\"],\"xaxis\":\"x\",\"y\":[2.556],\"yaxis\":\"y\",\"type\":\"bar\"},{\"alignmentgroup\":\"True\",\"hovertemplate\":\"Features=%{x}<br>Variable Importance Score=%{y}<extra></extra>\",\"legendgroup\":\"abroad\",\"marker\":{\"color\":\"#7201a8\",\"pattern\":{\"shape\":\"\"}},\"name\":\"abroad\",\"offsetgroup\":\"abroad\",\"orientation\":\"v\",\"showlegend\":true,\"textposition\":\"auto\",\"x\":[\"abroad\"],\"xaxis\":\"x\",\"y\":[0.527],\"yaxis\":\"y\",\"type\":\"bar\"},{\"alignmentgroup\":\"True\",\"hovertemplate\":\"Features=%{x}<br>Variable Importance Score=%{y}<extra></extra>\",\"legendgroup\":\"gender\",\"marker\":{\"color\":\"#46039f\",\"pattern\":{\"shape\":\"\"}},\"name\":\"gender\",\"offsetgroup\":\"gender\",\"orientation\":\"v\",\"showlegend\":true,\"textposition\":\"auto\",\"x\":[\"gender\"],\"xaxis\":\"x\",\"y\":[0.104],\"yaxis\":\"y\",\"type\":\"bar\"}],                        {\"template\":{\"data\":{\"barpolar\":[{\"marker\":{\"line\":{\"color\":\"rgb(17,17,17)\",\"width\":0.5},\"pattern\":{\"fillmode\":\"overlay\",\"size\":10,\"solidity\":0.2}},\"type\":\"barpolar\"}],\"bar\":[{\"error_x\":{\"color\":\"#f2f5fa\"},\"error_y\":{\"color\":\"#f2f5fa\"},\"marker\":{\"line\":{\"color\":\"rgb(17,17,17)\",\"width\":0.5},\"pattern\":{\"fillmode\":\"overlay\",\"size\":10,\"solidity\":0.2}},\"type\":\"bar\"}],\"carpet\":[{\"aaxis\":{\"endlinecolor\":\"#A2B1C6\",\"gridcolor\":\"#506784\",\"linecolor\":\"#506784\",\"minorgridcolor\":\"#506784\",\"startlinecolor\":\"#A2B1C6\"},\"baxis\":{\"endlinecolor\":\"#A2B1C6\",\"gridcolor\":\"#506784\",\"linecolor\":\"#506784\",\"minorgridcolor\":\"#506784\",\"startlinecolor\":\"#A2B1C6\"},\"type\":\"carpet\"}],\"choropleth\":[{\"colorbar\":{\"outlinewidth\":0,\"ticks\":\"\"},\"type\":\"choropleth\"}],\"contourcarpet\":[{\"colorbar\":{\"outlinewidth\":0,\"ticks\":\"\"},\"type\":\"contourcarpet\"}],\"contour\":[{\"colorbar\":{\"outlinewidth\":0,\"ticks\":\"\"},\"colorscale\":[[0.0,\"#0d0887\"],[0.1111111111111111,\"#46039f\"],[0.2222222222222222,\"#7201a8\"],[0.3333333333333333,\"#9c179e\"],[0.4444444444444444,\"#bd3786\"],[0.5555555555555556,\"#d8576b\"],[0.6666666666666666,\"#ed7953\"],[0.7777777777777778,\"#fb9f3a\"],[0.8888888888888888,\"#fdca26\"],[1.0,\"#f0f921\"]],\"type\":\"contour\"}],\"heatmapgl\":[{\"colorbar\":{\"outlinewidth\":0,\"ticks\":\"\"},\"colorscale\":[[0.0,\"#0d0887\"],[0.1111111111111111,\"#46039f\"],[0.2222222222222222,\"#7201a8\"],[0.3333333333333333,\"#9c179e\"],[0.4444444444444444,\"#bd3786\"],[0.5555555555555556,\"#d8576b\"],[0.6666666666666666,\"#ed7953\"],[0.7777777777777778,\"#fb9f3a\"],[0.8888888888888888,\"#fdca26\"],[1.0,\"#f0f921\"]],\"type\":\"heatmapgl\"}],\"heatmap\":[{\"colorbar\":{\"outlinewidth\":0,\"ticks\":\"\"},\"colorscale\":[[0.0,\"#0d0887\"],[0.1111111111111111,\"#46039f\"],[0.2222222222222222,\"#7201a8\"],[0.3333333333333333,\"#9c179e\"],[0.4444444444444444,\"#bd3786\"],[0.5555555555555556,\"#d8576b\"],[0.6666666666666666,\"#ed7953\"],[0.7777777777777778,\"#fb9f3a\"],[0.8888888888888888,\"#fdca26\"],[1.0,\"#f0f921\"]],\"type\":\"heatmap\"}],\"histogram2dcontour\":[{\"colorbar\":{\"outlinewidth\":0,\"ticks\":\"\"},\"colorscale\":[[0.0,\"#0d0887\"],[0.1111111111111111,\"#46039f\"],[0.2222222222222222,\"#7201a8\"],[0.3333333333333333,\"#9c179e\"],[0.4444444444444444,\"#bd3786\"],[0.5555555555555556,\"#d8576b\"],[0.6666666666666666,\"#ed7953\"],[0.7777777777777778,\"#fb9f3a\"],[0.8888888888888888,\"#fdca26\"],[1.0,\"#f0f921\"]],\"type\":\"histogram2dcontour\"}],\"histogram2d\":[{\"colorbar\":{\"outlinewidth\":0,\"ticks\":\"\"},\"colorscale\":[[0.0,\"#0d0887\"],[0.1111111111111111,\"#46039f\"],[0.2222222222222222,\"#7201a8\"],[0.3333333333333333,\"#9c179e\"],[0.4444444444444444,\"#bd3786\"],[0.5555555555555556,\"#d8576b\"],[0.6666666666666666,\"#ed7953\"],[0.7777777777777778,\"#fb9f3a\"],[0.8888888888888888,\"#fdca26\"],[1.0,\"#f0f921\"]],\"type\":\"histogram2d\"}],\"histogram\":[{\"marker\":{\"pattern\":{\"fillmode\":\"overlay\",\"size\":10,\"solidity\":0.2}},\"type\":\"histogram\"}],\"mesh3d\":[{\"colorbar\":{\"outlinewidth\":0,\"ticks\":\"\"},\"type\":\"mesh3d\"}],\"parcoords\":[{\"line\":{\"colorbar\":{\"outlinewidth\":0,\"ticks\":\"\"}},\"type\":\"parcoords\"}],\"pie\":[{\"automargin\":true,\"type\":\"pie\"}],\"scatter3d\":[{\"line\":{\"colorbar\":{\"outlinewidth\":0,\"ticks\":\"\"}},\"marker\":{\"colorbar\":{\"outlinewidth\":0,\"ticks\":\"\"}},\"type\":\"scatter3d\"}],\"scattercarpet\":[{\"marker\":{\"colorbar\":{\"outlinewidth\":0,\"ticks\":\"\"}},\"type\":\"scattercarpet\"}],\"scattergeo\":[{\"marker\":{\"colorbar\":{\"outlinewidth\":0,\"ticks\":\"\"}},\"type\":\"scattergeo\"}],\"scattergl\":[{\"marker\":{\"line\":{\"color\":\"#283442\"}},\"type\":\"scattergl\"}],\"scattermapbox\":[{\"marker\":{\"colorbar\":{\"outlinewidth\":0,\"ticks\":\"\"}},\"type\":\"scattermapbox\"}],\"scatterpolargl\":[{\"marker\":{\"colorbar\":{\"outlinewidth\":0,\"ticks\":\"\"}},\"type\":\"scatterpolargl\"}],\"scatterpolar\":[{\"marker\":{\"colorbar\":{\"outlinewidth\":0,\"ticks\":\"\"}},\"type\":\"scatterpolar\"}],\"scatter\":[{\"marker\":{\"line\":{\"color\":\"#283442\"}},\"type\":\"scatter\"}],\"scatterternary\":[{\"marker\":{\"colorbar\":{\"outlinewidth\":0,\"ticks\":\"\"}},\"type\":\"scatterternary\"}],\"surface\":[{\"colorbar\":{\"outlinewidth\":0,\"ticks\":\"\"},\"colorscale\":[[0.0,\"#0d0887\"],[0.1111111111111111,\"#46039f\"],[0.2222222222222222,\"#7201a8\"],[0.3333333333333333,\"#9c179e\"],[0.4444444444444444,\"#bd3786\"],[0.5555555555555556,\"#d8576b\"],[0.6666666666666666,\"#ed7953\"],[0.7777777777777778,\"#fb9f3a\"],[0.8888888888888888,\"#fdca26\"],[1.0,\"#f0f921\"]],\"type\":\"surface\"}],\"table\":[{\"cells\":{\"fill\":{\"color\":\"#506784\"},\"line\":{\"color\":\"rgb(17,17,17)\"}},\"header\":{\"fill\":{\"color\":\"#2a3f5f\"},\"line\":{\"color\":\"rgb(17,17,17)\"}},\"type\":\"table\"}]},\"layout\":{\"annotationdefaults\":{\"arrowcolor\":\"#f2f5fa\",\"arrowhead\":0,\"arrowwidth\":1},\"autotypenumbers\":\"strict\",\"coloraxis\":{\"colorbar\":{\"outlinewidth\":0,\"ticks\":\"\"}},\"colorscale\":{\"diverging\":[[0,\"#8e0152\"],[0.1,\"#c51b7d\"],[0.2,\"#de77ae\"],[0.3,\"#f1b6da\"],[0.4,\"#fde0ef\"],[0.5,\"#f7f7f7\"],[0.6,\"#e6f5d0\"],[0.7,\"#b8e186\"],[0.8,\"#7fbc41\"],[0.9,\"#4d9221\"],[1,\"#276419\"]],\"sequential\":[[0.0,\"#0d0887\"],[0.1111111111111111,\"#46039f\"],[0.2222222222222222,\"#7201a8\"],[0.3333333333333333,\"#9c179e\"],[0.4444444444444444,\"#bd3786\"],[0.5555555555555556,\"#d8576b\"],[0.6666666666666666,\"#ed7953\"],[0.7777777777777778,\"#fb9f3a\"],[0.8888888888888888,\"#fdca26\"],[1.0,\"#f0f921\"]],\"sequentialminus\":[[0.0,\"#0d0887\"],[0.1111111111111111,\"#46039f\"],[0.2222222222222222,\"#7201a8\"],[0.3333333333333333,\"#9c179e\"],[0.4444444444444444,\"#bd3786\"],[0.5555555555555556,\"#d8576b\"],[0.6666666666666666,\"#ed7953\"],[0.7777777777777778,\"#fb9f3a\"],[0.8888888888888888,\"#fdca26\"],[1.0,\"#f0f921\"]]},\"colorway\":[\"#636efa\",\"#EF553B\",\"#00cc96\",\"#ab63fa\",\"#FFA15A\",\"#19d3f3\",\"#FF6692\",\"#B6E880\",\"#FF97FF\",\"#FECB52\"],\"font\":{\"color\":\"#f2f5fa\"},\"geo\":{\"bgcolor\":\"rgb(17,17,17)\",\"lakecolor\":\"rgb(17,17,17)\",\"landcolor\":\"rgb(17,17,17)\",\"showlakes\":true,\"showland\":true,\"subunitcolor\":\"#506784\"},\"hoverlabel\":{\"align\":\"left\"},\"hovermode\":\"closest\",\"mapbox\":{\"style\":\"dark\"},\"paper_bgcolor\":\"rgb(17,17,17)\",\"plot_bgcolor\":\"rgb(17,17,17)\",\"polar\":{\"angularaxis\":{\"gridcolor\":\"#506784\",\"linecolor\":\"#506784\",\"ticks\":\"\"},\"bgcolor\":\"rgb(17,17,17)\",\"radialaxis\":{\"gridcolor\":\"#506784\",\"linecolor\":\"#506784\",\"ticks\":\"\"}},\"scene\":{\"xaxis\":{\"backgroundcolor\":\"rgb(17,17,17)\",\"gridcolor\":\"#506784\",\"gridwidth\":2,\"linecolor\":\"#506784\",\"showbackground\":true,\"ticks\":\"\",\"zerolinecolor\":\"#C8D4E3\"},\"yaxis\":{\"backgroundcolor\":\"rgb(17,17,17)\",\"gridcolor\":\"#506784\",\"gridwidth\":2,\"linecolor\":\"#506784\",\"showbackground\":true,\"ticks\":\"\",\"zerolinecolor\":\"#C8D4E3\"},\"zaxis\":{\"backgroundcolor\":\"rgb(17,17,17)\",\"gridcolor\":\"#506784\",\"gridwidth\":2,\"linecolor\":\"#506784\",\"showbackground\":true,\"ticks\":\"\",\"zerolinecolor\":\"#C8D4E3\"}},\"shapedefaults\":{\"line\":{\"color\":\"#f2f5fa\"}},\"sliderdefaults\":{\"bgcolor\":\"#C8D4E3\",\"bordercolor\":\"rgb(17,17,17)\",\"borderwidth\":1,\"tickwidth\":0},\"ternary\":{\"aaxis\":{\"gridcolor\":\"#506784\",\"linecolor\":\"#506784\",\"ticks\":\"\"},\"baxis\":{\"gridcolor\":\"#506784\",\"linecolor\":\"#506784\",\"ticks\":\"\"},\"bgcolor\":\"rgb(17,17,17)\",\"caxis\":{\"gridcolor\":\"#506784\",\"linecolor\":\"#506784\",\"ticks\":\"\"}},\"title\":{\"x\":0.05},\"updatemenudefaults\":{\"bgcolor\":\"#506784\",\"borderwidth\":0},\"xaxis\":{\"automargin\":true,\"gridcolor\":\"#283442\",\"linecolor\":\"#506784\",\"ticks\":\"\",\"title\":{\"standoff\":15},\"zerolinecolor\":\"#283442\",\"zerolinewidth\":2},\"yaxis\":{\"automargin\":true,\"gridcolor\":\"#283442\",\"linecolor\":\"#506784\",\"ticks\":\"\",\"title\":{\"standoff\":15},\"zerolinecolor\":\"#283442\",\"zerolinewidth\":2}}},\"xaxis\":{\"anchor\":\"y\",\"domain\":[0.0,1.0],\"title\":{\"text\":\"Features\"},\"categoryorder\":\"array\",\"categoryarray\":[\"contact_with_covid_positive_patient\",\"fever\",\"head_ache\",\"age_60_and_above\",\"cough\",\"shortness_of_breath\",\"sore_throat\",\"abroad\",\"gender\"]},\"yaxis\":{\"anchor\":\"x\",\"domain\":[0.0,1.0],\"title\":{\"text\":\"Variable Importance Score\"}},\"legend\":{\"title\":{\"text\":\"Features\"},\"tracegroupgap\":0},\"margin\":{\"t\":60},\"barmode\":\"relative\"},                        {\"responsive\": true}                    ).then(function(){\n",
       "                            \n",
       "var gd = document.getElementById('600698c6-d49d-4348-a07d-d01ec8e4d600');\n",
       "var x = new MutationObserver(function (mutations, observer) {{\n",
       "        var display = window.getComputedStyle(gd).display;\n",
       "        if (!display || display === 'none') {{\n",
       "            console.log([gd, 'removed!']);\n",
       "            Plotly.purge(gd);\n",
       "            observer.disconnect();\n",
       "        }}\n",
       "}});\n",
       "\n",
       "// Listen for the removal of the full notebook cells\n",
       "var notebookContainer = gd.closest('#notebook-container');\n",
       "if (notebookContainer) {{\n",
       "    x.observe(notebookContainer, {childList: true});\n",
       "}}\n",
       "\n",
       "// Listen for the clearing of the current output cell\n",
       "var outputEl = gd.closest('.output');\n",
       "if (outputEl) {{\n",
       "    x.observe(outputEl, {childList: true});\n",
       "}}\n",
       "\n",
       "                        })                };                });            </script>        </div>"
      ]
     },
     "metadata": {},
     "output_type": "display_data"
    }
   ],
   "source": [
    "# Checking For Variable Importance\n",
    "\n",
    "d1 = pd.DataFrame({'Features': list(X_train.columns), 'Variable Importance Score': list(np.around(lr.coef_[0],3))})\n",
    "d1 = d1.sort_values(by = ['Variable Importance Score'], ascending = False)\n",
    "\n",
    "feature_importance(d1)"
   ]
  },
  {
   "cell_type": "markdown",
   "id": "59c8cc5d",
   "metadata": {
    "papermill": {
     "duration": 0.067965,
     "end_time": "2022-05-31T07:37:26.552168",
     "exception": false,
     "start_time": "2022-05-31T07:37:26.484203",
     "status": "completed"
    },
    "tags": []
   },
   "source": [
    "![](https://raw.githubusercontent.com/Atharv-Chaudhari/Project-Covid-NLP/main/Project%20Covid%20Images/All%20Day.jpg)"
   ]
  },
  {
   "cell_type": "markdown",
   "id": "490c332d",
   "metadata": {
    "papermill": {
     "duration": 0.065591,
     "end_time": "2022-05-31T07:37:26.683821",
     "exception": false,
     "start_time": "2022-05-31T07:37:26.618230",
     "status": "completed"
    },
    "tags": []
   },
   "source": [
    "### M2 - Random Forest using GridSearchCv"
   ]
  },
  {
   "cell_type": "code",
   "execution_count": 32,
   "id": "5b9b9a51",
   "metadata": {
    "execution": {
     "iopub.execute_input": "2022-05-31T07:37:26.826996Z",
     "iopub.status.busy": "2022-05-31T07:37:26.826342Z",
     "iopub.status.idle": "2022-05-31T07:49:21.539681Z",
     "shell.execute_reply": "2022-05-31T07:49:21.540256Z",
     "shell.execute_reply.started": "2022-05-31T07:15:36.394122Z"
    },
    "papermill": {
     "duration": 714.789465,
     "end_time": "2022-05-31T07:49:21.540570",
     "exception": false,
     "start_time": "2022-05-31T07:37:26.751105",
     "status": "completed"
    },
    "tags": []
   },
   "outputs": [
    {
     "name": "stdout",
     "output_type": "stream",
     "text": [
      "Best Parameters:  {'criterion': 'gini', 'max_depth': 8, 'n_estimators': 200}\n",
      "Accuracy:  0.9772945949431125\n"
     ]
    }
   ],
   "source": [
    "grid2 = {'n_estimators': [200, 300], 'max_depth': [5,6,7,8], 'criterion': ['gini', 'entropy']}\n",
    "\n",
    "rf = RandomForestClassifier(random_state = 42)\n",
    "rf_cv = GridSearchCV(rf, grid2, cv = 3)\n",
    "rf_cv.fit(X_train, Y_train)\n",
    "\n",
    "print(\"Best Parameters: \", rf_cv.best_params_)\n",
    "print(\"Accuracy: \", rf_cv.best_score_)"
   ]
  },
  {
   "cell_type": "code",
   "execution_count": 33,
   "id": "2e3e0f4d",
   "metadata": {
    "execution": {
     "iopub.execute_input": "2022-05-31T07:49:21.680289Z",
     "iopub.status.busy": "2022-05-31T07:49:21.679343Z",
     "iopub.status.idle": "2022-05-31T07:49:48.829544Z",
     "shell.execute_reply": "2022-05-31T07:49:48.828697Z",
     "shell.execute_reply.started": "2022-05-31T07:33:06.247423Z"
    },
    "papermill": {
     "duration": 27.2225,
     "end_time": "2022-05-31T07:49:48.829761",
     "exception": false,
     "start_time": "2022-05-31T07:49:21.607261",
     "status": "completed"
    },
    "tags": []
   },
   "outputs": [
    {
     "name": "stdout",
     "output_type": "stream",
     "text": [
      "\n",
      "-----------------------------Random Forest Classifier-----------------------------\n",
      "\n",
      "Classification Report for Train Data\n",
      "\n",
      "              precision    recall  f1-score   support\n",
      "\n",
      "           0       1.00      0.96      0.98    188938\n",
      "           1       0.94      1.00      0.97    113501\n",
      "\n",
      "    accuracy                           0.98    302439\n",
      "   macro avg       0.97      0.98      0.98    302439\n",
      "weighted avg       0.98      0.98      0.98    302439\n",
      "\n",
      "--------------------------------------------------------------------------\n",
      "Recall on Train Data:  0.9998\n",
      "Specificity on Train Data:  0.9639\n",
      "Accuracy on Train Data:  0.9773\n",
      "Precision on Train Data:  0.9432\n",
      "F1 Score on Train Data:  0.9707\n",
      "--------------------------------------------------------------------------\n",
      "\n",
      "Classification Report for Test Data\n",
      "\n",
      "              precision    recall  f1-score   support\n",
      "\n",
      "           0       1.00      0.96      0.98     81097\n",
      "           1       0.94      1.00      0.97     48520\n",
      "\n",
      "    accuracy                           0.98    129617\n",
      "   macro avg       0.97      0.98      0.98    129617\n",
      "weighted avg       0.98      0.98      0.98    129617\n",
      "\n",
      "--------------------------------------------------------------------------\n",
      "Recall on Test Data:  0.9996\n",
      "Specificity on Test Data:  0.9642\n",
      "Accuracy on Test Data:  0.9774\n",
      "Precision on Test Data:  0.9435\n",
      "F1 Score Test Data:  0.9707\n",
      "--------------------------------------------------------------------------\n"
     ]
    },
    {
     "data": {
      "image/png": "[encoded data removed]",
      "text/plain": [
       "<Figure size 432x288 with 2 Axes>"
      ]
     },
     "metadata": {
      "needs_background": "light"
     },
     "output_type": "display_data"
    },
    {
     "data": {
      "image/png": "[encoded data removed]",
      "text/plain": [
       "<Figure size 432x288 with 2 Axes>"
      ]
     },
     "metadata": {
      "needs_background": "light"
     },
     "output_type": "display_data"
    }
   ],
   "source": [
    "# Applying Best Parameters Suggested by GridSearch\n",
    "\n",
    "rf = RandomForestClassifier(n_estimators = 200, max_depth = 8, criterion = 'gini', random_state = 42) \n",
    "\n",
    "rf.fit(X_train ,Y_train)\n",
    "\n",
    "rf_yp_train = rf.predict(X_train)\n",
    "rf_yp_test = rf.predict(X_test)\n",
    "\n",
    "# Model Evaluation\n",
    "\n",
    "evaluation_parametrics(\"Random Forest Classifier\", Y_train, rf_yp_train, Y_test, rf_yp_test)"
   ]
  },
  {
   "cell_type": "code",
   "execution_count": 34,
   "id": "d597ed7d",
   "metadata": {
    "execution": {
     "iopub.execute_input": "2022-05-31T07:49:48.998401Z",
     "iopub.status.busy": "2022-05-31T07:49:48.996567Z",
     "iopub.status.idle": "2022-05-31T07:49:49.138009Z",
     "shell.execute_reply": "2022-05-31T07:49:49.138615Z",
     "shell.execute_reply.started": "2022-05-31T07:33:30.453097Z"
    },
    "papermill": {
     "duration": 0.225462,
     "end_time": "2022-05-31T07:49:49.138817",
     "exception": false,
     "start_time": "2022-05-31T07:49:48.913355",
     "status": "completed"
    },
    "tags": []
   },
   "outputs": [
    {
     "data": {
      "text/html": [
       "<div>                            <div id=\"84cb165e-1576-4652-aba5-0dc1d186454e\" class=\"plotly-graph-div\" style=\"height:525px; width:100%;\"></div>            <script type=\"text/javascript\">                require([\"plotly\"], function(Plotly) {                    window.PLOTLYENV=window.PLOTLYENV || {};                                    if (document.getElementById(\"84cb165e-1576-4652-aba5-0dc1d186454e\")) {                    Plotly.newPlot(                        \"84cb165e-1576-4652-aba5-0dc1d186454e\",                        [{\"alignmentgroup\":\"True\",\"hovertemplate\":\"Features=%{x}<br>Variable Importance Score=%{y}<extra></extra>\",\"legendgroup\":\"contact_with_covid_positive_patient\",\"marker\":{\"color\":\"#f0f921\",\"pattern\":{\"shape\":\"\"}},\"name\":\"contact_with_covid_positive_patient\",\"offsetgroup\":\"contact_with_covid_positive_patient\",\"orientation\":\"v\",\"showlegend\":true,\"textposition\":\"auto\",\"x\":[\"contact_with_covid_positive_patient\"],\"xaxis\":\"x\",\"y\":[0.396],\"yaxis\":\"y\",\"type\":\"bar\"},{\"alignmentgroup\":\"True\",\"hovertemplate\":\"Features=%{x}<br>Variable Importance Score=%{y}<extra></extra>\",\"legendgroup\":\"fever\",\"marker\":{\"color\":\"#fdca26\",\"pattern\":{\"shape\":\"\"}},\"name\":\"fever\",\"offsetgroup\":\"fever\",\"orientation\":\"v\",\"showlegend\":true,\"textposition\":\"auto\",\"x\":[\"fever\"],\"xaxis\":\"x\",\"y\":[0.256],\"yaxis\":\"y\",\"type\":\"bar\"},{\"alignmentgroup\":\"True\",\"hovertemplate\":\"Features=%{x}<br>Variable Importance Score=%{y}<extra></extra>\",\"legendgroup\":\"cough\",\"marker\":{\"color\":\"#fb9f3a\",\"pattern\":{\"shape\":\"\"}},\"name\":\"cough\",\"offsetgroup\":\"cough\",\"orientation\":\"v\",\"showlegend\":true,\"textposition\":\"auto\",\"x\":[\"cough\"],\"xaxis\":\"x\",\"y\":[0.147],\"yaxis\":\"y\",\"type\":\"bar\"},{\"alignmentgroup\":\"True\",\"hovertemplate\":\"Features=%{x}<br>Variable Importance Score=%{y}<extra></extra>\",\"legendgroup\":\"head_ache\",\"marker\":{\"color\":\"#ed7953\",\"pattern\":{\"shape\":\"\"}},\"name\":\"head_ache\",\"offsetgroup\":\"head_ache\",\"orientation\":\"v\",\"showlegend\":true,\"textposition\":\"auto\",\"x\":[\"head_ache\"],\"xaxis\":\"x\",\"y\":[0.117],\"yaxis\":\"y\",\"type\":\"bar\"},{\"alignmentgroup\":\"True\",\"hovertemplate\":\"Features=%{x}<br>Variable Importance Score=%{y}<extra></extra>\",\"legendgroup\":\"sore_throat\",\"marker\":{\"color\":\"#d8576b\",\"pattern\":{\"shape\":\"\"}},\"name\":\"sore_throat\",\"offsetgroup\":\"sore_throat\",\"orientation\":\"v\",\"showlegend\":true,\"textposition\":\"auto\",\"x\":[\"sore_throat\"],\"xaxis\":\"x\",\"y\":[0.052],\"yaxis\":\"y\",\"type\":\"bar\"},{\"alignmentgroup\":\"True\",\"hovertemplate\":\"Features=%{x}<br>Variable Importance Score=%{y}<extra></extra>\",\"legendgroup\":\"age_60_and_above\",\"marker\":{\"color\":\"#bd3786\",\"pattern\":{\"shape\":\"\"}},\"name\":\"age_60_and_above\",\"offsetgroup\":\"age_60_and_above\",\"orientation\":\"v\",\"showlegend\":true,\"textposition\":\"auto\",\"x\":[\"age_60_and_above\"],\"xaxis\":\"x\",\"y\":[0.019],\"yaxis\":\"y\",\"type\":\"bar\"},{\"alignmentgroup\":\"True\",\"hovertemplate\":\"Features=%{x}<br>Variable Importance Score=%{y}<extra></extra>\",\"legendgroup\":\"shortness_of_breath\",\"marker\":{\"color\":\"#9c179e\",\"pattern\":{\"shape\":\"\"}},\"name\":\"shortness_of_breath\",\"offsetgroup\":\"shortness_of_breath\",\"orientation\":\"v\",\"showlegend\":true,\"textposition\":\"auto\",\"x\":[\"shortness_of_breath\"],\"xaxis\":\"x\",\"y\":[0.011],\"yaxis\":\"y\",\"type\":\"bar\"},{\"alignmentgroup\":\"True\",\"hovertemplate\":\"Features=%{x}<br>Variable Importance Score=%{y}<extra></extra>\",\"legendgroup\":\"abroad\",\"marker\":{\"color\":\"#7201a8\",\"pattern\":{\"shape\":\"\"}},\"name\":\"abroad\",\"offsetgroup\":\"abroad\",\"orientation\":\"v\",\"showlegend\":true,\"textposition\":\"auto\",\"x\":[\"abroad\"],\"xaxis\":\"x\",\"y\":[0.001],\"yaxis\":\"y\",\"type\":\"bar\"},{\"alignmentgroup\":\"True\",\"hovertemplate\":\"Features=%{x}<br>Variable Importance Score=%{y}<extra></extra>\",\"legendgroup\":\"gender\",\"marker\":{\"color\":\"#46039f\",\"pattern\":{\"shape\":\"\"}},\"name\":\"gender\",\"offsetgroup\":\"gender\",\"orientation\":\"v\",\"showlegend\":true,\"textposition\":\"auto\",\"x\":[\"gender\"],\"xaxis\":\"x\",\"y\":[0.0],\"yaxis\":\"y\",\"type\":\"bar\"}],                        {\"template\":{\"data\":{\"barpolar\":[{\"marker\":{\"line\":{\"color\":\"rgb(17,17,17)\",\"width\":0.5},\"pattern\":{\"fillmode\":\"overlay\",\"size\":10,\"solidity\":0.2}},\"type\":\"barpolar\"}],\"bar\":[{\"error_x\":{\"color\":\"#f2f5fa\"},\"error_y\":{\"color\":\"#f2f5fa\"},\"marker\":{\"line\":{\"color\":\"rgb(17,17,17)\",\"width\":0.5},\"pattern\":{\"fillmode\":\"overlay\",\"size\":10,\"solidity\":0.2}},\"type\":\"bar\"}],\"carpet\":[{\"aaxis\":{\"endlinecolor\":\"#A2B1C6\",\"gridcolor\":\"#506784\",\"linecolor\":\"#506784\",\"minorgridcolor\":\"#506784\",\"startlinecolor\":\"#A2B1C6\"},\"baxis\":{\"endlinecolor\":\"#A2B1C6\",\"gridcolor\":\"#506784\",\"linecolor\":\"#506784\",\"minorgridcolor\":\"#506784\",\"startlinecolor\":\"#A2B1C6\"},\"type\":\"carpet\"}],\"choropleth\":[{\"colorbar\":{\"outlinewidth\":0,\"ticks\":\"\"},\"type\":\"choropleth\"}],\"contourcarpet\":[{\"colorbar\":{\"outlinewidth\":0,\"ticks\":\"\"},\"type\":\"contourcarpet\"}],\"contour\":[{\"colorbar\":{\"outlinewidth\":0,\"ticks\":\"\"},\"colorscale\":[[0.0,\"#0d0887\"],[0.1111111111111111,\"#46039f\"],[0.2222222222222222,\"#7201a8\"],[0.3333333333333333,\"#9c179e\"],[0.4444444444444444,\"#bd3786\"],[0.5555555555555556,\"#d8576b\"],[0.6666666666666666,\"#ed7953\"],[0.7777777777777778,\"#fb9f3a\"],[0.8888888888888888,\"#fdca26\"],[1.0,\"#f0f921\"]],\"type\":\"contour\"}],\"heatmapgl\":[{\"colorbar\":{\"outlinewidth\":0,\"ticks\":\"\"},\"colorscale\":[[0.0,\"#0d0887\"],[0.1111111111111111,\"#46039f\"],[0.2222222222222222,\"#7201a8\"],[0.3333333333333333,\"#9c179e\"],[0.4444444444444444,\"#bd3786\"],[0.5555555555555556,\"#d8576b\"],[0.6666666666666666,\"#ed7953\"],[0.7777777777777778,\"#fb9f3a\"],[0.8888888888888888,\"#fdca26\"],[1.0,\"#f0f921\"]],\"type\":\"heatmapgl\"}],\"heatmap\":[{\"colorbar\":{\"outlinewidth\":0,\"ticks\":\"\"},\"colorscale\":[[0.0,\"#0d0887\"],[0.1111111111111111,\"#46039f\"],[0.2222222222222222,\"#7201a8\"],[0.3333333333333333,\"#9c179e\"],[0.4444444444444444,\"#bd3786\"],[0.5555555555555556,\"#d8576b\"],[0.6666666666666666,\"#ed7953\"],[0.7777777777777778,\"#fb9f3a\"],[0.8888888888888888,\"#fdca26\"],[1.0,\"#f0f921\"]],\"type\":\"heatmap\"}],\"histogram2dcontour\":[{\"colorbar\":{\"outlinewidth\":0,\"ticks\":\"\"},\"colorscale\":[[0.0,\"#0d0887\"],[0.1111111111111111,\"#46039f\"],[0.2222222222222222,\"#7201a8\"],[0.3333333333333333,\"#9c179e\"],[0.4444444444444444,\"#bd3786\"],[0.5555555555555556,\"#d8576b\"],[0.6666666666666666,\"#ed7953\"],[0.7777777777777778,\"#fb9f3a\"],[0.8888888888888888,\"#fdca26\"],[1.0,\"#f0f921\"]],\"type\":\"histogram2dcontour\"}],\"histogram2d\":[{\"colorbar\":{\"outlinewidth\":0,\"ticks\":\"\"},\"colorscale\":[[0.0,\"#0d0887\"],[0.1111111111111111,\"#46039f\"],[0.2222222222222222,\"#7201a8\"],[0.3333333333333333,\"#9c179e\"],[0.4444444444444444,\"#bd3786\"],[0.5555555555555556,\"#d8576b\"],[0.6666666666666666,\"#ed7953\"],[0.7777777777777778,\"#fb9f3a\"],[0.8888888888888888,\"#fdca26\"],[1.0,\"#f0f921\"]],\"type\":\"histogram2d\"}],\"histogram\":[{\"marker\":{\"pattern\":{\"fillmode\":\"overlay\",\"size\":10,\"solidity\":0.2}},\"type\":\"histogram\"}],\"mesh3d\":[{\"colorbar\":{\"outlinewidth\":0,\"ticks\":\"\"},\"type\":\"mesh3d\"}],\"parcoords\":[{\"line\":{\"colorbar\":{\"outlinewidth\":0,\"ticks\":\"\"}},\"type\":\"parcoords\"}],\"pie\":[{\"automargin\":true,\"type\":\"pie\"}],\"scatter3d\":[{\"line\":{\"colorbar\":{\"outlinewidth\":0,\"ticks\":\"\"}},\"marker\":{\"colorbar\":{\"outlinewidth\":0,\"ticks\":\"\"}},\"type\":\"scatter3d\"}],\"scattercarpet\":[{\"marker\":{\"colorbar\":{\"outlinewidth\":0,\"ticks\":\"\"}},\"type\":\"scattercarpet\"}],\"scattergeo\":[{\"marker\":{\"colorbar\":{\"outlinewidth\":0,\"ticks\":\"\"}},\"type\":\"scattergeo\"}],\"scattergl\":[{\"marker\":{\"line\":{\"color\":\"#283442\"}},\"type\":\"scattergl\"}],\"scattermapbox\":[{\"marker\":{\"colorbar\":{\"outlinewidth\":0,\"ticks\":\"\"}},\"type\":\"scattermapbox\"}],\"scatterpolargl\":[{\"marker\":{\"colorbar\":{\"outlinewidth\":0,\"ticks\":\"\"}},\"type\":\"scatterpolargl\"}],\"scatterpolar\":[{\"marker\":{\"colorbar\":{\"outlinewidth\":0,\"ticks\":\"\"}},\"type\":\"scatterpolar\"}],\"scatter\":[{\"marker\":{\"line\":{\"color\":\"#283442\"}},\"type\":\"scatter\"}],\"scatterternary\":[{\"marker\":{\"colorbar\":{\"outlinewidth\":0,\"ticks\":\"\"}},\"type\":\"scatterternary\"}],\"surface\":[{\"colorbar\":{\"outlinewidth\":0,\"ticks\":\"\"},\"colorscale\":[[0.0,\"#0d0887\"],[0.1111111111111111,\"#46039f\"],[0.2222222222222222,\"#7201a8\"],[0.3333333333333333,\"#9c179e\"],[0.4444444444444444,\"#bd3786\"],[0.5555555555555556,\"#d8576b\"],[0.6666666666666666,\"#ed7953\"],[0.7777777777777778,\"#fb9f3a\"],[0.8888888888888888,\"#fdca26\"],[1.0,\"#f0f921\"]],\"type\":\"surface\"}],\"table\":[{\"cells\":{\"fill\":{\"color\":\"#506784\"},\"line\":{\"color\":\"rgb(17,17,17)\"}},\"header\":{\"fill\":{\"color\":\"#2a3f5f\"},\"line\":{\"color\":\"rgb(17,17,17)\"}},\"type\":\"table\"}]},\"layout\":{\"annotationdefaults\":{\"arrowcolor\":\"#f2f5fa\",\"arrowhead\":0,\"arrowwidth\":1},\"autotypenumbers\":\"strict\",\"coloraxis\":{\"colorbar\":{\"outlinewidth\":0,\"ticks\":\"\"}},\"colorscale\":{\"diverging\":[[0,\"#8e0152\"],[0.1,\"#c51b7d\"],[0.2,\"#de77ae\"],[0.3,\"#f1b6da\"],[0.4,\"#fde0ef\"],[0.5,\"#f7f7f7\"],[0.6,\"#e6f5d0\"],[0.7,\"#b8e186\"],[0.8,\"#7fbc41\"],[0.9,\"#4d9221\"],[1,\"#276419\"]],\"sequential\":[[0.0,\"#0d0887\"],[0.1111111111111111,\"#46039f\"],[0.2222222222222222,\"#7201a8\"],[0.3333333333333333,\"#9c179e\"],[0.4444444444444444,\"#bd3786\"],[0.5555555555555556,\"#d8576b\"],[0.6666666666666666,\"#ed7953\"],[0.7777777777777778,\"#fb9f3a\"],[0.8888888888888888,\"#fdca26\"],[1.0,\"#f0f921\"]],\"sequentialminus\":[[0.0,\"#0d0887\"],[0.1111111111111111,\"#46039f\"],[0.2222222222222222,\"#7201a8\"],[0.3333333333333333,\"#9c179e\"],[0.4444444444444444,\"#bd3786\"],[0.5555555555555556,\"#d8576b\"],[0.6666666666666666,\"#ed7953\"],[0.7777777777777778,\"#fb9f3a\"],[0.8888888888888888,\"#fdca26\"],[1.0,\"#f0f921\"]]},\"colorway\":[\"#636efa\",\"#EF553B\",\"#00cc96\",\"#ab63fa\",\"#FFA15A\",\"#19d3f3\",\"#FF6692\",\"#B6E880\",\"#FF97FF\",\"#FECB52\"],\"font\":{\"color\":\"#f2f5fa\"},\"geo\":{\"bgcolor\":\"rgb(17,17,17)\",\"lakecolor\":\"rgb(17,17,17)\",\"landcolor\":\"rgb(17,17,17)\",\"showlakes\":true,\"showland\":true,\"subunitcolor\":\"#506784\"},\"hoverlabel\":{\"align\":\"left\"},\"hovermode\":\"closest\",\"mapbox\":{\"style\":\"dark\"},\"paper_bgcolor\":\"rgb(17,17,17)\",\"plot_bgcolor\":\"rgb(17,17,17)\",\"polar\":{\"angularaxis\":{\"gridcolor\":\"#506784\",\"linecolor\":\"#506784\",\"ticks\":\"\"},\"bgcolor\":\"rgb(17,17,17)\",\"radialaxis\":{\"gridcolor\":\"#506784\",\"linecolor\":\"#506784\",\"ticks\":\"\"}},\"scene\":{\"xaxis\":{\"backgroundcolor\":\"rgb(17,17,17)\",\"gridcolor\":\"#506784\",\"gridwidth\":2,\"linecolor\":\"#506784\",\"showbackground\":true,\"ticks\":\"\",\"zerolinecolor\":\"#C8D4E3\"},\"yaxis\":{\"backgroundcolor\":\"rgb(17,17,17)\",\"gridcolor\":\"#506784\",\"gridwidth\":2,\"linecolor\":\"#506784\",\"showbackground\":true,\"ticks\":\"\",\"zerolinecolor\":\"#C8D4E3\"},\"zaxis\":{\"backgroundcolor\":\"rgb(17,17,17)\",\"gridcolor\":\"#506784\",\"gridwidth\":2,\"linecolor\":\"#506784\",\"showbackground\":true,\"ticks\":\"\",\"zerolinecolor\":\"#C8D4E3\"}},\"shapedefaults\":{\"line\":{\"color\":\"#f2f5fa\"}},\"sliderdefaults\":{\"bgcolor\":\"#C8D4E3\",\"bordercolor\":\"rgb(17,17,17)\",\"borderwidth\":1,\"tickwidth\":0},\"ternary\":{\"aaxis\":{\"gridcolor\":\"#506784\",\"linecolor\":\"#506784\",\"ticks\":\"\"},\"baxis\":{\"gridcolor\":\"#506784\",\"linecolor\":\"#506784\",\"ticks\":\"\"},\"bgcolor\":\"rgb(17,17,17)\",\"caxis\":{\"gridcolor\":\"#506784\",\"linecolor\":\"#506784\",\"ticks\":\"\"}},\"title\":{\"x\":0.05},\"updatemenudefaults\":{\"bgcolor\":\"#506784\",\"borderwidth\":0},\"xaxis\":{\"automargin\":true,\"gridcolor\":\"#283442\",\"linecolor\":\"#506784\",\"ticks\":\"\",\"title\":{\"standoff\":15},\"zerolinecolor\":\"#283442\",\"zerolinewidth\":2},\"yaxis\":{\"automargin\":true,\"gridcolor\":\"#283442\",\"linecolor\":\"#506784\",\"ticks\":\"\",\"title\":{\"standoff\":15},\"zerolinecolor\":\"#283442\",\"zerolinewidth\":2}}},\"xaxis\":{\"anchor\":\"y\",\"domain\":[0.0,1.0],\"title\":{\"text\":\"Features\"},\"categoryorder\":\"array\",\"categoryarray\":[\"contact_with_covid_positive_patient\",\"fever\",\"cough\",\"head_ache\",\"sore_throat\",\"age_60_and_above\",\"shortness_of_breath\",\"abroad\",\"gender\"]},\"yaxis\":{\"anchor\":\"x\",\"domain\":[0.0,1.0],\"title\":{\"text\":\"Variable Importance Score\"}},\"legend\":{\"title\":{\"text\":\"Features\"},\"tracegroupgap\":0},\"margin\":{\"t\":60},\"barmode\":\"relative\"},                        {\"responsive\": true}                    ).then(function(){\n",
       "                            \n",
       "var gd = document.getElementById('84cb165e-1576-4652-aba5-0dc1d186454e');\n",
       "var x = new MutationObserver(function (mutations, observer) {{\n",
       "        var display = window.getComputedStyle(gd).display;\n",
       "        if (!display || display === 'none') {{\n",
       "            console.log([gd, 'removed!']);\n",
       "            Plotly.purge(gd);\n",
       "            observer.disconnect();\n",
       "        }}\n",
       "}});\n",
       "\n",
       "// Listen for the removal of the full notebook cells\n",
       "var notebookContainer = gd.closest('#notebook-container');\n",
       "if (notebookContainer) {{\n",
       "    x.observe(notebookContainer, {childList: true});\n",
       "}}\n",
       "\n",
       "// Listen for the clearing of the current output cell\n",
       "var outputEl = gd.closest('.output');\n",
       "if (outputEl) {{\n",
       "    x.observe(outputEl, {childList: true});\n",
       "}}\n",
       "\n",
       "                        })                };                });            </script>        </div>"
      ]
     },
     "metadata": {},
     "output_type": "display_data"
    }
   ],
   "source": [
    "# Checking For Variable Importance\n",
    "\n",
    "d2 = pd.DataFrame({'Features': list(X_train.columns), 'Variable Importance Score': list(np.around(rf.feature_importances_,3))})\n",
    "\n",
    "feature_importance(d2)"
   ]
  },
  {
   "cell_type": "markdown",
   "id": "10a65603",
   "metadata": {
    "papermill": {
     "duration": 0.071877,
     "end_time": "2022-05-31T07:49:49.287034",
     "exception": false,
     "start_time": "2022-05-31T07:49:49.215157",
     "status": "completed"
    },
    "tags": []
   },
   "source": [
    "### M3 - XGBoost using GridSearchCv"
   ]
  },
  {
   "cell_type": "code",
   "execution_count": 35,
   "id": "cce2e2a4",
   "metadata": {
    "execution": {
     "iopub.execute_input": "2022-05-31T07:49:49.446170Z",
     "iopub.status.busy": "2022-05-31T07:49:49.445144Z",
     "iopub.status.idle": "2022-05-31T08:27:55.435269Z",
     "shell.execute_reply": "2022-05-31T08:27:55.435888Z",
     "shell.execute_reply.started": "2022-05-31T07:15:53.916278Z"
    },
    "papermill": {
     "duration": 2286.074764,
     "end_time": "2022-05-31T08:27:55.436128",
     "exception": false,
     "start_time": "2022-05-31T07:49:49.361364",
     "status": "completed"
    },
    "tags": []
   },
   "outputs": [
    {
     "name": "stdout",
     "output_type": "stream",
     "text": [
      "Best Estimators:  XGBClassifier(base_score=0.5, booster='gbtree', colsample_bylevel=1,\n",
      "              colsample_bynode=1, colsample_bytree=1, enable_categorical=False,\n",
      "              eta=0.2, eval_metric='logloss', gamma=0.5, gpu_id=-1,\n",
      "              importance_type=None, interaction_constraints='',\n",
      "              learning_rate=0.200000003, max_delta_step=0, max_depth=5,\n",
      "              min_child_weight=1, missing=nan, monotone_constraints='()',\n",
      "              n_estimators=200, n_jobs=4, num_parallel_tree=1, predictor='auto',\n",
      "              random_state=42, reg_alpha=0, reg_lambda=1, scale_pos_weight=1,\n",
      "              subsample=1, tree_method='exact', use_label_encoder=False,\n",
      "              validate_parameters=1, ...)\n",
      "Best Parameters:  {'eta': 0.2, 'gamma': 0.5, 'max_depth': 5, 'n_estimators': 200}\n",
      "Accuracy:  0.977304514298751\n"
     ]
    }
   ],
   "source": [
    "grid3 = {'gamma': [0.5, 1, 2], 'eta': [0.1, 0.2], 'n_estimators': [200, 300], 'max_depth': [5, 7, 8]}\n",
    "\n",
    "xgb = XGBClassifier(objective = 'binary:logistic', eval_metric = \"logloss\", random_state = 42, use_label_encoder = False)\n",
    "xgb_cv = GridSearchCV(xgb, grid3, cv = 3)\n",
    "xgb_cv.fit(X_train, Y_train)\n",
    "\n",
    "print(\"Best Estimators: \", xgb_cv.best_estimator_)\n",
    "print(\"Best Parameters: \", xgb_cv.best_params_)\n",
    "print(\"Accuracy: \", xgb_cv.best_score_)"
   ]
  },
  {
   "cell_type": "code",
   "execution_count": 36,
   "id": "c5779cd2",
   "metadata": {
    "execution": {
     "iopub.execute_input": "2022-05-31T08:27:55.588008Z",
     "iopub.status.busy": "2022-05-31T08:27:55.587297Z",
     "iopub.status.idle": "2022-05-31T08:28:16.313863Z",
     "shell.execute_reply": "2022-05-31T08:28:16.313155Z",
     "shell.execute_reply.started": "2022-05-31T07:15:53.922867Z"
    },
    "papermill": {
     "duration": 20.805411,
     "end_time": "2022-05-31T08:28:16.314039",
     "exception": false,
     "start_time": "2022-05-31T08:27:55.508628",
     "status": "completed"
    },
    "tags": []
   },
   "outputs": [
    {
     "name": "stdout",
     "output_type": "stream",
     "text": [
      "\n",
      "-----------------------------XgBoost Classifier-----------------------------\n",
      "\n",
      "Classification Report for Train Data\n",
      "\n",
      "              precision    recall  f1-score   support\n",
      "\n",
      "           0       1.00      0.96      0.98    188938\n",
      "           1       0.94      1.00      0.97    113501\n",
      "\n",
      "    accuracy                           0.98    302439\n",
      "   macro avg       0.97      0.98      0.98    302439\n",
      "weighted avg       0.98      0.98      0.98    302439\n",
      "\n",
      "--------------------------------------------------------------------------\n",
      "Recall on Train Data:  0.9994\n",
      "Specificity on Train Data:  0.9641\n",
      "Accuracy on Train Data:  0.9773\n",
      "Precision on Train Data:  0.9435\n",
      "F1 Score on Train Data:  0.9707\n",
      "--------------------------------------------------------------------------\n",
      "\n",
      "Classification Report for Test Data\n",
      "\n",
      "              precision    recall  f1-score   support\n",
      "\n",
      "           0       1.00      0.96      0.98     81097\n",
      "           1       0.94      1.00      0.97     48520\n",
      "\n",
      "    accuracy                           0.98    129617\n",
      "   macro avg       0.97      0.98      0.98    129617\n",
      "weighted avg       0.98      0.98      0.98    129617\n",
      "\n",
      "--------------------------------------------------------------------------\n",
      "Recall on Test Data:  0.9992\n",
      "Specificity on Test Data:  0.9644\n",
      "Accuracy on Test Data:  0.9775\n",
      "Precision on Test Data:  0.9439\n",
      "F1 Score Test Data:  0.9707\n",
      "--------------------------------------------------------------------------\n"
     ]
    },
    {
     "data": {
      "image/png": "[encoded data removed]",
      "text/plain": [
       "<Figure size 432x288 with 2 Axes>"
      ]
     },
     "metadata": {
      "needs_background": "light"
     },
     "output_type": "display_data"
    },
    {
     "data": {
      "image/png": "[encoded data removed]",
      "text/plain": [
       "<Figure size 432x288 with 2 Axes>"
      ]
     },
     "metadata": {
      "needs_background": "light"
     },
     "output_type": "display_data"
    }
   ],
   "source": [
    "# Applying Best Parameters Suggested by GridSearch\n",
    "\n",
    "xgb = XGBClassifier(eta = 0.2, gamma = 0.5, max_depth = 5, \n",
    "                    n_estimators = 200, objective = 'binary:logistic', \n",
    "                    eval_metric = \"logloss\", use_label_encoder = False, random_state = 42)\n",
    "\n",
    "xgb.fit(X_train ,Y_train)\n",
    "\n",
    "xgb_yp_train = xgb.predict(X_train)\n",
    "xgb_yp_test = xgb.predict(X_test)\n",
    "\n",
    "# Model Evaluation\n",
    "\n",
    "evaluation_parametrics(\"XgBoost Classifier\", Y_train, xgb_yp_train, Y_test, xgb_yp_test)"
   ]
  },
  {
   "cell_type": "code",
   "execution_count": 37,
   "id": "b026da2d",
   "metadata": {
    "execution": {
     "iopub.execute_input": "2022-05-31T08:28:16.469121Z",
     "iopub.status.busy": "2022-05-31T08:28:16.468450Z",
     "iopub.status.idle": "2022-05-31T08:28:16.571558Z",
     "shell.execute_reply": "2022-05-31T08:28:16.570917Z",
     "shell.execute_reply.started": "2022-05-31T07:16:00.942687Z"
    },
    "papermill": {
     "duration": 0.182289,
     "end_time": "2022-05-31T08:28:16.571736",
     "exception": false,
     "start_time": "2022-05-31T08:28:16.389447",
     "status": "completed"
    },
    "tags": []
   },
   "outputs": [
    {
     "data": {
      "text/html": [
       "<div>                            <div id=\"462ef5c2-3d96-4686-bfb7-0a01d9d906e6\" class=\"plotly-graph-div\" style=\"height:525px; width:100%;\"></div>            <script type=\"text/javascript\">                require([\"plotly\"], function(Plotly) {                    window.PLOTLYENV=window.PLOTLYENV || {};                                    if (document.getElementById(\"462ef5c2-3d96-4686-bfb7-0a01d9d906e6\")) {                    Plotly.newPlot(                        \"462ef5c2-3d96-4686-bfb7-0a01d9d906e6\",                        [{\"alignmentgroup\":\"True\",\"hovertemplate\":\"Features=%{x}<br>Variable Importance Score=%{y}<extra></extra>\",\"legendgroup\":\"contact_with_covid_positive_patient\",\"marker\":{\"color\":\"#f0f921\",\"pattern\":{\"shape\":\"\"}},\"name\":\"contact_with_covid_positive_patient\",\"offsetgroup\":\"contact_with_covid_positive_patient\",\"orientation\":\"v\",\"showlegend\":true,\"textposition\":\"auto\",\"x\":[\"contact_with_covid_positive_patient\"],\"xaxis\":\"x\",\"y\":[0.626],\"yaxis\":\"y\",\"type\":\"bar\"},{\"alignmentgroup\":\"True\",\"hovertemplate\":\"Features=%{x}<br>Variable Importance Score=%{y}<extra></extra>\",\"legendgroup\":\"fever\",\"marker\":{\"color\":\"#fdca26\",\"pattern\":{\"shape\":\"\"}},\"name\":\"fever\",\"offsetgroup\":\"fever\",\"orientation\":\"v\",\"showlegend\":true,\"textposition\":\"auto\",\"x\":[\"fever\"],\"xaxis\":\"x\",\"y\":[0.235],\"yaxis\":\"y\",\"type\":\"bar\"},{\"alignmentgroup\":\"True\",\"hovertemplate\":\"Features=%{x}<br>Variable Importance Score=%{y}<extra></extra>\",\"legendgroup\":\"head_ache\",\"marker\":{\"color\":\"#fb9f3a\",\"pattern\":{\"shape\":\"\"}},\"name\":\"head_ache\",\"offsetgroup\":\"head_ache\",\"orientation\":\"v\",\"showlegend\":true,\"textposition\":\"auto\",\"x\":[\"head_ache\"],\"xaxis\":\"x\",\"y\":[0.041],\"yaxis\":\"y\",\"type\":\"bar\"},{\"alignmentgroup\":\"True\",\"hovertemplate\":\"Features=%{x}<br>Variable Importance Score=%{y}<extra></extra>\",\"legendgroup\":\"cough\",\"marker\":{\"color\":\"#ed7953\",\"pattern\":{\"shape\":\"\"}},\"name\":\"cough\",\"offsetgroup\":\"cough\",\"orientation\":\"v\",\"showlegend\":true,\"textposition\":\"auto\",\"x\":[\"cough\"],\"xaxis\":\"x\",\"y\":[0.036],\"yaxis\":\"y\",\"type\":\"bar\"},{\"alignmentgroup\":\"True\",\"hovertemplate\":\"Features=%{x}<br>Variable Importance Score=%{y}<extra></extra>\",\"legendgroup\":\"age_60_and_above\",\"marker\":{\"color\":\"#d8576b\",\"pattern\":{\"shape\":\"\"}},\"name\":\"age_60_and_above\",\"offsetgroup\":\"age_60_and_above\",\"orientation\":\"v\",\"showlegend\":true,\"textposition\":\"auto\",\"x\":[\"age_60_and_above\"],\"xaxis\":\"x\",\"y\":[0.026],\"yaxis\":\"y\",\"type\":\"bar\"},{\"alignmentgroup\":\"True\",\"hovertemplate\":\"Features=%{x}<br>Variable Importance Score=%{y}<extra></extra>\",\"legendgroup\":\"sore_throat\",\"marker\":{\"color\":\"#bd3786\",\"pattern\":{\"shape\":\"\"}},\"name\":\"sore_throat\",\"offsetgroup\":\"sore_throat\",\"orientation\":\"v\",\"showlegend\":true,\"textposition\":\"auto\",\"x\":[\"sore_throat\"],\"xaxis\":\"x\",\"y\":[0.016],\"yaxis\":\"y\",\"type\":\"bar\"},{\"alignmentgroup\":\"True\",\"hovertemplate\":\"Features=%{x}<br>Variable Importance Score=%{y}<extra></extra>\",\"legendgroup\":\"shortness_of_breath\",\"marker\":{\"color\":\"#9c179e\",\"pattern\":{\"shape\":\"\"}},\"name\":\"shortness_of_breath\",\"offsetgroup\":\"shortness_of_breath\",\"orientation\":\"v\",\"showlegend\":true,\"textposition\":\"auto\",\"x\":[\"shortness_of_breath\"],\"xaxis\":\"x\",\"y\":[0.016],\"yaxis\":\"y\",\"type\":\"bar\"},{\"alignmentgroup\":\"True\",\"hovertemplate\":\"Features=%{x}<br>Variable Importance Score=%{y}<extra></extra>\",\"legendgroup\":\"abroad\",\"marker\":{\"color\":\"#7201a8\",\"pattern\":{\"shape\":\"\"}},\"name\":\"abroad\",\"offsetgroup\":\"abroad\",\"orientation\":\"v\",\"showlegend\":true,\"textposition\":\"auto\",\"x\":[\"abroad\"],\"xaxis\":\"x\",\"y\":[0.003],\"yaxis\":\"y\",\"type\":\"bar\"},{\"alignmentgroup\":\"True\",\"hovertemplate\":\"Features=%{x}<br>Variable Importance Score=%{y}<extra></extra>\",\"legendgroup\":\"gender\",\"marker\":{\"color\":\"#46039f\",\"pattern\":{\"shape\":\"\"}},\"name\":\"gender\",\"offsetgroup\":\"gender\",\"orientation\":\"v\",\"showlegend\":true,\"textposition\":\"auto\",\"x\":[\"gender\"],\"xaxis\":\"x\",\"y\":[0.001],\"yaxis\":\"y\",\"type\":\"bar\"}],                        {\"template\":{\"data\":{\"barpolar\":[{\"marker\":{\"line\":{\"color\":\"rgb(17,17,17)\",\"width\":0.5},\"pattern\":{\"fillmode\":\"overlay\",\"size\":10,\"solidity\":0.2}},\"type\":\"barpolar\"}],\"bar\":[{\"error_x\":{\"color\":\"#f2f5fa\"},\"error_y\":{\"color\":\"#f2f5fa\"},\"marker\":{\"line\":{\"color\":\"rgb(17,17,17)\",\"width\":0.5},\"pattern\":{\"fillmode\":\"overlay\",\"size\":10,\"solidity\":0.2}},\"type\":\"bar\"}],\"carpet\":[{\"aaxis\":{\"endlinecolor\":\"#A2B1C6\",\"gridcolor\":\"#506784\",\"linecolor\":\"#506784\",\"minorgridcolor\":\"#506784\",\"startlinecolor\":\"#A2B1C6\"},\"baxis\":{\"endlinecolor\":\"#A2B1C6\",\"gridcolor\":\"#506784\",\"linecolor\":\"#506784\",\"minorgridcolor\":\"#506784\",\"startlinecolor\":\"#A2B1C6\"},\"type\":\"carpet\"}],\"choropleth\":[{\"colorbar\":{\"outlinewidth\":0,\"ticks\":\"\"},\"type\":\"choropleth\"}],\"contourcarpet\":[{\"colorbar\":{\"outlinewidth\":0,\"ticks\":\"\"},\"type\":\"contourcarpet\"}],\"contour\":[{\"colorbar\":{\"outlinewidth\":0,\"ticks\":\"\"},\"colorscale\":[[0.0,\"#0d0887\"],[0.1111111111111111,\"#46039f\"],[0.2222222222222222,\"#7201a8\"],[0.3333333333333333,\"#9c179e\"],[0.4444444444444444,\"#bd3786\"],[0.5555555555555556,\"#d8576b\"],[0.6666666666666666,\"#ed7953\"],[0.7777777777777778,\"#fb9f3a\"],[0.8888888888888888,\"#fdca26\"],[1.0,\"#f0f921\"]],\"type\":\"contour\"}],\"heatmapgl\":[{\"colorbar\":{\"outlinewidth\":0,\"ticks\":\"\"},\"colorscale\":[[0.0,\"#0d0887\"],[0.1111111111111111,\"#46039f\"],[0.2222222222222222,\"#7201a8\"],[0.3333333333333333,\"#9c179e\"],[0.4444444444444444,\"#bd3786\"],[0.5555555555555556,\"#d8576b\"],[0.6666666666666666,\"#ed7953\"],[0.7777777777777778,\"#fb9f3a\"],[0.8888888888888888,\"#fdca26\"],[1.0,\"#f0f921\"]],\"type\":\"heatmapgl\"}],\"heatmap\":[{\"colorbar\":{\"outlinewidth\":0,\"ticks\":\"\"},\"colorscale\":[[0.0,\"#0d0887\"],[0.1111111111111111,\"#46039f\"],[0.2222222222222222,\"#7201a8\"],[0.3333333333333333,\"#9c179e\"],[0.4444444444444444,\"#bd3786\"],[0.5555555555555556,\"#d8576b\"],[0.6666666666666666,\"#ed7953\"],[0.7777777777777778,\"#fb9f3a\"],[0.8888888888888888,\"#fdca26\"],[1.0,\"#f0f921\"]],\"type\":\"heatmap\"}],\"histogram2dcontour\":[{\"colorbar\":{\"outlinewidth\":0,\"ticks\":\"\"},\"colorscale\":[[0.0,\"#0d0887\"],[0.1111111111111111,\"#46039f\"],[0.2222222222222222,\"#7201a8\"],[0.3333333333333333,\"#9c179e\"],[0.4444444444444444,\"#bd3786\"],[0.5555555555555556,\"#d8576b\"],[0.6666666666666666,\"#ed7953\"],[0.7777777777777778,\"#fb9f3a\"],[0.8888888888888888,\"#fdca26\"],[1.0,\"#f0f921\"]],\"type\":\"histogram2dcontour\"}],\"histogram2d\":[{\"colorbar\":{\"outlinewidth\":0,\"ticks\":\"\"},\"colorscale\":[[0.0,\"#0d0887\"],[0.1111111111111111,\"#46039f\"],[0.2222222222222222,\"#7201a8\"],[0.3333333333333333,\"#9c179e\"],[0.4444444444444444,\"#bd3786\"],[0.5555555555555556,\"#d8576b\"],[0.6666666666666666,\"#ed7953\"],[0.7777777777777778,\"#fb9f3a\"],[0.8888888888888888,\"#fdca26\"],[1.0,\"#f0f921\"]],\"type\":\"histogram2d\"}],\"histogram\":[{\"marker\":{\"pattern\":{\"fillmode\":\"overlay\",\"size\":10,\"solidity\":0.2}},\"type\":\"histogram\"}],\"mesh3d\":[{\"colorbar\":{\"outlinewidth\":0,\"ticks\":\"\"},\"type\":\"mesh3d\"}],\"parcoords\":[{\"line\":{\"colorbar\":{\"outlinewidth\":0,\"ticks\":\"\"}},\"type\":\"parcoords\"}],\"pie\":[{\"automargin\":true,\"type\":\"pie\"}],\"scatter3d\":[{\"line\":{\"colorbar\":{\"outlinewidth\":0,\"ticks\":\"\"}},\"marker\":{\"colorbar\":{\"outlinewidth\":0,\"ticks\":\"\"}},\"type\":\"scatter3d\"}],\"scattercarpet\":[{\"marker\":{\"colorbar\":{\"outlinewidth\":0,\"ticks\":\"\"}},\"type\":\"scattercarpet\"}],\"scattergeo\":[{\"marker\":{\"colorbar\":{\"outlinewidth\":0,\"ticks\":\"\"}},\"type\":\"scattergeo\"}],\"scattergl\":[{\"marker\":{\"line\":{\"color\":\"#283442\"}},\"type\":\"scattergl\"}],\"scattermapbox\":[{\"marker\":{\"colorbar\":{\"outlinewidth\":0,\"ticks\":\"\"}},\"type\":\"scattermapbox\"}],\"scatterpolargl\":[{\"marker\":{\"colorbar\":{\"outlinewidth\":0,\"ticks\":\"\"}},\"type\":\"scatterpolargl\"}],\"scatterpolar\":[{\"marker\":{\"colorbar\":{\"outlinewidth\":0,\"ticks\":\"\"}},\"type\":\"scatterpolar\"}],\"scatter\":[{\"marker\":{\"line\":{\"color\":\"#283442\"}},\"type\":\"scatter\"}],\"scatterternary\":[{\"marker\":{\"colorbar\":{\"outlinewidth\":0,\"ticks\":\"\"}},\"type\":\"scatterternary\"}],\"surface\":[{\"colorbar\":{\"outlinewidth\":0,\"ticks\":\"\"},\"colorscale\":[[0.0,\"#0d0887\"],[0.1111111111111111,\"#46039f\"],[0.2222222222222222,\"#7201a8\"],[0.3333333333333333,\"#9c179e\"],[0.4444444444444444,\"#bd3786\"],[0.5555555555555556,\"#d8576b\"],[0.6666666666666666,\"#ed7953\"],[0.7777777777777778,\"#fb9f3a\"],[0.8888888888888888,\"#fdca26\"],[1.0,\"#f0f921\"]],\"type\":\"surface\"}],\"table\":[{\"cells\":{\"fill\":{\"color\":\"#506784\"},\"line\":{\"color\":\"rgb(17,17,17)\"}},\"header\":{\"fill\":{\"color\":\"#2a3f5f\"},\"line\":{\"color\":\"rgb(17,17,17)\"}},\"type\":\"table\"}]},\"layout\":{\"annotationdefaults\":{\"arrowcolor\":\"#f2f5fa\",\"arrowhead\":0,\"arrowwidth\":1},\"autotypenumbers\":\"strict\",\"coloraxis\":{\"colorbar\":{\"outlinewidth\":0,\"ticks\":\"\"}},\"colorscale\":{\"diverging\":[[0,\"#8e0152\"],[0.1,\"#c51b7d\"],[0.2,\"#de77ae\"],[0.3,\"#f1b6da\"],[0.4,\"#fde0ef\"],[0.5,\"#f7f7f7\"],[0.6,\"#e6f5d0\"],[0.7,\"#b8e186\"],[0.8,\"#7fbc41\"],[0.9,\"#4d9221\"],[1,\"#276419\"]],\"sequential\":[[0.0,\"#0d0887\"],[0.1111111111111111,\"#46039f\"],[0.2222222222222222,\"#7201a8\"],[0.3333333333333333,\"#9c179e\"],[0.4444444444444444,\"#bd3786\"],[0.5555555555555556,\"#d8576b\"],[0.6666666666666666,\"#ed7953\"],[0.7777777777777778,\"#fb9f3a\"],[0.8888888888888888,\"#fdca26\"],[1.0,\"#f0f921\"]],\"sequentialminus\":[[0.0,\"#0d0887\"],[0.1111111111111111,\"#46039f\"],[0.2222222222222222,\"#7201a8\"],[0.3333333333333333,\"#9c179e\"],[0.4444444444444444,\"#bd3786\"],[0.5555555555555556,\"#d8576b\"],[0.6666666666666666,\"#ed7953\"],[0.7777777777777778,\"#fb9f3a\"],[0.8888888888888888,\"#fdca26\"],[1.0,\"#f0f921\"]]},\"colorway\":[\"#636efa\",\"#EF553B\",\"#00cc96\",\"#ab63fa\",\"#FFA15A\",\"#19d3f3\",\"#FF6692\",\"#B6E880\",\"#FF97FF\",\"#FECB52\"],\"font\":{\"color\":\"#f2f5fa\"},\"geo\":{\"bgcolor\":\"rgb(17,17,17)\",\"lakecolor\":\"rgb(17,17,17)\",\"landcolor\":\"rgb(17,17,17)\",\"showlakes\":true,\"showland\":true,\"subunitcolor\":\"#506784\"},\"hoverlabel\":{\"align\":\"left\"},\"hovermode\":\"closest\",\"mapbox\":{\"style\":\"dark\"},\"paper_bgcolor\":\"rgb(17,17,17)\",\"plot_bgcolor\":\"rgb(17,17,17)\",\"polar\":{\"angularaxis\":{\"gridcolor\":\"#506784\",\"linecolor\":\"#506784\",\"ticks\":\"\"},\"bgcolor\":\"rgb(17,17,17)\",\"radialaxis\":{\"gridcolor\":\"#506784\",\"linecolor\":\"#506784\",\"ticks\":\"\"}},\"scene\":{\"xaxis\":{\"backgroundcolor\":\"rgb(17,17,17)\",\"gridcolor\":\"#506784\",\"gridwidth\":2,\"linecolor\":\"#506784\",\"showbackground\":true,\"ticks\":\"\",\"zerolinecolor\":\"#C8D4E3\"},\"yaxis\":{\"backgroundcolor\":\"rgb(17,17,17)\",\"gridcolor\":\"#506784\",\"gridwidth\":2,\"linecolor\":\"#506784\",\"showbackground\":true,\"ticks\":\"\",\"zerolinecolor\":\"#C8D4E3\"},\"zaxis\":{\"backgroundcolor\":\"rgb(17,17,17)\",\"gridcolor\":\"#506784\",\"gridwidth\":2,\"linecolor\":\"#506784\",\"showbackground\":true,\"ticks\":\"\",\"zerolinecolor\":\"#C8D4E3\"}},\"shapedefaults\":{\"line\":{\"color\":\"#f2f5fa\"}},\"sliderdefaults\":{\"bgcolor\":\"#C8D4E3\",\"bordercolor\":\"rgb(17,17,17)\",\"borderwidth\":1,\"tickwidth\":0},\"ternary\":{\"aaxis\":{\"gridcolor\":\"#506784\",\"linecolor\":\"#506784\",\"ticks\":\"\"},\"baxis\":{\"gridcolor\":\"#506784\",\"linecolor\":\"#506784\",\"ticks\":\"\"},\"bgcolor\":\"rgb(17,17,17)\",\"caxis\":{\"gridcolor\":\"#506784\",\"linecolor\":\"#506784\",\"ticks\":\"\"}},\"title\":{\"x\":0.05},\"updatemenudefaults\":{\"bgcolor\":\"#506784\",\"borderwidth\":0},\"xaxis\":{\"automargin\":true,\"gridcolor\":\"#283442\",\"linecolor\":\"#506784\",\"ticks\":\"\",\"title\":{\"standoff\":15},\"zerolinecolor\":\"#283442\",\"zerolinewidth\":2},\"yaxis\":{\"automargin\":true,\"gridcolor\":\"#283442\",\"linecolor\":\"#506784\",\"ticks\":\"\",\"title\":{\"standoff\":15},\"zerolinecolor\":\"#283442\",\"zerolinewidth\":2}}},\"xaxis\":{\"anchor\":\"y\",\"domain\":[0.0,1.0],\"title\":{\"text\":\"Features\"},\"categoryorder\":\"array\",\"categoryarray\":[\"contact_with_covid_positive_patient\",\"fever\",\"head_ache\",\"cough\",\"age_60_and_above\",\"sore_throat\",\"shortness_of_breath\",\"abroad\",\"gender\"]},\"yaxis\":{\"anchor\":\"x\",\"domain\":[0.0,1.0],\"title\":{\"text\":\"Variable Importance Score\"}},\"legend\":{\"title\":{\"text\":\"Features\"},\"tracegroupgap\":0},\"margin\":{\"t\":60},\"barmode\":\"relative\"},                        {\"responsive\": true}                    ).then(function(){\n",
       "                            \n",
       "var gd = document.getElementById('462ef5c2-3d96-4686-bfb7-0a01d9d906e6');\n",
       "var x = new MutationObserver(function (mutations, observer) {{\n",
       "        var display = window.getComputedStyle(gd).display;\n",
       "        if (!display || display === 'none') {{\n",
       "            console.log([gd, 'removed!']);\n",
       "            Plotly.purge(gd);\n",
       "            observer.disconnect();\n",
       "        }}\n",
       "}});\n",
       "\n",
       "// Listen for the removal of the full notebook cells\n",
       "var notebookContainer = gd.closest('#notebook-container');\n",
       "if (notebookContainer) {{\n",
       "    x.observe(notebookContainer, {childList: true});\n",
       "}}\n",
       "\n",
       "// Listen for the clearing of the current output cell\n",
       "var outputEl = gd.closest('.output');\n",
       "if (outputEl) {{\n",
       "    x.observe(outputEl, {childList: true});\n",
       "}}\n",
       "\n",
       "                        })                };                });            </script>        </div>"
      ]
     },
     "metadata": {},
     "output_type": "display_data"
    }
   ],
   "source": [
    "# Checking For Variable Importance\n",
    "\n",
    "d3 = pd.DataFrame({'Features': list(X_train.columns), 'Variable Importance Score': list(np.around(xgb.feature_importances_,3))})\n",
    "\n",
    "feature_importance(d3)"
   ]
  },
  {
   "cell_type": "markdown",
   "id": "1a91742d",
   "metadata": {
    "papermill": {
     "duration": 0.077422,
     "end_time": "2022-05-31T08:28:16.727639",
     "exception": false,
     "start_time": "2022-05-31T08:28:16.650217",
     "status": "completed"
    },
    "tags": []
   },
   "source": [
    "# Conclusion"
   ]
  },
  {
   "cell_type": "markdown",
   "id": "cc3887e6",
   "metadata": {
    "papermill": {
     "duration": 0.078386,
     "end_time": "2022-05-31T08:28:16.881935",
     "exception": false,
     "start_time": "2022-05-31T08:28:16.803549",
     "status": "completed"
    },
    "tags": []
   },
   "source": [
    "> #### 1. Data Extraction - Converted the data from Israel Language to English.\n",
    "\n",
    "> #### 2. Data Preprocessing - Label, One Hot Encoding & Eliminated ambigious records using risk coeficient.\n",
    "\n",
    "> #### 3. Exploratory Data Analysis - Used Tableau & Plotly.\n",
    "\n",
    "> #### 4. Feature Selection - Applied Chi Square test. All features were classified as important.\n",
    "\n",
    "> #### 5. Data Modeling - Undersampling Majority Class & 70-30 split as Train - Test Split. Applied GridSearchCv for all 3 models.  \n",
    "\n",
    "> #### 6. Model Evaluation - Calculated all the metrics using Confusion Matrix.\n",
    "\n",
    "> ![](https://raw.githubusercontent.com/Atharv-Chaudhari/Project-Covid-NLP/main/Project%20Covid%20Images/Models%20Output.JPG)"
   ]
  },
  {
   "cell_type": "markdown",
   "id": "6b510e0e",
   "metadata": {
    "papermill": {
     "duration": 0.079731,
     "end_time": "2022-05-31T08:28:17.037339",
     "exception": false,
     "start_time": "2022-05-31T08:28:16.957608",
     "status": "completed"
    },
    "tags": []
   },
   "source": [
    "# Saving all the models"
   ]
  },
  {
   "cell_type": "code",
   "execution_count": 38,
   "id": "755662fe",
   "metadata": {
    "execution": {
     "iopub.execute_input": "2022-05-31T08:28:17.200086Z",
     "iopub.status.busy": "2022-05-31T08:28:17.199478Z",
     "iopub.status.idle": "2022-05-31T08:28:17.263983Z",
     "shell.execute_reply": "2022-05-31T08:28:17.263427Z",
     "shell.execute_reply.started": "2022-05-31T07:16:01.031633Z"
    },
    "papermill": {
     "duration": 0.151353,
     "end_time": "2022-05-31T08:28:17.264164",
     "exception": false,
     "start_time": "2022-05-31T08:28:17.112811",
     "status": "completed"
    },
    "tags": []
   },
   "outputs": [],
   "source": [
    "pickle.dump(lr, open('lr_model.sav', 'wb'))\n",
    "pickle.dump(rf, open('rf_model.sav', 'wb'))\n",
    "pickle.dump(xgb, open('xgb_model.sav', 'wb'))"
   ]
  },
  {
   "cell_type": "markdown",
   "id": "475d1335",
   "metadata": {
    "papermill": {
     "duration": 0.075736,
     "end_time": "2022-05-31T08:28:17.416483",
     "exception": false,
     "start_time": "2022-05-31T08:28:17.340747",
     "status": "completed"
    },
    "tags": []
   },
   "source": [
    "# Do upvote if you find this Notebook useful... 😃 "
   ]
  }
 ],
 "metadata": {
  "kernelspec": {
   "display_name": "Python 3 (ipykernel)",
   "language": "python",
   "name": "python3"
  },
  "language_info": {
   "codemirror_mode": {
    "name": "ipython",
    "version": 3
   },
   "file_extension": ".py",
   "mimetype": "text/x-python",
   "name": "python",
   "nbconvert_exporter": "python",
   "pygments_lexer": "ipython3",
   "version": "3.9.12"
  },
  "papermill": {
   "default_parameters": {},
   "duration": 3191.348852,
   "end_time": "2022-05-31T08:28:19.016005",
   "environment_variables": {},
   "exception": null,
   "input_path": "__notebook__.ipynb",
   "output_path": "__notebook__.ipynb",
   "parameters": {},
   "start_time": "2022-05-31T07:35:07.667153",
   "version": "2.3.3"
  }
 },
 "nbformat": 4,
 "nbformat_minor": 5
}
