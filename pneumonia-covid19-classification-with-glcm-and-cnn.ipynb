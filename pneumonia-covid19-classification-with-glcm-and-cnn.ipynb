{
 "cells": [
  {
   "cell_type": "markdown",
   "id": "606163f2",
   "metadata": {
    "papermill": {
     "duration": 0.043028,
     "end_time": "2021-10-01T05:59:48.977011",
     "exception": false,
     "start_time": "2021-10-01T05:59:48.933983",
     "status": "completed"
    },
    "tags": []
   },
   "source": [
    "# Importing Dependencies\n",
    "We will be using Tensorflow for the network, and Scikit-learn for the GLCM computation."
   ]
  },
  {
   "cell_type": "code",
   "execution_count": 1,
   "id": "79025c98",
   "metadata": {
    "_cell_guid": "b1076dfc-b9ad-4769-8c92-a6c4dae69d19",
    "_uuid": "8f2839f25d086af736a60e9eeb907d3b93b6e0e5",
    "execution": {
     "iopub.execute_input": "2021-10-01T05:59:49.148238Z",
     "iopub.status.busy": "2021-10-01T05:59:49.144937Z",
     "iopub.status.idle": "2021-10-01T05:59:56.660501Z",
     "shell.execute_reply": "2021-10-01T05:59:56.661163Z",
     "shell.execute_reply.started": "2021-09-29T05:50:54.344496Z"
    },
    "papermill": {
     "duration": 7.640819,
     "end_time": "2021-10-01T05:59:56.661470",
     "exception": false,
     "start_time": "2021-10-01T05:59:49.020651",
     "status": "completed"
    },
    "tags": []
   },
   "outputs": [
    {
     "name": "stderr",
     "output_type": "stream",
     "text": [
      "2021-10-01 05:59:49.959491: I tensorflow/stream_executor/platform/default/dso_loader.cc:49] Successfully opened dynamic library libcudart.so.11.0\n"
     ]
    }
   ],
   "source": [
    "import os\n",
    "import glob\n",
    "import numpy as np\n",
    "import pandas as pd \n",
    "import matplotlib.pyplot as plt\n",
    "import cv2\n",
    "\n",
    "import tensorflow as tf\n",
    "import tensorflow.keras as keras\n",
    "from tensorflow.keras.preprocessing.image import ImageDataGenerator\n",
    "from tensorflow.keras.utils import to_categorical\n",
    "from tensorflow.keras.layers import Dense, Input, Dropout, concatenate\n",
    "from tensorflow.keras.models import Model\n",
    "from tensorflow.keras.optimizers import Adam\n",
    "from tensorflow.keras.utils import plot_model\n",
    "from tensorflow.keras.callbacks import ReduceLROnPlateau\n",
    "\n",
    "from skimage.feature import greycomatrix, greycoprops\n",
    "from sklearn.metrics import confusion_matrix, classification_report\n",
    "from sklearn.model_selection import train_test_split"
   ]
  },
  {
   "cell_type": "code",
   "execution_count": 2,
   "id": "2d8589e9",
   "metadata": {
    "execution": {
     "iopub.execute_input": "2021-10-01T05:59:56.755766Z",
     "iopub.status.busy": "2021-10-01T05:59:56.754734Z",
     "iopub.status.idle": "2021-10-01T05:59:56.757414Z",
     "shell.execute_reply": "2021-10-01T05:59:56.757964Z",
     "shell.execute_reply.started": "2021-09-29T05:50:54.529133Z"
    },
    "papermill": {
     "duration": 0.051727,
     "end_time": "2021-10-01T05:59:56.758117",
     "exception": false,
     "start_time": "2021-10-01T05:59:56.706390",
     "status": "completed"
    },
    "tags": []
   },
   "outputs": [],
   "source": [
    "train_dir = 'C:/Users/Ashvini Alashetty/input/chest-xray-covid19-pneumonia/Data/train/*'\n",
    "test_dir = 'C:/Users/Ashvini Alashetty/input/chest-xray-covid19-pneumonia/Data/test/*'\n",
    "train2_covid_dir = 'C:/Users/Ashvini Alashetty/covid19-radiography-database/COVID-19_Radiography_Dataset/COVID'"
   ]
  },
  {
   "cell_type": "code",
   "execution_count": 3,
   "id": "1e19a71b",
   "metadata": {
    "execution": {
     "iopub.execute_input": "2021-10-01T05:59:56.850804Z",
     "iopub.status.busy": "2021-10-01T05:59:56.849654Z",
     "iopub.status.idle": "2021-10-01T05:59:56.852350Z",
     "shell.execute_reply": "2021-10-01T05:59:56.852852Z",
     "shell.execute_reply.started": "2021-09-29T05:50:54.930803Z"
    },
    "papermill": {
     "duration": 0.051167,
     "end_time": "2021-10-01T05:59:56.853018",
     "exception": false,
     "start_time": "2021-10-01T05:59:56.801851",
     "status": "completed"
    },
    "tags": []
   },
   "outputs": [],
   "source": [
    "SIZE = 140\n",
    "BATCH_SIZE = 64\n",
    "TARGET_SIZE = (SIZE,SIZE)\n",
    "EPOCH_NUM = 140"
   ]
  },
  {
   "cell_type": "code",
   "execution_count": 4,
   "id": "6f891b3a",
   "metadata": {
    "execution": {
     "iopub.execute_input": "2021-10-01T05:59:56.946585Z",
     "iopub.status.busy": "2021-10-01T05:59:56.945462Z",
     "iopub.status.idle": "2021-10-01T05:59:56.947912Z",
     "shell.execute_reply": "2021-10-01T05:59:56.948507Z",
     "shell.execute_reply.started": "2021-09-29T05:50:55.243423Z"
    },
    "papermill": {
     "duration": 0.051109,
     "end_time": "2021-10-01T05:59:56.948680",
     "exception": false,
     "start_time": "2021-10-01T05:59:56.897571",
     "status": "completed"
    },
    "tags": []
   },
   "outputs": [],
   "source": [
    "categories_dict = {\n",
    "  0: \"PNEUMONIA\",\n",
    "  1: \"NORMAL\",\n",
    "  2: \"COVID19\"\n",
    "}"
   ]
  },
  {
   "cell_type": "markdown",
   "id": "1d9688ed",
   "metadata": {
    "papermill": {
     "duration": 0.043529,
     "end_time": "2021-10-01T05:59:57.035451",
     "exception": false,
     "start_time": "2021-10-01T05:59:56.991922",
     "status": "completed"
    },
    "tags": []
   },
   "source": [
    "# Data Loading"
   ]
  },
  {
   "cell_type": "code",
   "execution_count": 5,
   "id": "951a6736",
   "metadata": {
    "execution": {
     "iopub.execute_input": "2021-10-01T05:59:57.220367Z",
     "iopub.status.busy": "2021-10-01T05:59:57.219708Z",
     "iopub.status.idle": "2021-10-01T06:01:31.086166Z",
     "shell.execute_reply": "2021-10-01T06:01:31.087027Z",
     "shell.execute_reply.started": "2021-09-29T05:48:52.85297Z"
    },
    "papermill": {
     "duration": 93.922684,
     "end_time": "2021-10-01T06:01:31.087283",
     "exception": false,
     "start_time": "2021-10-01T05:59:57.164599",
     "status": "completed"
    },
    "tags": []
   },
   "outputs": [
    {
     "name": "stdout",
     "output_type": "stream",
     "text": [
      "PNEUMONIA\n",
      "200 images loaded\n",
      "400 images loaded\n",
      "600 images loaded\n",
      "800 images loaded\n",
      "1000 images loaded\n",
      "1200 images loaded\n",
      "1400 images loaded\n",
      "1500 images loaded\n",
      "NORMAL\n",
      "200 images loaded\n",
      "400 images loaded\n",
      "600 images loaded\n",
      "800 images loaded\n",
      "1000 images loaded\n",
      "1200 images loaded\n",
      "1267 images loaded\n",
      "COVID19\n",
      "200 images loaded\n",
      "400 images loaded\n",
      "461 images loaded\n",
      "additional COVID19 data\n",
      "200 images loaded\n",
      "400 images loaded\n",
      "600 images loaded\n",
      "800 images loaded\n",
      "1000 images loaded\n"
     ]
    }
   ],
   "source": [
    "train_images = []\n",
    "train_labels = [] \n",
    "label = 0\n",
    "\n",
    "#Importing the first training dataset\n",
    "\n",
    "for directory_path in glob.glob(train_dir):\n",
    "    assert categories_dict[label] == os.path.normpath(directory_path).split(os.path.sep)[-1]\n",
    "    print(categories_dict[label])\n",
    "    counter = 1\n",
    "    for img_path in glob.glob(os.path.join(directory_path, \"*.jpg\")):\n",
    "        if(counter%200==0): print(counter,\"images loaded\")\n",
    "        img = cv2.imread(img_path, 0)\n",
    "        img = cv2.resize(img, TARGET_SIZE)\n",
    "        train_images.append(img)\n",
    "        train_labels.append(label)\n",
    "        counter+=1\n",
    "        if(counter%1500==0): break\n",
    "    \n",
    "    print(counter,\"images loaded\")\n",
    "    label +=1\n",
    "    \n",
    "#Importing the additional training dataset\n",
    "\n",
    "print(\"additional\",categories_dict[2],\"data\")    \n",
    "addit_counter = 1\n",
    "for img_path in glob.glob(os.path.join(train2_covid_dir, \"*.png\")):\n",
    "    if(addit_counter%200==0): print(addit_counter,\"images loaded\")\n",
    "    img = cv2.imread(img_path, 0)\n",
    "    img = cv2.resize(img, TARGET_SIZE)\n",
    "    train_images.append(img)\n",
    "    train_labels.append(2)\n",
    "    addit_counter+=1\n",
    "    if(addit_counter%1000==0): break\n",
    "print(addit_counter,\"images loaded\")\n",
    "\n",
    "x_train = np.array(train_images)\n",
    "y_train = to_categorical(train_labels, 3)"
   ]
  },
  {
   "cell_type": "code",
   "execution_count": 6,
   "id": "6df91cbc",
   "metadata": {
    "execution": {
     "iopub.execute_input": "2021-10-01T06:01:31.232427Z",
     "iopub.status.busy": "2021-10-01T06:01:31.231687Z",
     "iopub.status.idle": "2021-10-01T06:02:01.923163Z",
     "shell.execute_reply": "2021-10-01T06:02:01.924018Z",
     "shell.execute_reply.started": "2021-09-29T05:50:15.432937Z"
    },
    "papermill": {
     "duration": 30.75184,
     "end_time": "2021-10-01T06:02:01.924256",
     "exception": false,
     "start_time": "2021-10-01T06:01:31.172416",
     "status": "completed"
    },
    "tags": []
   },
   "outputs": [
    {
     "name": "stdout",
     "output_type": "stream",
     "text": [
      "PNEUMONIA\n",
      "100 images loaded\n",
      "200 images loaded\n",
      "300 images loaded\n",
      "400 images loaded\n",
      "500 images loaded\n",
      "600 images loaded\n",
      "700 images loaded\n",
      "800 images loaded\n",
      "856 images loaded\n",
      "NORMAL\n",
      "100 images loaded\n",
      "200 images loaded\n",
      "300 images loaded\n",
      "318 images loaded\n",
      "COVID19\n",
      "100 images loaded\n",
      "117 images loaded\n"
     ]
    }
   ],
   "source": [
    "test_images = []\n",
    "test_labels = []\n",
    "label = 0\n",
    "\n",
    "#importing the testing dataset\n",
    "\n",
    "for directory_path in glob.glob(test_dir):\n",
    "    assert categories_dict[label] == os.path.normpath(directory_path).split(os.path.sep)[-1]\n",
    "    print(categories_dict[label])\n",
    "    counter = 1\n",
    "    for img_path in glob.glob(os.path.join(directory_path, \"*.jpg\")):\n",
    "        if(counter%100==0): print(counter, \"images loaded\")\n",
    "        img = cv2.imread(img_path, 0)\n",
    "        img = cv2.resize(img, TARGET_SIZE)\n",
    "        test_images.append(img)\n",
    "        test_labels.append(label)\n",
    "        counter+=1\n",
    "    \n",
    "    print(counter,\"images loaded\")\n",
    "    label +=1\n",
    "\n",
    "test_images = np.array(test_images)\n",
    "test_labels = to_categorical(test_labels, 3)"
   ]
  },
  {
   "cell_type": "markdown",
   "id": "46884321",
   "metadata": {
    "papermill": {
     "duration": 0.056011,
     "end_time": "2021-10-01T06:02:02.037184",
     "exception": false,
     "start_time": "2021-10-01T06:02:01.981173",
     "status": "completed"
    },
    "tags": []
   },
   "source": [
    "**Splitting data into train and validation dataset**"
   ]
  },
  {
   "cell_type": "code",
   "execution_count": 7,
   "id": "5805772e",
   "metadata": {
    "execution": {
     "iopub.execute_input": "2021-10-01T06:02:02.161600Z",
     "iopub.status.busy": "2021-10-01T06:02:02.160101Z",
     "iopub.status.idle": "2021-10-01T06:02:02.196723Z",
     "shell.execute_reply": "2021-10-01T06:02:02.196126Z",
     "shell.execute_reply.started": "2021-09-29T05:50:41.251357Z"
    },
    "papermill": {
     "duration": 0.103338,
     "end_time": "2021-10-01T06:02:02.196906",
     "exception": false,
     "start_time": "2021-10-01T06:02:02.093568",
     "status": "completed"
    },
    "tags": []
   },
   "outputs": [],
   "source": [
    "train_test_split(train_images, train_labels)\n",
    "train_images, val_images, train_labels, val_labels = train_test_split(x_train, y_train, test_size=0.15, random_state=69)"
   ]
  },
  {
   "cell_type": "code",
   "execution_count": 8,
   "id": "6a449c39",
   "metadata": {
    "execution": {
     "iopub.execute_input": "2021-10-01T06:02:02.319550Z",
     "iopub.status.busy": "2021-10-01T06:02:02.318681Z",
     "iopub.status.idle": "2021-10-01T06:02:02.323756Z",
     "shell.execute_reply": "2021-10-01T06:02:02.323166Z",
     "shell.execute_reply.started": "2021-09-29T05:50:41.301906Z"
    },
    "papermill": {
     "duration": 0.069847,
     "end_time": "2021-10-01T06:02:02.323914",
     "exception": false,
     "start_time": "2021-10-01T06:02:02.254067",
     "status": "completed"
    },
    "tags": []
   },
   "outputs": [
    {
     "name": "stdout",
     "output_type": "stream",
     "text": [
      "train: 3590 , test: 1288 , val: 634\n"
     ]
    }
   ],
   "source": [
    "print(\"train:\",train_images.shape[0],\", test:\",test_images.shape[0],\", val:\",val_images.shape[0])"
   ]
  },
  {
   "cell_type": "markdown",
   "id": "35a78607",
   "metadata": {
    "papermill": {
     "duration": 0.058236,
     "end_time": "2021-10-01T06:02:02.440173",
     "exception": false,
     "start_time": "2021-10-01T06:02:02.381937",
     "status": "completed"
    },
    "tags": []
   },
   "source": [
    "# \"Traditional\" Feature Extraction with GLCM"
   ]
  },
  {
   "cell_type": "code",
   "execution_count": 9,
   "id": "8884a7d7",
   "metadata": {
    "execution": {
     "iopub.execute_input": "2021-10-01T06:02:02.565583Z",
     "iopub.status.busy": "2021-10-01T06:02:02.562675Z",
     "iopub.status.idle": "2021-10-01T06:02:02.568116Z",
     "shell.execute_reply": "2021-10-01T06:02:02.568649Z",
     "shell.execute_reply.started": "2021-09-29T05:50:41.312529Z"
    },
    "papermill": {
     "duration": 0.071791,
     "end_time": "2021-10-01T06:02:02.568801",
     "exception": false,
     "start_time": "2021-10-01T06:02:02.497010",
     "status": "completed"
    },
    "tags": []
   },
   "outputs": [],
   "source": [
    "def feature_extractor(images):\n",
    "    image_dataset = pd.DataFrame()\n",
    "    for image in images:   \n",
    "        df = pd.DataFrame()\n",
    "        \n",
    "        #greycomatrix(image, distances, angles, levels=256, symmetric=False, normed=False)\n",
    "        #distances - List of pixel pair distance offsets.\n",
    "        #angles - List of pixel pair angles in radians.\n",
    "        \n",
    "        #5 configuration for the grey-level co-occurrence matrix calculation\n",
    "        dists = [[1],[3],[5],[3],[3]]\n",
    "        angles = [[0],[0],[0],[np.pi/4],[np.pi/2]]\n",
    "        \n",
    "        for n ,(dist, angle) in enumerate(zip(dists, angles)):\n",
    "        \n",
    "            GLCM = greycomatrix(image, dist, angle)       \n",
    "            GLCM_Energy = greycoprops(GLCM, 'energy')[0]\n",
    "            df['Energy'+str(n)] = GLCM_Energy\n",
    "            GLCM_corr = greycoprops(GLCM, 'correlation')[0]\n",
    "            df['Corr'+str(n)] = GLCM_corr       \n",
    "            GLCM_diss = greycoprops(GLCM, 'dissimilarity')[0]\n",
    "            df['Diss_sim'+str(n)] = GLCM_diss       \n",
    "            GLCM_hom = greycoprops(GLCM, 'homogeneity')[0]\n",
    "            df['Homogen'+str(n)] = GLCM_hom       \n",
    "            GLCM_contr = greycoprops(GLCM, 'contrast')[0]\n",
    "            df['Contrast'+str(n)] = GLCM_contr\n",
    "\n",
    "        image_dataset = image_dataset.append(df)\n",
    "        \n",
    "    return image_dataset"
   ]
  },
  {
   "cell_type": "code",
   "execution_count": 10,
   "id": "f768007a",
   "metadata": {
    "execution": {
     "iopub.execute_input": "2021-10-01T06:02:02.711616Z",
     "iopub.status.busy": "2021-10-01T06:02:02.710553Z",
     "iopub.status.idle": "2021-10-01T06:04:17.597364Z",
     "shell.execute_reply": "2021-10-01T06:04:17.598718Z"
    },
    "papermill": {
     "duration": 134.956836,
     "end_time": "2021-10-01T06:04:17.599116",
     "exception": false,
     "start_time": "2021-10-01T06:02:02.642280",
     "status": "completed"
    },
    "tags": []
   },
   "outputs": [],
   "source": [
    "train_extr_features = feature_extractor(train_images)"
   ]
  },
  {
   "cell_type": "code",
   "execution_count": 11,
   "id": "e5a03c62",
   "metadata": {
    "execution": {
     "iopub.execute_input": "2021-10-01T06:04:17.767064Z",
     "iopub.status.busy": "2021-10-01T06:04:17.765903Z",
     "iopub.status.idle": "2021-10-01T06:05:05.743951Z",
     "shell.execute_reply": "2021-10-01T06:05:05.744522Z"
    },
    "papermill": {
     "duration": 48.045156,
     "end_time": "2021-10-01T06:05:05.744753",
     "exception": false,
     "start_time": "2021-10-01T06:04:17.699597",
     "status": "completed"
    },
    "tags": []
   },
   "outputs": [],
   "source": [
    "test_extr_features = feature_extractor(test_images)"
   ]
  },
  {
   "cell_type": "code",
   "execution_count": 12,
   "id": "db4df872",
   "metadata": {
    "execution": {
     "iopub.execute_input": "2021-10-01T06:05:05.868723Z",
     "iopub.status.busy": "2021-10-01T06:05:05.866057Z",
     "iopub.status.idle": "2021-10-01T06:05:29.691462Z",
     "shell.execute_reply": "2021-10-01T06:05:29.690474Z"
    },
    "papermill": {
     "duration": 23.888267,
     "end_time": "2021-10-01T06:05:29.691674",
     "exception": false,
     "start_time": "2021-10-01T06:05:05.803407",
     "status": "completed"
    },
    "tags": []
   },
   "outputs": [],
   "source": [
    "val_extr_features = feature_extractor(val_images)"
   ]
  },
  {
   "cell_type": "code",
   "execution_count": 13,
   "id": "0bc21fb7",
   "metadata": {
    "execution": {
     "iopub.execute_input": "2021-10-01T06:05:29.814514Z",
     "iopub.status.busy": "2021-10-01T06:05:29.813069Z",
     "iopub.status.idle": "2021-10-01T06:05:30.010063Z",
     "shell.execute_reply": "2021-10-01T06:05:30.009442Z",
     "shell.execute_reply.started": "2021-09-29T05:50:41.328392Z"
    },
    "papermill": {
     "duration": 0.26032,
     "end_time": "2021-10-01T06:05:30.010216",
     "exception": false,
     "start_time": "2021-10-01T06:05:29.749896",
     "status": "completed"
    },
    "tags": []
   },
   "outputs": [],
   "source": [
    "type(train_images)\n",
    "# convert from integers to floats\n",
    "train_images_norm = train_images.astype('float32')\n",
    "test_images_norm = test_images.astype('float32')\n",
    "val_images_norm = val_images.astype('float32')\n",
    "# normalize to the range 0-1\n",
    "train_images_norm /= 255.0\n",
    "test_images_norm /= 255.0\n",
    "val_images_norm /= 255.0"
   ]
  },
  {
   "cell_type": "code",
   "execution_count": 14,
   "id": "f93cafc5",
   "metadata": {
    "execution": {
     "iopub.execute_input": "2021-10-01T06:05:30.136651Z",
     "iopub.status.busy": "2021-10-01T06:05:30.135576Z",
     "iopub.status.idle": "2021-10-01T06:05:30.183419Z",
     "shell.execute_reply": "2021-10-01T06:05:30.183969Z"
    },
    "papermill": {
     "duration": 0.115109,
     "end_time": "2021-10-01T06:05:30.184142",
     "exception": false,
     "start_time": "2021-10-01T06:05:30.069033",
     "status": "completed"
    },
    "tags": []
   },
   "outputs": [
    {
     "data": {
      "text/html": [
       "<div>\n",
       "<style scoped>\n",
       "    .dataframe tbody tr th:only-of-type {\n",
       "        vertical-align: middle;\n",
       "    }\n",
       "\n",
       "    .dataframe tbody tr th {\n",
       "        vertical-align: top;\n",
       "    }\n",
       "\n",
       "    .dataframe thead th {\n",
       "        text-align: right;\n",
       "    }\n",
       "</style>\n",
       "<table border=\"1\" class=\"dataframe\">\n",
       "  <thead>\n",
       "    <tr style=\"text-align: right;\">\n",
       "      <th></th>\n",
       "      <th>Energy0</th>\n",
       "      <th>Corr0</th>\n",
       "      <th>Diss_sim0</th>\n",
       "      <th>Homogen0</th>\n",
       "      <th>Contrast0</th>\n",
       "      <th>Energy1</th>\n",
       "      <th>Corr1</th>\n",
       "      <th>Diss_sim1</th>\n",
       "      <th>Homogen1</th>\n",
       "      <th>Contrast1</th>\n",
       "      <th>Energy2</th>\n",
       "      <th>Corr2</th>\n",
       "      <th>Diss_sim2</th>\n",
       "      <th>Homogen2</th>\n",
       "      <th>Contrast2</th>\n",
       "      <th>Energy3</th>\n",
       "      <th>Corr3</th>\n",
       "      <th>Diss_sim3</th>\n",
       "      <th>Homogen3</th>\n",
       "      <th>Contrast3</th>\n",
       "      <th>Energy4</th>\n",
       "      <th>Corr4</th>\n",
       "      <th>Diss_sim4</th>\n",
       "      <th>Homogen4</th>\n",
       "      <th>Contrast4</th>\n",
       "    </tr>\n",
       "  </thead>\n",
       "  <tbody>\n",
       "    <tr>\n",
       "      <th>0</th>\n",
       "      <td>0.051959</td>\n",
       "      <td>0.960339</td>\n",
       "      <td>8.046711</td>\n",
       "      <td>0.180405</td>\n",
       "      <td>166.620915</td>\n",
       "      <td>0.032321</td>\n",
       "      <td>0.867067</td>\n",
       "      <td>16.106934</td>\n",
       "      <td>0.102895</td>\n",
       "      <td>537.779927</td>\n",
       "      <td>0.019734</td>\n",
       "      <td>0.760146</td>\n",
       "      <td>22.212910</td>\n",
       "      <td>0.068772</td>\n",
       "      <td>935.377566</td>\n",
       "      <td>0.039897</td>\n",
       "      <td>0.893736</td>\n",
       "      <td>14.640359</td>\n",
       "      <td>0.109834</td>\n",
       "      <td>434.033239</td>\n",
       "      <td>0.058261</td>\n",
       "      <td>0.918441</td>\n",
       "      <td>12.481439</td>\n",
       "      <td>0.156674</td>\n",
       "      <td>344.977477</td>\n",
       "    </tr>\n",
       "    <tr>\n",
       "      <th>0</th>\n",
       "      <td>0.041816</td>\n",
       "      <td>0.964296</td>\n",
       "      <td>8.770966</td>\n",
       "      <td>0.170647</td>\n",
       "      <td>243.837050</td>\n",
       "      <td>0.023285</td>\n",
       "      <td>0.883300</td>\n",
       "      <td>18.464859</td>\n",
       "      <td>0.090727</td>\n",
       "      <td>754.464442</td>\n",
       "      <td>0.014953</td>\n",
       "      <td>0.781649</td>\n",
       "      <td>25.925344</td>\n",
       "      <td>0.060795</td>\n",
       "      <td>1339.489683</td>\n",
       "      <td>0.030758</td>\n",
       "      <td>0.917577</td>\n",
       "      <td>15.610271</td>\n",
       "      <td>0.104754</td>\n",
       "      <td>544.047364</td>\n",
       "      <td>0.050792</td>\n",
       "      <td>0.939250</td>\n",
       "      <td>13.211053</td>\n",
       "      <td>0.146042</td>\n",
       "      <td>421.810010</td>\n",
       "    </tr>\n",
       "    <tr>\n",
       "      <th>0</th>\n",
       "      <td>0.136676</td>\n",
       "      <td>0.980152</td>\n",
       "      <td>7.506064</td>\n",
       "      <td>0.270158</td>\n",
       "      <td>176.751182</td>\n",
       "      <td>0.112109</td>\n",
       "      <td>0.922724</td>\n",
       "      <td>16.543900</td>\n",
       "      <td>0.183539</td>\n",
       "      <td>667.006569</td>\n",
       "      <td>0.089465</td>\n",
       "      <td>0.841393</td>\n",
       "      <td>24.221429</td>\n",
       "      <td>0.138988</td>\n",
       "      <td>1322.881534</td>\n",
       "      <td>0.125484</td>\n",
       "      <td>0.952733</td>\n",
       "      <td>12.789120</td>\n",
       "      <td>0.210512</td>\n",
       "      <td>416.018694</td>\n",
       "      <td>0.144165</td>\n",
       "      <td>0.977553</td>\n",
       "      <td>8.414755</td>\n",
       "      <td>0.265631</td>\n",
       "      <td>204.044786</td>\n",
       "    </tr>\n",
       "    <tr>\n",
       "      <th>0</th>\n",
       "      <td>0.022921</td>\n",
       "      <td>0.966988</td>\n",
       "      <td>4.984430</td>\n",
       "      <td>0.233775</td>\n",
       "      <td>85.268088</td>\n",
       "      <td>0.017010</td>\n",
       "      <td>0.906336</td>\n",
       "      <td>10.212461</td>\n",
       "      <td>0.114237</td>\n",
       "      <td>237.107143</td>\n",
       "      <td>0.015032</td>\n",
       "      <td>0.839683</td>\n",
       "      <td>14.195608</td>\n",
       "      <td>0.074929</td>\n",
       "      <td>398.318889</td>\n",
       "      <td>0.017813</td>\n",
       "      <td>0.924610</td>\n",
       "      <td>8.851869</td>\n",
       "      <td>0.133667</td>\n",
       "      <td>192.553508</td>\n",
       "      <td>0.019621</td>\n",
       "      <td>0.952262</td>\n",
       "      <td>6.677581</td>\n",
       "      <td>0.192688</td>\n",
       "      <td>124.506569</td>\n",
       "    </tr>\n",
       "    <tr>\n",
       "      <th>0</th>\n",
       "      <td>0.046807</td>\n",
       "      <td>0.959015</td>\n",
       "      <td>9.921583</td>\n",
       "      <td>0.150144</td>\n",
       "      <td>256.150874</td>\n",
       "      <td>0.027441</td>\n",
       "      <td>0.859055</td>\n",
       "      <td>20.186705</td>\n",
       "      <td>0.085074</td>\n",
       "      <td>835.675965</td>\n",
       "      <td>0.013250</td>\n",
       "      <td>0.723485</td>\n",
       "      <td>28.675661</td>\n",
       "      <td>0.052614</td>\n",
       "      <td>1555.242434</td>\n",
       "      <td>0.036712</td>\n",
       "      <td>0.893276</td>\n",
       "      <td>17.843940</td>\n",
       "      <td>0.096829</td>\n",
       "      <td>644.273892</td>\n",
       "      <td>0.056382</td>\n",
       "      <td>0.917971</td>\n",
       "      <td>15.299062</td>\n",
       "      <td>0.140528</td>\n",
       "      <td>520.659541</td>\n",
       "    </tr>\n",
       "    <tr>\n",
       "      <th>...</th>\n",
       "      <td>...</td>\n",
       "      <td>...</td>\n",
       "      <td>...</td>\n",
       "      <td>...</td>\n",
       "      <td>...</td>\n",
       "      <td>...</td>\n",
       "      <td>...</td>\n",
       "      <td>...</td>\n",
       "      <td>...</td>\n",
       "      <td>...</td>\n",
       "      <td>...</td>\n",
       "      <td>...</td>\n",
       "      <td>...</td>\n",
       "      <td>...</td>\n",
       "      <td>...</td>\n",
       "      <td>...</td>\n",
       "      <td>...</td>\n",
       "      <td>...</td>\n",
       "      <td>...</td>\n",
       "      <td>...</td>\n",
       "      <td>...</td>\n",
       "      <td>...</td>\n",
       "      <td>...</td>\n",
       "      <td>...</td>\n",
       "      <td>...</td>\n",
       "    </tr>\n",
       "    <tr>\n",
       "      <th>0</th>\n",
       "      <td>0.028802</td>\n",
       "      <td>0.976066</td>\n",
       "      <td>4.902569</td>\n",
       "      <td>0.281079</td>\n",
       "      <td>104.181192</td>\n",
       "      <td>0.020598</td>\n",
       "      <td>0.898507</td>\n",
       "      <td>11.556569</td>\n",
       "      <td>0.142410</td>\n",
       "      <td>429.908290</td>\n",
       "      <td>0.017891</td>\n",
       "      <td>0.802562</td>\n",
       "      <td>17.026561</td>\n",
       "      <td>0.099124</td>\n",
       "      <td>815.143810</td>\n",
       "      <td>0.021876</td>\n",
       "      <td>0.932322</td>\n",
       "      <td>9.361794</td>\n",
       "      <td>0.158139</td>\n",
       "      <td>289.437408</td>\n",
       "      <td>0.025303</td>\n",
       "      <td>0.969692</td>\n",
       "      <td>6.379562</td>\n",
       "      <td>0.224894</td>\n",
       "      <td>133.235975</td>\n",
       "    </tr>\n",
       "    <tr>\n",
       "      <th>0</th>\n",
       "      <td>0.018658</td>\n",
       "      <td>0.971788</td>\n",
       "      <td>9.059198</td>\n",
       "      <td>0.158631</td>\n",
       "      <td>201.731860</td>\n",
       "      <td>0.013848</td>\n",
       "      <td>0.891940</td>\n",
       "      <td>18.492596</td>\n",
       "      <td>0.081832</td>\n",
       "      <td>728.038895</td>\n",
       "      <td>0.012343</td>\n",
       "      <td>0.789360</td>\n",
       "      <td>26.007407</td>\n",
       "      <td>0.054522</td>\n",
       "      <td>1350.414815</td>\n",
       "      <td>0.014781</td>\n",
       "      <td>0.928075</td>\n",
       "      <td>15.340002</td>\n",
       "      <td>0.094798</td>\n",
       "      <td>498.916877</td>\n",
       "      <td>0.018281</td>\n",
       "      <td>0.962726</td>\n",
       "      <td>10.911940</td>\n",
       "      <td>0.146999</td>\n",
       "      <td>275.243014</td>\n",
       "    </tr>\n",
       "    <tr>\n",
       "      <th>0</th>\n",
       "      <td>0.134007</td>\n",
       "      <td>0.960929</td>\n",
       "      <td>10.777852</td>\n",
       "      <td>0.218841</td>\n",
       "      <td>335.900565</td>\n",
       "      <td>0.109444</td>\n",
       "      <td>0.889472</td>\n",
       "      <td>20.651825</td>\n",
       "      <td>0.153083</td>\n",
       "      <td>928.876955</td>\n",
       "      <td>0.086208</td>\n",
       "      <td>0.812980</td>\n",
       "      <td>28.105397</td>\n",
       "      <td>0.118835</td>\n",
       "      <td>1533.818413</td>\n",
       "      <td>0.122754</td>\n",
       "      <td>0.922413</td>\n",
       "      <td>17.025835</td>\n",
       "      <td>0.172592</td>\n",
       "      <td>655.359798</td>\n",
       "      <td>0.143035</td>\n",
       "      <td>0.942345</td>\n",
       "      <td>13.944265</td>\n",
       "      <td>0.216826</td>\n",
       "      <td>496.664703</td>\n",
       "    </tr>\n",
       "    <tr>\n",
       "      <th>0</th>\n",
       "      <td>0.044756</td>\n",
       "      <td>0.967444</td>\n",
       "      <td>8.565570</td>\n",
       "      <td>0.167248</td>\n",
       "      <td>210.465365</td>\n",
       "      <td>0.024382</td>\n",
       "      <td>0.884524</td>\n",
       "      <td>18.086184</td>\n",
       "      <td>0.091016</td>\n",
       "      <td>709.749062</td>\n",
       "      <td>0.015681</td>\n",
       "      <td>0.775340</td>\n",
       "      <td>25.648307</td>\n",
       "      <td>0.065215</td>\n",
       "      <td>1320.787249</td>\n",
       "      <td>0.032229</td>\n",
       "      <td>0.910622</td>\n",
       "      <td>16.033711</td>\n",
       "      <td>0.101735</td>\n",
       "      <td>559.598719</td>\n",
       "      <td>0.053356</td>\n",
       "      <td>0.930006</td>\n",
       "      <td>13.702138</td>\n",
       "      <td>0.144889</td>\n",
       "      <td>459.848749</td>\n",
       "    </tr>\n",
       "    <tr>\n",
       "      <th>0</th>\n",
       "      <td>0.025271</td>\n",
       "      <td>0.991119</td>\n",
       "      <td>4.856732</td>\n",
       "      <td>0.286153</td>\n",
       "      <td>61.703083</td>\n",
       "      <td>0.017630</td>\n",
       "      <td>0.957723</td>\n",
       "      <td>11.660219</td>\n",
       "      <td>0.139262</td>\n",
       "      <td>294.536548</td>\n",
       "      <td>0.015298</td>\n",
       "      <td>0.911291</td>\n",
       "      <td>17.522963</td>\n",
       "      <td>0.092054</td>\n",
       "      <td>619.676508</td>\n",
       "      <td>0.018418</td>\n",
       "      <td>0.955123</td>\n",
       "      <td>11.614419</td>\n",
       "      <td>0.130126</td>\n",
       "      <td>313.165354</td>\n",
       "      <td>0.020768</td>\n",
       "      <td>0.959384</td>\n",
       "      <td>10.296455</td>\n",
       "      <td>0.168266</td>\n",
       "      <td>285.018561</td>\n",
       "    </tr>\n",
       "  </tbody>\n",
       "</table>\n",
       "<p>3590 rows × 25 columns</p>\n",
       "</div>"
      ],
      "text/plain": [
       "     Energy0     Corr0  Diss_sim0  Homogen0   Contrast0   Energy1     Corr1  \\\n",
       "0   0.051959  0.960339   8.046711  0.180405  166.620915  0.032321  0.867067   \n",
       "0   0.041816  0.964296   8.770966  0.170647  243.837050  0.023285  0.883300   \n",
       "0   0.136676  0.980152   7.506064  0.270158  176.751182  0.112109  0.922724   \n",
       "0   0.022921  0.966988   4.984430  0.233775   85.268088  0.017010  0.906336   \n",
       "0   0.046807  0.959015   9.921583  0.150144  256.150874  0.027441  0.859055   \n",
       "..       ...       ...        ...       ...         ...       ...       ...   \n",
       "0   0.028802  0.976066   4.902569  0.281079  104.181192  0.020598  0.898507   \n",
       "0   0.018658  0.971788   9.059198  0.158631  201.731860  0.013848  0.891940   \n",
       "0   0.134007  0.960929  10.777852  0.218841  335.900565  0.109444  0.889472   \n",
       "0   0.044756  0.967444   8.565570  0.167248  210.465365  0.024382  0.884524   \n",
       "0   0.025271  0.991119   4.856732  0.286153   61.703083  0.017630  0.957723   \n",
       "\n",
       "    Diss_sim1  Homogen1   Contrast1   Energy2     Corr2  Diss_sim2  Homogen2  \\\n",
       "0   16.106934  0.102895  537.779927  0.019734  0.760146  22.212910  0.068772   \n",
       "0   18.464859  0.090727  754.464442  0.014953  0.781649  25.925344  0.060795   \n",
       "0   16.543900  0.183539  667.006569  0.089465  0.841393  24.221429  0.138988   \n",
       "0   10.212461  0.114237  237.107143  0.015032  0.839683  14.195608  0.074929   \n",
       "0   20.186705  0.085074  835.675965  0.013250  0.723485  28.675661  0.052614   \n",
       "..        ...       ...         ...       ...       ...        ...       ...   \n",
       "0   11.556569  0.142410  429.908290  0.017891  0.802562  17.026561  0.099124   \n",
       "0   18.492596  0.081832  728.038895  0.012343  0.789360  26.007407  0.054522   \n",
       "0   20.651825  0.153083  928.876955  0.086208  0.812980  28.105397  0.118835   \n",
       "0   18.086184  0.091016  709.749062  0.015681  0.775340  25.648307  0.065215   \n",
       "0   11.660219  0.139262  294.536548  0.015298  0.911291  17.522963  0.092054   \n",
       "\n",
       "      Contrast2   Energy3     Corr3  Diss_sim3  Homogen3   Contrast3  \\\n",
       "0    935.377566  0.039897  0.893736  14.640359  0.109834  434.033239   \n",
       "0   1339.489683  0.030758  0.917577  15.610271  0.104754  544.047364   \n",
       "0   1322.881534  0.125484  0.952733  12.789120  0.210512  416.018694   \n",
       "0    398.318889  0.017813  0.924610   8.851869  0.133667  192.553508   \n",
       "0   1555.242434  0.036712  0.893276  17.843940  0.096829  644.273892   \n",
       "..          ...       ...       ...        ...       ...         ...   \n",
       "0    815.143810  0.021876  0.932322   9.361794  0.158139  289.437408   \n",
       "0   1350.414815  0.014781  0.928075  15.340002  0.094798  498.916877   \n",
       "0   1533.818413  0.122754  0.922413  17.025835  0.172592  655.359798   \n",
       "0   1320.787249  0.032229  0.910622  16.033711  0.101735  559.598719   \n",
       "0    619.676508  0.018418  0.955123  11.614419  0.130126  313.165354   \n",
       "\n",
       "     Energy4     Corr4  Diss_sim4  Homogen4   Contrast4  \n",
       "0   0.058261  0.918441  12.481439  0.156674  344.977477  \n",
       "0   0.050792  0.939250  13.211053  0.146042  421.810010  \n",
       "0   0.144165  0.977553   8.414755  0.265631  204.044786  \n",
       "0   0.019621  0.952262   6.677581  0.192688  124.506569  \n",
       "0   0.056382  0.917971  15.299062  0.140528  520.659541  \n",
       "..       ...       ...        ...       ...         ...  \n",
       "0   0.025303  0.969692   6.379562  0.224894  133.235975  \n",
       "0   0.018281  0.962726  10.911940  0.146999  275.243014  \n",
       "0   0.143035  0.942345  13.944265  0.216826  496.664703  \n",
       "0   0.053356  0.930006  13.702138  0.144889  459.848749  \n",
       "0   0.020768  0.959384  10.296455  0.168266  285.018561  \n",
       "\n",
       "[3590 rows x 25 columns]"
      ]
     },
     "execution_count": 14,
     "metadata": {},
     "output_type": "execute_result"
    }
   ],
   "source": [
    "pd.set_option(\"display.max_columns\", None)\n",
    "train_extr_features"
   ]
  },
  {
   "cell_type": "markdown",
   "id": "137d2a4a",
   "metadata": {
    "papermill": {
     "duration": 0.057827,
     "end_time": "2021-10-01T06:05:30.300685",
     "exception": false,
     "start_time": "2021-10-01T06:05:30.242858",
     "status": "completed"
    },
    "tags": []
   },
   "source": [
    "# Building the Network"
   ]
  },
  {
   "cell_type": "markdown",
   "id": "ae407ff0",
   "metadata": {
    "papermill": {
     "duration": 0.058525,
     "end_time": "2021-10-01T06:05:30.419110",
     "exception": false,
     "start_time": "2021-10-01T06:05:30.360585",
     "status": "completed"
    },
    "tags": []
   },
   "source": [
    "**Convolutional Neural Network to extract the high-level features**"
   ]
  },
  {
   "cell_type": "code",
   "execution_count": 15,
   "id": "0b307ffc",
   "metadata": {
    "execution": {
     "iopub.execute_input": "2021-10-01T06:05:30.551351Z",
     "iopub.status.busy": "2021-10-01T06:05:30.550246Z",
     "iopub.status.idle": "2021-10-01T06:05:30.553526Z",
     "shell.execute_reply": "2021-10-01T06:05:30.552962Z"
    },
    "papermill": {
     "duration": 0.075178,
     "end_time": "2021-10-01T06:05:30.553685",
     "exception": false,
     "start_time": "2021-10-01T06:05:30.478507",
     "status": "completed"
    },
    "tags": []
   },
   "outputs": [],
   "source": [
    "def build_cnn():\n",
    "    model = keras.Sequential([\n",
    "        keras.Input(shape=(140,140,1), name='Original_Images'),\n",
    "        keras.layers.Conv2D(input_shape=(140,140,1), filters=32, kernel_size=11, \n",
    "                            strides=1, activation='relu', name='Conv1'),\n",
    "        keras.layers.Conv2D(input_shape=(130,130,32), filters=32, kernel_size=11, \n",
    "                            strides=1, activation='relu', name='Conv2'),\n",
    "        keras.layers.MaxPool2D(pool_size=(5, 5), strides=2),\n",
    "        keras.layers.Conv2D(input_shape=(58,58,32), filters=64, kernel_size=9, \n",
    "                            strides=1, activation='relu', name='Conv3'),\n",
    "        keras.layers.MaxPool2D(pool_size=(5, 5), strides=2),\n",
    "        keras.layers.Conv2D(input_shape=(23,23,64), filters=128, kernel_size=8, \n",
    "                            strides=1, activation='relu', name='Conv4'),\n",
    "        keras.layers.Conv2D(input_shape=(16,16,128), filters=256, kernel_size=9, \n",
    "                            strides=1, activation='relu', name='Conv5'),\n",
    "        keras.layers.Conv2D(input_shape=(8,8,256), filters=256, kernel_size=8, \n",
    "                            strides=1, activation='relu', name='Conv6'),    \n",
    "\n",
    "        keras.layers.Flatten(),\n",
    "        keras.layers.Dense(8, activation=tf.keras.activations.relu, name='Dense')\n",
    "    ])\n",
    "    print(model.summary())\n",
    "    return model"
   ]
  },
  {
   "cell_type": "markdown",
   "id": "3b0984a7",
   "metadata": {
    "papermill": {
     "duration": 0.058558,
     "end_time": "2021-10-01T06:05:30.674536",
     "exception": false,
     "start_time": "2021-10-01T06:05:30.615978",
     "status": "completed"
    },
    "tags": []
   },
   "source": [
    "**Multilayer Perceptron to learn the numerical feature data extracted from the GLCM**"
   ]
  },
  {
   "cell_type": "code",
   "execution_count": 16,
   "id": "347694fb",
   "metadata": {
    "execution": {
     "iopub.execute_input": "2021-10-01T06:05:30.798450Z",
     "iopub.status.busy": "2021-10-01T06:05:30.797644Z",
     "iopub.status.idle": "2021-10-01T06:05:30.801666Z",
     "shell.execute_reply": "2021-10-01T06:05:30.801014Z"
    },
    "papermill": {
     "duration": 0.069338,
     "end_time": "2021-10-01T06:05:30.801829",
     "exception": false,
     "start_time": "2021-10-01T06:05:30.732491",
     "status": "completed"
    },
    "tags": []
   },
   "outputs": [],
   "source": [
    "def build_mlp():\n",
    "    model = keras.Sequential([\n",
    "        keras.Input(shape=25, name='Extracted_Traditional_Features'),\n",
    "        keras.layers.Dense(8, activation=tf.keras.activations.relu, name='Dense1'),\n",
    "        keras.layers.Dense(4, activation=tf.keras.activations.relu, name='Dense2')\n",
    "    ])\n",
    "    print(model.summary())\n",
    "    return model"
   ]
  },
  {
   "cell_type": "markdown",
   "id": "baeed182",
   "metadata": {
    "papermill": {
     "duration": 0.058558,
     "end_time": "2021-10-01T06:05:30.919685",
     "exception": false,
     "start_time": "2021-10-01T06:05:30.861127",
     "status": "completed"
    },
    "tags": []
   },
   "source": [
    "**Intertwining the 2 feature extractor**"
   ]
  },
  {
   "cell_type": "code",
   "execution_count": 17,
   "id": "e140d8af",
   "metadata": {
    "execution": {
     "iopub.execute_input": "2021-10-01T06:05:31.044752Z",
     "iopub.status.busy": "2021-10-01T06:05:31.043431Z",
     "iopub.status.idle": "2021-10-01T06:05:33.873406Z",
     "shell.execute_reply": "2021-10-01T06:05:33.874879Z"
    },
    "papermill": {
     "duration": 2.896128,
     "end_time": "2021-10-01T06:05:33.875170",
     "exception": false,
     "start_time": "2021-10-01T06:05:30.979042",
     "status": "completed"
    },
    "tags": []
   },
   "outputs": [
    {
     "name": "stderr",
     "output_type": "stream",
     "text": [
      "2021-10-01 06:05:31.065029: I tensorflow/compiler/jit/xla_cpu_device.cc:41] Not creating XLA devices, tf_xla_enable_xla_devices not set\n",
      "2021-10-01 06:05:31.073115: I tensorflow/stream_executor/platform/default/dso_loader.cc:49] Successfully opened dynamic library libcuda.so.1\n",
      "2021-10-01 06:05:31.120660: I tensorflow/stream_executor/cuda/cuda_gpu_executor.cc:941] successful NUMA node read from SysFS had negative value (-1), but there must be at least one NUMA node, so returning NUMA node zero\n",
      "2021-10-01 06:05:31.121826: I tensorflow/core/common_runtime/gpu/gpu_device.cc:1720] Found device 0 with properties: \n",
      "pciBusID: 0000:00:04.0 name: Tesla P100-PCIE-16GB computeCapability: 6.0\n",
      "coreClock: 1.3285GHz coreCount: 56 deviceMemorySize: 15.90GiB deviceMemoryBandwidth: 681.88GiB/s\n",
      "2021-10-01 06:05:31.121889: I tensorflow/stream_executor/platform/default/dso_loader.cc:49] Successfully opened dynamic library libcudart.so.11.0\n",
      "2021-10-01 06:05:31.181444: I tensorflow/stream_executor/platform/default/dso_loader.cc:49] Successfully opened dynamic library libcublas.so.11\n",
      "2021-10-01 06:05:31.181526: I tensorflow/stream_executor/platform/default/dso_loader.cc:49] Successfully opened dynamic library libcublasLt.so.11\n",
      "2021-10-01 06:05:31.207264: I tensorflow/stream_executor/platform/default/dso_loader.cc:49] Successfully opened dynamic library libcufft.so.10\n",
      "2021-10-01 06:05:31.235199: I tensorflow/stream_executor/platform/default/dso_loader.cc:49] Successfully opened dynamic library libcurand.so.10\n",
      "2021-10-01 06:05:31.283838: I tensorflow/stream_executor/platform/default/dso_loader.cc:49] Successfully opened dynamic library libcusolver.so.10\n",
      "2021-10-01 06:05:31.294868: I tensorflow/stream_executor/platform/default/dso_loader.cc:49] Successfully opened dynamic library libcusparse.so.11\n",
      "2021-10-01 06:05:31.298525: I tensorflow/stream_executor/platform/default/dso_loader.cc:49] Successfully opened dynamic library libcudnn.so.8\n",
      "2021-10-01 06:05:31.298830: I tensorflow/stream_executor/cuda/cuda_gpu_executor.cc:941] successful NUMA node read from SysFS had negative value (-1), but there must be at least one NUMA node, so returning NUMA node zero\n",
      "2021-10-01 06:05:31.299963: I tensorflow/stream_executor/cuda/cuda_gpu_executor.cc:941] successful NUMA node read from SysFS had negative value (-1), but there must be at least one NUMA node, so returning NUMA node zero\n",
      "2021-10-01 06:05:31.302563: I tensorflow/core/common_runtime/gpu/gpu_device.cc:1862] Adding visible gpu devices: 0\n",
      "2021-10-01 06:05:31.303212: I tensorflow/core/platform/cpu_feature_guard.cc:142] This TensorFlow binary is optimized with oneAPI Deep Neural Network Library (oneDNN) to use the following CPU instructions in performance-critical operations:  AVX2 FMA\n",
      "To enable them in other operations, rebuild TensorFlow with the appropriate compiler flags.\n",
      "2021-10-01 06:05:31.303576: I tensorflow/compiler/jit/xla_gpu_device.cc:99] Not creating XLA devices, tf_xla_enable_xla_devices not set\n",
      "2021-10-01 06:05:31.303795: I tensorflow/stream_executor/cuda/cuda_gpu_executor.cc:941] successful NUMA node read from SysFS had negative value (-1), but there must be at least one NUMA node, so returning NUMA node zero\n",
      "2021-10-01 06:05:31.304856: I tensorflow/core/common_runtime/gpu/gpu_device.cc:1720] Found device 0 with properties: \n",
      "pciBusID: 0000:00:04.0 name: Tesla P100-PCIE-16GB computeCapability: 6.0\n",
      "coreClock: 1.3285GHz coreCount: 56 deviceMemorySize: 15.90GiB deviceMemoryBandwidth: 681.88GiB/s\n",
      "2021-10-01 06:05:31.304903: I tensorflow/stream_executor/platform/default/dso_loader.cc:49] Successfully opened dynamic library libcudart.so.11.0\n",
      "2021-10-01 06:05:31.304947: I tensorflow/stream_executor/platform/default/dso_loader.cc:49] Successfully opened dynamic library libcublas.so.11\n",
      "2021-10-01 06:05:31.304988: I tensorflow/stream_executor/platform/default/dso_loader.cc:49] Successfully opened dynamic library libcublasLt.so.11\n",
      "2021-10-01 06:05:31.305028: I tensorflow/stream_executor/platform/default/dso_loader.cc:49] Successfully opened dynamic library libcufft.so.10\n",
      "2021-10-01 06:05:31.305067: I tensorflow/stream_executor/platform/default/dso_loader.cc:49] Successfully opened dynamic library libcurand.so.10\n",
      "2021-10-01 06:05:31.305105: I tensorflow/stream_executor/platform/default/dso_loader.cc:49] Successfully opened dynamic library libcusolver.so.10\n",
      "2021-10-01 06:05:31.305158: I tensorflow/stream_executor/platform/default/dso_loader.cc:49] Successfully opened dynamic library libcusparse.so.11\n",
      "2021-10-01 06:05:31.305201: I tensorflow/stream_executor/platform/default/dso_loader.cc:49] Successfully opened dynamic library libcudnn.so.8\n",
      "2021-10-01 06:05:31.305329: I tensorflow/stream_executor/cuda/cuda_gpu_executor.cc:941] successful NUMA node read from SysFS had negative value (-1), but there must be at least one NUMA node, so returning NUMA node zero\n",
      "2021-10-01 06:05:31.306346: I tensorflow/stream_executor/cuda/cuda_gpu_executor.cc:941] successful NUMA node read from SysFS had negative value (-1), but there must be at least one NUMA node, so returning NUMA node zero\n",
      "2021-10-01 06:05:31.307336: I tensorflow/core/common_runtime/gpu/gpu_device.cc:1862] Adding visible gpu devices: 0\n",
      "2021-10-01 06:05:31.308624: I tensorflow/stream_executor/platform/default/dso_loader.cc:49] Successfully opened dynamic library libcudart.so.11.0\n",
      "2021-10-01 06:05:33.365593: I tensorflow/core/common_runtime/gpu/gpu_device.cc:1261] Device interconnect StreamExecutor with strength 1 edge matrix:\n",
      "2021-10-01 06:05:33.365651: I tensorflow/core/common_runtime/gpu/gpu_device.cc:1267]      0 \n",
      "2021-10-01 06:05:33.365664: I tensorflow/core/common_runtime/gpu/gpu_device.cc:1280] 0:   N \n",
      "2021-10-01 06:05:33.368386: I tensorflow/stream_executor/cuda/cuda_gpu_executor.cc:941] successful NUMA node read from SysFS had negative value (-1), but there must be at least one NUMA node, so returning NUMA node zero\n",
      "2021-10-01 06:05:33.369485: I tensorflow/stream_executor/cuda/cuda_gpu_executor.cc:941] successful NUMA node read from SysFS had negative value (-1), but there must be at least one NUMA node, so returning NUMA node zero\n",
      "2021-10-01 06:05:33.370494: I tensorflow/stream_executor/cuda/cuda_gpu_executor.cc:941] successful NUMA node read from SysFS had negative value (-1), but there must be at least one NUMA node, so returning NUMA node zero\n",
      "2021-10-01 06:05:33.371447: I tensorflow/core/common_runtime/gpu/gpu_device.cc:1406] Created TensorFlow device (/job:localhost/replica:0/task:0/device:GPU:0 with 14957 MB memory) -> physical GPU (device: 0, name: Tesla P100-PCIE-16GB, pci bus id: 0000:00:04.0, compute capability: 6.0)\n"
     ]
    },
    {
     "name": "stdout",
     "output_type": "stream",
     "text": [
      "Model: \"sequential\"\n",
      "_________________________________________________________________\n",
      "Layer (type)                 Output Shape              Param #   \n",
      "=================================================================\n",
      "Dense1 (Dense)               (None, 8)                 208       \n",
      "_________________________________________________________________\n",
      "Dense2 (Dense)               (None, 4)                 36        \n",
      "=================================================================\n",
      "Total params: 244\n",
      "Trainable params: 244\n",
      "Non-trainable params: 0\n",
      "_________________________________________________________________\n",
      "None\n",
      "Model: \"sequential_1\"\n",
      "_________________________________________________________________\n",
      "Layer (type)                 Output Shape              Param #   \n",
      "=================================================================\n",
      "Conv1 (Conv2D)               (None, 130, 130, 32)      3904      \n",
      "_________________________________________________________________\n",
      "Conv2 (Conv2D)               (None, 120, 120, 32)      123936    \n",
      "_________________________________________________________________\n",
      "max_pooling2d (MaxPooling2D) (None, 58, 58, 32)        0         \n",
      "_________________________________________________________________\n",
      "Conv3 (Conv2D)               (None, 50, 50, 64)        165952    \n",
      "_________________________________________________________________\n",
      "max_pooling2d_1 (MaxPooling2 (None, 23, 23, 64)        0         \n",
      "_________________________________________________________________\n",
      "Conv4 (Conv2D)               (None, 16, 16, 128)       524416    \n",
      "_________________________________________________________________\n",
      "Conv5 (Conv2D)               (None, 8, 8, 256)         2654464   \n",
      "_________________________________________________________________\n",
      "Conv6 (Conv2D)               (None, 1, 1, 256)         4194560   \n",
      "_________________________________________________________________\n",
      "flatten (Flatten)            (None, 256)               0         \n",
      "_________________________________________________________________\n",
      "Dense (Dense)                (None, 8)                 2056      \n",
      "=================================================================\n",
      "Total params: 7,669,288\n",
      "Trainable params: 7,669,288\n",
      "Non-trainable params: 0\n",
      "_________________________________________________________________\n",
      "None\n"
     ]
    }
   ],
   "source": [
    "mlp = build_mlp()\n",
    "cnn = build_cnn()\n",
    "\n",
    "combinedInput = concatenate([mlp.output, cnn.output])\n",
    "\n",
    "x = Dense(8, activation=\"relu\")(combinedInput)\n",
    "x = Dense(3, activation=\"softmax\")(x)\n",
    "\n",
    "model = Model(inputs=[mlp.input, cnn.input], outputs=x)\n"
   ]
  },
  {
   "cell_type": "code",
   "execution_count": 18,
   "id": "f85018e8",
   "metadata": {
    "execution": {
     "iopub.execute_input": "2021-10-01T06:05:34.126206Z",
     "iopub.status.busy": "2021-10-01T06:05:34.125045Z",
     "iopub.status.idle": "2021-10-01T06:05:34.127888Z",
     "shell.execute_reply": "2021-10-01T06:05:34.128392Z"
    },
    "papermill": {
     "duration": 0.069071,
     "end_time": "2021-10-01T06:05:34.128574",
     "exception": false,
     "start_time": "2021-10-01T06:05:34.059503",
     "status": "completed"
    },
    "tags": []
   },
   "outputs": [],
   "source": [
    "opt = keras.optimizers.Adam(learning_rate=0.005)"
   ]
  },
  {
   "cell_type": "code",
   "execution_count": 19,
   "id": "0fdf2e75",
   "metadata": {
    "execution": {
     "iopub.execute_input": "2021-10-01T06:05:34.267164Z",
     "iopub.status.busy": "2021-10-01T06:05:34.266022Z",
     "iopub.status.idle": "2021-10-01T06:05:35.286348Z",
     "shell.execute_reply": "2021-10-01T06:05:35.286962Z"
    },
    "papermill": {
     "duration": 1.09487,
     "end_time": "2021-10-01T06:05:35.287144",
     "exception": false,
     "start_time": "2021-10-01T06:05:34.192274",
     "status": "completed"
    },
    "tags": []
   },
   "outputs": [
    {
     "data": {
      "image/png": "[encoded data removed]",
      "text/plain": [
       "<IPython.core.display.Image object>"
      ]
     },
     "execution_count": 19,
     "metadata": {},
     "output_type": "execute_result"
    }
   ],
   "source": [
    "model.compile(optimizer=opt, loss=tf.keras.losses.CategoricalCrossentropy(from_logits=True),\n",
    "              metrics=[keras.metrics.CategoricalAccuracy()])\n",
    "\n",
    "plot_model(model, to_file='model_plot.png', show_shapes=True, show_layer_names=True)"
   ]
  },
  {
   "cell_type": "markdown",
   "id": "29cbd346",
   "metadata": {
    "papermill": {
     "duration": 0.063341,
     "end_time": "2021-10-01T06:05:35.419196",
     "exception": false,
     "start_time": "2021-10-01T06:05:35.355855",
     "status": "completed"
    },
    "tags": []
   },
   "source": [
    "**Reduce Learning Rate on Plateau**, to reduce the learning rate gradually if there is no significant improvement on the performance of the network. "
   ]
  },
  {
   "cell_type": "code",
   "execution_count": 20,
   "id": "0c203b7a",
   "metadata": {
    "execution": {
     "iopub.execute_input": "2021-10-01T06:05:35.554095Z",
     "iopub.status.busy": "2021-10-01T06:05:35.553122Z",
     "iopub.status.idle": "2021-10-01T06:05:35.556590Z",
     "shell.execute_reply": "2021-10-01T06:05:35.555994Z"
    },
    "papermill": {
     "duration": 0.073659,
     "end_time": "2021-10-01T06:05:35.556741",
     "exception": false,
     "start_time": "2021-10-01T06:05:35.483082",
     "status": "completed"
    },
    "tags": []
   },
   "outputs": [],
   "source": [
    "\n",
    "from tensorflow.keras.callbacks import ReduceLROnPlateau\n",
    "\n",
    "cb = [\n",
    "    ReduceLROnPlateau(\n",
    "        monitor='val_loss',\n",
    "        factor=0.1,\n",
    "        patience=10,\n",
    "        mode='auto',\n",
    "        min_delta=0.0002,\n",
    "        cooldown=5,\n",
    "        min_lr=10e-8,\n",
    "        verbose=1,\n",
    "    )\n",
    "]\n",
    "\n"
   ]
  },
  {
   "cell_type": "markdown",
   "id": "40f1fbd5",
   "metadata": {
    "papermill": {
     "duration": 0.062986,
     "end_time": "2021-10-01T06:05:35.683052",
     "exception": false,
     "start_time": "2021-10-01T06:05:35.620066",
     "status": "completed"
    },
    "tags": []
   },
   "source": [
    "# Learning"
   ]
  },
  {
   "cell_type": "code",
   "execution_count": 21,
   "id": "3ea96a78",
   "metadata": {
    "execution": {
     "iopub.execute_input": "2021-10-01T06:05:36.026280Z",
     "iopub.status.busy": "2021-10-01T06:05:36.025602Z",
     "iopub.status.idle": "2021-10-01T06:14:26.073245Z",
     "shell.execute_reply": "2021-10-01T06:14:26.072653Z"
    },
    "papermill": {
     "duration": 530.326545,
     "end_time": "2021-10-01T06:14:26.073466",
     "exception": false,
     "start_time": "2021-10-01T06:05:35.746921",
     "status": "completed"
    },
    "tags": []
   },
   "outputs": [
    {
     "name": "stdout",
     "output_type": "stream",
     "text": [
      "Epoch 1/140\n"
     ]
    },
    {
     "name": "stderr",
     "output_type": "stream",
     "text": [
      "2021-10-01 06:05:37.436276: I tensorflow/compiler/mlir/mlir_graph_optimization_pass.cc:116] None of the MLIR optimization passes are enabled (registered 2)\n",
      "2021-10-01 06:05:37.446627: I tensorflow/core/platform/profile_utils/cpu_utils.cc:112] CPU Frequency: 2199995000 Hz\n",
      "2021-10-01 06:05:37.629063: I tensorflow/stream_executor/platform/default/dso_loader.cc:49] Successfully opened dynamic library libcublas.so.11\n",
      "2021-10-01 06:05:38.510998: I tensorflow/stream_executor/platform/default/dso_loader.cc:49] Successfully opened dynamic library libcublasLt.so.11\n",
      "2021-10-01 06:05:38.543649: I tensorflow/stream_executor/platform/default/dso_loader.cc:49] Successfully opened dynamic library libcudnn.so.8\n"
     ]
    },
    {
     "name": "stdout",
     "output_type": "stream",
     "text": [
      "56/56 [==============================] - 14s 89ms/step - loss: 65.1248 - categorical_accuracy: 0.2635 - val_loss: 1.5501 - val_categorical_accuracy: 0.4117\n",
      "Epoch 2/140\n",
      "56/56 [==============================] - 4s 67ms/step - loss: 1.4342 - categorical_accuracy: 0.4101 - val_loss: 1.1631 - val_categorical_accuracy: 0.4890\n",
      "Epoch 3/140\n",
      "56/56 [==============================] - 4s 67ms/step - loss: 1.1095 - categorical_accuracy: 0.5052 - val_loss: 1.0192 - val_categorical_accuracy: 0.5489\n",
      "Epoch 4/140\n",
      "56/56 [==============================] - 4s 65ms/step - loss: 0.9879 - categorical_accuracy: 0.5568 - val_loss: 0.9693 - val_categorical_accuracy: 0.6073\n",
      "Epoch 5/140\n",
      "56/56 [==============================] - 4s 66ms/step - loss: 0.9476 - categorical_accuracy: 0.6036 - val_loss: 0.9353 - val_categorical_accuracy: 0.6278\n",
      "Epoch 6/140\n",
      "56/56 [==============================] - 4s 66ms/step - loss: 0.9229 - categorical_accuracy: 0.6117 - val_loss: 0.9179 - val_categorical_accuracy: 0.6309\n",
      "Epoch 7/140\n",
      "56/56 [==============================] - 4s 65ms/step - loss: 0.8986 - categorical_accuracy: 0.6193 - val_loss: 0.9219 - val_categorical_accuracy: 0.6151\n",
      "Epoch 8/140\n",
      "56/56 [==============================] - 4s 66ms/step - loss: 0.8838 - categorical_accuracy: 0.6245 - val_loss: 0.9127 - val_categorical_accuracy: 0.6215\n",
      "Epoch 9/140\n",
      "56/56 [==============================] - 4s 65ms/step - loss: 0.8684 - categorical_accuracy: 0.6207 - val_loss: 0.8884 - val_categorical_accuracy: 0.6420\n",
      "Epoch 10/140\n",
      "56/56 [==============================] - 4s 65ms/step - loss: 0.8586 - categorical_accuracy: 0.6199 - val_loss: 0.8537 - val_categorical_accuracy: 0.6514\n",
      "Epoch 11/140\n",
      "56/56 [==============================] - 4s 66ms/step - loss: 0.8521 - categorical_accuracy: 0.6298 - val_loss: 0.8552 - val_categorical_accuracy: 0.6309\n",
      "Epoch 12/140\n",
      "56/56 [==============================] - 4s 67ms/step - loss: 0.8487 - categorical_accuracy: 0.6163 - val_loss: 0.8417 - val_categorical_accuracy: 0.6483\n",
      "Epoch 13/140\n",
      "56/56 [==============================] - 4s 65ms/step - loss: 0.8426 - categorical_accuracy: 0.6152 - val_loss: 0.8489 - val_categorical_accuracy: 0.6151\n",
      "Epoch 14/140\n",
      "56/56 [==============================] - 4s 66ms/step - loss: 0.8302 - categorical_accuracy: 0.6159 - val_loss: 0.8602 - val_categorical_accuracy: 0.6120\n",
      "Epoch 15/140\n",
      "56/56 [==============================] - 4s 66ms/step - loss: 0.8205 - categorical_accuracy: 0.6267 - val_loss: 0.8704 - val_categorical_accuracy: 0.6041\n",
      "Epoch 16/140\n",
      "56/56 [==============================] - 4s 65ms/step - loss: 0.8061 - categorical_accuracy: 0.6341 - val_loss: 0.8786 - val_categorical_accuracy: 0.5994\n",
      "Epoch 17/140\n",
      "56/56 [==============================] - 4s 67ms/step - loss: 0.8189 - categorical_accuracy: 0.6257 - val_loss: 0.8607 - val_categorical_accuracy: 0.6120\n",
      "Epoch 18/140\n",
      "56/56 [==============================] - 4s 65ms/step - loss: 0.8235 - categorical_accuracy: 0.6232 - val_loss: 0.8338 - val_categorical_accuracy: 0.6278\n",
      "Epoch 19/140\n",
      "56/56 [==============================] - 4s 65ms/step - loss: 0.8162 - categorical_accuracy: 0.6232 - val_loss: 0.8206 - val_categorical_accuracy: 0.6483\n",
      "Epoch 20/140\n",
      "56/56 [==============================] - 4s 66ms/step - loss: 0.8002 - categorical_accuracy: 0.6343 - val_loss: 0.8164 - val_categorical_accuracy: 0.6625\n",
      "Epoch 21/140\n",
      "56/56 [==============================] - 4s 66ms/step - loss: 0.7972 - categorical_accuracy: 0.6345 - val_loss: 0.8150 - val_categorical_accuracy: 0.6656\n",
      "Epoch 22/140\n",
      "56/56 [==============================] - 4s 65ms/step - loss: 0.7998 - categorical_accuracy: 0.6301 - val_loss: 0.8146 - val_categorical_accuracy: 0.6703\n",
      "Epoch 23/140\n",
      "56/56 [==============================] - 4s 66ms/step - loss: 0.7972 - categorical_accuracy: 0.6413 - val_loss: 0.8147 - val_categorical_accuracy: 0.6625\n",
      "Epoch 24/140\n",
      "56/56 [==============================] - 4s 65ms/step - loss: 0.7944 - categorical_accuracy: 0.6562 - val_loss: 0.8010 - val_categorical_accuracy: 0.6830\n",
      "Epoch 25/140\n",
      "56/56 [==============================] - 4s 65ms/step - loss: 0.7842 - categorical_accuracy: 0.6572 - val_loss: 0.7998 - val_categorical_accuracy: 0.6751\n",
      "Epoch 26/140\n",
      "56/56 [==============================] - 4s 67ms/step - loss: 0.7801 - categorical_accuracy: 0.6741 - val_loss: 0.7927 - val_categorical_accuracy: 0.6830\n",
      "Epoch 27/140\n",
      "56/56 [==============================] - 4s 65ms/step - loss: 0.7759 - categorical_accuracy: 0.6844 - val_loss: 0.7937 - val_categorical_accuracy: 0.6751\n",
      "Epoch 28/140\n",
      "56/56 [==============================] - 4s 65ms/step - loss: 0.7628 - categorical_accuracy: 0.6832 - val_loss: 0.7891 - val_categorical_accuracy: 0.6751\n",
      "Epoch 29/140\n",
      "56/56 [==============================] - 4s 66ms/step - loss: 0.7632 - categorical_accuracy: 0.6788 - val_loss: 0.7836 - val_categorical_accuracy: 0.6782\n",
      "Epoch 30/140\n",
      "56/56 [==============================] - 4s 66ms/step - loss: 0.7657 - categorical_accuracy: 0.6790 - val_loss: 0.7770 - val_categorical_accuracy: 0.6877\n",
      "Epoch 31/140\n",
      "56/56 [==============================] - 4s 66ms/step - loss: 0.7624 - categorical_accuracy: 0.6720 - val_loss: 0.7799 - val_categorical_accuracy: 0.6845\n",
      "Epoch 32/140\n",
      "56/56 [==============================] - 4s 66ms/step - loss: 0.7545 - categorical_accuracy: 0.6811 - val_loss: 0.7893 - val_categorical_accuracy: 0.6830\n",
      "Epoch 33/140\n",
      "56/56 [==============================] - 4s 65ms/step - loss: 0.7656 - categorical_accuracy: 0.6726 - val_loss: 0.7730 - val_categorical_accuracy: 0.6956\n",
      "Epoch 34/140\n",
      "56/56 [==============================] - 4s 65ms/step - loss: 0.7543 - categorical_accuracy: 0.6784 - val_loss: 0.7600 - val_categorical_accuracy: 0.6877\n",
      "Epoch 35/140\n",
      "56/56 [==============================] - 4s 66ms/step - loss: 0.7523 - categorical_accuracy: 0.6797 - val_loss: 0.7706 - val_categorical_accuracy: 0.6877\n",
      "Epoch 36/140\n",
      "56/56 [==============================] - 4s 65ms/step - loss: 0.7645 - categorical_accuracy: 0.6773 - val_loss: 0.7682 - val_categorical_accuracy: 0.6909\n",
      "Epoch 37/140\n",
      "56/56 [==============================] - 4s 65ms/step - loss: 0.7709 - categorical_accuracy: 0.6624 - val_loss: 0.8152 - val_categorical_accuracy: 0.6814\n",
      "Epoch 38/140\n",
      "56/56 [==============================] - 4s 66ms/step - loss: 0.7838 - categorical_accuracy: 0.6653 - val_loss: 0.8186 - val_categorical_accuracy: 0.6830\n",
      "Epoch 39/140\n",
      "56/56 [==============================] - 4s 68ms/step - loss: 0.7655 - categorical_accuracy: 0.6779 - val_loss: 0.8119 - val_categorical_accuracy: 0.6861\n",
      "Epoch 40/140\n",
      "56/56 [==============================] - 4s 65ms/step - loss: 0.7517 - categorical_accuracy: 0.6852 - val_loss: 0.7784 - val_categorical_accuracy: 0.6972\n",
      "Epoch 41/140\n",
      "56/56 [==============================] - 4s 65ms/step - loss: 0.7481 - categorical_accuracy: 0.6879 - val_loss: 0.7623 - val_categorical_accuracy: 0.7066\n",
      "Epoch 42/140\n",
      "56/56 [==============================] - 4s 66ms/step - loss: 0.7357 - categorical_accuracy: 0.6993 - val_loss: 0.7372 - val_categorical_accuracy: 0.7161\n",
      "Epoch 43/140\n",
      "56/56 [==============================] - 4s 65ms/step - loss: 0.7320 - categorical_accuracy: 0.7090 - val_loss: 0.7303 - val_categorical_accuracy: 0.7161\n",
      "Epoch 44/140\n",
      "56/56 [==============================] - 4s 66ms/step - loss: 0.7221 - categorical_accuracy: 0.7130 - val_loss: 0.7422 - val_categorical_accuracy: 0.7129\n",
      "Epoch 45/140\n",
      "56/56 [==============================] - 4s 66ms/step - loss: 0.7193 - categorical_accuracy: 0.7189 - val_loss: 0.7682 - val_categorical_accuracy: 0.7129\n",
      "Epoch 46/140\n",
      "56/56 [==============================] - 4s 65ms/step - loss: 0.7167 - categorical_accuracy: 0.7235 - val_loss: 0.7239 - val_categorical_accuracy: 0.7271\n",
      "Epoch 47/140\n",
      "56/56 [==============================] - 4s 66ms/step - loss: 0.6980 - categorical_accuracy: 0.7286 - val_loss: 0.7255 - val_categorical_accuracy: 0.7287\n",
      "Epoch 48/140\n",
      "56/56 [==============================] - 4s 68ms/step - loss: 0.7027 - categorical_accuracy: 0.7336 - val_loss: 0.7462 - val_categorical_accuracy: 0.7208\n",
      "Epoch 49/140\n",
      "56/56 [==============================] - 4s 65ms/step - loss: 0.6862 - categorical_accuracy: 0.7422 - val_loss: 0.7534 - val_categorical_accuracy: 0.7082\n",
      "Epoch 50/140\n",
      "56/56 [==============================] - 4s 66ms/step - loss: 0.6877 - categorical_accuracy: 0.7412 - val_loss: 0.7591 - val_categorical_accuracy: 0.7082\n",
      "Epoch 51/140\n",
      "56/56 [==============================] - 4s 65ms/step - loss: 0.6788 - categorical_accuracy: 0.7519 - val_loss: 0.7432 - val_categorical_accuracy: 0.7319\n",
      "Epoch 52/140\n",
      "56/56 [==============================] - 4s 65ms/step - loss: 0.6740 - categorical_accuracy: 0.7512 - val_loss: 0.7196 - val_categorical_accuracy: 0.7413\n",
      "Epoch 53/140\n",
      "56/56 [==============================] - 4s 66ms/step - loss: 0.6635 - categorical_accuracy: 0.7529 - val_loss: 0.6986 - val_categorical_accuracy: 0.7508\n",
      "Epoch 54/140\n",
      "56/56 [==============================] - 4s 65ms/step - loss: 0.6579 - categorical_accuracy: 0.7624 - val_loss: 0.7160 - val_categorical_accuracy: 0.7461\n",
      "Epoch 55/140\n",
      "56/56 [==============================] - 4s 65ms/step - loss: 0.6391 - categorical_accuracy: 0.7692 - val_loss: 0.7287 - val_categorical_accuracy: 0.7413\n",
      "Epoch 56/140\n",
      "56/56 [==============================] - 4s 70ms/step - loss: 0.6243 - categorical_accuracy: 0.7760 - val_loss: 0.7028 - val_categorical_accuracy: 0.7555\n",
      "Epoch 57/140\n",
      "56/56 [==============================] - 4s 68ms/step - loss: 0.6175 - categorical_accuracy: 0.7805 - val_loss: 0.6922 - val_categorical_accuracy: 0.7587\n",
      "Epoch 58/140\n",
      "56/56 [==============================] - 4s 66ms/step - loss: 0.6078 - categorical_accuracy: 0.7795 - val_loss: 0.7002 - val_categorical_accuracy: 0.7350\n",
      "Epoch 59/140\n",
      "56/56 [==============================] - 4s 67ms/step - loss: 0.6174 - categorical_accuracy: 0.7759 - val_loss: 0.6911 - val_categorical_accuracy: 0.7524\n",
      "Epoch 60/140\n",
      "56/56 [==============================] - 4s 65ms/step - loss: 0.5796 - categorical_accuracy: 0.8026 - val_loss: 0.6962 - val_categorical_accuracy: 0.7634\n",
      "Epoch 61/140\n",
      "56/56 [==============================] - 4s 65ms/step - loss: 0.5707 - categorical_accuracy: 0.8056 - val_loss: 0.6800 - val_categorical_accuracy: 0.7618\n",
      "Epoch 62/140\n",
      "56/56 [==============================] - 4s 66ms/step - loss: 0.5706 - categorical_accuracy: 0.8005 - val_loss: 0.6987 - val_categorical_accuracy: 0.7508\n",
      "Epoch 63/140\n",
      "56/56 [==============================] - 4s 65ms/step - loss: 0.5874 - categorical_accuracy: 0.7961 - val_loss: 0.7023 - val_categorical_accuracy: 0.7555\n",
      "Epoch 64/140\n",
      "56/56 [==============================] - 4s 65ms/step - loss: 0.5810 - categorical_accuracy: 0.7978 - val_loss: 0.6399 - val_categorical_accuracy: 0.7650\n",
      "Epoch 65/140\n",
      "56/56 [==============================] - 4s 71ms/step - loss: 0.5678 - categorical_accuracy: 0.7935 - val_loss: 0.6428 - val_categorical_accuracy: 0.7587\n",
      "Epoch 66/140\n",
      "56/56 [==============================] - 4s 67ms/step - loss: 0.5347 - categorical_accuracy: 0.8183 - val_loss: 0.6237 - val_categorical_accuracy: 0.7571\n",
      "Epoch 67/140\n",
      "56/56 [==============================] - 4s 65ms/step - loss: 0.5063 - categorical_accuracy: 0.8245 - val_loss: 0.6260 - val_categorical_accuracy: 0.7587\n",
      "Epoch 68/140\n",
      "56/56 [==============================] - 4s 65ms/step - loss: 0.4963 - categorical_accuracy: 0.8248 - val_loss: 0.6216 - val_categorical_accuracy: 0.7618\n",
      "Epoch 69/140\n",
      "56/56 [==============================] - 4s 66ms/step - loss: 0.4913 - categorical_accuracy: 0.8218 - val_loss: 0.6354 - val_categorical_accuracy: 0.7634\n",
      "Epoch 70/140\n",
      "56/56 [==============================] - 4s 65ms/step - loss: 0.4734 - categorical_accuracy: 0.8312 - val_loss: 0.6302 - val_categorical_accuracy: 0.7697\n",
      "Epoch 71/140\n",
      "56/56 [==============================] - 4s 67ms/step - loss: 0.4768 - categorical_accuracy: 0.8237 - val_loss: 0.6502 - val_categorical_accuracy: 0.7713\n",
      "Epoch 72/140\n",
      "56/56 [==============================] - 4s 65ms/step - loss: 0.4755 - categorical_accuracy: 0.8307 - val_loss: 0.6187 - val_categorical_accuracy: 0.7776\n",
      "Epoch 73/140\n",
      "56/56 [==============================] - 4s 66ms/step - loss: 0.4735 - categorical_accuracy: 0.8307 - val_loss: 0.5978 - val_categorical_accuracy: 0.7792\n",
      "Epoch 74/140\n",
      "56/56 [==============================] - 4s 73ms/step - loss: 0.4825 - categorical_accuracy: 0.8202 - val_loss: 0.6019 - val_categorical_accuracy: 0.7713\n",
      "Epoch 75/140\n",
      "56/56 [==============================] - 4s 66ms/step - loss: 0.4960 - categorical_accuracy: 0.8191 - val_loss: 0.5937 - val_categorical_accuracy: 0.7618\n",
      "Epoch 76/140\n",
      "56/56 [==============================] - 4s 65ms/step - loss: 0.4931 - categorical_accuracy: 0.8236 - val_loss: 0.6049 - val_categorical_accuracy: 0.7634\n",
      "Epoch 77/140\n",
      "56/56 [==============================] - 4s 66ms/step - loss: 0.4876 - categorical_accuracy: 0.8222 - val_loss: 0.5799 - val_categorical_accuracy: 0.7713\n",
      "Epoch 78/140\n",
      "56/56 [==============================] - 4s 65ms/step - loss: 0.4716 - categorical_accuracy: 0.8266 - val_loss: 0.5679 - val_categorical_accuracy: 0.7871\n",
      "Epoch 79/140\n",
      "56/56 [==============================] - 4s 65ms/step - loss: 0.4722 - categorical_accuracy: 0.8233 - val_loss: 0.5738 - val_categorical_accuracy: 0.7871\n",
      "Epoch 80/140\n",
      "56/56 [==============================] - 4s 66ms/step - loss: 0.4662 - categorical_accuracy: 0.8217 - val_loss: 0.5731 - val_categorical_accuracy: 0.7855\n",
      "Epoch 81/140\n",
      "56/56 [==============================] - 4s 65ms/step - loss: 0.4676 - categorical_accuracy: 0.8242 - val_loss: 0.5732 - val_categorical_accuracy: 0.7886\n",
      "Epoch 82/140\n",
      "56/56 [==============================] - 4s 65ms/step - loss: 0.4677 - categorical_accuracy: 0.8233 - val_loss: 0.5593 - val_categorical_accuracy: 0.7871\n",
      "Epoch 83/140\n",
      "56/56 [==============================] - 4s 71ms/step - loss: 0.4636 - categorical_accuracy: 0.8240 - val_loss: 0.5629 - val_categorical_accuracy: 0.7855\n",
      "Epoch 84/140\n",
      "56/56 [==============================] - 4s 66ms/step - loss: 0.4720 - categorical_accuracy: 0.8218 - val_loss: 0.5539 - val_categorical_accuracy: 0.7886\n",
      "Epoch 85/140\n",
      "56/56 [==============================] - 4s 65ms/step - loss: 0.4563 - categorical_accuracy: 0.8306 - val_loss: 0.5695 - val_categorical_accuracy: 0.7871\n",
      "Epoch 86/140\n",
      "56/56 [==============================] - 4s 66ms/step - loss: 0.4673 - categorical_accuracy: 0.8281 - val_loss: 0.5726 - val_categorical_accuracy: 0.7934\n",
      "Epoch 87/140\n",
      "56/56 [==============================] - 4s 65ms/step - loss: 0.4669 - categorical_accuracy: 0.8307 - val_loss: 0.5811 - val_categorical_accuracy: 0.7697\n",
      "Epoch 88/140\n",
      "56/56 [==============================] - 4s 65ms/step - loss: 0.4685 - categorical_accuracy: 0.8317 - val_loss: 0.5783 - val_categorical_accuracy: 0.7618\n",
      "Epoch 89/140\n",
      "56/56 [==============================] - 4s 66ms/step - loss: 0.4631 - categorical_accuracy: 0.8281 - val_loss: 0.5532 - val_categorical_accuracy: 0.7871\n",
      "Epoch 90/140\n",
      "56/56 [==============================] - 4s 65ms/step - loss: 0.4616 - categorical_accuracy: 0.8225 - val_loss: 0.5522 - val_categorical_accuracy: 0.7823\n",
      "Epoch 91/140\n",
      "56/56 [==============================] - 4s 65ms/step - loss: 0.4631 - categorical_accuracy: 0.8279 - val_loss: 0.5648 - val_categorical_accuracy: 0.7744\n",
      "Epoch 92/140\n",
      "56/56 [==============================] - 4s 71ms/step - loss: 0.4602 - categorical_accuracy: 0.8275 - val_loss: 0.6049 - val_categorical_accuracy: 0.7587\n",
      "Epoch 93/140\n",
      "56/56 [==============================] - 4s 66ms/step - loss: 0.4783 - categorical_accuracy: 0.8241 - val_loss: 0.5836 - val_categorical_accuracy: 0.7697\n",
      "Epoch 94/140\n",
      "56/56 [==============================] - 4s 65ms/step - loss: 0.4843 - categorical_accuracy: 0.8221 - val_loss: 0.5801 - val_categorical_accuracy: 0.7744\n",
      "Epoch 95/140\n",
      "56/56 [==============================] - 4s 66ms/step - loss: 0.4924 - categorical_accuracy: 0.8136 - val_loss: 0.5634 - val_categorical_accuracy: 0.7839\n",
      "Epoch 96/140\n",
      "56/56 [==============================] - 4s 67ms/step - loss: 0.4873 - categorical_accuracy: 0.8221 - val_loss: 0.5757 - val_categorical_accuracy: 0.7902\n",
      "Epoch 97/140\n",
      "56/56 [==============================] - 4s 66ms/step - loss: 0.4748 - categorical_accuracy: 0.8288 - val_loss: 0.6004 - val_categorical_accuracy: 0.7871\n",
      "Epoch 98/140\n",
      "56/56 [==============================] - 4s 66ms/step - loss: 0.4850 - categorical_accuracy: 0.8252 - val_loss: 0.6087 - val_categorical_accuracy: 0.7855\n",
      "Epoch 99/140\n",
      "56/56 [==============================] - 4s 65ms/step - loss: 0.4696 - categorical_accuracy: 0.8316 - val_loss: 0.5954 - val_categorical_accuracy: 0.7808\n",
      "Epoch 100/140\n",
      "56/56 [==============================] - 4s 65ms/step - loss: 0.4918 - categorical_accuracy: 0.8198 - val_loss: 0.5691 - val_categorical_accuracy: 0.7902\n",
      "\n",
      "Epoch 00100: ReduceLROnPlateau reducing learning rate to 0.0004999999888241291.\n",
      "Epoch 101/140\n",
      "56/56 [==============================] - 4s 69ms/step - loss: 0.4536 - categorical_accuracy: 0.8412 - val_loss: 0.5533 - val_categorical_accuracy: 0.7950\n",
      "Epoch 102/140\n",
      "56/56 [==============================] - 4s 67ms/step - loss: 0.4529 - categorical_accuracy: 0.8337 - val_loss: 0.5523 - val_categorical_accuracy: 0.7950\n",
      "Epoch 103/140\n",
      "56/56 [==============================] - 4s 65ms/step - loss: 0.4579 - categorical_accuracy: 0.8409 - val_loss: 0.5514 - val_categorical_accuracy: 0.7934\n",
      "Epoch 104/140\n",
      "56/56 [==============================] - 4s 66ms/step - loss: 0.4711 - categorical_accuracy: 0.8363 - val_loss: 0.5496 - val_categorical_accuracy: 0.7965\n",
      "Epoch 105/140\n",
      "56/56 [==============================] - 4s 65ms/step - loss: 0.4689 - categorical_accuracy: 0.8368 - val_loss: 0.5485 - val_categorical_accuracy: 0.7950\n",
      "Epoch 106/140\n",
      "56/56 [==============================] - 4s 65ms/step - loss: 0.4645 - categorical_accuracy: 0.8347 - val_loss: 0.5485 - val_categorical_accuracy: 0.7965\n",
      "Epoch 107/140\n",
      "56/56 [==============================] - 4s 66ms/step - loss: 0.4667 - categorical_accuracy: 0.8326 - val_loss: 0.5490 - val_categorical_accuracy: 0.7934\n",
      "Epoch 108/140\n",
      "56/56 [==============================] - 4s 65ms/step - loss: 0.4762 - categorical_accuracy: 0.8270 - val_loss: 0.5484 - val_categorical_accuracy: 0.7918\n",
      "Epoch 109/140\n",
      "56/56 [==============================] - 4s 65ms/step - loss: 0.4667 - categorical_accuracy: 0.8339 - val_loss: 0.5500 - val_categorical_accuracy: 0.7918\n",
      "Epoch 110/140\n",
      "56/56 [==============================] - 4s 68ms/step - loss: 0.4550 - categorical_accuracy: 0.8381 - val_loss: 0.5497 - val_categorical_accuracy: 0.7902\n",
      "Epoch 111/140\n",
      "56/56 [==============================] - 4s 67ms/step - loss: 0.4512 - categorical_accuracy: 0.8340 - val_loss: 0.5501 - val_categorical_accuracy: 0.7918\n",
      "Epoch 112/140\n",
      "56/56 [==============================] - 4s 67ms/step - loss: 0.4429 - categorical_accuracy: 0.8357 - val_loss: 0.5496 - val_categorical_accuracy: 0.7918\n",
      "Epoch 113/140\n",
      "56/56 [==============================] - 4s 65ms/step - loss: 0.4343 - categorical_accuracy: 0.8396 - val_loss: 0.5490 - val_categorical_accuracy: 0.7934\n",
      "Epoch 114/140\n",
      "56/56 [==============================] - 4s 65ms/step - loss: 0.4341 - categorical_accuracy: 0.8366 - val_loss: 0.5484 - val_categorical_accuracy: 0.7934\n",
      "Epoch 115/140\n",
      "56/56 [==============================] - 4s 67ms/step - loss: 0.4311 - categorical_accuracy: 0.8383 - val_loss: 0.5480 - val_categorical_accuracy: 0.7965\n",
      "Epoch 116/140\n",
      "56/56 [==============================] - 4s 66ms/step - loss: 0.4389 - categorical_accuracy: 0.8339 - val_loss: 0.5479 - val_categorical_accuracy: 0.7950\n",
      "Epoch 117/140\n",
      "56/56 [==============================] - 4s 65ms/step - loss: 0.4168 - categorical_accuracy: 0.8480 - val_loss: 0.5481 - val_categorical_accuracy: 0.7950\n",
      "Epoch 118/140\n",
      "56/56 [==============================] - 4s 66ms/step - loss: 0.4170 - categorical_accuracy: 0.8483 - val_loss: 0.5483 - val_categorical_accuracy: 0.7965\n",
      "Epoch 119/140\n",
      "56/56 [==============================] - 4s 67ms/step - loss: 0.4262 - categorical_accuracy: 0.8425 - val_loss: 0.5486 - val_categorical_accuracy: 0.7934\n",
      "Epoch 120/140\n",
      "56/56 [==============================] - 4s 67ms/step - loss: 0.4254 - categorical_accuracy: 0.8455 - val_loss: 0.5486 - val_categorical_accuracy: 0.7950\n",
      "Epoch 121/140\n",
      "56/56 [==============================] - 4s 68ms/step - loss: 0.4291 - categorical_accuracy: 0.8413 - val_loss: 0.5493 - val_categorical_accuracy: 0.7950\n",
      "Epoch 122/140\n",
      "56/56 [==============================] - 4s 66ms/step - loss: 0.4242 - categorical_accuracy: 0.8405 - val_loss: 0.5487 - val_categorical_accuracy: 0.7950\n",
      "Epoch 123/140\n",
      "56/56 [==============================] - 4s 66ms/step - loss: 0.4144 - categorical_accuracy: 0.8485 - val_loss: 0.5479 - val_categorical_accuracy: 0.7997\n",
      "Epoch 124/140\n",
      "56/56 [==============================] - 4s 67ms/step - loss: 0.4047 - categorical_accuracy: 0.8524 - val_loss: 0.5482 - val_categorical_accuracy: 0.7981\n",
      "Epoch 125/140\n",
      "56/56 [==============================] - 4s 65ms/step - loss: 0.4042 - categorical_accuracy: 0.8503 - val_loss: 0.5484 - val_categorical_accuracy: 0.7965\n",
      "\n",
      "Epoch 00125: ReduceLROnPlateau reducing learning rate to 4.9999996554106475e-05.\n",
      "Epoch 126/140\n",
      "56/56 [==============================] - 4s 65ms/step - loss: 0.3960 - categorical_accuracy: 0.8519 - val_loss: 0.5458 - val_categorical_accuracy: 0.7965\n",
      "Epoch 127/140\n",
      "56/56 [==============================] - 4s 67ms/step - loss: 0.3937 - categorical_accuracy: 0.8494 - val_loss: 0.5461 - val_categorical_accuracy: 0.7965\n",
      "Epoch 128/140\n",
      "56/56 [==============================] - 4s 66ms/step - loss: 0.4034 - categorical_accuracy: 0.8432 - val_loss: 0.5465 - val_categorical_accuracy: 0.7965\n",
      "Epoch 129/140\n",
      "56/56 [==============================] - 4s 67ms/step - loss: 0.4007 - categorical_accuracy: 0.8451 - val_loss: 0.5467 - val_categorical_accuracy: 0.7965\n",
      "Epoch 130/140\n",
      "56/56 [==============================] - 4s 68ms/step - loss: 0.4057 - categorical_accuracy: 0.8455 - val_loss: 0.5469 - val_categorical_accuracy: 0.7965\n",
      "Epoch 131/140\n",
      "56/56 [==============================] - 4s 65ms/step - loss: 0.4147 - categorical_accuracy: 0.8394 - val_loss: 0.5470 - val_categorical_accuracy: 0.7965\n",
      "Epoch 132/140\n",
      "56/56 [==============================] - 4s 66ms/step - loss: 0.4368 - categorical_accuracy: 0.8317 - val_loss: 0.5469 - val_categorical_accuracy: 0.7965\n",
      "Epoch 133/140\n",
      "56/56 [==============================] - 4s 66ms/step - loss: 0.4399 - categorical_accuracy: 0.8330 - val_loss: 0.5469 - val_categorical_accuracy: 0.7965\n",
      "Epoch 134/140\n",
      "56/56 [==============================] - 4s 65ms/step - loss: 0.4354 - categorical_accuracy: 0.8372 - val_loss: 0.5469 - val_categorical_accuracy: 0.7965\n",
      "Epoch 135/140\n",
      "56/56 [==============================] - 4s 65ms/step - loss: 0.4269 - categorical_accuracy: 0.8404 - val_loss: 0.5469 - val_categorical_accuracy: 0.7981\n",
      "Epoch 136/140\n",
      "56/56 [==============================] - 4s 69ms/step - loss: 0.4329 - categorical_accuracy: 0.8357 - val_loss: 0.5469 - val_categorical_accuracy: 0.7981\n",
      "Epoch 137/140\n",
      "56/56 [==============================] - 4s 66ms/step - loss: 0.4311 - categorical_accuracy: 0.8354 - val_loss: 0.5470 - val_categorical_accuracy: 0.7981\n",
      "Epoch 138/140\n",
      "56/56 [==============================] - 4s 67ms/step - loss: 0.4305 - categorical_accuracy: 0.8380 - val_loss: 0.5469 - val_categorical_accuracy: 0.7965\n",
      "Epoch 139/140\n",
      "56/56 [==============================] - 4s 70ms/step - loss: 0.4326 - categorical_accuracy: 0.8346 - val_loss: 0.5469 - val_categorical_accuracy: 0.7965\n",
      "\n",
      "Epoch 00139: ReduceLROnPlateau reducing learning rate to 4.999999509891496e-06.\n",
      "Epoch 140/140\n",
      "56/56 [==============================] - 4s 66ms/step - loss: 0.4335 - categorical_accuracy: 0.8325 - val_loss: 0.5469 - val_categorical_accuracy: 0.7965\n"
     ]
    }
   ],
   "source": [
    "dataset_inputs = tf.data.Dataset.from_tensor_slices((train_extr_features, tf.expand_dims(train_images_norm, axis=-1)))\n",
    "dataset_label = tf.data.Dataset.from_tensor_slices(train_labels)\n",
    "\n",
    "dataset = tf.data.Dataset.zip((dataset_inputs, dataset_label)).batch(BATCH_SIZE).repeat()\n",
    "STEP_SIZE_TRAIN= train_images_norm.shape[0]//BATCH_SIZE\n",
    "# fit model\n",
    "history = model.fit(dataset, \n",
    "                    validation_data=([val_extr_features, tf.expand_dims(val_images_norm, axis=-1)], val_labels),\n",
    "                    epochs = EPOCH_NUM, steps_per_epoch=STEP_SIZE_TRAIN, callbacks=cb)\n",
    "\n"
   ]
  },
  {
   "cell_type": "code",
   "execution_count": 22,
   "id": "9d870f2b",
   "metadata": {
    "execution": {
     "iopub.execute_input": "2021-10-01T06:14:31.797910Z",
     "iopub.status.busy": "2021-10-01T06:14:31.793584Z",
     "iopub.status.idle": "2021-10-01T06:14:32.140840Z",
     "shell.execute_reply": "2021-10-01T06:14:32.141923Z"
    },
    "papermill": {
     "duration": 3.263975,
     "end_time": "2021-10-01T06:14:32.142200",
     "exception": false,
     "start_time": "2021-10-01T06:14:28.878225",
     "status": "completed"
    },
    "tags": []
   },
   "outputs": [],
   "source": [
    "model.save_weights('./kentang_net')"
   ]
  },
  {
   "cell_type": "markdown",
   "id": "c6ecf828",
   "metadata": {
    "papermill": {
     "duration": 2.782349,
     "end_time": "2021-10-01T06:14:37.770813",
     "exception": false,
     "start_time": "2021-10-01T06:14:34.988464",
     "status": "completed"
    },
    "tags": []
   },
   "source": [
    "# Testing"
   ]
  },
  {
   "cell_type": "code",
   "execution_count": 23,
   "id": "ba0b0a1a",
   "metadata": {
    "execution": {
     "iopub.execute_input": "2021-10-01T06:14:44.301007Z",
     "iopub.status.busy": "2021-10-01T06:14:44.300020Z",
     "iopub.status.idle": "2021-10-01T06:14:45.021828Z",
     "shell.execute_reply": "2021-10-01T06:14:45.022759Z"
    },
    "papermill": {
     "duration": 4.387385,
     "end_time": "2021-10-01T06:14:45.023016",
     "exception": false,
     "start_time": "2021-10-01T06:14:40.635631",
     "status": "completed"
    },
    "tags": []
   },
   "outputs": [
    {
     "name": "stdout",
     "output_type": "stream",
     "text": [
      "20/20 [==============================] - 1s 20ms/step - loss: 0.5676 - categorical_accuracy: 0.7812\n",
      "Test loss: 0.5676397085189819 / Test accuracy: 0.78125\n"
     ]
    }
   ],
   "source": [
    "test_inputs = tf.data.Dataset.from_tensor_slices((test_extr_features, tf.expand_dims(test_images_norm, axis=-1)))\n",
    "test_labelz = tf.data.Dataset.from_tensor_slices(test_labels)\n",
    "\n",
    "test_dataset = tf.data.Dataset.zip((test_inputs, test_labelz)).batch(BATCH_SIZE).repeat()\n",
    "STEP_SIZE_TEST= test_images_norm.shape[0]//BATCH_SIZE\n",
    "\n",
    "score = model.evaluate(test_dataset, batch_size=BATCH_SIZE, steps=STEP_SIZE_TEST )\n",
    "print(f'Test loss: {score[0]} / Test accuracy: {score[1]}')"
   ]
  },
  {
   "cell_type": "markdown",
   "id": "9872da67",
   "metadata": {
    "papermill": {
     "duration": 2.793459,
     "end_time": "2021-10-01T06:14:50.579403",
     "exception": false,
     "start_time": "2021-10-01T06:14:47.785944",
     "status": "completed"
    },
    "tags": []
   },
   "source": [
    "# Plotting the metrics"
   ]
  },
  {
   "cell_type": "code",
   "execution_count": 24,
   "id": "69a145ec",
   "metadata": {
    "execution": {
     "iopub.execute_input": "2021-10-01T06:14:56.454058Z",
     "iopub.status.busy": "2021-10-01T06:14:56.452354Z",
     "iopub.status.idle": "2021-10-01T06:14:56.456700Z",
     "shell.execute_reply": "2021-10-01T06:14:56.457224Z"
    },
    "papermill": {
     "duration": 3.124776,
     "end_time": "2021-10-01T06:14:56.457400",
     "exception": false,
     "start_time": "2021-10-01T06:14:53.332624",
     "status": "completed"
    },
    "tags": []
   },
   "outputs": [
    {
     "data": {
      "text/plain": [
       "dict_keys(['loss', 'categorical_accuracy', 'val_loss', 'val_categorical_accuracy', 'lr'])"
      ]
     },
     "execution_count": 24,
     "metadata": {},
     "output_type": "execute_result"
    }
   ],
   "source": [
    "import matplotlib.pyplot as plt\n",
    "history.history.keys()"
   ]
  },
  {
   "cell_type": "code",
   "execution_count": 25,
   "id": "c47dc7a6",
   "metadata": {
    "execution": {
     "iopub.execute_input": "2021-10-01T06:15:02.061077Z",
     "iopub.status.busy": "2021-10-01T06:15:02.059753Z",
     "iopub.status.idle": "2021-10-01T06:15:02.314874Z",
     "shell.execute_reply": "2021-10-01T06:15:02.314236Z"
    },
    "papermill": {
     "duration": 3.08523,
     "end_time": "2021-10-01T06:15:02.315026",
     "exception": false,
     "start_time": "2021-10-01T06:14:59.229796",
     "status": "completed"
    },
    "tags": []
   },
   "outputs": [
    {
     "data": {
      "image/png": "[encoded data removed]",
      "text/plain": [
       "<Figure size 432x288 with 1 Axes>"
      ]
     },
     "metadata": {
      "needs_background": "light"
     },
     "output_type": "display_data"
    }
   ],
   "source": [
    "plt.plot(history.history['categorical_accuracy'])\n",
    "plt.plot(history.history['val_categorical_accuracy'])\n",
    "plt.title('Accuracy')\n",
    "plt.ylabel('accuracy')\n",
    "plt.xlabel('epoch')\n",
    "plt.legend(['train', 'validation'], loc='upper left')\n",
    "plt.show()"
   ]
  },
  {
   "cell_type": "code",
   "execution_count": null,
   "id": "788ffb11",
   "metadata": {},
   "outputs": [],
   "source": []
  }
 ],
 "metadata": {
  "kernelspec": {
   "display_name": "Python 3 (ipykernel)",
   "language": "python",
   "name": "python3"
  },
  "language_info": {
   "codemirror_mode": {
    "name": "ipython",
    "version": 3
   },
   "file_extension": ".py",
   "mimetype": "text/x-python",
   "name": "python",
   "nbconvert_exporter": "python",
   "pygments_lexer": "ipython3",
   "version": "3.9.12"
  },
  "papermill": {
   "default_parameters": {},
   "duration": 946.112805,
   "end_time": "2021-10-01T06:15:26.533830",
   "environment_variables": {},
   "exception": null,
   "input_path": "__notebook__.ipynb",
   "output_path": "__notebook__.ipynb",
   "parameters": {},
   "start_time": "2021-10-01T05:59:40.421025",
   "version": "2.3.3"
  }
 },
 "nbformat": 4,
 "nbformat_minor": 5
}
