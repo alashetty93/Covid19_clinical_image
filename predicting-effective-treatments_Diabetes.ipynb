{
 "cells": [
  {
   "cell_type": "markdown",
   "metadata": {},
   "source": [
    "## Problem Statement:\n",
    "### Pedicting effective treatments  for diabetes in turn reducing the readmission into the hospital"
   ]
  },
  {
   "cell_type": "code",
   "execution_count": 4,
   "metadata": {
    "_cell_guid": "b1076dfc-b9ad-4769-8c92-a6c4dae69d19",
    "_uuid": "8f2839f25d086af736a60e9eeb907d3b93b6e0e5"
   },
   "outputs": [],
   "source": [
    "import numpy as np \n",
    "import pandas as pd \n",
    "import matplotlib as\n"
   ]
  },
  {
   "cell_type": "code",
   "execution_count": 5,
   "metadata": {
    "_cell_guid": "79c7e3d0-c299-4dcb-8224-4455121ee9b0",
    "_uuid": "d629ff2d2480ee46fbb7e2d37f6b5fab8052498a"
   },
   "outputs": [
    {
     "data": {
      "text/plain": [
       "(101766, 50)"
      ]
     },
     "execution_count": 5,
     "metadata": {},
     "output_type": "execute_result"
    }
   ],
   "source": [
    "data = pd.read_csv('diabetic_data.csv')\n",
    "data.shape"
   ]
  },
  {
   "cell_type": "markdown",
   "metadata": {},
   "source": [
    "# Data Preparation"
   ]
  },
  {
   "cell_type": "code",
   "execution_count": 6,
   "metadata": {},
   "outputs": [
    {
     "data": {
      "text/plain": [
       "Index(['encounter_id', 'patient_nbr', 'race', 'gender', 'age', 'weight',\n",
       "       'admission_type_id', 'discharge_disposition_id', 'admission_source_id',\n",
       "       'time_in_hospital', 'payer_code', 'medical_specialty',\n",
       "       'num_lab_procedures', 'num_procedures', 'num_medications',\n",
       "       'number_outpatient', 'number_emergency', 'number_inpatient', 'diag_1',\n",
       "       'diag_2', 'diag_3', 'number_diagnoses', 'max_glu_serum', 'A1Cresult',\n",
       "       'metformin', 'repaglinide', 'nateglinide', 'chlorpropamide',\n",
       "       'glimepiride', 'acetohexamide', 'glipizide', 'glyburide', 'tolbutamide',\n",
       "       'pioglitazone', 'rosiglitazone', 'acarbose', 'miglitol', 'troglitazone',\n",
       "       'tolazamide', 'examide', 'citoglipton', 'insulin',\n",
       "       'glyburide-metformin', 'glipizide-metformin',\n",
       "       'glimepiride-pioglitazone', 'metformin-rosiglitazone',\n",
       "       'metformin-pioglitazone', 'change', 'diabetesMed', 'readmitted'],\n",
       "      dtype='object')"
      ]
     },
     "execution_count": 6,
     "metadata": {},
     "output_type": "execute_result"
    }
   ],
   "source": [
    "data.columns"
   ]
  },
  {
   "cell_type": "code",
   "execution_count": 7,
   "metadata": {},
   "outputs": [
    {
     "name": "stdout",
     "output_type": "stream",
     "text": [
      "<class 'pandas.core.frame.DataFrame'>\n",
      "RangeIndex: 101766 entries, 0 to 101765\n",
      "Data columns (total 50 columns):\n",
      " #   Column                    Non-Null Count   Dtype \n",
      "---  ------                    --------------   ----- \n",
      " 0   encounter_id              101766 non-null  int64 \n",
      " 1   patient_nbr               101766 non-null  int64 \n",
      " 2   race                      101766 non-null  object\n",
      " 3   gender                    101766 non-null  object\n",
      " 4   age                       101766 non-null  object\n",
      " 5   weight                    101766 non-null  object\n",
      " 6   admission_type_id         101766 non-null  int64 \n",
      " 7   discharge_disposition_id  101766 non-null  int64 \n",
      " 8   admission_source_id       101766 non-null  int64 \n",
      " 9   time_in_hospital          101766 non-null  int64 \n",
      " 10  payer_code                101766 non-null  object\n",
      " 11  medical_specialty         101766 non-null  object\n",
      " 12  num_lab_procedures        101766 non-null  int64 \n",
      " 13  num_procedures            101766 non-null  int64 \n",
      " 14  num_medications           101766 non-null  int64 \n",
      " 15  number_outpatient         101766 non-null  int64 \n",
      " 16  number_emergency          101766 non-null  int64 \n",
      " 17  number_inpatient          101766 non-null  int64 \n",
      " 18  diag_1                    101766 non-null  object\n",
      " 19  diag_2                    101766 non-null  object\n",
      " 20  diag_3                    101766 non-null  object\n",
      " 21  number_diagnoses          101766 non-null  int64 \n",
      " 22  max_glu_serum             101766 non-null  object\n",
      " 23  A1Cresult                 101766 non-null  object\n",
      " 24  metformin                 101766 non-null  object\n",
      " 25  repaglinide               101766 non-null  object\n",
      " 26  nateglinide               101766 non-null  object\n",
      " 27  chlorpropamide            101766 non-null  object\n",
      " 28  glimepiride               101766 non-null  object\n",
      " 29  acetohexamide             101766 non-null  object\n",
      " 30  glipizide                 101766 non-null  object\n",
      " 31  glyburide                 101766 non-null  object\n",
      " 32  tolbutamide               101766 non-null  object\n",
      " 33  pioglitazone              101766 non-null  object\n",
      " 34  rosiglitazone             101766 non-null  object\n",
      " 35  acarbose                  101766 non-null  object\n",
      " 36  miglitol                  101766 non-null  object\n",
      " 37  troglitazone              101766 non-null  object\n",
      " 38  tolazamide                101766 non-null  object\n",
      " 39  examide                   101766 non-null  object\n",
      " 40  citoglipton               101766 non-null  object\n",
      " 41  insulin                   101766 non-null  object\n",
      " 42  glyburide-metformin       101766 non-null  object\n",
      " 43  glipizide-metformin       101766 non-null  object\n",
      " 44  glimepiride-pioglitazone  101766 non-null  object\n",
      " 45  metformin-rosiglitazone   101766 non-null  object\n",
      " 46  metformin-pioglitazone    101766 non-null  object\n",
      " 47  change                    101766 non-null  object\n",
      " 48  diabetesMed               101766 non-null  object\n",
      " 49  readmitted                101766 non-null  object\n",
      "dtypes: int64(13), object(37)\n",
      "memory usage: 38.8+ MB\n"
     ]
    }
   ],
   "source": [
    "data.info()"
   ]
  },
  {
   "cell_type": "code",
   "execution_count": 8,
   "metadata": {},
   "outputs": [
    {
     "data": {
      "text/plain": [
       "False"
      ]
     },
     "execution_count": 8,
     "metadata": {},
     "output_type": "execute_result"
    }
   ],
   "source": [
    "data.isnull().values.any()"
   ]
  },
  {
   "cell_type": "code",
   "execution_count": 9,
   "metadata": {},
   "outputs": [
    {
     "data": {
      "text/plain": [
       "<AxesSubplot:>"
      ]
     },
     "execution_count": 9,
     "metadata": {},
     "output_type": "execute_result"
    },
    {
     "data": {
      "image/png": "[encoded data removed]",
      "text/plain": [
       "<Figure size 432x288 with 1 Axes>"
      ]
     },
     "metadata": {
      "needs_background": "light"
     },
     "output_type": "display_data"
    }
   ],
   "source": [
    "data.race.value_counts().plot(kind = 'bar' )"
   ]
  },
  {
   "cell_type": "code",
   "execution_count": 10,
   "metadata": {},
   "outputs": [
    {
     "data": {
      "text/plain": [
       "<AxesSubplot:>"
      ]
     },
     "execution_count": 10,
     "metadata": {},
     "output_type": "execute_result"
    },
    {
     "data": {
      "image/png": "[encoded data removed]",
      "text/plain": [
       "<Figure size 432x288 with 1 Axes>"
      ]
     },
     "metadata": {
      "needs_background": "light"
     },
     "output_type": "display_data"
    }
   ],
   "source": [
    "data.payer_code.value_counts().plot(kind = 'bar' )"
   ]
  },
  {
   "cell_type": "code",
   "execution_count": 11,
   "metadata": {},
   "outputs": [
    {
     "data": {
      "text/plain": [
       "?                                49949\n",
       "InternalMedicine                 14635\n",
       "Emergency/Trauma                  7565\n",
       "Family/GeneralPractice            7440\n",
       "Cardiology                        5352\n",
       "                                 ...  \n",
       "SportsMedicine                       1\n",
       "Speech                               1\n",
       "Perinatology                         1\n",
       "Neurophysiology                      1\n",
       "Pediatrics-InfectiousDiseases        1\n",
       "Name: medical_specialty, Length: 73, dtype: int64"
      ]
     },
     "execution_count": 11,
     "metadata": {},
     "output_type": "execute_result"
    }
   ],
   "source": [
    "data.medical_specialty.value_counts()"
   ]
  },
  {
   "cell_type": "code",
   "execution_count": 12,
   "metadata": {},
   "outputs": [
    {
     "data": {
      "text/plain": [
       "<AxesSubplot:>"
      ]
     },
     "execution_count": 12,
     "metadata": {},
     "output_type": "execute_result"
    },
    {
     "data": {
      "image/png": "[encoded data removed]",
      "text/plain": [
       "<Figure size 432x288 with 1 Axes>"
      ]
     },
     "metadata": {
      "needs_background": "light"
     },
     "output_type": "display_data"
    }
   ],
   "source": [
    "data.max_glu_serum.value_counts().plot(kind = 'bar' )"
   ]
  },
  {
   "cell_type": "code",
   "execution_count": 13,
   "metadata": {},
   "outputs": [
    {
     "data": {
      "text/plain": [
       "<AxesSubplot:>"
      ]
     },
     "execution_count": 13,
     "metadata": {},
     "output_type": "execute_result"
    },
    {
     "data": {
      "image/png": "[encoded data removed]",
      "text/plain": [
       "<Figure size 432x288 with 1 Axes>"
      ]
     },
     "metadata": {
      "needs_background": "light"
     },
     "output_type": "display_data"
    }
   ],
   "source": [
    "data.A1Cresult.value_counts().plot(kind = 'bar' )"
   ]
  },
  {
   "cell_type": "code",
   "execution_count": 14,
   "metadata": {},
   "outputs": [
    {
     "data": {
      "text/plain": [
       "<AxesSubplot:>"
      ]
     },
     "execution_count": 14,
     "metadata": {},
     "output_type": "execute_result"
    },
    {
     "data": {
      "image/png": "[encoded data removed]",
      "text/plain": [
       "<Figure size 432x288 with 1 Axes>"
      ]
     },
     "metadata": {
      "needs_background": "light"
     },
     "output_type": "display_data"
    }
   ],
   "source": [
    "data.change.value_counts().plot(kind = 'bar' )"
   ]
  },
  {
   "cell_type": "code",
   "execution_count": 15,
   "metadata": {},
   "outputs": [
    {
     "data": {
      "text/plain": [
       "<AxesSubplot:>"
      ]
     },
     "execution_count": 15,
     "metadata": {},
     "output_type": "execute_result"
    },
    {
     "data": {
      "image/png": "[encoded data removed]",
      "text/plain": [
       "<Figure size 432x288 with 1 Axes>"
      ]
     },
     "metadata": {
      "needs_background": "light"
     },
     "output_type": "display_data"
    }
   ],
   "source": [
    "data.diabetesMed.value_counts().plot(kind = 'bar' )"
   ]
  },
  {
   "cell_type": "code",
   "execution_count": 16,
   "metadata": {},
   "outputs": [
    {
     "data": {
      "text/plain": [
       "<AxesSubplot:>"
      ]
     },
     "execution_count": 16,
     "metadata": {},
     "output_type": "execute_result"
    },
    {
     "data": {
      "image/png": "[encoded data removed]",
      "text/plain": [
       "<Figure size 432x288 with 1 Axes>"
      ]
     },
     "metadata": {
      "needs_background": "light"
     },
     "output_type": "display_data"
    }
   ],
   "source": [
    "data.readmitted.value_counts().plot(kind = 'bar' )"
   ]
  },
  {
   "cell_type": "code",
   "execution_count": 17,
   "metadata": {},
   "outputs": [
    {
     "data": {
      "text/plain": [
       "<AxesSubplot:>"
      ]
     },
     "execution_count": 17,
     "metadata": {},
     "output_type": "execute_result"
    },
    {
     "data": {
      "image/png": "[encoded data removed]",
      "text/plain": [
       "<Figure size 432x288 with 1 Axes>"
      ]
     },
     "metadata": {
      "needs_background": "light"
     },
     "output_type": "display_data"
    }
   ],
   "source": [
    "data.age.value_counts().plot(kind = 'bar')"
   ]
  },
  {
   "cell_type": "markdown",
   "metadata": {},
   "source": [
    "## Filtering patients with Diabetes\n",
    "### diabetesMed = Yes"
   ]
  },
  {
   "cell_type": "code",
   "execution_count": 18,
   "metadata": {},
   "outputs": [
    {
     "data": {
      "text/plain": [
       "(78363, 50)"
      ]
     },
     "execution_count": 18,
     "metadata": {},
     "output_type": "execute_result"
    }
   ],
   "source": [
    "data=data[data.diabetesMed=='Yes']\n",
    "data.shape"
   ]
  },
  {
   "cell_type": "markdown",
   "metadata": {},
   "source": [
    "## Filtering patients who didn't readmit\n",
    "### readmission = NO"
   ]
  },
  {
   "cell_type": "code",
   "execution_count": 19,
   "metadata": {},
   "outputs": [
    {
     "data": {
      "text/plain": [
       "(40934, 50)"
      ]
     },
     "execution_count": 19,
     "metadata": {},
     "output_type": "execute_result"
    }
   ],
   "source": [
    "data=data[data.readmitted=='NO']\n",
    "data.shape"
   ]
  },
  {
   "cell_type": "markdown",
   "metadata": {},
   "source": [
    "## Excluding patients who are Dead and are in hospise"
   ]
  },
  {
   "cell_type": "code",
   "execution_count": 20,
   "metadata": {},
   "outputs": [
    {
     "data": {
      "text/plain": [
       "(39355, 50)"
      ]
     },
     "execution_count": 20,
     "metadata": {},
     "output_type": "execute_result"
    }
   ],
   "source": [
    "data=data[~data.discharge_disposition_id.isin([11,13,14,19,20])]\n",
    "data.shape"
   ]
  },
  {
   "cell_type": "markdown",
   "metadata": {},
   "source": [
    "# Handling Missing Values"
   ]
  },
  {
   "cell_type": "markdown",
   "metadata": {},
   "source": [
    "### We can observe that, Payer code, medical speciality & weight have more than 50% of the missing data, and prefer to drop those features."
   ]
  },
  {
   "cell_type": "code",
   "execution_count": 21,
   "metadata": {},
   "outputs": [],
   "source": [
    "data = data.drop(['medical_specialty','payer_code','weight'],axis=1)"
   ]
  },
  {
   "cell_type": "markdown",
   "metadata": {},
   "source": [
    "**We can observe that the \"Race\" Feature has some missing values**"
   ]
  },
  {
   "cell_type": "markdown",
   "metadata": {},
   "source": [
    "**Missing value Imputation using MODE for Race Feature as most of the people in the Dataset are Caucasian**"
   ]
  },
  {
   "cell_type": "markdown",
   "metadata": {},
   "source": [
    "##### 1. Replacing the ? with NaN's"
   ]
  },
  {
   "cell_type": "code",
   "execution_count": 22,
   "metadata": {},
   "outputs": [],
   "source": [
    "data['race']=data.race.replace('?',np.nan)\n"
   ]
  },
  {
   "cell_type": "markdown",
   "metadata": {},
   "source": [
    "##### 2. Filling the NaN's with the mode"
   ]
  },
  {
   "cell_type": "code",
   "execution_count": 23,
   "metadata": {},
   "outputs": [],
   "source": [
    "data['race'].fillna(data['race'].mode()[0], inplace=True)\n"
   ]
  },
  {
   "cell_type": "code",
   "execution_count": 24,
   "metadata": {},
   "outputs": [
    {
     "data": {
      "text/plain": [
       "0"
      ]
     },
     "execution_count": 24,
     "metadata": {},
     "output_type": "execute_result"
    }
   ],
   "source": [
    "data.race.isnull().sum()"
   ]
  },
  {
   "cell_type": "code",
   "execution_count": 25,
   "metadata": {},
   "outputs": [
    {
     "data": {
      "text/plain": [
       "(39355, 47)"
      ]
     },
     "execution_count": 25,
     "metadata": {},
     "output_type": "execute_result"
    }
   ],
   "source": [
    "data.shape"
   ]
  },
  {
   "cell_type": "code",
   "execution_count": 26,
   "metadata": {},
   "outputs": [
    {
     "data": {
      "text/plain": [
       "Index(['encounter_id', 'patient_nbr', 'race', 'gender', 'age',\n",
       "       'admission_type_id', 'discharge_disposition_id', 'admission_source_id',\n",
       "       'time_in_hospital', 'num_lab_procedures', 'num_procedures',\n",
       "       'num_medications', 'number_outpatient', 'number_emergency',\n",
       "       'number_inpatient', 'diag_1', 'diag_2', 'diag_3', 'number_diagnoses',\n",
       "       'max_glu_serum', 'A1Cresult', 'metformin', 'repaglinide', 'nateglinide',\n",
       "       'chlorpropamide', 'glimepiride', 'acetohexamide', 'glipizide',\n",
       "       'glyburide', 'tolbutamide', 'pioglitazone', 'rosiglitazone', 'acarbose',\n",
       "       'miglitol', 'troglitazone', 'tolazamide', 'examide', 'citoglipton',\n",
       "       'insulin', 'glyburide-metformin', 'glipizide-metformin',\n",
       "       'glimepiride-pioglitazone', 'metformin-rosiglitazone',\n",
       "       'metformin-pioglitazone', 'change', 'diabetesMed', 'readmitted'],\n",
       "      dtype='object')"
      ]
     },
     "execution_count": 26,
     "metadata": {},
     "output_type": "execute_result"
    }
   ],
   "source": [
    "data.columns"
   ]
  },
  {
   "cell_type": "code",
   "execution_count": 27,
   "metadata": {},
   "outputs": [],
   "source": [
    "treatments = data[['encounter_id','metformin', 'repaglinide', 'nateglinide',\n",
    "       'chlorpropamide', 'glimepiride', 'acetohexamide', 'glipizide',\n",
    "       'glyburide', 'tolbutamide', 'pioglitazone', 'rosiglitazone', 'acarbose',\n",
    "       'miglitol', 'troglitazone', 'tolazamide', 'examide', 'citoglipton',\n",
    "       'insulin', 'glyburide-metformin', 'glipizide-metformin',\n",
    "       'glimepiride-pioglitazone', 'metformin-rosiglitazone',\n",
    "       'metformin-pioglitazone']].copy()"
   ]
  },
  {
   "cell_type": "code",
   "execution_count": 28,
   "metadata": {},
   "outputs": [
    {
     "data": {
      "text/html": [
       "<div>\n",
       "<style scoped>\n",
       "    .dataframe tbody tr th:only-of-type {\n",
       "        vertical-align: middle;\n",
       "    }\n",
       "\n",
       "    .dataframe tbody tr th {\n",
       "        vertical-align: top;\n",
       "    }\n",
       "\n",
       "    .dataframe thead th {\n",
       "        text-align: right;\n",
       "    }\n",
       "</style>\n",
       "<table border=\"1\" class=\"dataframe\">\n",
       "  <thead>\n",
       "    <tr style=\"text-align: right;\">\n",
       "      <th></th>\n",
       "      <th>encounter_id</th>\n",
       "      <th>metformin</th>\n",
       "      <th>repaglinide</th>\n",
       "      <th>nateglinide</th>\n",
       "      <th>chlorpropamide</th>\n",
       "      <th>glimepiride</th>\n",
       "      <th>acetohexamide</th>\n",
       "      <th>glipizide</th>\n",
       "      <th>glyburide</th>\n",
       "      <th>tolbutamide</th>\n",
       "      <th>...</th>\n",
       "      <th>troglitazone</th>\n",
       "      <th>tolazamide</th>\n",
       "      <th>examide</th>\n",
       "      <th>citoglipton</th>\n",
       "      <th>insulin</th>\n",
       "      <th>glyburide-metformin</th>\n",
       "      <th>glipizide-metformin</th>\n",
       "      <th>glimepiride-pioglitazone</th>\n",
       "      <th>metformin-rosiglitazone</th>\n",
       "      <th>metformin-pioglitazone</th>\n",
       "    </tr>\n",
       "  </thead>\n",
       "  <tbody>\n",
       "    <tr>\n",
       "      <th>2</th>\n",
       "      <td>64410</td>\n",
       "      <td>No</td>\n",
       "      <td>No</td>\n",
       "      <td>No</td>\n",
       "      <td>No</td>\n",
       "      <td>No</td>\n",
       "      <td>No</td>\n",
       "      <td>Steady</td>\n",
       "      <td>No</td>\n",
       "      <td>No</td>\n",
       "      <td>...</td>\n",
       "      <td>No</td>\n",
       "      <td>No</td>\n",
       "      <td>No</td>\n",
       "      <td>No</td>\n",
       "      <td>No</td>\n",
       "      <td>No</td>\n",
       "      <td>No</td>\n",
       "      <td>No</td>\n",
       "      <td>No</td>\n",
       "      <td>No</td>\n",
       "    </tr>\n",
       "    <tr>\n",
       "      <th>3</th>\n",
       "      <td>500364</td>\n",
       "      <td>No</td>\n",
       "      <td>No</td>\n",
       "      <td>No</td>\n",
       "      <td>No</td>\n",
       "      <td>No</td>\n",
       "      <td>No</td>\n",
       "      <td>No</td>\n",
       "      <td>No</td>\n",
       "      <td>No</td>\n",
       "      <td>...</td>\n",
       "      <td>No</td>\n",
       "      <td>No</td>\n",
       "      <td>No</td>\n",
       "      <td>No</td>\n",
       "      <td>Up</td>\n",
       "      <td>No</td>\n",
       "      <td>No</td>\n",
       "      <td>No</td>\n",
       "      <td>No</td>\n",
       "      <td>No</td>\n",
       "    </tr>\n",
       "    <tr>\n",
       "      <th>4</th>\n",
       "      <td>16680</td>\n",
       "      <td>No</td>\n",
       "      <td>No</td>\n",
       "      <td>No</td>\n",
       "      <td>No</td>\n",
       "      <td>No</td>\n",
       "      <td>No</td>\n",
       "      <td>Steady</td>\n",
       "      <td>No</td>\n",
       "      <td>No</td>\n",
       "      <td>...</td>\n",
       "      <td>No</td>\n",
       "      <td>No</td>\n",
       "      <td>No</td>\n",
       "      <td>No</td>\n",
       "      <td>Steady</td>\n",
       "      <td>No</td>\n",
       "      <td>No</td>\n",
       "      <td>No</td>\n",
       "      <td>No</td>\n",
       "      <td>No</td>\n",
       "    </tr>\n",
       "    <tr>\n",
       "      <th>6</th>\n",
       "      <td>55842</td>\n",
       "      <td>Steady</td>\n",
       "      <td>No</td>\n",
       "      <td>No</td>\n",
       "      <td>No</td>\n",
       "      <td>Steady</td>\n",
       "      <td>No</td>\n",
       "      <td>No</td>\n",
       "      <td>No</td>\n",
       "      <td>No</td>\n",
       "      <td>...</td>\n",
       "      <td>No</td>\n",
       "      <td>No</td>\n",
       "      <td>No</td>\n",
       "      <td>No</td>\n",
       "      <td>Steady</td>\n",
       "      <td>No</td>\n",
       "      <td>No</td>\n",
       "      <td>No</td>\n",
       "      <td>No</td>\n",
       "      <td>No</td>\n",
       "    </tr>\n",
       "    <tr>\n",
       "      <th>8</th>\n",
       "      <td>12522</td>\n",
       "      <td>No</td>\n",
       "      <td>No</td>\n",
       "      <td>No</td>\n",
       "      <td>No</td>\n",
       "      <td>No</td>\n",
       "      <td>No</td>\n",
       "      <td>Steady</td>\n",
       "      <td>No</td>\n",
       "      <td>No</td>\n",
       "      <td>...</td>\n",
       "      <td>No</td>\n",
       "      <td>No</td>\n",
       "      <td>No</td>\n",
       "      <td>No</td>\n",
       "      <td>Steady</td>\n",
       "      <td>No</td>\n",
       "      <td>No</td>\n",
       "      <td>No</td>\n",
       "      <td>No</td>\n",
       "      <td>No</td>\n",
       "    </tr>\n",
       "  </tbody>\n",
       "</table>\n",
       "<p>5 rows × 24 columns</p>\n",
       "</div>"
      ],
      "text/plain": [
       "   encounter_id metformin repaglinide nateglinide chlorpropamide glimepiride  \\\n",
       "2         64410        No          No          No             No          No   \n",
       "3        500364        No          No          No             No          No   \n",
       "4         16680        No          No          No             No          No   \n",
       "6         55842    Steady          No          No             No      Steady   \n",
       "8         12522        No          No          No             No          No   \n",
       "\n",
       "  acetohexamide glipizide glyburide tolbutamide  ... troglitazone tolazamide  \\\n",
       "2            No    Steady        No          No  ...           No         No   \n",
       "3            No        No        No          No  ...           No         No   \n",
       "4            No    Steady        No          No  ...           No         No   \n",
       "6            No        No        No          No  ...           No         No   \n",
       "8            No    Steady        No          No  ...           No         No   \n",
       "\n",
       "  examide citoglipton insulin glyburide-metformin glipizide-metformin  \\\n",
       "2      No          No      No                  No                  No   \n",
       "3      No          No      Up                  No                  No   \n",
       "4      No          No  Steady                  No                  No   \n",
       "6      No          No  Steady                  No                  No   \n",
       "8      No          No  Steady                  No                  No   \n",
       "\n",
       "  glimepiride-pioglitazone metformin-rosiglitazone metformin-pioglitazone  \n",
       "2                       No                      No                     No  \n",
       "3                       No                      No                     No  \n",
       "4                       No                      No                     No  \n",
       "6                       No                      No                     No  \n",
       "8                       No                      No                     No  \n",
       "\n",
       "[5 rows x 24 columns]"
      ]
     },
     "execution_count": 28,
     "metadata": {},
     "output_type": "execute_result"
    }
   ],
   "source": [
    "treatments.head()"
   ]
  },
  {
   "cell_type": "markdown",
   "metadata": {},
   "source": [
    "# Feature Engineering"
   ]
  },
  {
   "cell_type": "markdown",
   "metadata": {},
   "source": [
    " ### Custom encoding for the 23 Drug Features\n"
   ]
  },
  {
   "cell_type": "code",
   "execution_count": 29,
   "metadata": {},
   "outputs": [],
   "source": [
    "treatments=treatments.replace(['No','Steady','Up','Down'],[0,1,1,1])\n",
    "treatments.set_index('encounter_id',inplace=True)\n"
   ]
  },
  {
   "cell_type": "code",
   "execution_count": 30,
   "metadata": {},
   "outputs": [
    {
     "data": {
      "text/html": [
       "<div>\n",
       "<style scoped>\n",
       "    .dataframe tbody tr th:only-of-type {\n",
       "        vertical-align: middle;\n",
       "    }\n",
       "\n",
       "    .dataframe tbody tr th {\n",
       "        vertical-align: top;\n",
       "    }\n",
       "\n",
       "    .dataframe thead th {\n",
       "        text-align: right;\n",
       "    }\n",
       "</style>\n",
       "<table border=\"1\" class=\"dataframe\">\n",
       "  <thead>\n",
       "    <tr style=\"text-align: right;\">\n",
       "      <th></th>\n",
       "      <th>metformin</th>\n",
       "      <th>repaglinide</th>\n",
       "      <th>nateglinide</th>\n",
       "      <th>chlorpropamide</th>\n",
       "      <th>glimepiride</th>\n",
       "      <th>acetohexamide</th>\n",
       "      <th>glipizide</th>\n",
       "      <th>glyburide</th>\n",
       "      <th>tolbutamide</th>\n",
       "      <th>pioglitazone</th>\n",
       "      <th>...</th>\n",
       "      <th>troglitazone</th>\n",
       "      <th>tolazamide</th>\n",
       "      <th>examide</th>\n",
       "      <th>citoglipton</th>\n",
       "      <th>insulin</th>\n",
       "      <th>glyburide-metformin</th>\n",
       "      <th>glipizide-metformin</th>\n",
       "      <th>glimepiride-pioglitazone</th>\n",
       "      <th>metformin-rosiglitazone</th>\n",
       "      <th>metformin-pioglitazone</th>\n",
       "    </tr>\n",
       "    <tr>\n",
       "      <th>encounter_id</th>\n",
       "      <th></th>\n",
       "      <th></th>\n",
       "      <th></th>\n",
       "      <th></th>\n",
       "      <th></th>\n",
       "      <th></th>\n",
       "      <th></th>\n",
       "      <th></th>\n",
       "      <th></th>\n",
       "      <th></th>\n",
       "      <th></th>\n",
       "      <th></th>\n",
       "      <th></th>\n",
       "      <th></th>\n",
       "      <th></th>\n",
       "      <th></th>\n",
       "      <th></th>\n",
       "      <th></th>\n",
       "      <th></th>\n",
       "      <th></th>\n",
       "      <th></th>\n",
       "    </tr>\n",
       "  </thead>\n",
       "  <tbody>\n",
       "    <tr>\n",
       "      <th>64410</th>\n",
       "      <td>0</td>\n",
       "      <td>0</td>\n",
       "      <td>0</td>\n",
       "      <td>0</td>\n",
       "      <td>0</td>\n",
       "      <td>0</td>\n",
       "      <td>1</td>\n",
       "      <td>0</td>\n",
       "      <td>0</td>\n",
       "      <td>0</td>\n",
       "      <td>...</td>\n",
       "      <td>0</td>\n",
       "      <td>0</td>\n",
       "      <td>0</td>\n",
       "      <td>0</td>\n",
       "      <td>0</td>\n",
       "      <td>0</td>\n",
       "      <td>0</td>\n",
       "      <td>0</td>\n",
       "      <td>0</td>\n",
       "      <td>0</td>\n",
       "    </tr>\n",
       "    <tr>\n",
       "      <th>500364</th>\n",
       "      <td>0</td>\n",
       "      <td>0</td>\n",
       "      <td>0</td>\n",
       "      <td>0</td>\n",
       "      <td>0</td>\n",
       "      <td>0</td>\n",
       "      <td>0</td>\n",
       "      <td>0</td>\n",
       "      <td>0</td>\n",
       "      <td>0</td>\n",
       "      <td>...</td>\n",
       "      <td>0</td>\n",
       "      <td>0</td>\n",
       "      <td>0</td>\n",
       "      <td>0</td>\n",
       "      <td>1</td>\n",
       "      <td>0</td>\n",
       "      <td>0</td>\n",
       "      <td>0</td>\n",
       "      <td>0</td>\n",
       "      <td>0</td>\n",
       "    </tr>\n",
       "    <tr>\n",
       "      <th>16680</th>\n",
       "      <td>0</td>\n",
       "      <td>0</td>\n",
       "      <td>0</td>\n",
       "      <td>0</td>\n",
       "      <td>0</td>\n",
       "      <td>0</td>\n",
       "      <td>1</td>\n",
       "      <td>0</td>\n",
       "      <td>0</td>\n",
       "      <td>0</td>\n",
       "      <td>...</td>\n",
       "      <td>0</td>\n",
       "      <td>0</td>\n",
       "      <td>0</td>\n",
       "      <td>0</td>\n",
       "      <td>1</td>\n",
       "      <td>0</td>\n",
       "      <td>0</td>\n",
       "      <td>0</td>\n",
       "      <td>0</td>\n",
       "      <td>0</td>\n",
       "    </tr>\n",
       "    <tr>\n",
       "      <th>55842</th>\n",
       "      <td>1</td>\n",
       "      <td>0</td>\n",
       "      <td>0</td>\n",
       "      <td>0</td>\n",
       "      <td>1</td>\n",
       "      <td>0</td>\n",
       "      <td>0</td>\n",
       "      <td>0</td>\n",
       "      <td>0</td>\n",
       "      <td>0</td>\n",
       "      <td>...</td>\n",
       "      <td>0</td>\n",
       "      <td>0</td>\n",
       "      <td>0</td>\n",
       "      <td>0</td>\n",
       "      <td>1</td>\n",
       "      <td>0</td>\n",
       "      <td>0</td>\n",
       "      <td>0</td>\n",
       "      <td>0</td>\n",
       "      <td>0</td>\n",
       "    </tr>\n",
       "    <tr>\n",
       "      <th>12522</th>\n",
       "      <td>0</td>\n",
       "      <td>0</td>\n",
       "      <td>0</td>\n",
       "      <td>0</td>\n",
       "      <td>0</td>\n",
       "      <td>0</td>\n",
       "      <td>1</td>\n",
       "      <td>0</td>\n",
       "      <td>0</td>\n",
       "      <td>0</td>\n",
       "      <td>...</td>\n",
       "      <td>0</td>\n",
       "      <td>0</td>\n",
       "      <td>0</td>\n",
       "      <td>0</td>\n",
       "      <td>1</td>\n",
       "      <td>0</td>\n",
       "      <td>0</td>\n",
       "      <td>0</td>\n",
       "      <td>0</td>\n",
       "      <td>0</td>\n",
       "    </tr>\n",
       "  </tbody>\n",
       "</table>\n",
       "<p>5 rows × 23 columns</p>\n",
       "</div>"
      ],
      "text/plain": [
       "              metformin  repaglinide  nateglinide  chlorpropamide  \\\n",
       "encounter_id                                                        \n",
       "64410                 0            0            0               0   \n",
       "500364                0            0            0               0   \n",
       "16680                 0            0            0               0   \n",
       "55842                 1            0            0               0   \n",
       "12522                 0            0            0               0   \n",
       "\n",
       "              glimepiride  acetohexamide  glipizide  glyburide  tolbutamide  \\\n",
       "encounter_id                                                                  \n",
       "64410                   0              0          1          0            0   \n",
       "500364                  0              0          0          0            0   \n",
       "16680                   0              0          1          0            0   \n",
       "55842                   1              0          0          0            0   \n",
       "12522                   0              0          1          0            0   \n",
       "\n",
       "              pioglitazone  ...  troglitazone  tolazamide  examide  \\\n",
       "encounter_id                ...                                      \n",
       "64410                    0  ...             0           0        0   \n",
       "500364                   0  ...             0           0        0   \n",
       "16680                    0  ...             0           0        0   \n",
       "55842                    0  ...             0           0        0   \n",
       "12522                    0  ...             0           0        0   \n",
       "\n",
       "              citoglipton  insulin  glyburide-metformin  glipizide-metformin  \\\n",
       "encounter_id                                                                   \n",
       "64410                   0        0                    0                    0   \n",
       "500364                  0        1                    0                    0   \n",
       "16680                   0        1                    0                    0   \n",
       "55842                   0        1                    0                    0   \n",
       "12522                   0        1                    0                    0   \n",
       "\n",
       "              glimepiride-pioglitazone  metformin-rosiglitazone  \\\n",
       "encounter_id                                                      \n",
       "64410                                0                        0   \n",
       "500364                               0                        0   \n",
       "16680                                0                        0   \n",
       "55842                                0                        0   \n",
       "12522                                0                        0   \n",
       "\n",
       "              metformin-pioglitazone  \n",
       "encounter_id                          \n",
       "64410                              0  \n",
       "500364                             0  \n",
       "16680                              0  \n",
       "55842                              0  \n",
       "12522                              0  \n",
       "\n",
       "[5 rows x 23 columns]"
      ]
     },
     "execution_count": 30,
     "metadata": {},
     "output_type": "execute_result"
    }
   ],
   "source": [
    "treatments.head()"
   ]
  },
  {
   "cell_type": "code",
   "execution_count": 31,
   "metadata": {},
   "outputs": [
    {
     "data": {
      "text/plain": [
       "1    23080\n",
       "2    11397\n",
       "3     4108\n",
       "4      730\n",
       "5       39\n",
       "6        1\n",
       "dtype: int64"
      ]
     },
     "execution_count": 31,
     "metadata": {},
     "output_type": "execute_result"
    }
   ],
   "source": [
    "treatments.sum(axis=1).value_counts()"
   ]
  },
  {
   "cell_type": "markdown",
   "metadata": {},
   "source": [
    "# Patients are Given at max a combination of 6 drugs for treating diabetes"
   ]
  },
  {
   "cell_type": "markdown",
   "metadata": {},
   "source": [
    "### Feature Engineering - Creating a new feature \"Treatments\""
   ]
  },
  {
   "cell_type": "markdown",
   "metadata": {},
   "source": [
    "**1. When the value of Insuin is '1' , creating the classes \"insulin\" & \"io\" (insulin + others )********"
   ]
  },
  {
   "cell_type": "code",
   "execution_count": 32,
   "metadata": {},
   "outputs": [],
   "source": [
    "i1 = treatments[treatments['insulin']==1].sum(axis = 1).replace([1,2,3,4,5,6],['insulin','io','io','io','io','io'])"
   ]
  },
  {
   "cell_type": "code",
   "execution_count": 33,
   "metadata": {},
   "outputs": [
    {
     "data": {
      "text/plain": [
       "insulin    14675\n",
       "io         12145\n",
       "dtype: int64"
      ]
     },
     "execution_count": 33,
     "metadata": {},
     "output_type": "execute_result"
    }
   ],
   "source": [
    "i1.value_counts()"
   ]
  },
  {
   "cell_type": "markdown",
   "metadata": {},
   "source": [
    "**2. When the value of Insuin is '0' , creating the classes \"others\" & \"no med\"**"
   ]
  },
  {
   "cell_type": "code",
   "execution_count": 34,
   "metadata": {},
   "outputs": [],
   "source": [
    "i0=treatments[treatments['insulin']==0].sum(axis=1).replace([0,1,2,3,4,5,6],['no med','other','other','other','other','other','other'])"
   ]
  },
  {
   "cell_type": "code",
   "execution_count": 35,
   "metadata": {},
   "outputs": [
    {
     "data": {
      "text/plain": [
       "other    12535\n",
       "dtype: int64"
      ]
     },
     "execution_count": 35,
     "metadata": {},
     "output_type": "execute_result"
    }
   ],
   "source": [
    "i0.value_counts()"
   ]
  },
  {
   "cell_type": "code",
   "execution_count": 36,
   "metadata": {},
   "outputs": [],
   "source": [
    "treatments=pd.concat([i1,i0])\n",
    "treatments = pd.DataFrame({'treatments':treatments})"
   ]
  },
  {
   "cell_type": "code",
   "execution_count": 37,
   "metadata": {},
   "outputs": [
    {
     "data": {
      "text/html": [
       "<div>\n",
       "<style scoped>\n",
       "    .dataframe tbody tr th:only-of-type {\n",
       "        vertical-align: middle;\n",
       "    }\n",
       "\n",
       "    .dataframe tbody tr th {\n",
       "        vertical-align: top;\n",
       "    }\n",
       "\n",
       "    .dataframe thead th {\n",
       "        text-align: right;\n",
       "    }\n",
       "</style>\n",
       "<table border=\"1\" class=\"dataframe\">\n",
       "  <thead>\n",
       "    <tr style=\"text-align: right;\">\n",
       "      <th></th>\n",
       "      <th>treatments</th>\n",
       "    </tr>\n",
       "    <tr>\n",
       "      <th>encounter_id</th>\n",
       "      <th></th>\n",
       "    </tr>\n",
       "  </thead>\n",
       "  <tbody>\n",
       "    <tr>\n",
       "      <th>500364</th>\n",
       "      <td>insulin</td>\n",
       "    </tr>\n",
       "    <tr>\n",
       "      <th>16680</th>\n",
       "      <td>io</td>\n",
       "    </tr>\n",
       "    <tr>\n",
       "      <th>55842</th>\n",
       "      <td>io</td>\n",
       "    </tr>\n",
       "    <tr>\n",
       "      <th>12522</th>\n",
       "      <td>io</td>\n",
       "    </tr>\n",
       "    <tr>\n",
       "      <th>15738</th>\n",
       "      <td>io</td>\n",
       "    </tr>\n",
       "  </tbody>\n",
       "</table>\n",
       "</div>"
      ],
      "text/plain": [
       "             treatments\n",
       "encounter_id           \n",
       "500364          insulin\n",
       "16680                io\n",
       "55842                io\n",
       "12522                io\n",
       "15738                io"
      ]
     },
     "execution_count": 37,
     "metadata": {},
     "output_type": "execute_result"
    }
   ],
   "source": [
    "treatments.head()"
   ]
  },
  {
   "cell_type": "markdown",
   "metadata": {},
   "source": [
    "**Adding the new feature to the Actual Dataframe**"
   ]
  },
  {
   "cell_type": "code",
   "execution_count": 38,
   "metadata": {},
   "outputs": [],
   "source": [
    "data=data.join(treatments,on='encounter_id') #setting index as encounter_id"
   ]
  },
  {
   "cell_type": "code",
   "execution_count": 39,
   "metadata": {},
   "outputs": [
    {
     "data": {
      "text/html": [
       "<div>\n",
       "<style scoped>\n",
       "    .dataframe tbody tr th:only-of-type {\n",
       "        vertical-align: middle;\n",
       "    }\n",
       "\n",
       "    .dataframe tbody tr th {\n",
       "        vertical-align: top;\n",
       "    }\n",
       "\n",
       "    .dataframe thead th {\n",
       "        text-align: right;\n",
       "    }\n",
       "</style>\n",
       "<table border=\"1\" class=\"dataframe\">\n",
       "  <thead>\n",
       "    <tr style=\"text-align: right;\">\n",
       "      <th></th>\n",
       "      <th>encounter_id</th>\n",
       "      <th>patient_nbr</th>\n",
       "      <th>race</th>\n",
       "      <th>gender</th>\n",
       "      <th>age</th>\n",
       "      <th>admission_type_id</th>\n",
       "      <th>discharge_disposition_id</th>\n",
       "      <th>admission_source_id</th>\n",
       "      <th>time_in_hospital</th>\n",
       "      <th>num_lab_procedures</th>\n",
       "      <th>...</th>\n",
       "      <th>insulin</th>\n",
       "      <th>glyburide-metformin</th>\n",
       "      <th>glipizide-metformin</th>\n",
       "      <th>glimepiride-pioglitazone</th>\n",
       "      <th>metformin-rosiglitazone</th>\n",
       "      <th>metformin-pioglitazone</th>\n",
       "      <th>change</th>\n",
       "      <th>diabetesMed</th>\n",
       "      <th>readmitted</th>\n",
       "      <th>treatments</th>\n",
       "    </tr>\n",
       "  </thead>\n",
       "  <tbody>\n",
       "    <tr>\n",
       "      <th>2</th>\n",
       "      <td>64410</td>\n",
       "      <td>86047875</td>\n",
       "      <td>AfricanAmerican</td>\n",
       "      <td>Female</td>\n",
       "      <td>[20-30)</td>\n",
       "      <td>1</td>\n",
       "      <td>1</td>\n",
       "      <td>7</td>\n",
       "      <td>2</td>\n",
       "      <td>11</td>\n",
       "      <td>...</td>\n",
       "      <td>No</td>\n",
       "      <td>No</td>\n",
       "      <td>No</td>\n",
       "      <td>No</td>\n",
       "      <td>No</td>\n",
       "      <td>No</td>\n",
       "      <td>No</td>\n",
       "      <td>Yes</td>\n",
       "      <td>NO</td>\n",
       "      <td>other</td>\n",
       "    </tr>\n",
       "    <tr>\n",
       "      <th>3</th>\n",
       "      <td>500364</td>\n",
       "      <td>82442376</td>\n",
       "      <td>Caucasian</td>\n",
       "      <td>Male</td>\n",
       "      <td>[30-40)</td>\n",
       "      <td>1</td>\n",
       "      <td>1</td>\n",
       "      <td>7</td>\n",
       "      <td>2</td>\n",
       "      <td>44</td>\n",
       "      <td>...</td>\n",
       "      <td>Up</td>\n",
       "      <td>No</td>\n",
       "      <td>No</td>\n",
       "      <td>No</td>\n",
       "      <td>No</td>\n",
       "      <td>No</td>\n",
       "      <td>Ch</td>\n",
       "      <td>Yes</td>\n",
       "      <td>NO</td>\n",
       "      <td>insulin</td>\n",
       "    </tr>\n",
       "    <tr>\n",
       "      <th>4</th>\n",
       "      <td>16680</td>\n",
       "      <td>42519267</td>\n",
       "      <td>Caucasian</td>\n",
       "      <td>Male</td>\n",
       "      <td>[40-50)</td>\n",
       "      <td>1</td>\n",
       "      <td>1</td>\n",
       "      <td>7</td>\n",
       "      <td>1</td>\n",
       "      <td>51</td>\n",
       "      <td>...</td>\n",
       "      <td>Steady</td>\n",
       "      <td>No</td>\n",
       "      <td>No</td>\n",
       "      <td>No</td>\n",
       "      <td>No</td>\n",
       "      <td>No</td>\n",
       "      <td>Ch</td>\n",
       "      <td>Yes</td>\n",
       "      <td>NO</td>\n",
       "      <td>io</td>\n",
       "    </tr>\n",
       "    <tr>\n",
       "      <th>6</th>\n",
       "      <td>55842</td>\n",
       "      <td>84259809</td>\n",
       "      <td>Caucasian</td>\n",
       "      <td>Male</td>\n",
       "      <td>[60-70)</td>\n",
       "      <td>3</td>\n",
       "      <td>1</td>\n",
       "      <td>2</td>\n",
       "      <td>4</td>\n",
       "      <td>70</td>\n",
       "      <td>...</td>\n",
       "      <td>Steady</td>\n",
       "      <td>No</td>\n",
       "      <td>No</td>\n",
       "      <td>No</td>\n",
       "      <td>No</td>\n",
       "      <td>No</td>\n",
       "      <td>Ch</td>\n",
       "      <td>Yes</td>\n",
       "      <td>NO</td>\n",
       "      <td>io</td>\n",
       "    </tr>\n",
       "    <tr>\n",
       "      <th>8</th>\n",
       "      <td>12522</td>\n",
       "      <td>48330783</td>\n",
       "      <td>Caucasian</td>\n",
       "      <td>Female</td>\n",
       "      <td>[80-90)</td>\n",
       "      <td>2</td>\n",
       "      <td>1</td>\n",
       "      <td>4</td>\n",
       "      <td>13</td>\n",
       "      <td>68</td>\n",
       "      <td>...</td>\n",
       "      <td>Steady</td>\n",
       "      <td>No</td>\n",
       "      <td>No</td>\n",
       "      <td>No</td>\n",
       "      <td>No</td>\n",
       "      <td>No</td>\n",
       "      <td>Ch</td>\n",
       "      <td>Yes</td>\n",
       "      <td>NO</td>\n",
       "      <td>io</td>\n",
       "    </tr>\n",
       "  </tbody>\n",
       "</table>\n",
       "<p>5 rows × 48 columns</p>\n",
       "</div>"
      ],
      "text/plain": [
       "   encounter_id  patient_nbr             race  gender      age  \\\n",
       "2         64410     86047875  AfricanAmerican  Female  [20-30)   \n",
       "3        500364     82442376        Caucasian    Male  [30-40)   \n",
       "4         16680     42519267        Caucasian    Male  [40-50)   \n",
       "6         55842     84259809        Caucasian    Male  [60-70)   \n",
       "8         12522     48330783        Caucasian  Female  [80-90)   \n",
       "\n",
       "   admission_type_id  discharge_disposition_id  admission_source_id  \\\n",
       "2                  1                         1                    7   \n",
       "3                  1                         1                    7   \n",
       "4                  1                         1                    7   \n",
       "6                  3                         1                    2   \n",
       "8                  2                         1                    4   \n",
       "\n",
       "   time_in_hospital  num_lab_procedures  ...  insulin  glyburide-metformin  \\\n",
       "2                 2                  11  ...       No                   No   \n",
       "3                 2                  44  ...       Up                   No   \n",
       "4                 1                  51  ...   Steady                   No   \n",
       "6                 4                  70  ...   Steady                   No   \n",
       "8                13                  68  ...   Steady                   No   \n",
       "\n",
       "   glipizide-metformin  glimepiride-pioglitazone  metformin-rosiglitazone  \\\n",
       "2                   No                        No                       No   \n",
       "3                   No                        No                       No   \n",
       "4                   No                        No                       No   \n",
       "6                   No                        No                       No   \n",
       "8                   No                        No                       No   \n",
       "\n",
       "  metformin-pioglitazone change diabetesMed  readmitted treatments  \n",
       "2                     No     No         Yes          NO      other  \n",
       "3                     No     Ch         Yes          NO    insulin  \n",
       "4                     No     Ch         Yes          NO         io  \n",
       "6                     No     Ch         Yes          NO         io  \n",
       "8                     No     Ch         Yes          NO         io  \n",
       "\n",
       "[5 rows x 48 columns]"
      ]
     },
     "execution_count": 39,
     "metadata": {},
     "output_type": "execute_result"
    }
   ],
   "source": [
    "data.head()"
   ]
  },
  {
   "cell_type": "markdown",
   "metadata": {},
   "source": [
    "## Since the treatments column was created from the 23 Drugs, We will be removing them"
   ]
  },
  {
   "cell_type": "code",
   "execution_count": 40,
   "metadata": {},
   "outputs": [],
   "source": [
    "data = data.drop(['metformin', 'repaglinide', 'nateglinide',\n",
    "       'chlorpropamide', 'glimepiride', 'acetohexamide', 'glipizide',\n",
    "       'glyburide', 'tolbutamide', 'pioglitazone', 'rosiglitazone', 'acarbose',\n",
    "       'miglitol', 'troglitazone', 'tolazamide', 'examide', 'citoglipton',\n",
    "       'insulin', 'glyburide-metformin', 'glipizide-metformin',\n",
    "       'glimepiride-pioglitazone', 'metformin-rosiglitazone',\n",
    "       'metformin-pioglitazone'],axis=1)"
   ]
  },
  {
   "cell_type": "markdown",
   "metadata": {},
   "source": [
    "## Choosing the records with treatments Insulin and Insulin + other ( w.r.t Problem Statement)"
   ]
  },
  {
   "cell_type": "code",
   "execution_count": 41,
   "metadata": {},
   "outputs": [
    {
     "data": {
      "text/plain": [
       "(26820, 25)"
      ]
     },
     "execution_count": 41,
     "metadata": {},
     "output_type": "execute_result"
    }
   ],
   "source": [
    "data=data[data.treatments!='other']\n",
    "data.shape"
   ]
  },
  {
   "cell_type": "code",
   "execution_count": 42,
   "metadata": {},
   "outputs": [
    {
     "data": {
      "text/plain": [
       "Index(['encounter_id', 'patient_nbr', 'race', 'gender', 'age',\n",
       "       'admission_type_id', 'discharge_disposition_id', 'admission_source_id',\n",
       "       'time_in_hospital', 'num_lab_procedures', 'num_procedures',\n",
       "       'num_medications', 'number_outpatient', 'number_emergency',\n",
       "       'number_inpatient', 'diag_1', 'diag_2', 'diag_3', 'number_diagnoses',\n",
       "       'max_glu_serum', 'A1Cresult', 'change', 'diabetesMed', 'readmitted',\n",
       "       'treatments'],\n",
       "      dtype='object')"
      ]
     },
     "execution_count": 42,
     "metadata": {},
     "output_type": "execute_result"
    }
   ],
   "source": [
    "data.columns"
   ]
  },
  {
   "cell_type": "markdown",
   "metadata": {},
   "source": [
    "# Here the features which contains numeric values are of type Discrete Quantitative and has a finite set of values. Discrete data can be both Quantitative and Qualitative. So treating outliers in this dataset is not possible"
   ]
  },
  {
   "cell_type": "markdown",
   "metadata": {},
   "source": [
    "**One hot encoding the nominal categorical values**"
   ]
  },
  {
   "cell_type": "code",
   "execution_count": 43,
   "metadata": {},
   "outputs": [],
   "source": [
    "data = pd.get_dummies(data, columns=['race', 'gender','max_glu_serum', 'A1Cresult', 'change',\n",
    "       'diabetesMed', 'readmitted'])"
   ]
  },
  {
   "cell_type": "code",
   "execution_count": 44,
   "metadata": {},
   "outputs": [
    {
     "data": {
      "text/html": [
       "<div>\n",
       "<style scoped>\n",
       "    .dataframe tbody tr th:only-of-type {\n",
       "        vertical-align: middle;\n",
       "    }\n",
       "\n",
       "    .dataframe tbody tr th {\n",
       "        vertical-align: top;\n",
       "    }\n",
       "\n",
       "    .dataframe thead th {\n",
       "        text-align: right;\n",
       "    }\n",
       "</style>\n",
       "<table border=\"1\" class=\"dataframe\">\n",
       "  <thead>\n",
       "    <tr style=\"text-align: right;\">\n",
       "      <th></th>\n",
       "      <th>encounter_id</th>\n",
       "      <th>patient_nbr</th>\n",
       "      <th>age</th>\n",
       "      <th>admission_type_id</th>\n",
       "      <th>discharge_disposition_id</th>\n",
       "      <th>admission_source_id</th>\n",
       "      <th>time_in_hospital</th>\n",
       "      <th>num_lab_procedures</th>\n",
       "      <th>num_procedures</th>\n",
       "      <th>num_medications</th>\n",
       "      <th>...</th>\n",
       "      <th>max_glu_serum_None</th>\n",
       "      <th>max_glu_serum_Norm</th>\n",
       "      <th>A1Cresult_&gt;7</th>\n",
       "      <th>A1Cresult_&gt;8</th>\n",
       "      <th>A1Cresult_None</th>\n",
       "      <th>A1Cresult_Norm</th>\n",
       "      <th>change_Ch</th>\n",
       "      <th>change_No</th>\n",
       "      <th>diabetesMed_Yes</th>\n",
       "      <th>readmitted_NO</th>\n",
       "    </tr>\n",
       "  </thead>\n",
       "  <tbody>\n",
       "    <tr>\n",
       "      <th>3</th>\n",
       "      <td>500364</td>\n",
       "      <td>82442376</td>\n",
       "      <td>[30-40)</td>\n",
       "      <td>1</td>\n",
       "      <td>1</td>\n",
       "      <td>7</td>\n",
       "      <td>2</td>\n",
       "      <td>44</td>\n",
       "      <td>1</td>\n",
       "      <td>16</td>\n",
       "      <td>...</td>\n",
       "      <td>1</td>\n",
       "      <td>0</td>\n",
       "      <td>0</td>\n",
       "      <td>0</td>\n",
       "      <td>1</td>\n",
       "      <td>0</td>\n",
       "      <td>1</td>\n",
       "      <td>0</td>\n",
       "      <td>1</td>\n",
       "      <td>1</td>\n",
       "    </tr>\n",
       "    <tr>\n",
       "      <th>4</th>\n",
       "      <td>16680</td>\n",
       "      <td>42519267</td>\n",
       "      <td>[40-50)</td>\n",
       "      <td>1</td>\n",
       "      <td>1</td>\n",
       "      <td>7</td>\n",
       "      <td>1</td>\n",
       "      <td>51</td>\n",
       "      <td>0</td>\n",
       "      <td>8</td>\n",
       "      <td>...</td>\n",
       "      <td>1</td>\n",
       "      <td>0</td>\n",
       "      <td>0</td>\n",
       "      <td>0</td>\n",
       "      <td>1</td>\n",
       "      <td>0</td>\n",
       "      <td>1</td>\n",
       "      <td>0</td>\n",
       "      <td>1</td>\n",
       "      <td>1</td>\n",
       "    </tr>\n",
       "    <tr>\n",
       "      <th>6</th>\n",
       "      <td>55842</td>\n",
       "      <td>84259809</td>\n",
       "      <td>[60-70)</td>\n",
       "      <td>3</td>\n",
       "      <td>1</td>\n",
       "      <td>2</td>\n",
       "      <td>4</td>\n",
       "      <td>70</td>\n",
       "      <td>1</td>\n",
       "      <td>21</td>\n",
       "      <td>...</td>\n",
       "      <td>1</td>\n",
       "      <td>0</td>\n",
       "      <td>0</td>\n",
       "      <td>0</td>\n",
       "      <td>1</td>\n",
       "      <td>0</td>\n",
       "      <td>1</td>\n",
       "      <td>0</td>\n",
       "      <td>1</td>\n",
       "      <td>1</td>\n",
       "    </tr>\n",
       "    <tr>\n",
       "      <th>8</th>\n",
       "      <td>12522</td>\n",
       "      <td>48330783</td>\n",
       "      <td>[80-90)</td>\n",
       "      <td>2</td>\n",
       "      <td>1</td>\n",
       "      <td>4</td>\n",
       "      <td>13</td>\n",
       "      <td>68</td>\n",
       "      <td>2</td>\n",
       "      <td>28</td>\n",
       "      <td>...</td>\n",
       "      <td>1</td>\n",
       "      <td>0</td>\n",
       "      <td>0</td>\n",
       "      <td>0</td>\n",
       "      <td>1</td>\n",
       "      <td>0</td>\n",
       "      <td>1</td>\n",
       "      <td>0</td>\n",
       "      <td>1</td>\n",
       "      <td>1</td>\n",
       "    </tr>\n",
       "    <tr>\n",
       "      <th>9</th>\n",
       "      <td>15738</td>\n",
       "      <td>63555939</td>\n",
       "      <td>[90-100)</td>\n",
       "      <td>3</td>\n",
       "      <td>3</td>\n",
       "      <td>4</td>\n",
       "      <td>12</td>\n",
       "      <td>33</td>\n",
       "      <td>3</td>\n",
       "      <td>18</td>\n",
       "      <td>...</td>\n",
       "      <td>1</td>\n",
       "      <td>0</td>\n",
       "      <td>0</td>\n",
       "      <td>0</td>\n",
       "      <td>1</td>\n",
       "      <td>0</td>\n",
       "      <td>1</td>\n",
       "      <td>0</td>\n",
       "      <td>1</td>\n",
       "      <td>1</td>\n",
       "    </tr>\n",
       "  </tbody>\n",
       "</table>\n",
       "<p>5 rows × 37 columns</p>\n",
       "</div>"
      ],
      "text/plain": [
       "   encounter_id  patient_nbr       age  admission_type_id  \\\n",
       "3        500364     82442376   [30-40)                  1   \n",
       "4         16680     42519267   [40-50)                  1   \n",
       "6         55842     84259809   [60-70)                  3   \n",
       "8         12522     48330783   [80-90)                  2   \n",
       "9         15738     63555939  [90-100)                  3   \n",
       "\n",
       "   discharge_disposition_id  admission_source_id  time_in_hospital  \\\n",
       "3                         1                    7                 2   \n",
       "4                         1                    7                 1   \n",
       "6                         1                    2                 4   \n",
       "8                         1                    4                13   \n",
       "9                         3                    4                12   \n",
       "\n",
       "   num_lab_procedures  num_procedures  num_medications  ...  \\\n",
       "3                  44               1               16  ...   \n",
       "4                  51               0                8  ...   \n",
       "6                  70               1               21  ...   \n",
       "8                  68               2               28  ...   \n",
       "9                  33               3               18  ...   \n",
       "\n",
       "   max_glu_serum_None  max_glu_serum_Norm  A1Cresult_>7 A1Cresult_>8  \\\n",
       "3                   1                   0             0            0   \n",
       "4                   1                   0             0            0   \n",
       "6                   1                   0             0            0   \n",
       "8                   1                   0             0            0   \n",
       "9                   1                   0             0            0   \n",
       "\n",
       "  A1Cresult_None A1Cresult_Norm  change_Ch change_No  diabetesMed_Yes  \\\n",
       "3              1              0          1         0                1   \n",
       "4              1              0          1         0                1   \n",
       "6              1              0          1         0                1   \n",
       "8              1              0          1         0                1   \n",
       "9              1              0          1         0                1   \n",
       "\n",
       "   readmitted_NO  \n",
       "3              1  \n",
       "4              1  \n",
       "6              1  \n",
       "8              1  \n",
       "9              1  \n",
       "\n",
       "[5 rows x 37 columns]"
      ]
     },
     "execution_count": 44,
     "metadata": {},
     "output_type": "execute_result"
    }
   ],
   "source": [
    "data.head()"
   ]
  },
  {
   "cell_type": "markdown",
   "metadata": {},
   "source": [
    "** Encoding the AGE(ordinal) categorical column**"
   ]
  },
  {
   "cell_type": "code",
   "execution_count": 45,
   "metadata": {},
   "outputs": [
    {
     "data": {
      "text/plain": [
       "[70-80)     6171\n",
       "[60-70)     5982\n",
       "[50-60)     4986\n",
       "[80-90)     3834\n",
       "[40-50)     2860\n",
       "[30-40)     1226\n",
       "[90-100)     677\n",
       "[20-30)      630\n",
       "[10-20)      348\n",
       "[0-10)       106\n",
       "Name: age, dtype: int64"
      ]
     },
     "execution_count": 45,
     "metadata": {},
     "output_type": "execute_result"
    }
   ],
   "source": [
    "data.age.value_counts()"
   ]
  },
  {
   "cell_type": "code",
   "execution_count": 46,
   "metadata": {},
   "outputs": [
    {
     "name": "stdout",
     "output_type": "stream",
     "text": [
      "{'age': {'[0-10)': 1, '[10-20)': 2, '[20-30)': 3, '[30-40)': 4, '[40-50)': 5, '[50-60)': 6, '[60-70)': 7, '[70-80)': 8, '[80-90)': 9, '[90-100)': 10}}\n"
     ]
    }
   ],
   "source": [
    "labels = data['age'].astype('category').cat.categories.tolist()\n",
    "replace_age = {'age' : {k: v for k,v in zip(labels,list(range(1,len(labels)+1)))}}\n",
    "\n",
    "print(replace_age)"
   ]
  },
  {
   "cell_type": "code",
   "execution_count": 47,
   "metadata": {},
   "outputs": [],
   "source": [
    "data.replace(replace_age, inplace=True)"
   ]
  },
  {
   "cell_type": "code",
   "execution_count": 48,
   "metadata": {},
   "outputs": [
    {
     "data": {
      "text/plain": [
       "8     6171\n",
       "7     5982\n",
       "6     4986\n",
       "9     3834\n",
       "5     2860\n",
       "4     1226\n",
       "10     677\n",
       "3      630\n",
       "2      348\n",
       "1      106\n",
       "Name: age, dtype: int64"
      ]
     },
     "execution_count": 48,
     "metadata": {},
     "output_type": "execute_result"
    }
   ],
   "source": [
    "data.age.value_counts()"
   ]
  },
  {
   "cell_type": "markdown",
   "metadata": {},
   "source": [
    "# Exploratory Data Analysis"
   ]
  },
  {
   "cell_type": "markdown",
   "metadata": {},
   "source": [
    "### UNI VARIATE ANALYSIS"
   ]
  },
  {
   "cell_type": "code",
   "execution_count": 49,
   "metadata": {},
   "outputs": [
    {
     "data": {
      "text/plain": [
       "<AxesSubplot:ylabel='Frequency'>"
      ]
     },
     "execution_count": 49,
     "metadata": {},
     "output_type": "execute_result"
    },
    {
     "data": {
      "image/png": "[encoded data removed]",
      "text/plain": [
       "<Figure size 432x288 with 1 Axes>"
      ]
     },
     "metadata": {
      "needs_background": "light"
     },
     "output_type": "display_data"
    }
   ],
   "source": [
    "data.num_lab_procedures.plot(kind='hist')"
   ]
  },
  {
   "cell_type": "code",
   "execution_count": 50,
   "metadata": {},
   "outputs": [
    {
     "name": "stderr",
     "output_type": "stream",
     "text": [
      "C:\\Users\\Ashvini Alashetty\\Anaconda3\\lib\\site-packages\\seaborn\\distributions.py:2619: FutureWarning: `distplot` is a deprecated function and will be removed in a future version. Please adapt your code to use either `displot` (a figure-level function with similar flexibility) or `histplot` (an axes-level function for histograms).\n",
      "  warnings.warn(msg, FutureWarning)\n"
     ]
    },
    {
     "data": {
      "text/plain": [
       "<AxesSubplot:xlabel='time_in_hospital', ylabel='Density'>"
      ]
     },
     "execution_count": 50,
     "metadata": {},
     "output_type": "execute_result"
    },
    {
     "data": {
      "image/png": "[encoded data removed]",
      "text/plain": [
       "<Figure size 432x288 with 1 Axes>"
      ]
     },
     "metadata": {
      "needs_background": "light"
     },
     "output_type": "display_data"
    }
   ],
   "source": [
    "import seaborn as sns\n",
    "sns.distplot(data.time_in_hospital)"
   ]
  },
  {
   "cell_type": "code",
   "execution_count": 51,
   "metadata": {},
   "outputs": [
    {
     "name": "stderr",
     "output_type": "stream",
     "text": [
      "C:\\Users\\Ashvini Alashetty\\Anaconda3\\lib\\site-packages\\seaborn\\_decorators.py:36: FutureWarning: Pass the following variables as keyword args: x, y. From version 0.12, the only valid positional argument will be `data`, and passing other arguments without an explicit keyword will result in an error or misinterpretation.\n",
      "  warnings.warn(\n"
     ]
    },
    {
     "data": {
      "image/png": "[encoded data removed]",
      "text/plain": [
       "<Figure size 432x288 with 1 Axes>"
      ]
     },
     "metadata": {},
     "output_type": "display_data"
    }
   ],
   "source": [
    "import matplotlib.pyplot as plt\n",
    "age_count = data['age'].value_counts()\n",
    "sns.set(style=\"darkgrid\")\n",
    "sns.barplot(age_count.index, age_count.values, alpha=0.9)\n",
    "plt.title('Frequency Distribution of age')\n",
    "plt.ylabel('Number of Occurrences', fontsize=12)\n",
    "plt.xlabel('Age', fontsize=12)\n",
    "plt.show()"
   ]
  },
  {
   "cell_type": "code",
   "execution_count": 52,
   "metadata": {},
   "outputs": [
    {
     "data": {
      "image/png": "[encoded data removed]",
      "text/plain": [
       "<Figure size 432x288 with 1 Axes>"
      ]
     },
     "metadata": {},
     "output_type": "display_data"
    }
   ],
   "source": [
    "labels = data['age'].astype('category').cat.categories.tolist()\n",
    "counts = data['age'].value_counts()\n",
    "sizes = [counts[var_cat] for var_cat in labels]\n",
    "fig1, ax1 = plt.subplots()\n",
    "ax1.pie(sizes, labels=labels, autopct='%1.1f%%', shadow=True) #autopct is show the % on plot\n",
    "ax1.axis('equal')\n",
    "plt.show()"
   ]
  },
  {
   "cell_type": "markdown",
   "metadata": {},
   "source": [
    "# Feature Identification"
   ]
  },
  {
   "cell_type": "code",
   "execution_count": 53,
   "metadata": {},
   "outputs": [
    {
     "data": {
      "text/plain": [
       "Index(['encounter_id', 'patient_nbr', 'age', 'admission_type_id',\n",
       "       'discharge_disposition_id', 'admission_source_id', 'time_in_hospital',\n",
       "       'num_lab_procedures', 'num_procedures', 'num_medications',\n",
       "       'number_outpatient', 'number_emergency', 'number_inpatient', 'diag_1',\n",
       "       'diag_2', 'diag_3', 'number_diagnoses', 'treatments',\n",
       "       'race_AfricanAmerican', 'race_Asian', 'race_Caucasian', 'race_Hispanic',\n",
       "       'race_Other', 'gender_Female', 'gender_Male', 'max_glu_serum_>200',\n",
       "       'max_glu_serum_>300', 'max_glu_serum_None', 'max_glu_serum_Norm',\n",
       "       'A1Cresult_>7', 'A1Cresult_>8', 'A1Cresult_None', 'A1Cresult_Norm',\n",
       "       'change_Ch', 'change_No', 'diabetesMed_Yes', 'readmitted_NO'],\n",
       "      dtype='object')"
      ]
     },
     "execution_count": 53,
     "metadata": {},
     "output_type": "execute_result"
    }
   ],
   "source": [
    "data.columns"
   ]
  },
  {
   "cell_type": "markdown",
   "metadata": {},
   "source": [
    "### Considering the Domain knowledge, we would like to drop the Columns \"diag_1\" , \"diag_2\" ,\"diag_3\"\n",
    "\n",
    "##### Since they contain the information about the codes of different types of treatments given to the patient. They don't contribute to the effectiveness of the treat (i.e, our problemm statement)"
   ]
  },
  {
   "cell_type": "code",
   "execution_count": 54,
   "metadata": {},
   "outputs": [],
   "source": [
    "data = data.drop(['diag_1','diag_2','diag_3'],axis = 1)"
   ]
  },
  {
   "cell_type": "markdown",
   "metadata": {},
   "source": [
    "## With respect to the problem statement given, the output variable is observed to be the “treatments” feature\n",
    "## The input variables are both Discrete Quantitative and Categorical and our output variable is Categorical\n"
   ]
  },
  {
   "cell_type": "markdown",
   "metadata": {},
   "source": [
    "## Since we have a combination of Discrete Quantitative Variables and Categorical Variables, we cannot perform general Correlation tests"
   ]
  },
  {
   "cell_type": "code",
   "execution_count": 55,
   "metadata": {},
   "outputs": [
    {
     "ename": "FileNotFoundError",
     "evalue": "No such file or directory: '../input/correlation/Picture1.png'",
     "output_type": "error",
     "traceback": [
      "\u001b[1;31m---------------------------------------------------------------------------\u001b[0m",
      "\u001b[1;31mTypeError\u001b[0m                                 Traceback (most recent call last)",
      "File \u001b[1;32m~\\Anaconda3\\lib\\site-packages\\IPython\\core\\display.py:1032\u001b[0m, in \u001b[0;36mImage._data_and_metadata\u001b[1;34m(self, always_both)\u001b[0m\n\u001b[0;32m   1031\u001b[0m \u001b[38;5;28;01mtry\u001b[39;00m:\n\u001b[1;32m-> 1032\u001b[0m     b64_data \u001b[38;5;241m=\u001b[39m \u001b[43mb2a_base64\u001b[49m\u001b[43m(\u001b[49m\u001b[38;5;28;43mself\u001b[39;49m\u001b[38;5;241;43m.\u001b[39;49m\u001b[43mdata\u001b[49m\u001b[43m)\u001b[49m\u001b[38;5;241m.\u001b[39mdecode(\u001b[38;5;124m'\u001b[39m\u001b[38;5;124mascii\u001b[39m\u001b[38;5;124m'\u001b[39m)\n\u001b[0;32m   1033\u001b[0m \u001b[38;5;28;01mexcept\u001b[39;00m \u001b[38;5;167;01mTypeError\u001b[39;00m \u001b[38;5;28;01mas\u001b[39;00m e:\n",
      "\u001b[1;31mTypeError\u001b[0m: a bytes-like object is required, not 'str'",
      "\nThe above exception was the direct cause of the following exception:\n",
      "\u001b[1;31mFileNotFoundError\u001b[0m                         Traceback (most recent call last)",
      "File \u001b[1;32m~\\Anaconda3\\lib\\site-packages\\IPython\\core\\formatters.py:973\u001b[0m, in \u001b[0;36mMimeBundleFormatter.__call__\u001b[1;34m(self, obj, include, exclude)\u001b[0m\n\u001b[0;32m    970\u001b[0m     method \u001b[38;5;241m=\u001b[39m get_real_method(obj, \u001b[38;5;28mself\u001b[39m\u001b[38;5;241m.\u001b[39mprint_method)\n\u001b[0;32m    972\u001b[0m     \u001b[38;5;28;01mif\u001b[39;00m method \u001b[38;5;129;01mis\u001b[39;00m \u001b[38;5;129;01mnot\u001b[39;00m \u001b[38;5;28;01mNone\u001b[39;00m:\n\u001b[1;32m--> 973\u001b[0m         \u001b[38;5;28;01mreturn\u001b[39;00m \u001b[43mmethod\u001b[49m\u001b[43m(\u001b[49m\u001b[43minclude\u001b[49m\u001b[38;5;241;43m=\u001b[39;49m\u001b[43minclude\u001b[49m\u001b[43m,\u001b[49m\u001b[43m \u001b[49m\u001b[43mexclude\u001b[49m\u001b[38;5;241;43m=\u001b[39;49m\u001b[43mexclude\u001b[49m\u001b[43m)\u001b[49m\n\u001b[0;32m    974\u001b[0m     \u001b[38;5;28;01mreturn\u001b[39;00m \u001b[38;5;28;01mNone\u001b[39;00m\n\u001b[0;32m    975\u001b[0m \u001b[38;5;28;01melse\u001b[39;00m:\n",
      "File \u001b[1;32m~\\Anaconda3\\lib\\site-packages\\IPython\\core\\display.py:1022\u001b[0m, in \u001b[0;36mImage._repr_mimebundle_\u001b[1;34m(self, include, exclude)\u001b[0m\n\u001b[0;32m   1020\u001b[0m \u001b[38;5;28;01mif\u001b[39;00m \u001b[38;5;28mself\u001b[39m\u001b[38;5;241m.\u001b[39membed:\n\u001b[0;32m   1021\u001b[0m     mimetype \u001b[38;5;241m=\u001b[39m \u001b[38;5;28mself\u001b[39m\u001b[38;5;241m.\u001b[39m_mimetype\n\u001b[1;32m-> 1022\u001b[0m     data, metadata \u001b[38;5;241m=\u001b[39m \u001b[38;5;28;43mself\u001b[39;49m\u001b[38;5;241;43m.\u001b[39;49m\u001b[43m_data_and_metadata\u001b[49m\u001b[43m(\u001b[49m\u001b[43malways_both\u001b[49m\u001b[38;5;241;43m=\u001b[39;49m\u001b[38;5;28;43;01mTrue\u001b[39;49;00m\u001b[43m)\u001b[49m\n\u001b[0;32m   1023\u001b[0m     \u001b[38;5;28;01mif\u001b[39;00m metadata:\n\u001b[0;32m   1024\u001b[0m         metadata \u001b[38;5;241m=\u001b[39m {mimetype: metadata}\n",
      "File \u001b[1;32m~\\Anaconda3\\lib\\site-packages\\IPython\\core\\display.py:1034\u001b[0m, in \u001b[0;36mImage._data_and_metadata\u001b[1;34m(self, always_both)\u001b[0m\n\u001b[0;32m   1032\u001b[0m     b64_data \u001b[38;5;241m=\u001b[39m b2a_base64(\u001b[38;5;28mself\u001b[39m\u001b[38;5;241m.\u001b[39mdata)\u001b[38;5;241m.\u001b[39mdecode(\u001b[38;5;124m'\u001b[39m\u001b[38;5;124mascii\u001b[39m\u001b[38;5;124m'\u001b[39m)\n\u001b[0;32m   1033\u001b[0m \u001b[38;5;28;01mexcept\u001b[39;00m \u001b[38;5;167;01mTypeError\u001b[39;00m \u001b[38;5;28;01mas\u001b[39;00m e:\n\u001b[1;32m-> 1034\u001b[0m     \u001b[38;5;28;01mraise\u001b[39;00m \u001b[38;5;167;01mFileNotFoundError\u001b[39;00m(\n\u001b[0;32m   1035\u001b[0m         \u001b[38;5;124m\"\u001b[39m\u001b[38;5;124mNo such file or directory: \u001b[39m\u001b[38;5;124m'\u001b[39m\u001b[38;5;132;01m%s\u001b[39;00m\u001b[38;5;124m'\u001b[39m\u001b[38;5;124m\"\u001b[39m \u001b[38;5;241m%\u001b[39m (\u001b[38;5;28mself\u001b[39m\u001b[38;5;241m.\u001b[39mdata)) \u001b[38;5;28;01mfrom\u001b[39;00m \u001b[38;5;21;01me\u001b[39;00m\n\u001b[0;32m   1036\u001b[0m md \u001b[38;5;241m=\u001b[39m {}\n\u001b[0;32m   1037\u001b[0m \u001b[38;5;28;01mif\u001b[39;00m \u001b[38;5;28mself\u001b[39m\u001b[38;5;241m.\u001b[39mmetadata:\n",
      "\u001b[1;31mFileNotFoundError\u001b[0m: No such file or directory: '../input/correlation/Picture1.png'"
     ]
    },
    {
     "ename": "FileNotFoundError",
     "evalue": "No such file or directory: '../input/correlation/Picture1.png'",
     "output_type": "error",
     "traceback": [
      "\u001b[1;31m---------------------------------------------------------------------------\u001b[0m",
      "\u001b[1;31mTypeError\u001b[0m                                 Traceback (most recent call last)",
      "File \u001b[1;32m~\\Anaconda3\\lib\\site-packages\\IPython\\core\\display.py:1032\u001b[0m, in \u001b[0;36mImage._data_and_metadata\u001b[1;34m(self, always_both)\u001b[0m\n\u001b[0;32m   1031\u001b[0m \u001b[38;5;28;01mtry\u001b[39;00m:\n\u001b[1;32m-> 1032\u001b[0m     b64_data \u001b[38;5;241m=\u001b[39m \u001b[43mb2a_base64\u001b[49m\u001b[43m(\u001b[49m\u001b[38;5;28;43mself\u001b[39;49m\u001b[38;5;241;43m.\u001b[39;49m\u001b[43mdata\u001b[49m\u001b[43m)\u001b[49m\u001b[38;5;241m.\u001b[39mdecode(\u001b[38;5;124m'\u001b[39m\u001b[38;5;124mascii\u001b[39m\u001b[38;5;124m'\u001b[39m)\n\u001b[0;32m   1033\u001b[0m \u001b[38;5;28;01mexcept\u001b[39;00m \u001b[38;5;167;01mTypeError\u001b[39;00m \u001b[38;5;28;01mas\u001b[39;00m e:\n",
      "\u001b[1;31mTypeError\u001b[0m: a bytes-like object is required, not 'str'",
      "\nThe above exception was the direct cause of the following exception:\n",
      "\u001b[1;31mFileNotFoundError\u001b[0m                         Traceback (most recent call last)",
      "File \u001b[1;32m~\\Anaconda3\\lib\\site-packages\\IPython\\core\\formatters.py:343\u001b[0m, in \u001b[0;36mBaseFormatter.__call__\u001b[1;34m(self, obj)\u001b[0m\n\u001b[0;32m    341\u001b[0m     method \u001b[38;5;241m=\u001b[39m get_real_method(obj, \u001b[38;5;28mself\u001b[39m\u001b[38;5;241m.\u001b[39mprint_method)\n\u001b[0;32m    342\u001b[0m     \u001b[38;5;28;01mif\u001b[39;00m method \u001b[38;5;129;01mis\u001b[39;00m \u001b[38;5;129;01mnot\u001b[39;00m \u001b[38;5;28;01mNone\u001b[39;00m:\n\u001b[1;32m--> 343\u001b[0m         \u001b[38;5;28;01mreturn\u001b[39;00m \u001b[43mmethod\u001b[49m\u001b[43m(\u001b[49m\u001b[43m)\u001b[49m\n\u001b[0;32m    344\u001b[0m     \u001b[38;5;28;01mreturn\u001b[39;00m \u001b[38;5;28;01mNone\u001b[39;00m\n\u001b[0;32m    345\u001b[0m \u001b[38;5;28;01melse\u001b[39;00m:\n",
      "File \u001b[1;32m~\\Anaconda3\\lib\\site-packages\\IPython\\core\\display.py:1054\u001b[0m, in \u001b[0;36mImage._repr_png_\u001b[1;34m(self)\u001b[0m\n\u001b[0;32m   1052\u001b[0m \u001b[38;5;28;01mdef\u001b[39;00m \u001b[38;5;21m_repr_png_\u001b[39m(\u001b[38;5;28mself\u001b[39m):\n\u001b[0;32m   1053\u001b[0m     \u001b[38;5;28;01mif\u001b[39;00m \u001b[38;5;28mself\u001b[39m\u001b[38;5;241m.\u001b[39membed \u001b[38;5;129;01mand\u001b[39;00m \u001b[38;5;28mself\u001b[39m\u001b[38;5;241m.\u001b[39mformat \u001b[38;5;241m==\u001b[39m \u001b[38;5;28mself\u001b[39m\u001b[38;5;241m.\u001b[39m_FMT_PNG:\n\u001b[1;32m-> 1054\u001b[0m         \u001b[38;5;28;01mreturn\u001b[39;00m \u001b[38;5;28;43mself\u001b[39;49m\u001b[38;5;241;43m.\u001b[39;49m\u001b[43m_data_and_metadata\u001b[49m\u001b[43m(\u001b[49m\u001b[43m)\u001b[49m\n",
      "File \u001b[1;32m~\\Anaconda3\\lib\\site-packages\\IPython\\core\\display.py:1034\u001b[0m, in \u001b[0;36mImage._data_and_metadata\u001b[1;34m(self, always_both)\u001b[0m\n\u001b[0;32m   1032\u001b[0m     b64_data \u001b[38;5;241m=\u001b[39m b2a_base64(\u001b[38;5;28mself\u001b[39m\u001b[38;5;241m.\u001b[39mdata)\u001b[38;5;241m.\u001b[39mdecode(\u001b[38;5;124m'\u001b[39m\u001b[38;5;124mascii\u001b[39m\u001b[38;5;124m'\u001b[39m)\n\u001b[0;32m   1033\u001b[0m \u001b[38;5;28;01mexcept\u001b[39;00m \u001b[38;5;167;01mTypeError\u001b[39;00m \u001b[38;5;28;01mas\u001b[39;00m e:\n\u001b[1;32m-> 1034\u001b[0m     \u001b[38;5;28;01mraise\u001b[39;00m \u001b[38;5;167;01mFileNotFoundError\u001b[39;00m(\n\u001b[0;32m   1035\u001b[0m         \u001b[38;5;124m\"\u001b[39m\u001b[38;5;124mNo such file or directory: \u001b[39m\u001b[38;5;124m'\u001b[39m\u001b[38;5;132;01m%s\u001b[39;00m\u001b[38;5;124m'\u001b[39m\u001b[38;5;124m\"\u001b[39m \u001b[38;5;241m%\u001b[39m (\u001b[38;5;28mself\u001b[39m\u001b[38;5;241m.\u001b[39mdata)) \u001b[38;5;28;01mfrom\u001b[39;00m \u001b[38;5;21;01me\u001b[39;00m\n\u001b[0;32m   1036\u001b[0m md \u001b[38;5;241m=\u001b[39m {}\n\u001b[0;32m   1037\u001b[0m \u001b[38;5;28;01mif\u001b[39;00m \u001b[38;5;28mself\u001b[39m\u001b[38;5;241m.\u001b[39mmetadata:\n",
      "\u001b[1;31mFileNotFoundError\u001b[0m: No such file or directory: '../input/correlation/Picture1.png'"
     ]
    },
    {
     "data": {
      "text/plain": [
       "<IPython.core.display.Image object>"
      ]
     },
     "execution_count": 55,
     "metadata": {},
     "output_type": "execute_result"
    }
   ],
   "source": [
    "from IPython.display import Image\n",
    "Image(\"../input/correlation/Picture1.png\")"
   ]
  },
  {
   "cell_type": "markdown",
   "metadata": {},
   "source": [
    "### We will be performing Chi-Square Test of Independence for finding the Correlation btw the variables"
   ]
  },
  {
   "cell_type": "markdown",
   "metadata": {},
   "source": [
    "# Chi-Square Test of Independence"
   ]
  },
  {
   "cell_type": "code",
   "execution_count": 56,
   "metadata": {},
   "outputs": [],
   "source": [
    "import pandas as pd\n",
    "import numpy as np\n",
    "import scipy.stats as stats\n",
    "from scipy.stats import chi2_contingency\n",
    "\n",
    "class ChiSquare:\n",
    "    def __init__(self, dataframe):\n",
    "        self.df = dataframe\n",
    "        self.p = None #P-Value\n",
    "        self.chi2 = None #Chi Test Statistic\n",
    "        self.dof = None\n",
    "        \n",
    "        self.dfObserved = None\n",
    "        self.dfExpected = None\n",
    "        \n",
    "    def _print_chisquare_result(self, colX, alpha):\n",
    "        result = \"\"\n",
    "        if self.p<alpha:\n",
    "            result=\"{0} is IMPORTANT for Prediction\".format(colX)\n",
    "        else:\n",
    "            result=\"{0} is NOT an important predictor. (Discard {0} from model)\".format(colX)\n",
    "\n",
    "        print(result)\n",
    "        \n",
    "    def TestIndependence(self,colX,colY, alpha=0.05):\n",
    "        X = self.df[colX].astype(str)\n",
    "        Y = self.df[colY].astype(str)\n",
    "        \n",
    "        self.dfObserved = pd.crosstab(Y,X) \n",
    "        chi2, p, dof, expected = stats.chi2_contingency(self.dfObserved.values)\n",
    "        self.p = p\n",
    "        self.chi2 = chi2\n",
    "        self.dof = dof \n",
    "        \n",
    "        self.dfExpected = pd.DataFrame(expected, columns=self.dfObserved.columns, index = self.dfObserved.index)\n",
    "        \n",
    "        self._print_chisquare_result(colX,alpha)"
   ]
  },
  {
   "cell_type": "code",
   "execution_count": 57,
   "metadata": {},
   "outputs": [
    {
     "data": {
      "text/plain": [
       "0    13420\n",
       "1    13400\n",
       "Name: dummyCat, dtype: int64"
      ]
     },
     "execution_count": 57,
     "metadata": {},
     "output_type": "execute_result"
    }
   ],
   "source": [
    "data['dummyCat'] = np.random.choice([0, 1], size=(len(data),), p=[0.5, 0.5])\n",
    "\n",
    "data.dummyCat.value_counts()"
   ]
  },
  {
   "cell_type": "code",
   "execution_count": 58,
   "metadata": {},
   "outputs": [
    {
     "name": "stdout",
     "output_type": "stream",
     "text": [
      "encounter_id is NOT an important predictor. (Discard encounter_id from model)\n",
      "patient_nbr is NOT an important predictor. (Discard patient_nbr from model)\n",
      "age is IMPORTANT for Prediction\n",
      "admission_type_id is IMPORTANT for Prediction\n",
      "discharge_disposition_id is IMPORTANT for Prediction\n",
      "admission_source_id is IMPORTANT for Prediction\n",
      "time_in_hospital is IMPORTANT for Prediction\n",
      "num_lab_procedures is NOT an important predictor. (Discard num_lab_procedures from model)\n",
      "num_procedures is IMPORTANT for Prediction\n",
      "num_medications is IMPORTANT for Prediction\n",
      "number_outpatient is NOT an important predictor. (Discard number_outpatient from model)\n",
      "number_emergency is NOT an important predictor. (Discard number_emergency from model)\n",
      "number_inpatient is IMPORTANT for Prediction\n",
      "number_diagnoses is IMPORTANT for Prediction\n",
      "race_AfricanAmerican is IMPORTANT for Prediction\n",
      "race_Asian is NOT an important predictor. (Discard race_Asian from model)\n",
      "race_Caucasian is IMPORTANT for Prediction\n",
      "race_Hispanic is IMPORTANT for Prediction\n",
      "race_Other is NOT an important predictor. (Discard race_Other from model)\n",
      "gender_Female is IMPORTANT for Prediction\n",
      "gender_Male is IMPORTANT for Prediction\n",
      "max_glu_serum_>200 is NOT an important predictor. (Discard max_glu_serum_>200 from model)\n",
      "max_glu_serum_>300 is IMPORTANT for Prediction\n",
      "max_glu_serum_None is IMPORTANT for Prediction\n",
      "max_glu_serum_Norm is IMPORTANT for Prediction\n",
      "A1Cresult_>7 is IMPORTANT for Prediction\n",
      "A1Cresult_>8 is NOT an important predictor. (Discard A1Cresult_>8 from model)\n",
      "A1Cresult_None is IMPORTANT for Prediction\n",
      "A1Cresult_Norm is NOT an important predictor. (Discard A1Cresult_Norm from model)\n",
      "change_Ch is IMPORTANT for Prediction\n",
      "change_No is IMPORTANT for Prediction\n",
      "diabetesMed_Yes is NOT an important predictor. (Discard diabetesMed_Yes from model)\n",
      "readmitted_NO is NOT an important predictor. (Discard readmitted_NO from model)\n",
      "dummyCat is NOT an important predictor. (Discard dummyCat from model)\n"
     ]
    }
   ],
   "source": [
    "#Initialize ChiSquare Class\n",
    "cT = ChiSquare(data)\n",
    "\n",
    "#Feature Selection\n",
    "testColumns = ['encounter_id', 'patient_nbr', 'age', 'admission_type_id',\n",
    "       'discharge_disposition_id', 'admission_source_id', 'time_in_hospital',\n",
    "       'num_lab_procedures', 'num_procedures', 'num_medications',\n",
    "       'number_outpatient', 'number_emergency', 'number_inpatient','number_diagnoses',\n",
    "       'race_AfricanAmerican', 'race_Asian', 'race_Caucasian', 'race_Hispanic',\n",
    "       'race_Other', 'gender_Female', 'gender_Male',\n",
    "       'max_glu_serum_>200', 'max_glu_serum_>300', 'max_glu_serum_None',\n",
    "       'max_glu_serum_Norm', 'A1Cresult_>7', 'A1Cresult_>8', 'A1Cresult_None',\n",
    "       'A1Cresult_Norm', 'change_Ch', 'change_No', 'diabetesMed_Yes',\n",
    "       'readmitted_NO', 'dummyCat']\n",
    "for var in testColumns:\n",
    "    cT.TestIndependence(colX=var,colY=\"treatments\" ) "
   ]
  },
  {
   "cell_type": "markdown",
   "metadata": {},
   "source": [
    "# Model Building\n",
    "## Train Test Split"
   ]
  },
  {
   "cell_type": "markdown",
   "metadata": {},
   "source": [
    "Since our target variable is Categorical , We would be importing the required Classification model packages"
   ]
  },
  {
   "cell_type": "code",
   "execution_count": 59,
   "metadata": {},
   "outputs": [],
   "source": [
    "from sklearn.model_selection import train_test_split\n",
    "from sklearn.linear_model import LogisticRegression\n",
    "from sklearn.neighbors import KNeighborsClassifier\n",
    "from sklearn.naive_bayes import MultinomialNB,GaussianNB,BernoulliNB\n",
    "from sklearn.tree import DecisionTreeClassifier\n",
    "from sklearn.ensemble import RandomForestClassifier\n",
    "from sklearn.metrics import accuracy_score,confusion_matrix,classification_report"
   ]
  },
  {
   "cell_type": "code",
   "execution_count": 60,
   "metadata": {},
   "outputs": [
    {
     "name": "stdout",
     "output_type": "stream",
     "text": [
      "(26820, 21)\n",
      "(26820,)\n"
     ]
    }
   ],
   "source": [
    "X = data.drop(['encounter_id','patient_nbr','num_lab_procedures','number_outpatient','number_emergency',\n",
    "                      'race_Asian','race_Other','diabetesMed_Yes','max_glu_serum_>200','A1Cresult_>8','A1Cresult_Norm',\n",
    "                      'readmitted_NO','dummyCat','treatments'],axis=1)\n",
    "Y = data['treatments']\n",
    "print(X.shape)\n",
    "print(Y.shape)"
   ]
  },
  {
   "cell_type": "code",
   "execution_count": 61,
   "metadata": {},
   "outputs": [
    {
     "data": {
      "text/plain": [
       "((18774, 21), (8046, 21), (18774,), (8046,))"
      ]
     },
     "execution_count": 61,
     "metadata": {},
     "output_type": "execute_result"
    }
   ],
   "source": [
    "from sklearn.model_selection import train_test_split\n",
    "X_train, X_test, y_train, y_test = train_test_split(X, Y, test_size=0.3, random_state=2)\n",
    "X_train.shape,X_test.shape,y_train.shape,y_test.shape"
   ]
  },
  {
   "cell_type": "markdown",
   "metadata": {},
   "source": [
    "# Base Model"
   ]
  },
  {
   "cell_type": "code",
   "execution_count": 62,
   "metadata": {},
   "outputs": [
    {
     "data": {
      "text/plain": [
       "8046"
      ]
     },
     "execution_count": 62,
     "metadata": {},
     "output_type": "execute_result"
    }
   ],
   "source": [
    "y_p=[]\n",
    "for i in range(y_test.shape[0]):\n",
    "    y_p.append(y_test.mode()[0])#Highest class is assigned to a list which is compared with ytest\n",
    "len(y_p) "
   ]
  },
  {
   "cell_type": "code",
   "execution_count": 63,
   "metadata": {},
   "outputs": [],
   "source": [
    "y_pred=pd.Series(y_p)"
   ]
  },
  {
   "cell_type": "code",
   "execution_count": 64,
   "metadata": {},
   "outputs": [
    {
     "name": "stdout",
     "output_type": "stream",
     "text": [
      "Accuracy :  0.5437484464330102\n"
     ]
    }
   ],
   "source": [
    "print(\"Accuracy : \",accuracy_score(y_test,y_pred))"
   ]
  },
  {
   "cell_type": "markdown",
   "metadata": {},
   "source": [
    "## Our Baseline accuracy is 54% \n",
    "#### We can set the accuracy as 54% and the models we build should be giving us accuracies greater than 54%"
   ]
  },
  {
   "cell_type": "markdown",
   "metadata": {},
   "source": [
    "# Predictive Model Development - Iteration 1 "
   ]
  },
  {
   "cell_type": "markdown",
   "metadata": {},
   "source": [
    "## Baseline Models - Logistic Regression "
   ]
  },
  {
   "cell_type": "code",
   "execution_count": 65,
   "metadata": {},
   "outputs": [
    {
     "name": "stderr",
     "output_type": "stream",
     "text": [
      "C:\\Users\\Ashvini Alashetty\\Anaconda3\\lib\\site-packages\\sklearn\\linear_model\\_logistic.py:814: ConvergenceWarning: lbfgs failed to converge (status=1):\n",
      "STOP: TOTAL NO. of ITERATIONS REACHED LIMIT.\n",
      "\n",
      "Increase the number of iterations (max_iter) or scale the data as shown in:\n",
      "    https://scikit-learn.org/stable/modules/preprocessing.html\n",
      "Please also refer to the documentation for alternative solver options:\n",
      "    https://scikit-learn.org/stable/modules/linear_model.html#logistic-regression\n",
      "  n_iter_i = _check_optimize_result(\n"
     ]
    },
    {
     "name": "stdout",
     "output_type": "stream",
     "text": [
      "Training Accuracy is: 0.7742622776179823\n",
      "Testing Accuracy is: 0.767710663683818\n",
      "              precision    recall  f1-score   support\n",
      "\n",
      "     insulin       0.94      0.61      0.74      4375\n",
      "          io       0.67      0.96      0.79      3671\n",
      "\n",
      "    accuracy                           0.77      8046\n",
      "   macro avg       0.81      0.78      0.77      8046\n",
      "weighted avg       0.82      0.77      0.76      8046\n",
      "\n"
     ]
    }
   ],
   "source": [
    "#Logistic Regression\n",
    "m1=LogisticRegression()\n",
    "m1.fit(X_train,y_train)\n",
    "y_pred_lr=m1.predict(X_test)\n",
    "Train_Score_lr = m1.score(X_train,y_train)\n",
    "Test_Score_lr = accuracy_score(y_test,y_pred_lr)\n",
    "\n",
    "\n",
    "print('Training Accuracy is:',Train_Score_lr)\n",
    "print('Testing Accuracy is:',Test_Score_lr)\n",
    "print(classification_report(y_test,y_pred_lr))"
   ]
  },
  {
   "cell_type": "markdown",
   "metadata": {},
   "source": [
    "## KNN"
   ]
  },
  {
   "cell_type": "code",
   "execution_count": 66,
   "metadata": {},
   "outputs": [
    {
     "name": "stdout",
     "output_type": "stream",
     "text": [
      "Training Accuracy is : 0.7978587408117609\n",
      "Testing Accuracy is: 0.6731295053442704\n",
      "              precision    recall  f1-score   support\n",
      "\n",
      "     insulin       0.72      0.65      0.68      4375\n",
      "          io       0.63      0.70      0.66      3671\n",
      "\n",
      "    accuracy                           0.67      8046\n",
      "   macro avg       0.67      0.68      0.67      8046\n",
      "weighted avg       0.68      0.67      0.67      8046\n",
      "\n"
     ]
    }
   ],
   "source": [
    "m2 = KNeighborsClassifier()\n",
    "m2.fit(X_train,y_train)\n",
    "y_pred_knn = m2.predict(X_test)\n",
    "Train_Score_knn = m2.score(X_train,y_train)\n",
    "Test_Score_knn = accuracy_score(y_test,y_pred_knn)\n",
    "\n",
    "print('Training Accuracy is :',Train_Score_knn)\n",
    "print('Testing Accuracy is:',Test_Score_knn)\n",
    "print(classification_report(y_test,y_pred_knn))\n"
   ]
  },
  {
   "cell_type": "markdown",
   "metadata": {},
   "source": [
    "## Bernoulli Naives Bayes"
   ]
  },
  {
   "cell_type": "code",
   "execution_count": 67,
   "metadata": {},
   "outputs": [
    {
     "name": "stdout",
     "output_type": "stream",
     "text": [
      "Training Accuracy : 0.7635559816767871\n",
      "Testing Accuracy  : 0.7555306984837186\n",
      "              precision    recall  f1-score   support\n",
      "\n",
      "     insulin       1.00      0.55      0.71      4375\n",
      "          io       0.65      1.00      0.79      3671\n",
      "\n",
      "    accuracy                           0.76      8046\n",
      "   macro avg       0.83      0.78      0.75      8046\n",
      "weighted avg       0.84      0.76      0.75      8046\n",
      "\n"
     ]
    }
   ],
   "source": [
    "m3=BernoulliNB()\n",
    "m3.fit(X_train,y_train)\n",
    "y_pred_bnb=m3.predict(X_test)\n",
    "Train_Score_bnb = m3.score(X_train,y_train)\n",
    "Test_Score_bnb = accuracy_score(y_test,y_pred_bnb)\n",
    "\n",
    "print('Training Accuracy :',Train_Score_bnb)\n",
    "print('Testing Accuracy  :',Test_Score_bnb)\n",
    "print(classification_report(y_test,y_pred_bnb))"
   ]
  },
  {
   "cell_type": "markdown",
   "metadata": {},
   "source": [
    "## Decision Trees"
   ]
  },
  {
   "cell_type": "code",
   "execution_count": 68,
   "metadata": {},
   "outputs": [
    {
     "name": "stdout",
     "output_type": "stream",
     "text": [
      "Training Accuracy : 0.9965910301480772\n",
      "Testing Accuracy : 0.6978622918220234\n",
      "              precision    recall  f1-score   support\n",
      "\n",
      "     insulin       0.72      0.74      0.73      4375\n",
      "          io       0.67      0.65      0.66      3671\n",
      "\n",
      "    accuracy                           0.70      8046\n",
      "   macro avg       0.70      0.69      0.69      8046\n",
      "weighted avg       0.70      0.70      0.70      8046\n",
      "\n"
     ]
    }
   ],
   "source": [
    "m4 = DecisionTreeClassifier()\n",
    "m4.fit(X_train,y_train)\n",
    "y_pred_dt=m4.predict(X_test)\n",
    "Train_Score_dt = m4.score(X_train,y_train)\n",
    "Test_Score_dt = accuracy_score(y_test,y_pred_dt)\n",
    "\n",
    "print('Training Accuracy :',Train_Score_dt)\n",
    "print('Testing Accuracy :',Test_Score_dt)\n",
    "print(classification_report(y_test,y_pred_dt))"
   ]
  },
  {
   "cell_type": "markdown",
   "metadata": {},
   "source": [
    "## Random Forest"
   ]
  },
  {
   "cell_type": "code",
   "execution_count": 69,
   "metadata": {},
   "outputs": [
    {
     "name": "stdout",
     "output_type": "stream",
     "text": [
      "Training Accuracy : 0.9965910301480772\n",
      "Testing Accuracy : 0.7525478498632862\n",
      "              precision    recall  f1-score   support\n",
      "\n",
      "     insulin       0.84      0.67      0.75      4375\n",
      "          io       0.68      0.85      0.76      3671\n",
      "\n",
      "    accuracy                           0.75      8046\n",
      "   macro avg       0.76      0.76      0.75      8046\n",
      "weighted avg       0.77      0.75      0.75      8046\n",
      "\n"
     ]
    }
   ],
   "source": [
    "m5 = RandomForestClassifier()\n",
    "m5.fit(X_train,y_train)\n",
    "y_pred_rf=m5.predict(X_test)\n",
    "Train_Score_rf = m5.score(X_train,y_train)\n",
    "Test_Score_rf = accuracy_score(y_test,y_pred_rf)\n",
    "\n",
    "print('Training Accuracy :',Train_Score_rf)\n",
    "print('Testing Accuracy :',Test_Score_rf)\n",
    "print(classification_report(y_test,y_pred_rf))"
   ]
  },
  {
   "cell_type": "markdown",
   "metadata": {},
   "source": [
    "# Predictive Model Development - Iteration 2"
   ]
  },
  {
   "cell_type": "markdown",
   "metadata": {},
   "source": [
    "## Hyperparameter Tuning"
   ]
  },
  {
   "cell_type": "markdown",
   "metadata": {},
   "source": [
    "### For Decision Tree"
   ]
  },
  {
   "cell_type": "code",
   "execution_count": 70,
   "metadata": {},
   "outputs": [
    {
     "data": {
      "text/plain": [
       "GridSearchCV(cv=3, estimator=DecisionTreeClassifier(random_state=100),\n",
       "             param_grid={'criterion': ['entropy', 'gini'],\n",
       "                         'max_depth': range(5, 15, 5),\n",
       "                         'min_samples_leaf': range(50, 150, 50),\n",
       "                         'min_samples_split': range(50, 150, 50)},\n",
       "             scoring='accuracy')"
      ]
     },
     "execution_count": 70,
     "metadata": {},
     "output_type": "execute_result"
    }
   ],
   "source": [
    "# GridSearchCV to find optimal max_depth\n",
    "from sklearn.model_selection import KFold\n",
    "from sklearn.model_selection import GridSearchCV\n",
    "\n",
    "\n",
    "# specify number of folds for k-fold CV\n",
    "n_folds = 3\n",
    "\n",
    "# parameters to build the model on\n",
    "parameters = {'max_depth': range(5, 15, 5),\n",
    "    'min_samples_leaf': range(50, 150, 50),\n",
    "    'min_samples_split': range(50, 150, 50),\n",
    "    'criterion': [\"entropy\", \"gini\"]}\n",
    "\n",
    "# instantiate the model\n",
    "dtree = DecisionTreeClassifier(random_state = 100)\n",
    "\n",
    "# fit tree on training data\n",
    "tree = GridSearchCV(dtree, parameters, \n",
    "                    cv=n_folds, \n",
    "                   scoring=\"accuracy\")\n",
    "tree.fit(X_train, y_train)"
   ]
  },
  {
   "cell_type": "code",
   "execution_count": 71,
   "metadata": {},
   "outputs": [
    {
     "data": {
      "text/plain": [
       "{'criterion': 'gini',\n",
       " 'max_depth': 5,\n",
       " 'min_samples_leaf': 50,\n",
       " 'min_samples_split': 50}"
      ]
     },
     "execution_count": 71,
     "metadata": {},
     "output_type": "execute_result"
    }
   ],
   "source": [
    "tree.best_params_"
   ]
  },
  {
   "cell_type": "code",
   "execution_count": 72,
   "metadata": {},
   "outputs": [
    {
     "name": "stdout",
     "output_type": "stream",
     "text": [
      "Training Accuracy : 0.7775647171620326\n",
      "Testing Accuracy  : 0.7672135222470793\n",
      "              precision    recall  f1-score   support\n",
      "\n",
      "     insulin       0.95      0.60      0.74      4375\n",
      "          io       0.67      0.97      0.79      3671\n",
      "\n",
      "    accuracy                           0.77      8046\n",
      "   macro avg       0.81      0.78      0.76      8046\n",
      "weighted avg       0.82      0.77      0.76      8046\n",
      "\n"
     ]
    }
   ],
   "source": [
    "m6 = DecisionTreeClassifier(criterion='gini',max_depth=5,min_samples_leaf=50,min_samples_split=50)\n",
    "m6.fit(X_train,y_train)\n",
    "y_pred_tdt=m6.predict(X_test)\n",
    "Train_Score_tdt = m6.score(X_train,y_train)\n",
    "Test_Score_tdt = accuracy_score(y_test,y_pred_tdt)\n",
    "\n",
    "print('Training Accuracy :',Train_Score_tdt)\n",
    "print('Testing Accuracy  :',Test_Score_tdt)\n",
    "print(classification_report(y_test,y_pred_tdt))\n"
   ]
  },
  {
   "cell_type": "markdown",
   "metadata": {},
   "source": [
    "### For KNN"
   ]
  },
  {
   "cell_type": "code",
   "execution_count": 73,
   "metadata": {},
   "outputs": [
    {
     "name": "stdout",
     "output_type": "stream",
     "text": [
      "Tuned Hyperparameter k: {'n_neighbors': 35}\n"
     ]
    }
   ],
   "source": [
    "#Gridsearch CV to find Optimal K value for KNN model\n",
    "grid = {'n_neighbors':np.arange(1,50)}\n",
    "knn=KNeighborsClassifier()\n",
    "knn_cv=GridSearchCV(knn,grid,cv=3)\n",
    "knn_cv.fit(X_train,y_train)\n",
    "\n",
    "\n",
    "print(\"Tuned Hyperparameter k: {}\".format(knn_cv.best_params_))"
   ]
  },
  {
   "cell_type": "code",
   "execution_count": 74,
   "metadata": {},
   "outputs": [
    {
     "name": "stdout",
     "output_type": "stream",
     "text": [
      "Training Accuracy : 0.7453392990305742\n",
      "Testing Accuracy  : 0.6971165796669152\n",
      "              precision    recall  f1-score   support\n",
      "\n",
      "     insulin       0.75      0.66      0.70      4375\n",
      "          io       0.65      0.75      0.69      3671\n",
      "\n",
      "    accuracy                           0.70      8046\n",
      "   macro avg       0.70      0.70      0.70      8046\n",
      "weighted avg       0.70      0.70      0.70      8046\n",
      "\n"
     ]
    }
   ],
   "source": [
    "m7 = KNeighborsClassifier(n_neighbors=19)\n",
    "m7.fit(X_train,y_train)\n",
    "y_pred_tknn=m7.predict(X_test)\n",
    "Train_Score_tknn = m7.score(X_train,y_train)\n",
    "Test_Score_tknn = accuracy_score(y_test,y_pred_tknn)\n",
    "\n",
    "\n",
    "print('Training Accuracy :',Train_Score_tknn)\n",
    "print('Testing Accuracy  :',Test_Score_tknn)\n",
    "print(classification_report(y_test,y_pred_tknn))"
   ]
  },
  {
   "cell_type": "markdown",
   "metadata": {},
   "source": [
    "### For Random Forest "
   ]
  },
  {
   "cell_type": "code",
   "execution_count": 75,
   "metadata": {},
   "outputs": [
    {
     "data": {
      "text/plain": [
       "{'n_estimators': 83}"
      ]
     },
     "execution_count": 75,
     "metadata": {},
     "output_type": "execute_result"
    }
   ],
   "source": [
    "parameter={'n_estimators':np.arange(1,101)}\n",
    "gs = GridSearchCV(m5,parameter,cv=3)\n",
    "gs.fit(X_train,y_train)\n",
    "gs.best_params_\n",
    "\n"
   ]
  },
  {
   "cell_type": "code",
   "execution_count": 76,
   "metadata": {},
   "outputs": [
    {
     "name": "stdout",
     "output_type": "stream",
     "text": [
      "Training Accuracy : 0.9964844998402045\n",
      "Testing Accuracy  : 0.7562764106388268\n",
      "              precision    recall  f1-score   support\n",
      "\n",
      "     insulin       0.85      0.68      0.75      4375\n",
      "          io       0.69      0.85      0.76      3671\n",
      "\n",
      "    accuracy                           0.76      8046\n",
      "   macro avg       0.77      0.76      0.76      8046\n",
      "weighted avg       0.77      0.76      0.76      8046\n",
      "\n"
     ]
    }
   ],
   "source": [
    "m8 = RandomForestClassifier(n_estimators=73)\n",
    "m8.fit(X_train,y_train) \n",
    "y_pred_trf=m8.predict(X_test)\n",
    "Train_Score_trf = m8.score(X_train,y_train)\n",
    "Test_Score_trf = accuracy_score(y_test,y_pred_trf)\n",
    "\n",
    "\n",
    "print('Training Accuracy :',Train_Score_trf)\n",
    "print('Testing Accuracy  :',Test_Score_trf)\n",
    "print(classification_report(y_test,y_pred_trf))"
   ]
  },
  {
   "cell_type": "markdown",
   "metadata": {},
   "source": [
    "# Predictive Model Development - Iteration 3 "
   ]
  },
  {
   "cell_type": "markdown",
   "metadata": {},
   "source": [
    "## CatBoostClassifier"
   ]
  },
  {
   "cell_type": "code",
   "execution_count": 77,
   "metadata": {},
   "outputs": [],
   "source": [
    "data.treatments.replace(['insulin','io'],[0,1],inplace = True)"
   ]
  },
  {
   "cell_type": "code",
   "execution_count": 78,
   "metadata": {},
   "outputs": [],
   "source": [
    "a = data.drop(['age','treatments'],axis=1)\n",
    "b = data.treatments"
   ]
  },
  {
   "cell_type": "code",
   "execution_count": 79,
   "metadata": {},
   "outputs": [],
   "source": [
    "cate_features_index = np.where(a.dtypes != int)[0]\n"
   ]
  },
  {
   "cell_type": "code",
   "execution_count": 80,
   "metadata": {},
   "outputs": [],
   "source": [
    "xtrain,xtest,ytrain,ytest = train_test_split(a,b,train_size=.70,random_state=2)\n"
   ]
  },
  {
   "cell_type": "code",
   "execution_count": 81,
   "metadata": {},
   "outputs": [],
   "source": [
    "from catboost import CatBoostClassifier, Pool,cv\n",
    "#let us make the catboost model, use_best_model params will make the model prevent overfitting\n",
    "model = CatBoostClassifier(eval_metric='Accuracy',use_best_model=True,random_seed=42)"
   ]
  },
  {
   "cell_type": "code",
   "execution_count": 82,
   "metadata": {
    "_kg_hide-output": true
   },
   "outputs": [
    {
     "name": "stdout",
     "output_type": "stream",
     "text": [
      "Learning rate set to 0.065385\n",
      "0:\tlearn: 0.7635560\ttest: 0.7555307\tbest: 0.7555307 (0)\ttotal: 342ms\tremaining: 5m 41s\n",
      "1:\tlearn: 0.7635560\ttest: 0.7555307\tbest: 0.7555307 (0)\ttotal: 408ms\tremaining: 3m 23s\n",
      "2:\tlearn: 0.7636092\ttest: 0.7555307\tbest: 0.7555307 (0)\ttotal: 495ms\tremaining: 2m 44s\n",
      "3:\tlearn: 0.7635560\ttest: 0.7555307\tbest: 0.7555307 (0)\ttotal: 534ms\tremaining: 2m 12s\n",
      "4:\tlearn: 0.7636092\ttest: 0.7556550\tbest: 0.7556550 (4)\ttotal: 603ms\tremaining: 2m\n",
      "5:\tlearn: 0.7636092\ttest: 0.7556550\tbest: 0.7556550 (4)\ttotal: 675ms\tremaining: 1m 51s\n",
      "6:\tlearn: 0.7636092\ttest: 0.7556550\tbest: 0.7556550 (4)\ttotal: 747ms\tremaining: 1m 45s\n",
      "7:\tlearn: 0.7636625\ttest: 0.7556550\tbest: 0.7556550 (4)\ttotal: 811ms\tremaining: 1m 40s\n",
      "8:\tlearn: 0.7636092\ttest: 0.7556550\tbest: 0.7556550 (4)\ttotal: 875ms\tremaining: 1m 36s\n",
      "9:\tlearn: 0.7636092\ttest: 0.7556550\tbest: 0.7556550 (4)\ttotal: 929ms\tremaining: 1m 31s\n",
      "10:\tlearn: 0.7636625\ttest: 0.7556550\tbest: 0.7556550 (4)\ttotal: 996ms\tremaining: 1m 29s\n",
      "11:\tlearn: 0.7636625\ttest: 0.7556550\tbest: 0.7556550 (4)\ttotal: 1.07s\tremaining: 1m 28s\n",
      "12:\tlearn: 0.7636625\ttest: 0.7555307\tbest: 0.7556550 (4)\ttotal: 1.14s\tremaining: 1m 26s\n",
      "13:\tlearn: 0.7638223\ttest: 0.7556550\tbest: 0.7556550 (4)\ttotal: 1.21s\tremaining: 1m 25s\n",
      "14:\tlearn: 0.7637690\ttest: 0.7556550\tbest: 0.7556550 (4)\ttotal: 1.24s\tremaining: 1m 21s\n",
      "15:\tlearn: 0.7637158\ttest: 0.7557793\tbest: 0.7557793 (15)\ttotal: 1.31s\tremaining: 1m 20s\n",
      "16:\tlearn: 0.7637690\ttest: 0.7557793\tbest: 0.7557793 (15)\ttotal: 1.38s\tremaining: 1m 19s\n",
      "17:\tlearn: 0.7638223\ttest: 0.7557793\tbest: 0.7557793 (15)\ttotal: 1.45s\tremaining: 1m 18s\n",
      "18:\tlearn: 0.7639288\ttest: 0.7556550\tbest: 0.7557793 (15)\ttotal: 1.51s\tremaining: 1m 18s\n",
      "19:\tlearn: 0.7640354\ttest: 0.7557793\tbest: 0.7557793 (15)\ttotal: 1.55s\tremaining: 1m 16s\n",
      "20:\tlearn: 0.7640354\ttest: 0.7559036\tbest: 0.7559036 (20)\ttotal: 1.62s\tremaining: 1m 15s\n",
      "21:\tlearn: 0.7643550\ttest: 0.7561521\tbest: 0.7561521 (21)\ttotal: 1.69s\tremaining: 1m 15s\n",
      "22:\tlearn: 0.7642484\ttest: 0.7561521\tbest: 0.7561521 (21)\ttotal: 1.71s\tremaining: 1m 12s\n",
      "23:\tlearn: 0.7645148\ttest: 0.7557793\tbest: 0.7561521 (21)\ttotal: 1.77s\tremaining: 1m 12s\n",
      "24:\tlearn: 0.7644082\ttest: 0.7559036\tbest: 0.7561521 (21)\ttotal: 1.84s\tremaining: 1m 11s\n",
      "25:\tlearn: 0.7644082\ttest: 0.7561521\tbest: 0.7561521 (21)\ttotal: 1.91s\tremaining: 1m 11s\n",
      "26:\tlearn: 0.7645148\ttest: 0.7564007\tbest: 0.7564007 (26)\ttotal: 1.98s\tremaining: 1m 11s\n",
      "27:\tlearn: 0.7647278\ttest: 0.7566493\tbest: 0.7566493 (27)\ttotal: 2.05s\tremaining: 1m 11s\n",
      "28:\tlearn: 0.7646745\ttest: 0.7567736\tbest: 0.7567736 (28)\ttotal: 2.12s\tremaining: 1m 11s\n",
      "29:\tlearn: 0.7652605\ttest: 0.7568978\tbest: 0.7568978 (29)\ttotal: 2.23s\tremaining: 1m 12s\n",
      "30:\tlearn: 0.7656333\ttest: 0.7568978\tbest: 0.7568978 (29)\ttotal: 2.34s\tremaining: 1m 13s\n",
      "31:\tlearn: 0.7656866\ttest: 0.7568978\tbest: 0.7568978 (29)\ttotal: 2.42s\tremaining: 1m 13s\n",
      "32:\tlearn: 0.7657399\ttest: 0.7570221\tbest: 0.7570221 (32)\ttotal: 2.49s\tremaining: 1m 12s\n",
      "33:\tlearn: 0.7658996\ttest: 0.7571464\tbest: 0.7571464 (33)\ttotal: 2.56s\tremaining: 1m 12s\n",
      "34:\tlearn: 0.7662192\ttest: 0.7573950\tbest: 0.7573950 (34)\ttotal: 2.65s\tremaining: 1m 13s\n",
      "35:\tlearn: 0.7662725\ttest: 0.7573950\tbest: 0.7573950 (34)\ttotal: 2.73s\tremaining: 1m 13s\n",
      "36:\tlearn: 0.7664323\ttest: 0.7576435\tbest: 0.7576435 (36)\ttotal: 2.82s\tremaining: 1m 13s\n",
      "37:\tlearn: 0.7664856\ttest: 0.7575193\tbest: 0.7576435 (36)\ttotal: 2.89s\tremaining: 1m 13s\n",
      "38:\tlearn: 0.7668052\ttest: 0.7575193\tbest: 0.7576435 (36)\ttotal: 2.96s\tremaining: 1m 12s\n",
      "39:\tlearn: 0.7670715\ttest: 0.7575193\tbest: 0.7576435 (36)\ttotal: 3.03s\tremaining: 1m 12s\n",
      "40:\tlearn: 0.7670715\ttest: 0.7572707\tbest: 0.7576435 (36)\ttotal: 3.09s\tremaining: 1m 12s\n",
      "41:\tlearn: 0.7672845\ttest: 0.7572707\tbest: 0.7576435 (36)\ttotal: 3.15s\tremaining: 1m 11s\n",
      "42:\tlearn: 0.7676574\ttest: 0.7578921\tbest: 0.7578921 (42)\ttotal: 3.22s\tremaining: 1m 11s\n",
      "43:\tlearn: 0.7679770\ttest: 0.7580164\tbest: 0.7580164 (43)\ttotal: 3.29s\tremaining: 1m 11s\n",
      "44:\tlearn: 0.7684564\ttest: 0.7583893\tbest: 0.7583893 (44)\ttotal: 3.35s\tremaining: 1m 11s\n",
      "45:\tlearn: 0.7683498\ttest: 0.7582650\tbest: 0.7583893 (44)\ttotal: 3.38s\tremaining: 1m 10s\n",
      "46:\tlearn: 0.7684031\ttest: 0.7582650\tbest: 0.7583893 (44)\ttotal: 3.42s\tremaining: 1m 9s\n",
      "47:\tlearn: 0.7683498\ttest: 0.7586378\tbest: 0.7586378 (47)\ttotal: 3.53s\tremaining: 1m 10s\n",
      "48:\tlearn: 0.7690956\ttest: 0.7586378\tbest: 0.7586378 (47)\ttotal: 3.63s\tremaining: 1m 10s\n",
      "49:\tlearn: 0.7692554\ttest: 0.7586378\tbest: 0.7586378 (47)\ttotal: 3.69s\tremaining: 1m 10s\n",
      "50:\tlearn: 0.7695217\ttest: 0.7588864\tbest: 0.7588864 (50)\ttotal: 3.77s\tremaining: 1m 10s\n",
      "51:\tlearn: 0.7696815\ttest: 0.7590107\tbest: 0.7590107 (51)\ttotal: 3.85s\tremaining: 1m 10s\n",
      "52:\tlearn: 0.7699478\ttest: 0.7590107\tbest: 0.7590107 (51)\ttotal: 3.91s\tremaining: 1m 9s\n",
      "53:\tlearn: 0.7698945\ttest: 0.7596321\tbest: 0.7596321 (53)\ttotal: 3.97s\tremaining: 1m 9s\n",
      "54:\tlearn: 0.7700011\ttest: 0.7597564\tbest: 0.7597564 (54)\ttotal: 4.04s\tremaining: 1m 9s\n",
      "55:\tlearn: 0.7700543\ttest: 0.7590107\tbest: 0.7597564 (54)\ttotal: 4.11s\tremaining: 1m 9s\n",
      "56:\tlearn: 0.7702141\ttest: 0.7587621\tbest: 0.7597564 (54)\ttotal: 4.17s\tremaining: 1m 8s\n",
      "57:\tlearn: 0.7704805\ttest: 0.7586378\tbest: 0.7597564 (54)\ttotal: 4.24s\tremaining: 1m 8s\n",
      "58:\tlearn: 0.7705337\ttest: 0.7591350\tbest: 0.7597564 (54)\ttotal: 4.32s\tremaining: 1m 8s\n",
      "59:\tlearn: 0.7707468\ttest: 0.7590107\tbest: 0.7597564 (54)\ttotal: 4.39s\tremaining: 1m 8s\n",
      "60:\tlearn: 0.7709066\ttest: 0.7592593\tbest: 0.7597564 (54)\ttotal: 4.46s\tremaining: 1m 8s\n",
      "61:\tlearn: 0.7709598\ttest: 0.7595078\tbest: 0.7597564 (54)\ttotal: 4.52s\tremaining: 1m 8s\n",
      "62:\tlearn: 0.7717056\ttest: 0.7596321\tbest: 0.7597564 (54)\ttotal: 4.63s\tremaining: 1m 8s\n",
      "63:\tlearn: 0.7718653\ttest: 0.7598807\tbest: 0.7598807 (63)\ttotal: 4.76s\tremaining: 1m 9s\n",
      "64:\tlearn: 0.7718653\ttest: 0.7600050\tbest: 0.7600050 (64)\ttotal: 4.86s\tremaining: 1m 9s\n",
      "65:\tlearn: 0.7720251\ttest: 0.7600050\tbest: 0.7600050 (64)\ttotal: 4.93s\tremaining: 1m 9s\n",
      "66:\tlearn: 0.7725045\ttest: 0.7600050\tbest: 0.7600050 (64)\ttotal: 5s\tremaining: 1m 9s\n",
      "67:\tlearn: 0.7725578\ttest: 0.7607507\tbest: 0.7607507 (67)\ttotal: 5.07s\tremaining: 1m 9s\n",
      "68:\tlearn: 0.7726111\ttest: 0.7608750\tbest: 0.7608750 (68)\ttotal: 5.14s\tremaining: 1m 9s\n",
      "69:\tlearn: 0.7729306\ttest: 0.7607507\tbest: 0.7608750 (68)\ttotal: 5.21s\tremaining: 1m 9s\n",
      "70:\tlearn: 0.7726643\ttest: 0.7603778\tbest: 0.7608750 (68)\ttotal: 5.24s\tremaining: 1m 8s\n",
      "71:\tlearn: 0.7727709\ttest: 0.7605021\tbest: 0.7608750 (68)\ttotal: 5.27s\tremaining: 1m 7s\n",
      "72:\tlearn: 0.7727709\ttest: 0.7605021\tbest: 0.7608750 (68)\ttotal: 5.34s\tremaining: 1m 7s\n",
      "73:\tlearn: 0.7728774\ttest: 0.7602535\tbest: 0.7608750 (68)\ttotal: 5.42s\tremaining: 1m 7s\n",
      "74:\tlearn: 0.7729306\ttest: 0.7600050\tbest: 0.7608750 (68)\ttotal: 5.48s\tremaining: 1m 7s\n",
      "75:\tlearn: 0.7729306\ttest: 0.7601293\tbest: 0.7608750 (68)\ttotal: 5.55s\tremaining: 1m 7s\n",
      "76:\tlearn: 0.7728774\ttest: 0.7596321\tbest: 0.7608750 (68)\ttotal: 5.63s\tremaining: 1m 7s\n",
      "77:\tlearn: 0.7733568\ttest: 0.7598807\tbest: 0.7608750 (68)\ttotal: 5.71s\tremaining: 1m 7s\n",
      "78:\tlearn: 0.7733568\ttest: 0.7596321\tbest: 0.7608750 (68)\ttotal: 5.79s\tremaining: 1m 7s\n",
      "79:\tlearn: 0.7738362\ttest: 0.7597564\tbest: 0.7608750 (68)\ttotal: 5.86s\tremaining: 1m 7s\n",
      "80:\tlearn: 0.7742090\ttest: 0.7598807\tbest: 0.7608750 (68)\ttotal: 5.93s\tremaining: 1m 7s\n",
      "81:\tlearn: 0.7745286\ttest: 0.7600050\tbest: 0.7608750 (68)\ttotal: 6s\tremaining: 1m 7s\n",
      "82:\tlearn: 0.7749547\ttest: 0.7600050\tbest: 0.7608750 (68)\ttotal: 6.07s\tremaining: 1m 7s\n",
      "83:\tlearn: 0.7750613\ttest: 0.7600050\tbest: 0.7608750 (68)\ttotal: 6.14s\tremaining: 1m 6s\n",
      "84:\tlearn: 0.7751145\ttest: 0.7598807\tbest: 0.7608750 (68)\ttotal: 6.22s\tremaining: 1m 6s\n",
      "85:\tlearn: 0.7751678\ttest: 0.7597564\tbest: 0.7608750 (68)\ttotal: 6.33s\tremaining: 1m 7s\n",
      "86:\tlearn: 0.7755939\ttest: 0.7600050\tbest: 0.7608750 (68)\ttotal: 6.45s\tremaining: 1m 7s\n",
      "87:\tlearn: 0.7757537\ttest: 0.7600050\tbest: 0.7608750 (68)\ttotal: 6.53s\tremaining: 1m 7s\n",
      "88:\tlearn: 0.7761266\ttest: 0.7596321\tbest: 0.7608750 (68)\ttotal: 6.6s\tremaining: 1m 7s\n",
      "89:\tlearn: 0.7759668\ttest: 0.7598807\tbest: 0.7608750 (68)\ttotal: 6.71s\tremaining: 1m 7s\n",
      "90:\tlearn: 0.7764461\ttest: 0.7600050\tbest: 0.7608750 (68)\ttotal: 6.8s\tremaining: 1m 7s\n",
      "91:\tlearn: 0.7763929\ttest: 0.7598807\tbest: 0.7608750 (68)\ttotal: 6.87s\tremaining: 1m 7s\n",
      "92:\tlearn: 0.7765527\ttest: 0.7595078\tbest: 0.7608750 (68)\ttotal: 6.98s\tremaining: 1m 8s\n",
      "93:\tlearn: 0.7768190\ttest: 0.7595078\tbest: 0.7608750 (68)\ttotal: 7.11s\tremaining: 1m 8s\n"
     ]
    },
    {
     "name": "stdout",
     "output_type": "stream",
     "text": [
      "94:\tlearn: 0.7771919\ttest: 0.7597564\tbest: 0.7608750 (68)\ttotal: 7.2s\tremaining: 1m 8s\n",
      "95:\tlearn: 0.7772451\ttest: 0.7600050\tbest: 0.7608750 (68)\ttotal: 7.3s\tremaining: 1m 8s\n",
      "96:\tlearn: 0.7771919\ttest: 0.7600050\tbest: 0.7608750 (68)\ttotal: 7.39s\tremaining: 1m 8s\n",
      "97:\tlearn: 0.7772984\ttest: 0.7601293\tbest: 0.7608750 (68)\ttotal: 7.47s\tremaining: 1m 8s\n",
      "98:\tlearn: 0.7774049\ttest: 0.7598807\tbest: 0.7608750 (68)\ttotal: 7.58s\tremaining: 1m 8s\n",
      "99:\tlearn: 0.7776712\ttest: 0.7605021\tbest: 0.7608750 (68)\ttotal: 7.67s\tremaining: 1m 9s\n",
      "100:\tlearn: 0.7777245\ttest: 0.7600050\tbest: 0.7608750 (68)\ttotal: 7.77s\tremaining: 1m 9s\n",
      "101:\tlearn: 0.7776180\ttest: 0.7598807\tbest: 0.7608750 (68)\ttotal: 7.84s\tremaining: 1m 8s\n",
      "102:\tlearn: 0.7780441\ttest: 0.7602535\tbest: 0.7608750 (68)\ttotal: 7.92s\tremaining: 1m 9s\n",
      "103:\tlearn: 0.7780974\ttest: 0.7602535\tbest: 0.7608750 (68)\ttotal: 8s\tremaining: 1m 8s\n",
      "104:\tlearn: 0.7780974\ttest: 0.7606264\tbest: 0.7608750 (68)\ttotal: 8.07s\tremaining: 1m 8s\n",
      "105:\tlearn: 0.7782572\ttest: 0.7606264\tbest: 0.7608750 (68)\ttotal: 8.14s\tremaining: 1m 8s\n",
      "106:\tlearn: 0.7785235\ttest: 0.7609993\tbest: 0.7609993 (106)\ttotal: 8.21s\tremaining: 1m 8s\n",
      "107:\tlearn: 0.7785768\ttest: 0.7612478\tbest: 0.7612478 (107)\ttotal: 8.28s\tremaining: 1m 8s\n",
      "108:\tlearn: 0.7785235\ttest: 0.7611235\tbest: 0.7612478 (107)\ttotal: 8.34s\tremaining: 1m 8s\n",
      "109:\tlearn: 0.7787366\ttest: 0.7609993\tbest: 0.7612478 (107)\ttotal: 8.41s\tremaining: 1m 8s\n",
      "110:\tlearn: 0.7787898\ttest: 0.7607507\tbest: 0.7612478 (107)\ttotal: 8.48s\tremaining: 1m 7s\n",
      "111:\tlearn: 0.7791094\ttest: 0.7609993\tbest: 0.7612478 (107)\ttotal: 8.55s\tremaining: 1m 7s\n",
      "112:\tlearn: 0.7788963\ttest: 0.7611235\tbest: 0.7612478 (107)\ttotal: 8.62s\tremaining: 1m 7s\n",
      "113:\tlearn: 0.7790029\ttest: 0.7613721\tbest: 0.7613721 (113)\ttotal: 8.71s\tremaining: 1m 7s\n",
      "114:\tlearn: 0.7789496\ttest: 0.7611235\tbest: 0.7613721 (113)\ttotal: 8.8s\tremaining: 1m 7s\n",
      "115:\tlearn: 0.7789496\ttest: 0.7611235\tbest: 0.7613721 (113)\ttotal: 8.84s\tremaining: 1m 7s\n",
      "116:\tlearn: 0.7790029\ttest: 0.7607507\tbest: 0.7613721 (113)\ttotal: 8.9s\tremaining: 1m 7s\n",
      "117:\tlearn: 0.7790029\ttest: 0.7607507\tbest: 0.7613721 (113)\ttotal: 8.97s\tremaining: 1m 7s\n",
      "118:\tlearn: 0.7792692\ttest: 0.7609993\tbest: 0.7613721 (113)\ttotal: 9.12s\tremaining: 1m 7s\n",
      "119:\tlearn: 0.7793757\ttest: 0.7608750\tbest: 0.7613721 (113)\ttotal: 9.23s\tremaining: 1m 7s\n",
      "120:\tlearn: 0.7792692\ttest: 0.7607507\tbest: 0.7613721 (113)\ttotal: 9.36s\tremaining: 1m 7s\n",
      "121:\tlearn: 0.7794290\ttest: 0.7611235\tbest: 0.7613721 (113)\ttotal: 9.48s\tremaining: 1m 8s\n",
      "122:\tlearn: 0.7794823\ttest: 0.7611235\tbest: 0.7613721 (113)\ttotal: 9.61s\tremaining: 1m 8s\n",
      "123:\tlearn: 0.7797486\ttest: 0.7611235\tbest: 0.7613721 (113)\ttotal: 9.73s\tremaining: 1m 8s\n",
      "124:\tlearn: 0.7798019\ttest: 0.7611235\tbest: 0.7613721 (113)\ttotal: 9.84s\tremaining: 1m 8s\n",
      "125:\tlearn: 0.7799616\ttest: 0.7611235\tbest: 0.7613721 (113)\ttotal: 9.95s\tremaining: 1m 9s\n",
      "126:\tlearn: 0.7801214\ttest: 0.7608750\tbest: 0.7613721 (113)\ttotal: 10s\tremaining: 1m 9s\n",
      "127:\tlearn: 0.7800149\ttest: 0.7607507\tbest: 0.7613721 (113)\ttotal: 10.1s\tremaining: 1m 9s\n",
      "128:\tlearn: 0.7798551\ttest: 0.7607507\tbest: 0.7613721 (113)\ttotal: 10.2s\tremaining: 1m 9s\n",
      "129:\tlearn: 0.7800149\ttest: 0.7611235\tbest: 0.7613721 (113)\ttotal: 10.3s\tremaining: 1m 9s\n",
      "130:\tlearn: 0.7800149\ttest: 0.7612478\tbest: 0.7613721 (113)\ttotal: 10.4s\tremaining: 1m 9s\n",
      "131:\tlearn: 0.7800682\ttest: 0.7613721\tbest: 0.7613721 (113)\ttotal: 10.6s\tremaining: 1m 9s\n",
      "132:\tlearn: 0.7804943\ttest: 0.7614964\tbest: 0.7614964 (132)\ttotal: 10.7s\tremaining: 1m 9s\n",
      "133:\tlearn: 0.7804943\ttest: 0.7614964\tbest: 0.7614964 (132)\ttotal: 10.8s\tremaining: 1m 9s\n",
      "134:\tlearn: 0.7806008\ttest: 0.7614964\tbest: 0.7614964 (132)\ttotal: 10.9s\tremaining: 1m 9s\n",
      "135:\tlearn: 0.7809204\ttest: 0.7609993\tbest: 0.7614964 (132)\ttotal: 11s\tremaining: 1m 10s\n",
      "136:\tlearn: 0.7810802\ttest: 0.7611235\tbest: 0.7614964 (132)\ttotal: 11.1s\tremaining: 1m 10s\n",
      "137:\tlearn: 0.7812400\ttest: 0.7607507\tbest: 0.7614964 (132)\ttotal: 11.3s\tremaining: 1m 10s\n",
      "138:\tlearn: 0.7812933\ttest: 0.7605021\tbest: 0.7614964 (132)\ttotal: 11.4s\tremaining: 1m 10s\n",
      "139:\tlearn: 0.7813465\ttest: 0.7605021\tbest: 0.7614964 (132)\ttotal: 11.5s\tremaining: 1m 10s\n",
      "140:\tlearn: 0.7814531\ttest: 0.7606264\tbest: 0.7614964 (132)\ttotal: 11.6s\tremaining: 1m 10s\n",
      "141:\tlearn: 0.7814531\ttest: 0.7607507\tbest: 0.7614964 (132)\ttotal: 11.7s\tremaining: 1m 10s\n",
      "142:\tlearn: 0.7809737\ttest: 0.7602535\tbest: 0.7614964 (132)\ttotal: 11.8s\tremaining: 1m 10s\n",
      "143:\tlearn: 0.7816129\ttest: 0.7606264\tbest: 0.7614964 (132)\ttotal: 11.9s\tremaining: 1m 10s\n",
      "144:\tlearn: 0.7816661\ttest: 0.7603778\tbest: 0.7614964 (132)\ttotal: 11.9s\tremaining: 1m 10s\n",
      "145:\tlearn: 0.7819857\ttest: 0.7603778\tbest: 0.7614964 (132)\ttotal: 12s\tremaining: 1m 10s\n",
      "146:\tlearn: 0.7819857\ttest: 0.7606264\tbest: 0.7614964 (132)\ttotal: 12.1s\tremaining: 1m 10s\n",
      "147:\tlearn: 0.7821455\ttest: 0.7606264\tbest: 0.7614964 (132)\ttotal: 12.2s\tremaining: 1m 10s\n",
      "148:\tlearn: 0.7820923\ttest: 0.7608750\tbest: 0.7614964 (132)\ttotal: 12.3s\tremaining: 1m 10s\n",
      "149:\tlearn: 0.7820923\ttest: 0.7609993\tbest: 0.7614964 (132)\ttotal: 12.3s\tremaining: 1m 9s\n",
      "150:\tlearn: 0.7823053\ttest: 0.7609993\tbest: 0.7614964 (132)\ttotal: 12.4s\tremaining: 1m 9s\n",
      "151:\tlearn: 0.7826782\ttest: 0.7607507\tbest: 0.7614964 (132)\ttotal: 12.5s\tremaining: 1m 9s\n",
      "152:\tlearn: 0.7828912\ttest: 0.7611235\tbest: 0.7614964 (132)\ttotal: 12.6s\tremaining: 1m 9s\n",
      "153:\tlearn: 0.7825716\ttest: 0.7607507\tbest: 0.7614964 (132)\ttotal: 12.7s\tremaining: 1m 9s\n",
      "154:\tlearn: 0.7828380\ttest: 0.7605021\tbest: 0.7614964 (132)\ttotal: 12.7s\tremaining: 1m 9s\n",
      "155:\tlearn: 0.7828380\ttest: 0.7605021\tbest: 0.7614964 (132)\ttotal: 12.8s\tremaining: 1m 9s\n",
      "156:\tlearn: 0.7828912\ttest: 0.7605021\tbest: 0.7614964 (132)\ttotal: 12.9s\tremaining: 1m 9s\n",
      "157:\tlearn: 0.7832108\ttest: 0.7601293\tbest: 0.7614964 (132)\ttotal: 13s\tremaining: 1m 9s\n",
      "158:\tlearn: 0.7834771\ttest: 0.7602535\tbest: 0.7614964 (132)\ttotal: 13.1s\tremaining: 1m 9s\n",
      "159:\tlearn: 0.7834239\ttest: 0.7603778\tbest: 0.7614964 (132)\ttotal: 13.1s\tremaining: 1m 9s\n",
      "160:\tlearn: 0.7835837\ttest: 0.7603778\tbest: 0.7614964 (132)\ttotal: 13.2s\tremaining: 1m 8s\n",
      "161:\tlearn: 0.7835304\ttest: 0.7605021\tbest: 0.7614964 (132)\ttotal: 13.3s\tremaining: 1m 8s\n",
      "162:\tlearn: 0.7836369\ttest: 0.7602535\tbest: 0.7614964 (132)\ttotal: 13.4s\tremaining: 1m 8s\n",
      "163:\tlearn: 0.7835304\ttest: 0.7605021\tbest: 0.7614964 (132)\ttotal: 13.6s\tremaining: 1m 9s\n",
      "164:\tlearn: 0.7840631\ttest: 0.7602535\tbest: 0.7614964 (132)\ttotal: 13.7s\tremaining: 1m 9s\n",
      "165:\tlearn: 0.7842761\ttest: 0.7602535\tbest: 0.7614964 (132)\ttotal: 13.8s\tremaining: 1m 9s\n",
      "166:\tlearn: 0.7843294\ttest: 0.7606264\tbest: 0.7614964 (132)\ttotal: 13.9s\tremaining: 1m 9s\n",
      "167:\tlearn: 0.7841163\ttest: 0.7606264\tbest: 0.7614964 (132)\ttotal: 14s\tremaining: 1m 9s\n",
      "168:\tlearn: 0.7842229\ttest: 0.7606264\tbest: 0.7614964 (132)\ttotal: 14.1s\tremaining: 1m 9s\n",
      "169:\tlearn: 0.7844359\ttest: 0.7607507\tbest: 0.7614964 (132)\ttotal: 14.2s\tremaining: 1m 9s\n",
      "170:\tlearn: 0.7845425\ttest: 0.7611235\tbest: 0.7614964 (132)\ttotal: 14.4s\tremaining: 1m 9s\n",
      "171:\tlearn: 0.7847555\ttest: 0.7607507\tbest: 0.7614964 (132)\ttotal: 14.5s\tremaining: 1m 9s\n",
      "172:\tlearn: 0.7849153\ttest: 0.7608750\tbest: 0.7614964 (132)\ttotal: 14.5s\tremaining: 1m 9s\n",
      "173:\tlearn: 0.7848088\ttest: 0.7611235\tbest: 0.7614964 (132)\ttotal: 14.6s\tremaining: 1m 9s\n",
      "174:\tlearn: 0.7848088\ttest: 0.7607507\tbest: 0.7614964 (132)\ttotal: 14.7s\tremaining: 1m 9s\n",
      "175:\tlearn: 0.7849153\ttest: 0.7609993\tbest: 0.7614964 (132)\ttotal: 14.8s\tremaining: 1m 9s\n",
      "176:\tlearn: 0.7851284\ttest: 0.7612478\tbest: 0.7614964 (132)\ttotal: 14.9s\tremaining: 1m 9s\n",
      "177:\tlearn: 0.7855012\ttest: 0.7611235\tbest: 0.7614964 (132)\ttotal: 15s\tremaining: 1m 9s\n",
      "178:\tlearn: 0.7853947\ttest: 0.7609993\tbest: 0.7614964 (132)\ttotal: 15.1s\tremaining: 1m 9s\n",
      "179:\tlearn: 0.7851816\ttest: 0.7608750\tbest: 0.7614964 (132)\ttotal: 15.3s\tremaining: 1m 9s\n",
      "180:\tlearn: 0.7856078\ttest: 0.7609993\tbest: 0.7614964 (132)\ttotal: 15.4s\tremaining: 1m 9s\n",
      "181:\tlearn: 0.7857676\ttest: 0.7609993\tbest: 0.7614964 (132)\ttotal: 15.5s\tremaining: 1m 9s\n",
      "182:\tlearn: 0.7858208\ttest: 0.7612478\tbest: 0.7614964 (132)\ttotal: 15.6s\tremaining: 1m 9s\n",
      "183:\tlearn: 0.7856610\ttest: 0.7609993\tbest: 0.7614964 (132)\ttotal: 15.7s\tremaining: 1m 9s\n",
      "184:\tlearn: 0.7855545\ttest: 0.7612478\tbest: 0.7614964 (132)\ttotal: 15.8s\tremaining: 1m 9s\n",
      "185:\tlearn: 0.7857676\ttest: 0.7613721\tbest: 0.7614964 (132)\ttotal: 15.9s\tremaining: 1m 9s\n",
      "186:\tlearn: 0.7859806\ttest: 0.7617450\tbest: 0.7617450 (186)\ttotal: 16s\tremaining: 1m 9s\n"
     ]
    },
    {
     "name": "stdout",
     "output_type": "stream",
     "text": [
      "187:\tlearn: 0.7858208\ttest: 0.7613721\tbest: 0.7617450 (186)\ttotal: 16s\tremaining: 1m 9s\n",
      "188:\tlearn: 0.7859806\ttest: 0.7614964\tbest: 0.7617450 (186)\ttotal: 16.2s\tremaining: 1m 9s\n",
      "189:\tlearn: 0.7860339\ttest: 0.7616207\tbest: 0.7617450 (186)\ttotal: 16.3s\tremaining: 1m 9s\n",
      "190:\tlearn: 0.7858208\ttest: 0.7614964\tbest: 0.7617450 (186)\ttotal: 16.4s\tremaining: 1m 9s\n",
      "191:\tlearn: 0.7858741\ttest: 0.7613721\tbest: 0.7617450 (186)\ttotal: 16.5s\tremaining: 1m 9s\n",
      "192:\tlearn: 0.7860339\ttest: 0.7609993\tbest: 0.7617450 (186)\ttotal: 16.6s\tremaining: 1m 9s\n",
      "193:\tlearn: 0.7861404\ttest: 0.7608750\tbest: 0.7617450 (186)\ttotal: 16.7s\tremaining: 1m 9s\n",
      "194:\tlearn: 0.7862469\ttest: 0.7606264\tbest: 0.7617450 (186)\ttotal: 16.8s\tremaining: 1m 9s\n",
      "195:\tlearn: 0.7860871\ttest: 0.7608750\tbest: 0.7617450 (186)\ttotal: 16.9s\tremaining: 1m 9s\n",
      "196:\tlearn: 0.7863535\ttest: 0.7606264\tbest: 0.7617450 (186)\ttotal: 17s\tremaining: 1m 9s\n",
      "197:\tlearn: 0.7866198\ttest: 0.7609993\tbest: 0.7617450 (186)\ttotal: 17.1s\tremaining: 1m 9s\n",
      "198:\tlearn: 0.7866731\ttest: 0.7608750\tbest: 0.7617450 (186)\ttotal: 17.1s\tremaining: 1m 9s\n",
      "199:\tlearn: 0.7866731\ttest: 0.7609993\tbest: 0.7617450 (186)\ttotal: 17.2s\tremaining: 1m 8s\n",
      "200:\tlearn: 0.7866731\ttest: 0.7609993\tbest: 0.7617450 (186)\ttotal: 17.3s\tremaining: 1m 8s\n",
      "201:\tlearn: 0.7865133\ttest: 0.7608750\tbest: 0.7617450 (186)\ttotal: 17.4s\tremaining: 1m 8s\n",
      "202:\tlearn: 0.7868329\ttest: 0.7609993\tbest: 0.7617450 (186)\ttotal: 17.5s\tremaining: 1m 8s\n",
      "203:\tlearn: 0.7868861\ttest: 0.7612478\tbest: 0.7617450 (186)\ttotal: 17.6s\tremaining: 1m 8s\n",
      "204:\tlearn: 0.7870459\ttest: 0.7611235\tbest: 0.7617450 (186)\ttotal: 17.7s\tremaining: 1m 8s\n",
      "205:\tlearn: 0.7867796\ttest: 0.7612478\tbest: 0.7617450 (186)\ttotal: 17.8s\tremaining: 1m 8s\n",
      "206:\tlearn: 0.7869926\ttest: 0.7612478\tbest: 0.7617450 (186)\ttotal: 18s\tremaining: 1m 8s\n",
      "207:\tlearn: 0.7870992\ttest: 0.7612478\tbest: 0.7617450 (186)\ttotal: 18.1s\tremaining: 1m 8s\n",
      "208:\tlearn: 0.7872057\ttest: 0.7612478\tbest: 0.7617450 (186)\ttotal: 18.2s\tremaining: 1m 8s\n",
      "209:\tlearn: 0.7872057\ttest: 0.7611235\tbest: 0.7617450 (186)\ttotal: 18.3s\tremaining: 1m 8s\n",
      "210:\tlearn: 0.7874188\ttest: 0.7611235\tbest: 0.7617450 (186)\ttotal: 18.5s\tremaining: 1m 9s\n",
      "211:\tlearn: 0.7872590\ttest: 0.7612478\tbest: 0.7617450 (186)\ttotal: 18.5s\tremaining: 1m 8s\n",
      "212:\tlearn: 0.7875253\ttest: 0.7613721\tbest: 0.7617450 (186)\ttotal: 18.7s\tremaining: 1m 8s\n",
      "213:\tlearn: 0.7874188\ttest: 0.7614964\tbest: 0.7617450 (186)\ttotal: 18.7s\tremaining: 1m 8s\n",
      "214:\tlearn: 0.7875786\ttest: 0.7612478\tbest: 0.7617450 (186)\ttotal: 18.8s\tremaining: 1m 8s\n",
      "215:\tlearn: 0.7878982\ttest: 0.7616207\tbest: 0.7617450 (186)\ttotal: 18.9s\tremaining: 1m 8s\n",
      "216:\tlearn: 0.7880047\ttest: 0.7613721\tbest: 0.7617450 (186)\ttotal: 19s\tremaining: 1m 8s\n",
      "217:\tlearn: 0.7879514\ttest: 0.7614964\tbest: 0.7617450 (186)\ttotal: 19.1s\tremaining: 1m 8s\n",
      "218:\tlearn: 0.7882177\ttest: 0.7613721\tbest: 0.7617450 (186)\ttotal: 19.1s\tremaining: 1m 8s\n",
      "219:\tlearn: 0.7884841\ttest: 0.7612478\tbest: 0.7617450 (186)\ttotal: 19.3s\tremaining: 1m 8s\n",
      "220:\tlearn: 0.7885906\ttest: 0.7613721\tbest: 0.7617450 (186)\ttotal: 19.4s\tremaining: 1m 8s\n",
      "221:\tlearn: 0.7884308\ttest: 0.7613721\tbest: 0.7617450 (186)\ttotal: 19.5s\tremaining: 1m 8s\n",
      "222:\tlearn: 0.7884841\ttest: 0.7613721\tbest: 0.7617450 (186)\ttotal: 19.7s\tremaining: 1m 8s\n",
      "223:\tlearn: 0.7884841\ttest: 0.7613721\tbest: 0.7617450 (186)\ttotal: 19.7s\tremaining: 1m 8s\n",
      "224:\tlearn: 0.7888037\ttest: 0.7614964\tbest: 0.7617450 (186)\ttotal: 19.9s\tremaining: 1m 8s\n",
      "225:\tlearn: 0.7889635\ttest: 0.7614964\tbest: 0.7617450 (186)\ttotal: 20s\tremaining: 1m 8s\n",
      "226:\tlearn: 0.7892298\ttest: 0.7614964\tbest: 0.7617450 (186)\ttotal: 20.1s\tremaining: 1m 8s\n",
      "227:\tlearn: 0.7894961\ttest: 0.7612478\tbest: 0.7617450 (186)\ttotal: 20.2s\tremaining: 1m 8s\n",
      "228:\tlearn: 0.7894961\ttest: 0.7611235\tbest: 0.7617450 (186)\ttotal: 20.3s\tremaining: 1m 8s\n",
      "229:\tlearn: 0.7895494\ttest: 0.7613721\tbest: 0.7617450 (186)\ttotal: 20.4s\tremaining: 1m 8s\n",
      "230:\tlearn: 0.7894961\ttest: 0.7613721\tbest: 0.7617450 (186)\ttotal: 20.5s\tremaining: 1m 8s\n",
      "231:\tlearn: 0.7897092\ttest: 0.7613721\tbest: 0.7617450 (186)\ttotal: 20.6s\tremaining: 1m 8s\n",
      "232:\tlearn: 0.7897092\ttest: 0.7612478\tbest: 0.7617450 (186)\ttotal: 20.7s\tremaining: 1m 8s\n",
      "233:\tlearn: 0.7894961\ttest: 0.7612478\tbest: 0.7617450 (186)\ttotal: 20.8s\tremaining: 1m 8s\n",
      "234:\tlearn: 0.7897092\ttest: 0.7609993\tbest: 0.7617450 (186)\ttotal: 20.9s\tremaining: 1m 7s\n",
      "235:\tlearn: 0.7898690\ttest: 0.7611235\tbest: 0.7617450 (186)\ttotal: 21s\tremaining: 1m 7s\n",
      "236:\tlearn: 0.7898157\ttest: 0.7612478\tbest: 0.7617450 (186)\ttotal: 21.1s\tremaining: 1m 7s\n",
      "237:\tlearn: 0.7898690\ttest: 0.7611235\tbest: 0.7617450 (186)\ttotal: 21.2s\tremaining: 1m 7s\n",
      "238:\tlearn: 0.7899755\ttest: 0.7612478\tbest: 0.7617450 (186)\ttotal: 21.4s\tremaining: 1m 8s\n",
      "239:\tlearn: 0.7902951\ttest: 0.7613721\tbest: 0.7617450 (186)\ttotal: 21.5s\tremaining: 1m 8s\n",
      "240:\tlearn: 0.7902418\ttest: 0.7614964\tbest: 0.7617450 (186)\ttotal: 21.6s\tremaining: 1m 8s\n",
      "241:\tlearn: 0.7904549\ttest: 0.7617450\tbest: 0.7617450 (186)\ttotal: 21.8s\tremaining: 1m 8s\n",
      "242:\tlearn: 0.7902951\ttest: 0.7619935\tbest: 0.7619935 (242)\ttotal: 21.9s\tremaining: 1m 8s\n",
      "243:\tlearn: 0.7904549\ttest: 0.7619935\tbest: 0.7619935 (242)\ttotal: 22s\tremaining: 1m 8s\n",
      "244:\tlearn: 0.7906679\ttest: 0.7617450\tbest: 0.7619935 (242)\ttotal: 22.1s\tremaining: 1m 8s\n",
      "245:\tlearn: 0.7906147\ttest: 0.7617450\tbest: 0.7619935 (242)\ttotal: 22.3s\tremaining: 1m 8s\n",
      "246:\tlearn: 0.7906147\ttest: 0.7614964\tbest: 0.7619935 (242)\ttotal: 22.4s\tremaining: 1m 8s\n",
      "247:\tlearn: 0.7906147\ttest: 0.7619935\tbest: 0.7619935 (242)\ttotal: 22.5s\tremaining: 1m 8s\n",
      "248:\tlearn: 0.7908810\ttest: 0.7618693\tbest: 0.7619935 (242)\ttotal: 22.6s\tremaining: 1m 8s\n",
      "249:\tlearn: 0.7909343\ttest: 0.7617450\tbest: 0.7619935 (242)\ttotal: 22.8s\tremaining: 1m 8s\n",
      "250:\tlearn: 0.7909875\ttest: 0.7617450\tbest: 0.7619935 (242)\ttotal: 22.9s\tremaining: 1m 8s\n",
      "251:\tlearn: 0.7913071\ttest: 0.7617450\tbest: 0.7619935 (242)\ttotal: 23s\tremaining: 1m 8s\n",
      "252:\tlearn: 0.7912006\ttest: 0.7617450\tbest: 0.7619935 (242)\ttotal: 23.2s\tremaining: 1m 8s\n",
      "253:\tlearn: 0.7912539\ttest: 0.7617450\tbest: 0.7619935 (242)\ttotal: 23.3s\tremaining: 1m 8s\n",
      "254:\tlearn: 0.7913071\ttest: 0.7614964\tbest: 0.7619935 (242)\ttotal: 23.5s\tremaining: 1m 8s\n",
      "255:\tlearn: 0.7914137\ttest: 0.7617450\tbest: 0.7619935 (242)\ttotal: 23.6s\tremaining: 1m 8s\n",
      "256:\tlearn: 0.7916267\ttest: 0.7616207\tbest: 0.7619935 (242)\ttotal: 23.7s\tremaining: 1m 8s\n",
      "257:\tlearn: 0.7917332\ttest: 0.7614964\tbest: 0.7619935 (242)\ttotal: 23.8s\tremaining: 1m 8s\n",
      "258:\tlearn: 0.7917865\ttest: 0.7613721\tbest: 0.7619935 (242)\ttotal: 24s\tremaining: 1m 8s\n",
      "259:\tlearn: 0.7917332\ttest: 0.7616207\tbest: 0.7619935 (242)\ttotal: 24.1s\tremaining: 1m 8s\n",
      "260:\tlearn: 0.7915735\ttest: 0.7614964\tbest: 0.7619935 (242)\ttotal: 24.2s\tremaining: 1m 8s\n",
      "261:\tlearn: 0.7914669\ttest: 0.7617450\tbest: 0.7619935 (242)\ttotal: 24.3s\tremaining: 1m 8s\n",
      "262:\tlearn: 0.7915202\ttest: 0.7618693\tbest: 0.7619935 (242)\ttotal: 24.5s\tremaining: 1m 8s\n",
      "263:\tlearn: 0.7914137\ttest: 0.7617450\tbest: 0.7619935 (242)\ttotal: 24.5s\tremaining: 1m 8s\n",
      "264:\tlearn: 0.7915202\ttest: 0.7616207\tbest: 0.7619935 (242)\ttotal: 24.6s\tremaining: 1m 8s\n",
      "265:\tlearn: 0.7916267\ttest: 0.7617450\tbest: 0.7619935 (242)\ttotal: 24.7s\tremaining: 1m 8s\n",
      "266:\tlearn: 0.7918398\ttest: 0.7617450\tbest: 0.7619935 (242)\ttotal: 24.8s\tremaining: 1m 8s\n",
      "267:\tlearn: 0.7918930\ttest: 0.7614964\tbest: 0.7619935 (242)\ttotal: 24.9s\tremaining: 1m 7s\n",
      "268:\tlearn: 0.7920528\ttest: 0.7614964\tbest: 0.7619935 (242)\ttotal: 25s\tremaining: 1m 7s\n",
      "269:\tlearn: 0.7920528\ttest: 0.7616207\tbest: 0.7619935 (242)\ttotal: 25s\tremaining: 1m 7s\n",
      "270:\tlearn: 0.7921061\ttest: 0.7616207\tbest: 0.7619935 (242)\ttotal: 25.1s\tremaining: 1m 7s\n",
      "271:\tlearn: 0.7921594\ttest: 0.7616207\tbest: 0.7619935 (242)\ttotal: 25.2s\tremaining: 1m 7s\n",
      "272:\tlearn: 0.7922126\ttest: 0.7617450\tbest: 0.7619935 (242)\ttotal: 25.3s\tremaining: 1m 7s\n",
      "273:\tlearn: 0.7923192\ttest: 0.7618693\tbest: 0.7619935 (242)\ttotal: 25.4s\tremaining: 1m 7s\n",
      "274:\tlearn: 0.7921061\ttest: 0.7618693\tbest: 0.7619935 (242)\ttotal: 25.5s\tremaining: 1m 7s\n",
      "275:\tlearn: 0.7918930\ttest: 0.7621178\tbest: 0.7621178 (275)\ttotal: 25.6s\tremaining: 1m 7s\n",
      "276:\tlearn: 0.7918930\ttest: 0.7621178\tbest: 0.7621178 (275)\ttotal: 25.7s\tremaining: 1m 7s\n",
      "277:\tlearn: 0.7921061\ttest: 0.7623664\tbest: 0.7623664 (277)\ttotal: 25.8s\tremaining: 1m 6s\n",
      "278:\tlearn: 0.7921061\ttest: 0.7621178\tbest: 0.7623664 (277)\ttotal: 25.9s\tremaining: 1m 6s\n"
     ]
    },
    {
     "name": "stdout",
     "output_type": "stream",
     "text": [
      "279:\tlearn: 0.7917865\ttest: 0.7618693\tbest: 0.7623664 (277)\ttotal: 26s\tremaining: 1m 6s\n",
      "280:\tlearn: 0.7918930\ttest: 0.7618693\tbest: 0.7623664 (277)\ttotal: 26.2s\tremaining: 1m 6s\n",
      "281:\tlearn: 0.7922659\ttest: 0.7618693\tbest: 0.7623664 (277)\ttotal: 26.3s\tremaining: 1m 6s\n",
      "282:\tlearn: 0.7925855\ttest: 0.7624907\tbest: 0.7624907 (282)\ttotal: 26.4s\tremaining: 1m 6s\n",
      "283:\tlearn: 0.7927453\ttest: 0.7623664\tbest: 0.7624907 (282)\ttotal: 26.5s\tremaining: 1m 6s\n",
      "284:\tlearn: 0.7927453\ttest: 0.7622421\tbest: 0.7624907 (282)\ttotal: 26.7s\tremaining: 1m 6s\n",
      "285:\tlearn: 0.7928518\ttest: 0.7621178\tbest: 0.7624907 (282)\ttotal: 26.7s\tremaining: 1m 6s\n",
      "286:\tlearn: 0.7929583\ttest: 0.7619935\tbest: 0.7624907 (282)\ttotal: 26.8s\tremaining: 1m 6s\n",
      "287:\tlearn: 0.7930116\ttest: 0.7619935\tbest: 0.7624907 (282)\ttotal: 26.9s\tremaining: 1m 6s\n",
      "288:\tlearn: 0.7928518\ttest: 0.7619935\tbest: 0.7624907 (282)\ttotal: 27s\tremaining: 1m 6s\n",
      "289:\tlearn: 0.7930649\ttest: 0.7621178\tbest: 0.7624907 (282)\ttotal: 27.1s\tremaining: 1m 6s\n",
      "290:\tlearn: 0.7930116\ttest: 0.7623664\tbest: 0.7624907 (282)\ttotal: 27.2s\tremaining: 1m 6s\n",
      "291:\tlearn: 0.7931181\ttest: 0.7624907\tbest: 0.7624907 (282)\ttotal: 27.3s\tremaining: 1m 6s\n",
      "292:\tlearn: 0.7931714\ttest: 0.7622421\tbest: 0.7624907 (282)\ttotal: 27.5s\tremaining: 1m 6s\n",
      "293:\tlearn: 0.7932779\ttest: 0.7623664\tbest: 0.7624907 (282)\ttotal: 27.6s\tremaining: 1m 6s\n",
      "294:\tlearn: 0.7932779\ttest: 0.7624907\tbest: 0.7624907 (282)\ttotal: 27.7s\tremaining: 1m 6s\n",
      "295:\tlearn: 0.7931714\ttest: 0.7622421\tbest: 0.7624907 (282)\ttotal: 27.8s\tremaining: 1m 6s\n",
      "296:\tlearn: 0.7934910\ttest: 0.7623664\tbest: 0.7624907 (282)\ttotal: 27.9s\tremaining: 1m 6s\n",
      "297:\tlearn: 0.7935443\ttest: 0.7623664\tbest: 0.7624907 (282)\ttotal: 28s\tremaining: 1m 6s\n",
      "298:\tlearn: 0.7938106\ttest: 0.7626150\tbest: 0.7626150 (298)\ttotal: 28.1s\tremaining: 1m 5s\n",
      "299:\tlearn: 0.7936508\ttest: 0.7627392\tbest: 0.7627392 (299)\ttotal: 28.2s\tremaining: 1m 5s\n",
      "300:\tlearn: 0.7934377\ttest: 0.7627392\tbest: 0.7627392 (299)\ttotal: 28.3s\tremaining: 1m 5s\n",
      "301:\tlearn: 0.7939171\ttest: 0.7626150\tbest: 0.7627392 (299)\ttotal: 28.4s\tremaining: 1m 5s\n",
      "302:\tlearn: 0.7937573\ttest: 0.7626150\tbest: 0.7627392 (299)\ttotal: 28.5s\tremaining: 1m 5s\n",
      "303:\tlearn: 0.7940769\ttest: 0.7622421\tbest: 0.7627392 (299)\ttotal: 28.5s\tremaining: 1m 5s\n",
      "304:\tlearn: 0.7942367\ttest: 0.7623664\tbest: 0.7627392 (299)\ttotal: 28.6s\tremaining: 1m 5s\n",
      "305:\tlearn: 0.7940236\ttest: 0.7623664\tbest: 0.7627392 (299)\ttotal: 28.7s\tremaining: 1m 5s\n",
      "306:\tlearn: 0.7939171\ttest: 0.7621178\tbest: 0.7627392 (299)\ttotal: 28.8s\tremaining: 1m 4s\n",
      "307:\tlearn: 0.7940769\ttest: 0.7621178\tbest: 0.7627392 (299)\ttotal: 28.9s\tremaining: 1m 4s\n",
      "308:\tlearn: 0.7941302\ttest: 0.7621178\tbest: 0.7627392 (299)\ttotal: 29s\tremaining: 1m 4s\n",
      "309:\tlearn: 0.7946096\ttest: 0.7621178\tbest: 0.7627392 (299)\ttotal: 29s\tremaining: 1m 4s\n",
      "310:\tlearn: 0.7946096\ttest: 0.7619935\tbest: 0.7627392 (299)\ttotal: 29.1s\tremaining: 1m 4s\n",
      "311:\tlearn: 0.7946628\ttest: 0.7624907\tbest: 0.7627392 (299)\ttotal: 29.2s\tremaining: 1m 4s\n",
      "312:\tlearn: 0.7946096\ttest: 0.7627392\tbest: 0.7627392 (299)\ttotal: 29.3s\tremaining: 1m 4s\n",
      "313:\tlearn: 0.7946628\ttest: 0.7626150\tbest: 0.7627392 (299)\ttotal: 29.4s\tremaining: 1m 4s\n",
      "314:\tlearn: 0.7947161\ttest: 0.7624907\tbest: 0.7627392 (299)\ttotal: 29.6s\tremaining: 1m 4s\n",
      "315:\tlearn: 0.7946096\ttest: 0.7623664\tbest: 0.7627392 (299)\ttotal: 29.7s\tremaining: 1m 4s\n",
      "316:\tlearn: 0.7949292\ttest: 0.7622421\tbest: 0.7627392 (299)\ttotal: 29.7s\tremaining: 1m 4s\n",
      "317:\tlearn: 0.7949824\ttest: 0.7623664\tbest: 0.7627392 (299)\ttotal: 29.8s\tremaining: 1m 3s\n",
      "318:\tlearn: 0.7950357\ttest: 0.7623664\tbest: 0.7627392 (299)\ttotal: 29.9s\tremaining: 1m 3s\n",
      "319:\tlearn: 0.7949292\ttest: 0.7626150\tbest: 0.7627392 (299)\ttotal: 30s\tremaining: 1m 3s\n",
      "320:\tlearn: 0.7950357\ttest: 0.7626150\tbest: 0.7627392 (299)\ttotal: 30.1s\tremaining: 1m 3s\n",
      "321:\tlearn: 0.7948759\ttest: 0.7624907\tbest: 0.7627392 (299)\ttotal: 30.2s\tremaining: 1m 3s\n",
      "322:\tlearn: 0.7950357\ttest: 0.7623664\tbest: 0.7627392 (299)\ttotal: 30.3s\tremaining: 1m 3s\n",
      "323:\tlearn: 0.7948759\ttest: 0.7621178\tbest: 0.7627392 (299)\ttotal: 30.5s\tremaining: 1m 3s\n",
      "324:\tlearn: 0.7949824\ttest: 0.7626150\tbest: 0.7627392 (299)\ttotal: 30.6s\tremaining: 1m 3s\n",
      "325:\tlearn: 0.7949292\ttest: 0.7626150\tbest: 0.7627392 (299)\ttotal: 30.7s\tremaining: 1m 3s\n",
      "326:\tlearn: 0.7950890\ttest: 0.7626150\tbest: 0.7627392 (299)\ttotal: 30.8s\tremaining: 1m 3s\n",
      "327:\tlearn: 0.7949824\ttest: 0.7627392\tbest: 0.7627392 (299)\ttotal: 30.9s\tremaining: 1m 3s\n",
      "328:\tlearn: 0.7950357\ttest: 0.7629878\tbest: 0.7629878 (328)\ttotal: 31s\tremaining: 1m 3s\n",
      "329:\tlearn: 0.7951955\ttest: 0.7628635\tbest: 0.7629878 (328)\ttotal: 31s\tremaining: 1m 3s\n",
      "330:\tlearn: 0.7950357\ttest: 0.7631121\tbest: 0.7631121 (330)\ttotal: 31.1s\tremaining: 1m 2s\n",
      "331:\tlearn: 0.7953020\ttest: 0.7629878\tbest: 0.7631121 (330)\ttotal: 31.2s\tremaining: 1m 2s\n",
      "332:\tlearn: 0.7951955\ttest: 0.7628635\tbest: 0.7631121 (330)\ttotal: 31.3s\tremaining: 1m 2s\n",
      "333:\tlearn: 0.7954085\ttest: 0.7624907\tbest: 0.7631121 (330)\ttotal: 31.4s\tremaining: 1m 2s\n",
      "334:\tlearn: 0.7954618\ttest: 0.7624907\tbest: 0.7631121 (330)\ttotal: 31.5s\tremaining: 1m 2s\n",
      "335:\tlearn: 0.7954618\ttest: 0.7626150\tbest: 0.7631121 (330)\ttotal: 31.6s\tremaining: 1m 2s\n",
      "336:\tlearn: 0.7954618\ttest: 0.7626150\tbest: 0.7631121 (330)\ttotal: 31.6s\tremaining: 1m 2s\n",
      "337:\tlearn: 0.7955683\ttest: 0.7626150\tbest: 0.7631121 (330)\ttotal: 31.8s\tremaining: 1m 2s\n",
      "338:\tlearn: 0.7955683\ttest: 0.7627392\tbest: 0.7631121 (330)\ttotal: 31.9s\tremaining: 1m 2s\n",
      "339:\tlearn: 0.7962075\ttest: 0.7629878\tbest: 0.7631121 (330)\ttotal: 32s\tremaining: 1m 2s\n",
      "340:\tlearn: 0.7963141\ttest: 0.7629878\tbest: 0.7631121 (330)\ttotal: 32.1s\tremaining: 1m 2s\n",
      "341:\tlearn: 0.7962075\ttest: 0.7626150\tbest: 0.7631121 (330)\ttotal: 32.2s\tremaining: 1m 2s\n",
      "342:\tlearn: 0.7963141\ttest: 0.7623664\tbest: 0.7631121 (330)\ttotal: 32.3s\tremaining: 1m 1s\n",
      "343:\tlearn: 0.7964206\ttest: 0.7624907\tbest: 0.7631121 (330)\ttotal: 32.4s\tremaining: 1m 1s\n",
      "344:\tlearn: 0.7965804\ttest: 0.7624907\tbest: 0.7631121 (330)\ttotal: 32.5s\tremaining: 1m 1s\n",
      "345:\tlearn: 0.7966336\ttest: 0.7627392\tbest: 0.7631121 (330)\ttotal: 32.6s\tremaining: 1m 1s\n",
      "346:\tlearn: 0.7971130\ttest: 0.7626150\tbest: 0.7631121 (330)\ttotal: 32.7s\tremaining: 1m 1s\n",
      "347:\tlearn: 0.7972728\ttest: 0.7624907\tbest: 0.7631121 (330)\ttotal: 32.8s\tremaining: 1m 1s\n",
      "348:\tlearn: 0.7972728\ttest: 0.7621178\tbest: 0.7631121 (330)\ttotal: 32.9s\tremaining: 1m 1s\n",
      "349:\tlearn: 0.7973794\ttest: 0.7623664\tbest: 0.7631121 (330)\ttotal: 33s\tremaining: 1m 1s\n",
      "350:\tlearn: 0.7974859\ttest: 0.7624907\tbest: 0.7631121 (330)\ttotal: 33.1s\tremaining: 1m 1s\n",
      "351:\tlearn: 0.7973794\ttest: 0.7623664\tbest: 0.7631121 (330)\ttotal: 33.1s\tremaining: 1m\n",
      "352:\tlearn: 0.7973794\ttest: 0.7624907\tbest: 0.7631121 (330)\ttotal: 33.3s\tremaining: 1m\n",
      "353:\tlearn: 0.7972728\ttest: 0.7624907\tbest: 0.7631121 (330)\ttotal: 33.4s\tremaining: 1m\n",
      "354:\tlearn: 0.7974859\ttest: 0.7622421\tbest: 0.7631121 (330)\ttotal: 33.5s\tremaining: 1m\n",
      "355:\tlearn: 0.7975391\ttest: 0.7621178\tbest: 0.7631121 (330)\ttotal: 33.6s\tremaining: 1m\n",
      "356:\tlearn: 0.7975391\ttest: 0.7621178\tbest: 0.7631121 (330)\ttotal: 33.7s\tremaining: 1m\n",
      "357:\tlearn: 0.7976457\ttest: 0.7622421\tbest: 0.7631121 (330)\ttotal: 33.8s\tremaining: 1m\n",
      "358:\tlearn: 0.7979120\ttest: 0.7623664\tbest: 0.7631121 (330)\ttotal: 33.9s\tremaining: 1m\n",
      "359:\tlearn: 0.7980185\ttest: 0.7623664\tbest: 0.7631121 (330)\ttotal: 34.1s\tremaining: 1m\n",
      "360:\tlearn: 0.7980185\ttest: 0.7624907\tbest: 0.7631121 (330)\ttotal: 34.2s\tremaining: 1m\n",
      "361:\tlearn: 0.7980185\ttest: 0.7624907\tbest: 0.7631121 (330)\ttotal: 34.3s\tremaining: 1m\n",
      "362:\tlearn: 0.7979653\ttest: 0.7626150\tbest: 0.7631121 (330)\ttotal: 34.4s\tremaining: 1m\n",
      "363:\tlearn: 0.7979653\ttest: 0.7627392\tbest: 0.7631121 (330)\ttotal: 34.5s\tremaining: 1m\n",
      "364:\tlearn: 0.7976989\ttest: 0.7626150\tbest: 0.7631121 (330)\ttotal: 34.6s\tremaining: 1m\n",
      "365:\tlearn: 0.7980185\ttest: 0.7623664\tbest: 0.7631121 (330)\ttotal: 34.7s\tremaining: 1m\n",
      "366:\tlearn: 0.7980718\ttest: 0.7627392\tbest: 0.7631121 (330)\ttotal: 34.7s\tremaining: 59.9s\n",
      "367:\tlearn: 0.7980718\ttest: 0.7627392\tbest: 0.7631121 (330)\ttotal: 34.8s\tremaining: 59.8s\n",
      "368:\tlearn: 0.7982316\ttest: 0.7627392\tbest: 0.7631121 (330)\ttotal: 34.9s\tremaining: 59.7s\n",
      "369:\tlearn: 0.7982849\ttest: 0.7627392\tbest: 0.7631121 (330)\ttotal: 35s\tremaining: 59.6s\n",
      "370:\tlearn: 0.7982316\ttest: 0.7627392\tbest: 0.7631121 (330)\ttotal: 35.1s\tremaining: 59.6s\n"
     ]
    },
    {
     "name": "stdout",
     "output_type": "stream",
     "text": [
      "371:\tlearn: 0.7982316\ttest: 0.7626150\tbest: 0.7631121 (330)\ttotal: 35.3s\tremaining: 59.5s\n",
      "372:\tlearn: 0.7984447\ttest: 0.7628635\tbest: 0.7631121 (330)\ttotal: 35.4s\tremaining: 59.5s\n",
      "373:\tlearn: 0.7987110\ttest: 0.7628635\tbest: 0.7631121 (330)\ttotal: 35.5s\tremaining: 59.5s\n",
      "374:\tlearn: 0.7985512\ttest: 0.7623664\tbest: 0.7631121 (330)\ttotal: 35.7s\tremaining: 59.4s\n",
      "375:\tlearn: 0.7986045\ttest: 0.7624907\tbest: 0.7631121 (330)\ttotal: 35.8s\tremaining: 59.4s\n",
      "376:\tlearn: 0.7986045\ttest: 0.7626150\tbest: 0.7631121 (330)\ttotal: 35.9s\tremaining: 59.4s\n",
      "377:\tlearn: 0.7986577\ttest: 0.7628635\tbest: 0.7631121 (330)\ttotal: 36s\tremaining: 59.3s\n",
      "378:\tlearn: 0.7989773\ttest: 0.7627392\tbest: 0.7631121 (330)\ttotal: 36.1s\tremaining: 59.2s\n",
      "379:\tlearn: 0.7990838\ttest: 0.7623664\tbest: 0.7631121 (330)\ttotal: 36.2s\tremaining: 59.1s\n",
      "380:\tlearn: 0.7991371\ttest: 0.7627392\tbest: 0.7631121 (330)\ttotal: 36.4s\tremaining: 59.1s\n",
      "381:\tlearn: 0.7992436\ttest: 0.7626150\tbest: 0.7631121 (330)\ttotal: 36.5s\tremaining: 59.1s\n",
      "382:\tlearn: 0.7990838\ttest: 0.7626150\tbest: 0.7631121 (330)\ttotal: 36.6s\tremaining: 59s\n",
      "383:\tlearn: 0.7991904\ttest: 0.7627392\tbest: 0.7631121 (330)\ttotal: 36.7s\tremaining: 58.8s\n",
      "384:\tlearn: 0.7993502\ttest: 0.7627392\tbest: 0.7631121 (330)\ttotal: 36.8s\tremaining: 58.7s\n",
      "385:\tlearn: 0.7992969\ttest: 0.7629878\tbest: 0.7631121 (330)\ttotal: 36.9s\tremaining: 58.6s\n",
      "386:\tlearn: 0.7994567\ttest: 0.7631121\tbest: 0.7631121 (330)\ttotal: 36.9s\tremaining: 58.5s\n",
      "387:\tlearn: 0.7994567\ttest: 0.7628635\tbest: 0.7631121 (330)\ttotal: 37s\tremaining: 58.4s\n",
      "388:\tlearn: 0.7995632\ttest: 0.7631121\tbest: 0.7631121 (330)\ttotal: 37.2s\tremaining: 58.4s\n",
      "389:\tlearn: 0.7998296\ttest: 0.7631121\tbest: 0.7631121 (330)\ttotal: 37.3s\tremaining: 58.3s\n",
      "390:\tlearn: 0.7997763\ttest: 0.7632364\tbest: 0.7632364 (390)\ttotal: 37.4s\tremaining: 58.3s\n",
      "391:\tlearn: 0.7997230\ttest: 0.7633607\tbest: 0.7633607 (391)\ttotal: 37.6s\tremaining: 58.3s\n",
      "392:\tlearn: 0.7997230\ttest: 0.7633607\tbest: 0.7633607 (391)\ttotal: 37.7s\tremaining: 58.2s\n",
      "393:\tlearn: 0.7996698\ttest: 0.7633607\tbest: 0.7633607 (391)\ttotal: 37.8s\tremaining: 58.1s\n",
      "394:\tlearn: 0.7997763\ttest: 0.7634850\tbest: 0.7634850 (394)\ttotal: 37.9s\tremaining: 58.1s\n",
      "395:\tlearn: 0.7999893\ttest: 0.7637335\tbest: 0.7637335 (395)\ttotal: 38s\tremaining: 58s\n",
      "396:\tlearn: 0.7999893\ttest: 0.7638578\tbest: 0.7638578 (396)\ttotal: 38.2s\tremaining: 58s\n",
      "397:\tlearn: 0.7999893\ttest: 0.7638578\tbest: 0.7638578 (396)\ttotal: 38.3s\tremaining: 57.9s\n",
      "398:\tlearn: 0.8000426\ttest: 0.7634850\tbest: 0.7638578 (396)\ttotal: 38.4s\tremaining: 57.8s\n",
      "399:\tlearn: 0.7999893\ttest: 0.7631121\tbest: 0.7638578 (396)\ttotal: 38.5s\tremaining: 57.7s\n",
      "400:\tlearn: 0.8001491\ttest: 0.7631121\tbest: 0.7638578 (396)\ttotal: 38.5s\tremaining: 57.6s\n",
      "401:\tlearn: 0.8000959\ttest: 0.7632364\tbest: 0.7638578 (396)\ttotal: 38.6s\tremaining: 57.4s\n",
      "402:\tlearn: 0.8000959\ttest: 0.7632364\tbest: 0.7638578 (396)\ttotal: 38.7s\tremaining: 57.3s\n",
      "403:\tlearn: 0.7999893\ttest: 0.7632364\tbest: 0.7638578 (396)\ttotal: 38.8s\tremaining: 57.2s\n",
      "404:\tlearn: 0.8001491\ttest: 0.7634850\tbest: 0.7638578 (396)\ttotal: 38.9s\tremaining: 57.1s\n",
      "405:\tlearn: 0.8002024\ttest: 0.7637335\tbest: 0.7638578 (396)\ttotal: 38.9s\tremaining: 57s\n",
      "406:\tlearn: 0.8005220\ttest: 0.7637335\tbest: 0.7638578 (396)\ttotal: 39s\tremaining: 56.9s\n",
      "407:\tlearn: 0.8005220\ttest: 0.7642307\tbest: 0.7642307 (407)\ttotal: 39.1s\tremaining: 56.8s\n",
      "408:\tlearn: 0.8008416\ttest: 0.7644792\tbest: 0.7644792 (408)\ttotal: 39.2s\tremaining: 56.7s\n",
      "409:\tlearn: 0.8010014\ttest: 0.7641064\tbest: 0.7644792 (408)\ttotal: 39.3s\tremaining: 56.5s\n",
      "410:\tlearn: 0.8010014\ttest: 0.7639821\tbest: 0.7644792 (408)\ttotal: 39.4s\tremaining: 56.4s\n",
      "411:\tlearn: 0.8010014\ttest: 0.7643550\tbest: 0.7644792 (408)\ttotal: 39.5s\tremaining: 56.4s\n",
      "412:\tlearn: 0.8013210\ttest: 0.7642307\tbest: 0.7644792 (408)\ttotal: 39.6s\tremaining: 56.3s\n",
      "413:\tlearn: 0.8014275\ttest: 0.7644792\tbest: 0.7644792 (408)\ttotal: 39.7s\tremaining: 56.2s\n",
      "414:\tlearn: 0.8014808\ttest: 0.7646035\tbest: 0.7646035 (414)\ttotal: 39.8s\tremaining: 56.1s\n",
      "415:\tlearn: 0.8016406\ttest: 0.7646035\tbest: 0.7646035 (414)\ttotal: 39.9s\tremaining: 56s\n",
      "416:\tlearn: 0.8016938\ttest: 0.7646035\tbest: 0.7646035 (414)\ttotal: 40s\tremaining: 55.9s\n",
      "417:\tlearn: 0.8021732\ttest: 0.7644792\tbest: 0.7646035 (414)\ttotal: 40s\tremaining: 55.8s\n",
      "418:\tlearn: 0.8022797\ttest: 0.7644792\tbest: 0.7646035 (414)\ttotal: 40.2s\tremaining: 55.7s\n",
      "419:\tlearn: 0.8022265\ttest: 0.7643550\tbest: 0.7646035 (414)\ttotal: 40.3s\tremaining: 55.6s\n",
      "420:\tlearn: 0.8024395\ttest: 0.7643550\tbest: 0.7646035 (414)\ttotal: 40.5s\tremaining: 55.6s\n",
      "421:\tlearn: 0.8025993\ttest: 0.7643550\tbest: 0.7646035 (414)\ttotal: 40.6s\tremaining: 55.6s\n",
      "422:\tlearn: 0.8024928\ttest: 0.7643550\tbest: 0.7646035 (414)\ttotal: 40.6s\tremaining: 55.4s\n",
      "423:\tlearn: 0.8024928\ttest: 0.7646035\tbest: 0.7646035 (414)\ttotal: 40.7s\tremaining: 55.3s\n",
      "424:\tlearn: 0.8033451\ttest: 0.7652250\tbest: 0.7652250 (424)\ttotal: 40.8s\tremaining: 55.2s\n",
      "425:\tlearn: 0.8034516\ttest: 0.7646035\tbest: 0.7652250 (424)\ttotal: 40.9s\tremaining: 55.1s\n",
      "426:\tlearn: 0.8035581\ttest: 0.7646035\tbest: 0.7652250 (424)\ttotal: 41s\tremaining: 55s\n",
      "427:\tlearn: 0.8036114\ttest: 0.7646035\tbest: 0.7652250 (424)\ttotal: 41.1s\tremaining: 54.9s\n",
      "428:\tlearn: 0.8037712\ttest: 0.7646035\tbest: 0.7652250 (424)\ttotal: 41.2s\tremaining: 54.8s\n",
      "429:\tlearn: 0.8039842\ttest: 0.7644792\tbest: 0.7652250 (424)\ttotal: 41.2s\tremaining: 54.7s\n",
      "430:\tlearn: 0.8040375\ttest: 0.7646035\tbest: 0.7652250 (424)\ttotal: 41.3s\tremaining: 54.6s\n",
      "431:\tlearn: 0.8042506\ttest: 0.7651007\tbest: 0.7652250 (424)\ttotal: 41.4s\tremaining: 54.5s\n",
      "432:\tlearn: 0.8042506\ttest: 0.7648521\tbest: 0.7652250 (424)\ttotal: 41.5s\tremaining: 54.4s\n",
      "433:\tlearn: 0.8044636\ttest: 0.7649764\tbest: 0.7652250 (424)\ttotal: 41.6s\tremaining: 54.2s\n",
      "434:\tlearn: 0.8044636\ttest: 0.7647278\tbest: 0.7652250 (424)\ttotal: 41.7s\tremaining: 54.1s\n",
      "435:\tlearn: 0.8042506\ttest: 0.7646035\tbest: 0.7652250 (424)\ttotal: 41.8s\tremaining: 54s\n",
      "436:\tlearn: 0.8043571\ttest: 0.7644792\tbest: 0.7652250 (424)\ttotal: 41.9s\tremaining: 53.9s\n",
      "437:\tlearn: 0.8046234\ttest: 0.7644792\tbest: 0.7652250 (424)\ttotal: 41.9s\tremaining: 53.8s\n",
      "438:\tlearn: 0.8044104\ttest: 0.7641064\tbest: 0.7652250 (424)\ttotal: 42s\tremaining: 53.7s\n",
      "439:\tlearn: 0.8043571\ttest: 0.7641064\tbest: 0.7652250 (424)\ttotal: 42.1s\tremaining: 53.6s\n",
      "440:\tlearn: 0.8044636\ttest: 0.7639821\tbest: 0.7652250 (424)\ttotal: 42.3s\tremaining: 53.6s\n",
      "441:\tlearn: 0.8045169\ttest: 0.7644792\tbest: 0.7652250 (424)\ttotal: 42.4s\tremaining: 53.6s\n",
      "442:\tlearn: 0.8046767\ttest: 0.7643550\tbest: 0.7652250 (424)\ttotal: 42.6s\tremaining: 53.6s\n",
      "443:\tlearn: 0.8046767\ttest: 0.7644792\tbest: 0.7652250 (424)\ttotal: 42.8s\tremaining: 53.6s\n",
      "444:\tlearn: 0.8049430\ttest: 0.7642307\tbest: 0.7652250 (424)\ttotal: 42.9s\tremaining: 53.5s\n",
      "445:\tlearn: 0.8047832\ttest: 0.7644792\tbest: 0.7652250 (424)\ttotal: 43.1s\tremaining: 53.5s\n",
      "446:\tlearn: 0.8050495\ttest: 0.7643550\tbest: 0.7652250 (424)\ttotal: 43.2s\tremaining: 53.4s\n",
      "447:\tlearn: 0.8050495\ttest: 0.7641064\tbest: 0.7652250 (424)\ttotal: 43.3s\tremaining: 53.4s\n",
      "448:\tlearn: 0.8051561\ttest: 0.7642307\tbest: 0.7652250 (424)\ttotal: 43.5s\tremaining: 53.4s\n",
      "449:\tlearn: 0.8048897\ttest: 0.7643550\tbest: 0.7652250 (424)\ttotal: 43.6s\tremaining: 53.3s\n",
      "450:\tlearn: 0.8049963\ttest: 0.7644792\tbest: 0.7652250 (424)\ttotal: 43.7s\tremaining: 53.2s\n",
      "451:\tlearn: 0.8055289\ttest: 0.7642307\tbest: 0.7652250 (424)\ttotal: 43.9s\tremaining: 53.2s\n",
      "452:\tlearn: 0.8056355\ttest: 0.7641064\tbest: 0.7652250 (424)\ttotal: 44s\tremaining: 53.2s\n",
      "453:\tlearn: 0.8056355\ttest: 0.7641064\tbest: 0.7652250 (424)\ttotal: 44.2s\tremaining: 53.2s\n",
      "454:\tlearn: 0.8057952\ttest: 0.7641064\tbest: 0.7652250 (424)\ttotal: 44.3s\tremaining: 53.1s\n",
      "455:\tlearn: 0.8057952\ttest: 0.7641064\tbest: 0.7652250 (424)\ttotal: 44.4s\tremaining: 53s\n",
      "456:\tlearn: 0.8059018\ttest: 0.7642307\tbest: 0.7652250 (424)\ttotal: 44.5s\tremaining: 52.9s\n",
      "457:\tlearn: 0.8059550\ttest: 0.7646035\tbest: 0.7652250 (424)\ttotal: 44.6s\tremaining: 52.7s\n",
      "458:\tlearn: 0.8060616\ttest: 0.7644792\tbest: 0.7652250 (424)\ttotal: 44.7s\tremaining: 52.7s\n",
      "459:\tlearn: 0.8060083\ttest: 0.7642307\tbest: 0.7652250 (424)\ttotal: 44.8s\tremaining: 52.6s\n",
      "460:\tlearn: 0.8059018\ttest: 0.7641064\tbest: 0.7652250 (424)\ttotal: 45s\tremaining: 52.6s\n",
      "461:\tlearn: 0.8060616\ttest: 0.7639821\tbest: 0.7652250 (424)\ttotal: 45.1s\tremaining: 52.5s\n",
      "462:\tlearn: 0.8061681\ttest: 0.7637335\tbest: 0.7652250 (424)\ttotal: 45.2s\tremaining: 52.5s\n",
      "463:\tlearn: 0.8063279\ttest: 0.7636092\tbest: 0.7652250 (424)\ttotal: 45.3s\tremaining: 52.3s\n",
      "464:\tlearn: 0.8064344\ttest: 0.7634850\tbest: 0.7652250 (424)\ttotal: 45.4s\tremaining: 52.2s\n"
     ]
    },
    {
     "name": "stdout",
     "output_type": "stream",
     "text": [
      "465:\tlearn: 0.8064344\ttest: 0.7634850\tbest: 0.7652250 (424)\ttotal: 45.5s\tremaining: 52.1s\n",
      "466:\tlearn: 0.8067008\ttest: 0.7633607\tbest: 0.7652250 (424)\ttotal: 45.6s\tremaining: 52.1s\n",
      "467:\tlearn: 0.8065410\ttest: 0.7636092\tbest: 0.7652250 (424)\ttotal: 45.7s\tremaining: 52s\n",
      "468:\tlearn: 0.8065942\ttest: 0.7636092\tbest: 0.7652250 (424)\ttotal: 45.9s\tremaining: 51.9s\n",
      "469:\tlearn: 0.8070203\ttest: 0.7637335\tbest: 0.7652250 (424)\ttotal: 46s\tremaining: 51.9s\n",
      "470:\tlearn: 0.8067540\ttest: 0.7638578\tbest: 0.7652250 (424)\ttotal: 46.1s\tremaining: 51.8s\n",
      "471:\tlearn: 0.8071269\ttest: 0.7637335\tbest: 0.7652250 (424)\ttotal: 46.3s\tremaining: 51.8s\n",
      "472:\tlearn: 0.8071269\ttest: 0.7639821\tbest: 0.7652250 (424)\ttotal: 46.4s\tremaining: 51.7s\n",
      "473:\tlearn: 0.8072334\ttest: 0.7638578\tbest: 0.7652250 (424)\ttotal: 46.6s\tremaining: 51.7s\n",
      "474:\tlearn: 0.8072334\ttest: 0.7637335\tbest: 0.7652250 (424)\ttotal: 46.7s\tremaining: 51.6s\n",
      "475:\tlearn: 0.8071801\ttest: 0.7638578\tbest: 0.7652250 (424)\ttotal: 46.8s\tremaining: 51.6s\n",
      "476:\tlearn: 0.8072867\ttest: 0.7638578\tbest: 0.7652250 (424)\ttotal: 47s\tremaining: 51.6s\n",
      "477:\tlearn: 0.8072867\ttest: 0.7638578\tbest: 0.7652250 (424)\ttotal: 47.2s\tremaining: 51.5s\n",
      "478:\tlearn: 0.8071269\ttest: 0.7637335\tbest: 0.7652250 (424)\ttotal: 47.3s\tremaining: 51.5s\n",
      "479:\tlearn: 0.8070203\ttest: 0.7636092\tbest: 0.7652250 (424)\ttotal: 47.5s\tremaining: 51.4s\n",
      "480:\tlearn: 0.8069138\ttest: 0.7636092\tbest: 0.7652250 (424)\ttotal: 47.6s\tremaining: 51.3s\n",
      "481:\tlearn: 0.8070203\ttest: 0.7636092\tbest: 0.7652250 (424)\ttotal: 47.6s\tremaining: 51.2s\n",
      "482:\tlearn: 0.8070736\ttest: 0.7638578\tbest: 0.7652250 (424)\ttotal: 47.8s\tremaining: 51.1s\n",
      "483:\tlearn: 0.8071801\ttest: 0.7642307\tbest: 0.7652250 (424)\ttotal: 47.9s\tremaining: 51.1s\n",
      "484:\tlearn: 0.8073399\ttest: 0.7646035\tbest: 0.7652250 (424)\ttotal: 48s\tremaining: 51s\n",
      "485:\tlearn: 0.8074997\ttest: 0.7644792\tbest: 0.7652250 (424)\ttotal: 48.1s\tremaining: 50.9s\n",
      "486:\tlearn: 0.8074997\ttest: 0.7644792\tbest: 0.7652250 (424)\ttotal: 48.2s\tremaining: 50.8s\n",
      "487:\tlearn: 0.8073932\ttest: 0.7644792\tbest: 0.7652250 (424)\ttotal: 48.3s\tremaining: 50.7s\n",
      "488:\tlearn: 0.8076063\ttest: 0.7643550\tbest: 0.7652250 (424)\ttotal: 48.4s\tremaining: 50.6s\n",
      "489:\tlearn: 0.8078726\ttest: 0.7644792\tbest: 0.7652250 (424)\ttotal: 48.6s\tremaining: 50.6s\n",
      "490:\tlearn: 0.8079791\ttest: 0.7644792\tbest: 0.7652250 (424)\ttotal: 48.7s\tremaining: 50.5s\n",
      "491:\tlearn: 0.8077661\ttest: 0.7643550\tbest: 0.7652250 (424)\ttotal: 48.9s\tremaining: 50.5s\n",
      "492:\tlearn: 0.8079791\ttest: 0.7647278\tbest: 0.7652250 (424)\ttotal: 49s\tremaining: 50.4s\n",
      "493:\tlearn: 0.8079791\ttest: 0.7646035\tbest: 0.7652250 (424)\ttotal: 49.1s\tremaining: 50.3s\n",
      "494:\tlearn: 0.8080324\ttest: 0.7646035\tbest: 0.7652250 (424)\ttotal: 49.3s\tremaining: 50.3s\n",
      "495:\tlearn: 0.8080324\ttest: 0.7644792\tbest: 0.7652250 (424)\ttotal: 49.3s\tremaining: 50.1s\n",
      "496:\tlearn: 0.8078726\ttest: 0.7642307\tbest: 0.7652250 (424)\ttotal: 49.4s\tremaining: 50s\n",
      "497:\tlearn: 0.8079259\ttest: 0.7646035\tbest: 0.7652250 (424)\ttotal: 49.5s\tremaining: 49.9s\n",
      "498:\tlearn: 0.8080857\ttest: 0.7642307\tbest: 0.7652250 (424)\ttotal: 49.6s\tremaining: 49.8s\n",
      "499:\tlearn: 0.8085118\ttest: 0.7642307\tbest: 0.7652250 (424)\ttotal: 49.7s\tremaining: 49.7s\n",
      "500:\tlearn: 0.8086716\ttest: 0.7642307\tbest: 0.7652250 (424)\ttotal: 49.8s\tremaining: 49.6s\n",
      "501:\tlearn: 0.8085650\ttest: 0.7642307\tbest: 0.7652250 (424)\ttotal: 49.9s\tremaining: 49.5s\n",
      "502:\tlearn: 0.8086716\ttest: 0.7642307\tbest: 0.7652250 (424)\ttotal: 50s\tremaining: 49.4s\n",
      "503:\tlearn: 0.8088314\ttest: 0.7641064\tbest: 0.7652250 (424)\ttotal: 50s\tremaining: 49.3s\n",
      "504:\tlearn: 0.8088846\ttest: 0.7638578\tbest: 0.7652250 (424)\ttotal: 50.1s\tremaining: 49.1s\n",
      "505:\tlearn: 0.8088846\ttest: 0.7639821\tbest: 0.7652250 (424)\ttotal: 50.2s\tremaining: 49.1s\n",
      "506:\tlearn: 0.8091510\ttest: 0.7642307\tbest: 0.7652250 (424)\ttotal: 50.4s\tremaining: 49s\n",
      "507:\tlearn: 0.8090444\ttest: 0.7637335\tbest: 0.7652250 (424)\ttotal: 50.5s\tremaining: 48.9s\n",
      "508:\tlearn: 0.8092042\ttest: 0.7638578\tbest: 0.7652250 (424)\ttotal: 50.6s\tremaining: 48.8s\n",
      "509:\tlearn: 0.8092575\ttest: 0.7641064\tbest: 0.7652250 (424)\ttotal: 50.7s\tremaining: 48.7s\n",
      "510:\tlearn: 0.8092042\ttest: 0.7643550\tbest: 0.7652250 (424)\ttotal: 50.8s\tremaining: 48.6s\n",
      "511:\tlearn: 0.8090977\ttest: 0.7639821\tbest: 0.7652250 (424)\ttotal: 50.9s\tremaining: 48.5s\n",
      "512:\tlearn: 0.8092575\ttest: 0.7636092\tbest: 0.7652250 (424)\ttotal: 50.9s\tremaining: 48.4s\n",
      "513:\tlearn: 0.8092575\ttest: 0.7638578\tbest: 0.7652250 (424)\ttotal: 51s\tremaining: 48.2s\n",
      "514:\tlearn: 0.8092042\ttest: 0.7639821\tbest: 0.7652250 (424)\ttotal: 51.2s\tremaining: 48.2s\n",
      "515:\tlearn: 0.8092575\ttest: 0.7638578\tbest: 0.7652250 (424)\ttotal: 51.3s\tremaining: 48.1s\n",
      "516:\tlearn: 0.8093640\ttest: 0.7634850\tbest: 0.7652250 (424)\ttotal: 51.4s\tremaining: 48s\n",
      "517:\tlearn: 0.8091510\ttest: 0.7638578\tbest: 0.7652250 (424)\ttotal: 51.5s\tremaining: 47.9s\n",
      "518:\tlearn: 0.8093640\ttest: 0.7637335\tbest: 0.7652250 (424)\ttotal: 51.5s\tremaining: 47.8s\n",
      "519:\tlearn: 0.8092575\ttest: 0.7638578\tbest: 0.7652250 (424)\ttotal: 51.6s\tremaining: 47.7s\n",
      "520:\tlearn: 0.8094705\ttest: 0.7638578\tbest: 0.7652250 (424)\ttotal: 51.7s\tremaining: 47.6s\n",
      "521:\tlearn: 0.8096303\ttest: 0.7642307\tbest: 0.7652250 (424)\ttotal: 51.8s\tremaining: 47.4s\n",
      "522:\tlearn: 0.8095238\ttest: 0.7641064\tbest: 0.7652250 (424)\ttotal: 51.9s\tremaining: 47.3s\n",
      "523:\tlearn: 0.8095771\ttest: 0.7642307\tbest: 0.7652250 (424)\ttotal: 52s\tremaining: 47.2s\n",
      "524:\tlearn: 0.8095771\ttest: 0.7636092\tbest: 0.7652250 (424)\ttotal: 52.1s\tremaining: 47.1s\n",
      "525:\tlearn: 0.8095771\ttest: 0.7636092\tbest: 0.7652250 (424)\ttotal: 52.1s\tremaining: 47s\n",
      "526:\tlearn: 0.8095771\ttest: 0.7641064\tbest: 0.7652250 (424)\ttotal: 52.2s\tremaining: 46.9s\n",
      "527:\tlearn: 0.8099499\ttest: 0.7637335\tbest: 0.7652250 (424)\ttotal: 52.3s\tremaining: 46.8s\n",
      "528:\tlearn: 0.8101630\ttest: 0.7633607\tbest: 0.7652250 (424)\ttotal: 52.4s\tremaining: 46.7s\n",
      "529:\tlearn: 0.8103228\ttest: 0.7636092\tbest: 0.7652250 (424)\ttotal: 52.5s\tremaining: 46.6s\n",
      "530:\tlearn: 0.8103228\ttest: 0.7634850\tbest: 0.7652250 (424)\ttotal: 52.6s\tremaining: 46.5s\n",
      "531:\tlearn: 0.8104826\ttest: 0.7637335\tbest: 0.7652250 (424)\ttotal: 52.7s\tremaining: 46.4s\n",
      "532:\tlearn: 0.8105891\ttest: 0.7636092\tbest: 0.7652250 (424)\ttotal: 52.8s\tremaining: 46.2s\n",
      "533:\tlearn: 0.8108022\ttest: 0.7636092\tbest: 0.7652250 (424)\ttotal: 52.9s\tremaining: 46.1s\n",
      "534:\tlearn: 0.8109087\ttest: 0.7637335\tbest: 0.7652250 (424)\ttotal: 53s\tremaining: 46s\n",
      "535:\tlearn: 0.8109620\ttest: 0.7634850\tbest: 0.7652250 (424)\ttotal: 53.1s\tremaining: 45.9s\n",
      "536:\tlearn: 0.8109620\ttest: 0.7639821\tbest: 0.7652250 (424)\ttotal: 53.1s\tremaining: 45.8s\n",
      "537:\tlearn: 0.8108554\ttest: 0.7637335\tbest: 0.7652250 (424)\ttotal: 53.2s\tremaining: 45.7s\n",
      "538:\tlearn: 0.8108022\ttest: 0.7637335\tbest: 0.7652250 (424)\ttotal: 53.4s\tremaining: 45.6s\n",
      "539:\tlearn: 0.8109087\ttest: 0.7638578\tbest: 0.7652250 (424)\ttotal: 53.5s\tremaining: 45.6s\n",
      "540:\tlearn: 0.8110152\ttest: 0.7634850\tbest: 0.7652250 (424)\ttotal: 53.6s\tremaining: 45.5s\n",
      "541:\tlearn: 0.8113881\ttest: 0.7638578\tbest: 0.7652250 (424)\ttotal: 53.7s\tremaining: 45.4s\n",
      "542:\tlearn: 0.8113881\ttest: 0.7638578\tbest: 0.7652250 (424)\ttotal: 53.9s\tremaining: 45.4s\n",
      "543:\tlearn: 0.8116012\ttest: 0.7637335\tbest: 0.7652250 (424)\ttotal: 54s\tremaining: 45.3s\n",
      "544:\tlearn: 0.8117609\ttest: 0.7631121\tbest: 0.7652250 (424)\ttotal: 54.2s\tremaining: 45.2s\n",
      "545:\tlearn: 0.8117609\ttest: 0.7631121\tbest: 0.7652250 (424)\ttotal: 54.3s\tremaining: 45.2s\n",
      "546:\tlearn: 0.8117609\ttest: 0.7636092\tbest: 0.7652250 (424)\ttotal: 54.4s\tremaining: 45s\n",
      "547:\tlearn: 0.8119207\ttest: 0.7638578\tbest: 0.7652250 (424)\ttotal: 54.5s\tremaining: 44.9s\n",
      "548:\tlearn: 0.8121338\ttest: 0.7639821\tbest: 0.7652250 (424)\ttotal: 54.6s\tremaining: 44.8s\n",
      "549:\tlearn: 0.8121871\ttest: 0.7639821\tbest: 0.7652250 (424)\ttotal: 54.6s\tremaining: 44.7s\n",
      "550:\tlearn: 0.8121871\ttest: 0.7642307\tbest: 0.7652250 (424)\ttotal: 54.7s\tremaining: 44.6s\n",
      "551:\tlearn: 0.8121871\ttest: 0.7641064\tbest: 0.7652250 (424)\ttotal: 54.8s\tremaining: 44.5s\n",
      "552:\tlearn: 0.8122936\ttest: 0.7638578\tbest: 0.7652250 (424)\ttotal: 54.9s\tremaining: 44.4s\n",
      "553:\tlearn: 0.8123469\ttest: 0.7637335\tbest: 0.7652250 (424)\ttotal: 55s\tremaining: 44.3s\n",
      "554:\tlearn: 0.8121871\ttest: 0.7637335\tbest: 0.7652250 (424)\ttotal: 55.1s\tremaining: 44.2s\n",
      "555:\tlearn: 0.8124534\ttest: 0.7636092\tbest: 0.7652250 (424)\ttotal: 55.2s\tremaining: 44.1s\n",
      "556:\tlearn: 0.8123469\ttest: 0.7634850\tbest: 0.7652250 (424)\ttotal: 55.3s\tremaining: 44s\n",
      "557:\tlearn: 0.8124001\ttest: 0.7634850\tbest: 0.7652250 (424)\ttotal: 55.4s\tremaining: 43.9s\n"
     ]
    },
    {
     "name": "stdout",
     "output_type": "stream",
     "text": [
      "558:\tlearn: 0.8124001\ttest: 0.7636092\tbest: 0.7652250 (424)\ttotal: 55.6s\tremaining: 43.8s\n",
      "559:\tlearn: 0.8126665\ttest: 0.7634850\tbest: 0.7652250 (424)\ttotal: 55.7s\tremaining: 43.8s\n",
      "560:\tlearn: 0.8127197\ttest: 0.7637335\tbest: 0.7652250 (424)\ttotal: 55.8s\tremaining: 43.7s\n",
      "561:\tlearn: 0.8129328\ttest: 0.7633607\tbest: 0.7652250 (424)\ttotal: 56s\tremaining: 43.6s\n",
      "562:\tlearn: 0.8129328\ttest: 0.7631121\tbest: 0.7652250 (424)\ttotal: 56.1s\tremaining: 43.5s\n",
      "563:\tlearn: 0.8128795\ttest: 0.7631121\tbest: 0.7652250 (424)\ttotal: 56.2s\tremaining: 43.5s\n",
      "564:\tlearn: 0.8129328\ttest: 0.7631121\tbest: 0.7652250 (424)\ttotal: 56.3s\tremaining: 43.3s\n",
      "565:\tlearn: 0.8129328\ttest: 0.7631121\tbest: 0.7652250 (424)\ttotal: 56.4s\tremaining: 43.3s\n",
      "566:\tlearn: 0.8129328\ttest: 0.7631121\tbest: 0.7652250 (424)\ttotal: 56.6s\tremaining: 43.2s\n",
      "567:\tlearn: 0.8129860\ttest: 0.7632364\tbest: 0.7652250 (424)\ttotal: 56.7s\tremaining: 43.1s\n",
      "568:\tlearn: 0.8128795\ttest: 0.7633607\tbest: 0.7652250 (424)\ttotal: 56.8s\tremaining: 43.1s\n",
      "569:\tlearn: 0.8128795\ttest: 0.7633607\tbest: 0.7652250 (424)\ttotal: 57s\tremaining: 43s\n",
      "570:\tlearn: 0.8133589\ttest: 0.7628635\tbest: 0.7652250 (424)\ttotal: 57.1s\tremaining: 42.9s\n",
      "571:\tlearn: 0.8131458\ttest: 0.7634850\tbest: 0.7652250 (424)\ttotal: 57.2s\tremaining: 42.8s\n",
      "572:\tlearn: 0.8134122\ttest: 0.7636092\tbest: 0.7652250 (424)\ttotal: 57.4s\tremaining: 42.8s\n",
      "573:\tlearn: 0.8133589\ttest: 0.7636092\tbest: 0.7652250 (424)\ttotal: 57.5s\tremaining: 42.7s\n",
      "574:\tlearn: 0.8135187\ttest: 0.7636092\tbest: 0.7652250 (424)\ttotal: 57.7s\tremaining: 42.6s\n",
      "575:\tlearn: 0.8135187\ttest: 0.7637335\tbest: 0.7652250 (424)\ttotal: 57.8s\tremaining: 42.5s\n",
      "576:\tlearn: 0.8135720\ttest: 0.7637335\tbest: 0.7652250 (424)\ttotal: 57.9s\tremaining: 42.5s\n",
      "577:\tlearn: 0.8139448\ttest: 0.7629878\tbest: 0.7652250 (424)\ttotal: 58.1s\tremaining: 42.4s\n",
      "578:\tlearn: 0.8141046\ttest: 0.7631121\tbest: 0.7652250 (424)\ttotal: 58.2s\tremaining: 42.3s\n",
      "579:\tlearn: 0.8139981\ttest: 0.7631121\tbest: 0.7652250 (424)\ttotal: 58.4s\tremaining: 42.3s\n",
      "580:\tlearn: 0.8139448\ttest: 0.7631121\tbest: 0.7652250 (424)\ttotal: 58.5s\tremaining: 42.2s\n",
      "581:\tlearn: 0.8138383\ttest: 0.7632364\tbest: 0.7652250 (424)\ttotal: 58.7s\tremaining: 42.1s\n",
      "582:\tlearn: 0.8138916\ttest: 0.7629878\tbest: 0.7652250 (424)\ttotal: 58.8s\tremaining: 42s\n",
      "583:\tlearn: 0.8138916\ttest: 0.7632364\tbest: 0.7652250 (424)\ttotal: 58.9s\tremaining: 42s\n",
      "584:\tlearn: 0.8137850\ttest: 0.7632364\tbest: 0.7652250 (424)\ttotal: 59.1s\tremaining: 41.9s\n",
      "585:\tlearn: 0.8137850\ttest: 0.7632364\tbest: 0.7652250 (424)\ttotal: 59.2s\tremaining: 41.8s\n",
      "586:\tlearn: 0.8139981\ttest: 0.7633607\tbest: 0.7652250 (424)\ttotal: 59.3s\tremaining: 41.7s\n",
      "587:\tlearn: 0.8142111\ttest: 0.7633607\tbest: 0.7652250 (424)\ttotal: 59.4s\tremaining: 41.6s\n",
      "588:\tlearn: 0.8145840\ttest: 0.7633607\tbest: 0.7652250 (424)\ttotal: 59.5s\tremaining: 41.5s\n",
      "589:\tlearn: 0.8142111\ttest: 0.7637335\tbest: 0.7652250 (424)\ttotal: 59.7s\tremaining: 41.5s\n",
      "590:\tlearn: 0.8141046\ttest: 0.7637335\tbest: 0.7652250 (424)\ttotal: 59.8s\tremaining: 41.4s\n",
      "591:\tlearn: 0.8143709\ttest: 0.7637335\tbest: 0.7652250 (424)\ttotal: 59.9s\tremaining: 41.3s\n",
      "592:\tlearn: 0.8146373\ttest: 0.7633607\tbest: 0.7652250 (424)\ttotal: 1m\tremaining: 41.2s\n",
      "593:\tlearn: 0.8146905\ttest: 0.7632364\tbest: 0.7652250 (424)\ttotal: 1m\tremaining: 41.1s\n",
      "594:\tlearn: 0.8147438\ttest: 0.7633607\tbest: 0.7652250 (424)\ttotal: 1m\tremaining: 41.1s\n",
      "595:\tlearn: 0.8147438\ttest: 0.7636092\tbest: 0.7652250 (424)\ttotal: 1m\tremaining: 41s\n",
      "596:\tlearn: 0.8147971\ttest: 0.7636092\tbest: 0.7652250 (424)\ttotal: 1m\tremaining: 40.9s\n",
      "597:\tlearn: 0.8147971\ttest: 0.7638578\tbest: 0.7652250 (424)\ttotal: 1m\tremaining: 40.8s\n",
      "598:\tlearn: 0.8146905\ttest: 0.7639821\tbest: 0.7652250 (424)\ttotal: 1m\tremaining: 40.7s\n",
      "599:\tlearn: 0.8146905\ttest: 0.7638578\tbest: 0.7652250 (424)\ttotal: 1m\tremaining: 40.6s\n",
      "600:\tlearn: 0.8150634\ttest: 0.7636092\tbest: 0.7652250 (424)\ttotal: 1m\tremaining: 40.5s\n",
      "601:\tlearn: 0.8149569\ttest: 0.7637335\tbest: 0.7652250 (424)\ttotal: 1m 1s\tremaining: 40.4s\n",
      "602:\tlearn: 0.8150634\ttest: 0.7631121\tbest: 0.7652250 (424)\ttotal: 1m 1s\tremaining: 40.3s\n",
      "603:\tlearn: 0.8151167\ttest: 0.7627392\tbest: 0.7652250 (424)\ttotal: 1m 1s\tremaining: 40.1s\n",
      "604:\tlearn: 0.8153297\ttest: 0.7628635\tbest: 0.7652250 (424)\ttotal: 1m 1s\tremaining: 40s\n",
      "605:\tlearn: 0.8154362\ttest: 0.7633607\tbest: 0.7652250 (424)\ttotal: 1m 1s\tremaining: 39.9s\n",
      "606:\tlearn: 0.8153830\ttest: 0.7632364\tbest: 0.7652250 (424)\ttotal: 1m 1s\tremaining: 39.8s\n",
      "607:\tlearn: 0.8155428\ttest: 0.7632364\tbest: 0.7652250 (424)\ttotal: 1m 1s\tremaining: 39.7s\n",
      "608:\tlearn: 0.8157026\ttest: 0.7631121\tbest: 0.7652250 (424)\ttotal: 1m 1s\tremaining: 39.6s\n",
      "609:\tlearn: 0.8158091\ttest: 0.7632364\tbest: 0.7652250 (424)\ttotal: 1m 1s\tremaining: 39.5s\n",
      "610:\tlearn: 0.8158091\ttest: 0.7629878\tbest: 0.7652250 (424)\ttotal: 1m 1s\tremaining: 39.4s\n",
      "611:\tlearn: 0.8157558\ttest: 0.7628635\tbest: 0.7652250 (424)\ttotal: 1m 2s\tremaining: 39.3s\n",
      "612:\tlearn: 0.8157558\ttest: 0.7629878\tbest: 0.7652250 (424)\ttotal: 1m 2s\tremaining: 39.2s\n",
      "613:\tlearn: 0.8160754\ttest: 0.7631121\tbest: 0.7652250 (424)\ttotal: 1m 2s\tremaining: 39.1s\n",
      "614:\tlearn: 0.8162352\ttest: 0.7631121\tbest: 0.7652250 (424)\ttotal: 1m 2s\tremaining: 39s\n",
      "615:\tlearn: 0.8161287\ttest: 0.7631121\tbest: 0.7652250 (424)\ttotal: 1m 2s\tremaining: 38.9s\n",
      "616:\tlearn: 0.8163417\ttest: 0.7629878\tbest: 0.7652250 (424)\ttotal: 1m 2s\tremaining: 38.8s\n",
      "617:\tlearn: 0.8164483\ttest: 0.7633607\tbest: 0.7652250 (424)\ttotal: 1m 2s\tremaining: 38.7s\n",
      "618:\tlearn: 0.8165015\ttest: 0.7636092\tbest: 0.7652250 (424)\ttotal: 1m 2s\tremaining: 38.6s\n",
      "619:\tlearn: 0.8165548\ttest: 0.7636092\tbest: 0.7652250 (424)\ttotal: 1m 2s\tremaining: 38.4s\n",
      "620:\tlearn: 0.8167146\ttest: 0.7633607\tbest: 0.7652250 (424)\ttotal: 1m 2s\tremaining: 38.3s\n",
      "621:\tlearn: 0.8167146\ttest: 0.7631121\tbest: 0.7652250 (424)\ttotal: 1m 2s\tremaining: 38.2s\n",
      "622:\tlearn: 0.8165548\ttest: 0.7629878\tbest: 0.7652250 (424)\ttotal: 1m 2s\tremaining: 38.1s\n",
      "623:\tlearn: 0.8166081\ttest: 0.7626150\tbest: 0.7652250 (424)\ttotal: 1m 3s\tremaining: 38s\n",
      "624:\tlearn: 0.8169277\ttest: 0.7624907\tbest: 0.7652250 (424)\ttotal: 1m 3s\tremaining: 37.9s\n",
      "625:\tlearn: 0.8168744\ttest: 0.7626150\tbest: 0.7652250 (424)\ttotal: 1m 3s\tremaining: 37.9s\n",
      "626:\tlearn: 0.8168211\ttest: 0.7627392\tbest: 0.7652250 (424)\ttotal: 1m 3s\tremaining: 37.8s\n",
      "627:\tlearn: 0.8170342\ttest: 0.7624907\tbest: 0.7652250 (424)\ttotal: 1m 3s\tremaining: 37.7s\n",
      "628:\tlearn: 0.8170875\ttest: 0.7626150\tbest: 0.7652250 (424)\ttotal: 1m 3s\tremaining: 37.6s\n",
      "629:\tlearn: 0.8171407\ttest: 0.7624907\tbest: 0.7652250 (424)\ttotal: 1m 3s\tremaining: 37.5s\n",
      "630:\tlearn: 0.8169277\ttest: 0.7627392\tbest: 0.7652250 (424)\ttotal: 1m 4s\tremaining: 37.5s\n",
      "631:\tlearn: 0.8173538\ttest: 0.7631121\tbest: 0.7652250 (424)\ttotal: 1m 4s\tremaining: 37.4s\n",
      "632:\tlearn: 0.8173005\ttest: 0.7631121\tbest: 0.7652250 (424)\ttotal: 1m 4s\tremaining: 37.3s\n",
      "633:\tlearn: 0.8174071\ttest: 0.7631121\tbest: 0.7652250 (424)\ttotal: 1m 4s\tremaining: 37.2s\n",
      "634:\tlearn: 0.8173538\ttest: 0.7628635\tbest: 0.7652250 (424)\ttotal: 1m 4s\tremaining: 37.2s\n",
      "635:\tlearn: 0.8173538\ttest: 0.7629878\tbest: 0.7652250 (424)\ttotal: 1m 4s\tremaining: 37.1s\n",
      "636:\tlearn: 0.8174071\ttest: 0.7631121\tbest: 0.7652250 (424)\ttotal: 1m 4s\tremaining: 37s\n",
      "637:\tlearn: 0.8175668\ttest: 0.7634850\tbest: 0.7652250 (424)\ttotal: 1m 5s\tremaining: 36.9s\n",
      "638:\tlearn: 0.8177266\ttest: 0.7633607\tbest: 0.7652250 (424)\ttotal: 1m 5s\tremaining: 36.8s\n",
      "639:\tlearn: 0.8176734\ttest: 0.7633607\tbest: 0.7652250 (424)\ttotal: 1m 5s\tremaining: 36.7s\n",
      "640:\tlearn: 0.8177266\ttest: 0.7633607\tbest: 0.7652250 (424)\ttotal: 1m 5s\tremaining: 36.6s\n",
      "641:\tlearn: 0.8176201\ttest: 0.7634850\tbest: 0.7652250 (424)\ttotal: 1m 5s\tremaining: 36.5s\n",
      "642:\tlearn: 0.8179397\ttest: 0.7631121\tbest: 0.7652250 (424)\ttotal: 1m 5s\tremaining: 36.4s\n",
      "643:\tlearn: 0.8180995\ttest: 0.7634850\tbest: 0.7652250 (424)\ttotal: 1m 5s\tremaining: 36.3s\n",
      "644:\tlearn: 0.8180995\ttest: 0.7638578\tbest: 0.7652250 (424)\ttotal: 1m 5s\tremaining: 36.2s\n",
      "645:\tlearn: 0.8182593\ttest: 0.7636092\tbest: 0.7652250 (424)\ttotal: 1m 5s\tremaining: 36.2s\n",
      "646:\tlearn: 0.8180995\ttest: 0.7636092\tbest: 0.7652250 (424)\ttotal: 1m 6s\tremaining: 36.1s\n",
      "647:\tlearn: 0.8179397\ttest: 0.7639821\tbest: 0.7652250 (424)\ttotal: 1m 6s\tremaining: 36s\n",
      "648:\tlearn: 0.8180995\ttest: 0.7639821\tbest: 0.7652250 (424)\ttotal: 1m 6s\tremaining: 35.9s\n",
      "649:\tlearn: 0.8181528\ttest: 0.7638578\tbest: 0.7652250 (424)\ttotal: 1m 6s\tremaining: 35.8s\n",
      "650:\tlearn: 0.8182593\ttest: 0.7638578\tbest: 0.7652250 (424)\ttotal: 1m 6s\tremaining: 35.7s\n",
      "651:\tlearn: 0.8183126\ttest: 0.7638578\tbest: 0.7652250 (424)\ttotal: 1m 6s\tremaining: 35.6s\n"
     ]
    },
    {
     "name": "stdout",
     "output_type": "stream",
     "text": [
      "652:\tlearn: 0.8183126\ttest: 0.7637335\tbest: 0.7652250 (424)\ttotal: 1m 6s\tremaining: 35.5s\n",
      "653:\tlearn: 0.8186854\ttest: 0.7637335\tbest: 0.7652250 (424)\ttotal: 1m 6s\tremaining: 35.4s\n",
      "654:\tlearn: 0.8185256\ttest: 0.7636092\tbest: 0.7652250 (424)\ttotal: 1m 7s\tremaining: 35.3s\n",
      "655:\tlearn: 0.8186322\ttest: 0.7637335\tbest: 0.7652250 (424)\ttotal: 1m 7s\tremaining: 35.2s\n",
      "656:\tlearn: 0.8185789\ttest: 0.7634850\tbest: 0.7652250 (424)\ttotal: 1m 7s\tremaining: 35.2s\n",
      "657:\tlearn: 0.8185789\ttest: 0.7631121\tbest: 0.7652250 (424)\ttotal: 1m 7s\tremaining: 35.1s\n",
      "658:\tlearn: 0.8183658\ttest: 0.7629878\tbest: 0.7652250 (424)\ttotal: 1m 7s\tremaining: 35s\n",
      "659:\tlearn: 0.8185256\ttest: 0.7631121\tbest: 0.7652250 (424)\ttotal: 1m 7s\tremaining: 34.9s\n",
      "660:\tlearn: 0.8185256\ttest: 0.7629878\tbest: 0.7652250 (424)\ttotal: 1m 7s\tremaining: 34.7s\n",
      "661:\tlearn: 0.8186854\ttest: 0.7628635\tbest: 0.7652250 (424)\ttotal: 1m 7s\tremaining: 34.7s\n",
      "662:\tlearn: 0.8190050\ttest: 0.7632364\tbest: 0.7652250 (424)\ttotal: 1m 8s\tremaining: 34.6s\n",
      "663:\tlearn: 0.8190050\ttest: 0.7632364\tbest: 0.7652250 (424)\ttotal: 1m 8s\tremaining: 34.5s\n",
      "664:\tlearn: 0.8193246\ttest: 0.7633607\tbest: 0.7652250 (424)\ttotal: 1m 8s\tremaining: 34.4s\n",
      "665:\tlearn: 0.8193246\ttest: 0.7632364\tbest: 0.7652250 (424)\ttotal: 1m 8s\tremaining: 34.3s\n",
      "666:\tlearn: 0.8195377\ttest: 0.7633607\tbest: 0.7652250 (424)\ttotal: 1m 8s\tremaining: 34.2s\n",
      "667:\tlearn: 0.8199638\ttest: 0.7623664\tbest: 0.7652250 (424)\ttotal: 1m 8s\tremaining: 34.1s\n",
      "668:\tlearn: 0.8202301\ttest: 0.7628635\tbest: 0.7652250 (424)\ttotal: 1m 8s\tremaining: 34s\n",
      "669:\tlearn: 0.8203366\ttest: 0.7628635\tbest: 0.7652250 (424)\ttotal: 1m 8s\tremaining: 33.9s\n",
      "670:\tlearn: 0.8201768\ttest: 0.7627392\tbest: 0.7652250 (424)\ttotal: 1m 8s\tremaining: 33.8s\n",
      "671:\tlearn: 0.8205497\ttest: 0.7626150\tbest: 0.7652250 (424)\ttotal: 1m 9s\tremaining: 33.7s\n",
      "672:\tlearn: 0.8203899\ttest: 0.7624907\tbest: 0.7652250 (424)\ttotal: 1m 9s\tremaining: 33.6s\n",
      "673:\tlearn: 0.8203899\ttest: 0.7624907\tbest: 0.7652250 (424)\ttotal: 1m 9s\tremaining: 33.5s\n",
      "674:\tlearn: 0.8207095\ttest: 0.7623664\tbest: 0.7652250 (424)\ttotal: 1m 9s\tremaining: 33.4s\n",
      "675:\tlearn: 0.8207628\ttest: 0.7627392\tbest: 0.7652250 (424)\ttotal: 1m 9s\tremaining: 33.3s\n",
      "676:\tlearn: 0.8208160\ttest: 0.7629878\tbest: 0.7652250 (424)\ttotal: 1m 9s\tremaining: 33.2s\n",
      "677:\tlearn: 0.8210291\ttest: 0.7631121\tbest: 0.7652250 (424)\ttotal: 1m 9s\tremaining: 33.1s\n",
      "678:\tlearn: 0.8209758\ttest: 0.7631121\tbest: 0.7652250 (424)\ttotal: 1m 9s\tremaining: 33s\n",
      "679:\tlearn: 0.8209758\ttest: 0.7632364\tbest: 0.7652250 (424)\ttotal: 1m 9s\tremaining: 32.9s\n",
      "680:\tlearn: 0.8208160\ttest: 0.7634850\tbest: 0.7652250 (424)\ttotal: 1m 10s\tremaining: 32.8s\n",
      "681:\tlearn: 0.8208693\ttest: 0.7634850\tbest: 0.7652250 (424)\ttotal: 1m 10s\tremaining: 32.7s\n",
      "682:\tlearn: 0.8207095\ttest: 0.7633607\tbest: 0.7652250 (424)\ttotal: 1m 10s\tremaining: 32.6s\n",
      "683:\tlearn: 0.8207095\ttest: 0.7632364\tbest: 0.7652250 (424)\ttotal: 1m 10s\tremaining: 32.5s\n",
      "684:\tlearn: 0.8208160\ttest: 0.7633607\tbest: 0.7652250 (424)\ttotal: 1m 10s\tremaining: 32.5s\n",
      "685:\tlearn: 0.8209758\ttest: 0.7634850\tbest: 0.7652250 (424)\ttotal: 1m 10s\tremaining: 32.4s\n",
      "686:\tlearn: 0.8210291\ttest: 0.7634850\tbest: 0.7652250 (424)\ttotal: 1m 10s\tremaining: 32.3s\n",
      "687:\tlearn: 0.8209758\ttest: 0.7629878\tbest: 0.7652250 (424)\ttotal: 1m 10s\tremaining: 32.1s\n",
      "688:\tlearn: 0.8211356\ttest: 0.7623664\tbest: 0.7652250 (424)\ttotal: 1m 11s\tremaining: 32.1s\n",
      "689:\tlearn: 0.8211889\ttest: 0.7623664\tbest: 0.7652250 (424)\ttotal: 1m 11s\tremaining: 32s\n",
      "690:\tlearn: 0.8215085\ttest: 0.7623664\tbest: 0.7652250 (424)\ttotal: 1m 11s\tremaining: 31.9s\n",
      "691:\tlearn: 0.8214552\ttest: 0.7623664\tbest: 0.7652250 (424)\ttotal: 1m 11s\tremaining: 31.8s\n",
      "692:\tlearn: 0.8214019\ttest: 0.7631121\tbest: 0.7652250 (424)\ttotal: 1m 11s\tremaining: 31.7s\n",
      "693:\tlearn: 0.8215085\ttest: 0.7634850\tbest: 0.7652250 (424)\ttotal: 1m 11s\tremaining: 31.6s\n",
      "694:\tlearn: 0.8216683\ttest: 0.7638578\tbest: 0.7652250 (424)\ttotal: 1m 11s\tremaining: 31.5s\n",
      "695:\tlearn: 0.8218813\ttest: 0.7637335\tbest: 0.7652250 (424)\ttotal: 1m 11s\tremaining: 31.4s\n",
      "696:\tlearn: 0.8215617\ttest: 0.7646035\tbest: 0.7652250 (424)\ttotal: 1m 11s\tremaining: 31.3s\n",
      "697:\tlearn: 0.8216683\ttest: 0.7646035\tbest: 0.7652250 (424)\ttotal: 1m 12s\tremaining: 31.2s\n",
      "698:\tlearn: 0.8215085\ttest: 0.7643550\tbest: 0.7652250 (424)\ttotal: 1m 12s\tremaining: 31s\n",
      "699:\tlearn: 0.8216150\ttest: 0.7643550\tbest: 0.7652250 (424)\ttotal: 1m 12s\tremaining: 31s\n",
      "700:\tlearn: 0.8213487\ttest: 0.7641064\tbest: 0.7652250 (424)\ttotal: 1m 12s\tremaining: 30.9s\n",
      "701:\tlearn: 0.8216150\ttest: 0.7643550\tbest: 0.7652250 (424)\ttotal: 1m 12s\tremaining: 30.8s\n",
      "702:\tlearn: 0.8216150\ttest: 0.7643550\tbest: 0.7652250 (424)\ttotal: 1m 12s\tremaining: 30.7s\n",
      "703:\tlearn: 0.8220944\ttest: 0.7639821\tbest: 0.7652250 (424)\ttotal: 1m 12s\tremaining: 30.6s\n",
      "704:\tlearn: 0.8220944\ttest: 0.7638578\tbest: 0.7652250 (424)\ttotal: 1m 12s\tremaining: 30.5s\n",
      "705:\tlearn: 0.8220411\ttest: 0.7638578\tbest: 0.7652250 (424)\ttotal: 1m 13s\tremaining: 30.4s\n",
      "706:\tlearn: 0.8224140\ttest: 0.7639821\tbest: 0.7652250 (424)\ttotal: 1m 13s\tremaining: 30.3s\n",
      "707:\tlearn: 0.8223074\ttest: 0.7636092\tbest: 0.7652250 (424)\ttotal: 1m 13s\tremaining: 30.2s\n",
      "708:\tlearn: 0.8223074\ttest: 0.7634850\tbest: 0.7652250 (424)\ttotal: 1m 13s\tremaining: 30.1s\n",
      "709:\tlearn: 0.8222542\ttest: 0.7633607\tbest: 0.7652250 (424)\ttotal: 1m 13s\tremaining: 30s\n",
      "710:\tlearn: 0.8223607\ttest: 0.7632364\tbest: 0.7652250 (424)\ttotal: 1m 13s\tremaining: 29.9s\n",
      "711:\tlearn: 0.8223074\ttest: 0.7636092\tbest: 0.7652250 (424)\ttotal: 1m 13s\tremaining: 29.8s\n",
      "712:\tlearn: 0.8223607\ttest: 0.7637335\tbest: 0.7652250 (424)\ttotal: 1m 13s\tremaining: 29.7s\n",
      "713:\tlearn: 0.8223607\ttest: 0.7637335\tbest: 0.7652250 (424)\ttotal: 1m 13s\tremaining: 29.6s\n",
      "714:\tlearn: 0.8223607\ttest: 0.7637335\tbest: 0.7652250 (424)\ttotal: 1m 13s\tremaining: 29.5s\n",
      "715:\tlearn: 0.8229466\ttest: 0.7634850\tbest: 0.7652250 (424)\ttotal: 1m 14s\tremaining: 29.4s\n",
      "716:\tlearn: 0.8228934\ttest: 0.7634850\tbest: 0.7652250 (424)\ttotal: 1m 14s\tremaining: 29.3s\n",
      "717:\tlearn: 0.8227868\ttest: 0.7637335\tbest: 0.7652250 (424)\ttotal: 1m 14s\tremaining: 29.2s\n",
      "718:\tlearn: 0.8230532\ttest: 0.7638578\tbest: 0.7652250 (424)\ttotal: 1m 14s\tremaining: 29.1s\n",
      "719:\tlearn: 0.8229999\ttest: 0.7634850\tbest: 0.7652250 (424)\ttotal: 1m 14s\tremaining: 29s\n",
      "720:\tlearn: 0.8229466\ttest: 0.7636092\tbest: 0.7652250 (424)\ttotal: 1m 14s\tremaining: 28.9s\n",
      "721:\tlearn: 0.8230532\ttest: 0.7638578\tbest: 0.7652250 (424)\ttotal: 1m 14s\tremaining: 28.8s\n",
      "722:\tlearn: 0.8232130\ttest: 0.7641064\tbest: 0.7652250 (424)\ttotal: 1m 14s\tremaining: 28.7s\n",
      "723:\tlearn: 0.8233195\ttest: 0.7641064\tbest: 0.7652250 (424)\ttotal: 1m 15s\tremaining: 28.6s\n",
      "724:\tlearn: 0.8231064\ttest: 0.7638578\tbest: 0.7652250 (424)\ttotal: 1m 15s\tremaining: 28.5s\n",
      "725:\tlearn: 0.8231597\ttest: 0.7643550\tbest: 0.7652250 (424)\ttotal: 1m 15s\tremaining: 28.4s\n",
      "726:\tlearn: 0.8233195\ttest: 0.7644792\tbest: 0.7652250 (424)\ttotal: 1m 15s\tremaining: 28.3s\n",
      "727:\tlearn: 0.8233727\ttest: 0.7646035\tbest: 0.7652250 (424)\ttotal: 1m 15s\tremaining: 28.2s\n",
      "728:\tlearn: 0.8234260\ttest: 0.7641064\tbest: 0.7652250 (424)\ttotal: 1m 15s\tremaining: 28.1s\n",
      "729:\tlearn: 0.8233727\ttest: 0.7638578\tbest: 0.7652250 (424)\ttotal: 1m 15s\tremaining: 28.1s\n",
      "730:\tlearn: 0.8235858\ttest: 0.7639821\tbest: 0.7652250 (424)\ttotal: 1m 15s\tremaining: 28s\n",
      "731:\tlearn: 0.8235325\ttest: 0.7641064\tbest: 0.7652250 (424)\ttotal: 1m 16s\tremaining: 27.9s\n",
      "732:\tlearn: 0.8233727\ttest: 0.7641064\tbest: 0.7652250 (424)\ttotal: 1m 16s\tremaining: 27.8s\n",
      "733:\tlearn: 0.8232130\ttest: 0.7646035\tbest: 0.7652250 (424)\ttotal: 1m 16s\tremaining: 27.7s\n",
      "734:\tlearn: 0.8233727\ttest: 0.7642307\tbest: 0.7652250 (424)\ttotal: 1m 16s\tremaining: 27.6s\n",
      "735:\tlearn: 0.8233195\ttest: 0.7644792\tbest: 0.7652250 (424)\ttotal: 1m 16s\tremaining: 27.5s\n",
      "736:\tlearn: 0.8236923\ttest: 0.7639821\tbest: 0.7652250 (424)\ttotal: 1m 16s\tremaining: 27.4s\n",
      "737:\tlearn: 0.8237989\ttest: 0.7639821\tbest: 0.7652250 (424)\ttotal: 1m 17s\tremaining: 27.3s\n",
      "738:\tlearn: 0.8239054\ttest: 0.7641064\tbest: 0.7652250 (424)\ttotal: 1m 17s\tremaining: 27.2s\n",
      "739:\tlearn: 0.8239054\ttest: 0.7636092\tbest: 0.7652250 (424)\ttotal: 1m 17s\tremaining: 27.1s\n",
      "740:\tlearn: 0.8237456\ttest: 0.7634850\tbest: 0.7652250 (424)\ttotal: 1m 17s\tremaining: 27.1s\n",
      "741:\tlearn: 0.8237989\ttest: 0.7637335\tbest: 0.7652250 (424)\ttotal: 1m 17s\tremaining: 27s\n",
      "742:\tlearn: 0.8240652\ttest: 0.7638578\tbest: 0.7652250 (424)\ttotal: 1m 17s\tremaining: 26.9s\n",
      "743:\tlearn: 0.8240652\ttest: 0.7637335\tbest: 0.7652250 (424)\ttotal: 1m 17s\tremaining: 26.7s\n"
     ]
    },
    {
     "name": "stdout",
     "output_type": "stream",
     "text": [
      "744:\tlearn: 0.8243315\ttest: 0.7637335\tbest: 0.7652250 (424)\ttotal: 1m 17s\tremaining: 26.7s\n",
      "745:\tlearn: 0.8241717\ttest: 0.7639821\tbest: 0.7652250 (424)\ttotal: 1m 18s\tremaining: 26.6s\n",
      "746:\tlearn: 0.8242783\ttest: 0.7638578\tbest: 0.7652250 (424)\ttotal: 1m 18s\tremaining: 26.4s\n",
      "747:\tlearn: 0.8243848\ttest: 0.7636092\tbest: 0.7652250 (424)\ttotal: 1m 18s\tremaining: 26.3s\n",
      "748:\tlearn: 0.8242783\ttest: 0.7637335\tbest: 0.7652250 (424)\ttotal: 1m 18s\tremaining: 26.2s\n",
      "749:\tlearn: 0.8241717\ttest: 0.7636092\tbest: 0.7652250 (424)\ttotal: 1m 18s\tremaining: 26.1s\n",
      "750:\tlearn: 0.8242783\ttest: 0.7634850\tbest: 0.7652250 (424)\ttotal: 1m 18s\tremaining: 26s\n",
      "751:\tlearn: 0.8241717\ttest: 0.7634850\tbest: 0.7652250 (424)\ttotal: 1m 18s\tremaining: 25.9s\n",
      "752:\tlearn: 0.8241185\ttest: 0.7639821\tbest: 0.7652250 (424)\ttotal: 1m 18s\tremaining: 25.8s\n",
      "753:\tlearn: 0.8241717\ttest: 0.7639821\tbest: 0.7652250 (424)\ttotal: 1m 18s\tremaining: 25.7s\n",
      "754:\tlearn: 0.8243315\ttest: 0.7638578\tbest: 0.7652250 (424)\ttotal: 1m 19s\tremaining: 25.6s\n",
      "755:\tlearn: 0.8243848\ttest: 0.7638578\tbest: 0.7652250 (424)\ttotal: 1m 19s\tremaining: 25.5s\n",
      "756:\tlearn: 0.8244381\ttest: 0.7644792\tbest: 0.7652250 (424)\ttotal: 1m 19s\tremaining: 25.4s\n",
      "757:\tlearn: 0.8246511\ttest: 0.7644792\tbest: 0.7652250 (424)\ttotal: 1m 19s\tremaining: 25.3s\n",
      "758:\tlearn: 0.8251838\ttest: 0.7644792\tbest: 0.7652250 (424)\ttotal: 1m 19s\tremaining: 25.2s\n",
      "759:\tlearn: 0.8253968\ttest: 0.7641064\tbest: 0.7652250 (424)\ttotal: 1m 19s\tremaining: 25.1s\n",
      "760:\tlearn: 0.8258762\ttest: 0.7639821\tbest: 0.7652250 (424)\ttotal: 1m 19s\tremaining: 25s\n",
      "761:\tlearn: 0.8259295\ttest: 0.7642307\tbest: 0.7652250 (424)\ttotal: 1m 19s\tremaining: 24.9s\n",
      "762:\tlearn: 0.8257164\ttest: 0.7642307\tbest: 0.7652250 (424)\ttotal: 1m 19s\tremaining: 24.8s\n",
      "763:\tlearn: 0.8258762\ttest: 0.7636092\tbest: 0.7652250 (424)\ttotal: 1m 20s\tremaining: 24.7s\n",
      "764:\tlearn: 0.8260893\ttest: 0.7637335\tbest: 0.7652250 (424)\ttotal: 1m 20s\tremaining: 24.6s\n",
      "765:\tlearn: 0.8263023\ttest: 0.7638578\tbest: 0.7652250 (424)\ttotal: 1m 20s\tremaining: 24.5s\n",
      "766:\tlearn: 0.8264621\ttest: 0.7636092\tbest: 0.7652250 (424)\ttotal: 1m 20s\tremaining: 24.4s\n",
      "767:\tlearn: 0.8266219\ttest: 0.7638578\tbest: 0.7652250 (424)\ttotal: 1m 20s\tremaining: 24.3s\n",
      "768:\tlearn: 0.8265687\ttest: 0.7636092\tbest: 0.7652250 (424)\ttotal: 1m 20s\tremaining: 24.2s\n",
      "769:\tlearn: 0.8265154\ttest: 0.7638578\tbest: 0.7652250 (424)\ttotal: 1m 20s\tremaining: 24.1s\n",
      "770:\tlearn: 0.8263556\ttest: 0.7638578\tbest: 0.7652250 (424)\ttotal: 1m 20s\tremaining: 24s\n",
      "771:\tlearn: 0.8264621\ttest: 0.7639821\tbest: 0.7652250 (424)\ttotal: 1m 20s\tremaining: 23.9s\n",
      "772:\tlearn: 0.8264621\ttest: 0.7639821\tbest: 0.7652250 (424)\ttotal: 1m 21s\tremaining: 23.8s\n",
      "773:\tlearn: 0.8267817\ttest: 0.7636092\tbest: 0.7652250 (424)\ttotal: 1m 21s\tremaining: 23.7s\n",
      "774:\tlearn: 0.8266219\ttest: 0.7633607\tbest: 0.7652250 (424)\ttotal: 1m 21s\tremaining: 23.6s\n",
      "775:\tlearn: 0.8268882\ttest: 0.7633607\tbest: 0.7652250 (424)\ttotal: 1m 21s\tremaining: 23.5s\n",
      "776:\tlearn: 0.8268882\ttest: 0.7632364\tbest: 0.7652250 (424)\ttotal: 1m 21s\tremaining: 23.4s\n",
      "777:\tlearn: 0.8271013\ttest: 0.7634850\tbest: 0.7652250 (424)\ttotal: 1m 21s\tremaining: 23.3s\n",
      "778:\tlearn: 0.8271546\ttest: 0.7634850\tbest: 0.7652250 (424)\ttotal: 1m 21s\tremaining: 23.1s\n",
      "779:\tlearn: 0.8271546\ttest: 0.7634850\tbest: 0.7652250 (424)\ttotal: 1m 21s\tremaining: 23s\n",
      "780:\tlearn: 0.8271546\ttest: 0.7634850\tbest: 0.7652250 (424)\ttotal: 1m 21s\tremaining: 22.9s\n",
      "781:\tlearn: 0.8271546\ttest: 0.7637335\tbest: 0.7652250 (424)\ttotal: 1m 21s\tremaining: 22.8s\n",
      "782:\tlearn: 0.8275274\ttest: 0.7637335\tbest: 0.7652250 (424)\ttotal: 1m 21s\tremaining: 22.7s\n",
      "783:\tlearn: 0.8274742\ttest: 0.7633607\tbest: 0.7652250 (424)\ttotal: 1m 22s\tremaining: 22.6s\n",
      "784:\tlearn: 0.8276340\ttest: 0.7636092\tbest: 0.7652250 (424)\ttotal: 1m 22s\tremaining: 22.5s\n",
      "785:\tlearn: 0.8275274\ttest: 0.7637335\tbest: 0.7652250 (424)\ttotal: 1m 22s\tremaining: 22.4s\n",
      "786:\tlearn: 0.8277405\ttest: 0.7636092\tbest: 0.7652250 (424)\ttotal: 1m 22s\tremaining: 22.4s\n",
      "787:\tlearn: 0.8279003\ttest: 0.7633607\tbest: 0.7652250 (424)\ttotal: 1m 22s\tremaining: 22.3s\n",
      "788:\tlearn: 0.8278470\ttest: 0.7633607\tbest: 0.7652250 (424)\ttotal: 1m 22s\tremaining: 22.2s\n",
      "789:\tlearn: 0.8279003\ttest: 0.7632364\tbest: 0.7652250 (424)\ttotal: 1m 23s\tremaining: 22.1s\n",
      "790:\tlearn: 0.8279003\ttest: 0.7632364\tbest: 0.7652250 (424)\ttotal: 1m 23s\tremaining: 22s\n",
      "791:\tlearn: 0.8280068\ttest: 0.7634850\tbest: 0.7652250 (424)\ttotal: 1m 23s\tremaining: 21.9s\n",
      "792:\tlearn: 0.8280601\ttest: 0.7633607\tbest: 0.7652250 (424)\ttotal: 1m 23s\tremaining: 21.8s\n",
      "793:\tlearn: 0.8280068\ttest: 0.7633607\tbest: 0.7652250 (424)\ttotal: 1m 23s\tremaining: 21.7s\n",
      "794:\tlearn: 0.8281666\ttest: 0.7632364\tbest: 0.7652250 (424)\ttotal: 1m 23s\tremaining: 21.6s\n",
      "795:\tlearn: 0.8282731\ttest: 0.7633607\tbest: 0.7652250 (424)\ttotal: 1m 23s\tremaining: 21.5s\n",
      "796:\tlearn: 0.8284329\ttest: 0.7633607\tbest: 0.7652250 (424)\ttotal: 1m 24s\tremaining: 21.4s\n",
      "797:\tlearn: 0.8286993\ttest: 0.7636092\tbest: 0.7652250 (424)\ttotal: 1m 24s\tremaining: 21.3s\n",
      "798:\tlearn: 0.8286993\ttest: 0.7634850\tbest: 0.7652250 (424)\ttotal: 1m 24s\tremaining: 21.2s\n",
      "799:\tlearn: 0.8289656\ttest: 0.7637335\tbest: 0.7652250 (424)\ttotal: 1m 24s\tremaining: 21.1s\n",
      "800:\tlearn: 0.8288591\ttest: 0.7636092\tbest: 0.7652250 (424)\ttotal: 1m 24s\tremaining: 21s\n",
      "801:\tlearn: 0.8288058\ttest: 0.7639821\tbest: 0.7652250 (424)\ttotal: 1m 24s\tremaining: 20.9s\n",
      "802:\tlearn: 0.8289656\ttest: 0.7641064\tbest: 0.7652250 (424)\ttotal: 1m 24s\tremaining: 20.8s\n",
      "803:\tlearn: 0.8291254\ttest: 0.7634850\tbest: 0.7652250 (424)\ttotal: 1m 24s\tremaining: 20.7s\n",
      "804:\tlearn: 0.8292852\ttest: 0.7634850\tbest: 0.7652250 (424)\ttotal: 1m 24s\tremaining: 20.6s\n",
      "805:\tlearn: 0.8291787\ttest: 0.7639821\tbest: 0.7652250 (424)\ttotal: 1m 25s\tremaining: 20.5s\n",
      "806:\tlearn: 0.8294450\ttest: 0.7636092\tbest: 0.7652250 (424)\ttotal: 1m 25s\tremaining: 20.4s\n",
      "807:\tlearn: 0.8294982\ttest: 0.7632364\tbest: 0.7652250 (424)\ttotal: 1m 25s\tremaining: 20.3s\n",
      "808:\tlearn: 0.8293917\ttest: 0.7632364\tbest: 0.7652250 (424)\ttotal: 1m 25s\tremaining: 20.2s\n",
      "809:\tlearn: 0.8292319\ttest: 0.7633607\tbest: 0.7652250 (424)\ttotal: 1m 25s\tremaining: 20.1s\n",
      "810:\tlearn: 0.8298711\ttest: 0.7636092\tbest: 0.7652250 (424)\ttotal: 1m 25s\tremaining: 20s\n",
      "811:\tlearn: 0.8298711\ttest: 0.7636092\tbest: 0.7652250 (424)\ttotal: 1m 25s\tremaining: 19.9s\n",
      "812:\tlearn: 0.8299244\ttest: 0.7636092\tbest: 0.7652250 (424)\ttotal: 1m 26s\tremaining: 19.8s\n",
      "813:\tlearn: 0.8297113\ttest: 0.7632364\tbest: 0.7652250 (424)\ttotal: 1m 26s\tremaining: 19.7s\n",
      "814:\tlearn: 0.8299776\ttest: 0.7631121\tbest: 0.7652250 (424)\ttotal: 1m 26s\tremaining: 19.6s\n",
      "815:\tlearn: 0.8301907\ttest: 0.7631121\tbest: 0.7652250 (424)\ttotal: 1m 26s\tremaining: 19.5s\n",
      "816:\tlearn: 0.8301907\ttest: 0.7632364\tbest: 0.7652250 (424)\ttotal: 1m 26s\tremaining: 19.3s\n",
      "817:\tlearn: 0.8303505\ttest: 0.7632364\tbest: 0.7652250 (424)\ttotal: 1m 26s\tremaining: 19.2s\n",
      "818:\tlearn: 0.8305103\ttest: 0.7631121\tbest: 0.7652250 (424)\ttotal: 1m 26s\tremaining: 19.1s\n",
      "819:\tlearn: 0.8307766\ttest: 0.7629878\tbest: 0.7652250 (424)\ttotal: 1m 26s\tremaining: 19s\n",
      "820:\tlearn: 0.8308299\ttest: 0.7629878\tbest: 0.7652250 (424)\ttotal: 1m 26s\tremaining: 18.9s\n",
      "821:\tlearn: 0.8307766\ttest: 0.7631121\tbest: 0.7652250 (424)\ttotal: 1m 26s\tremaining: 18.8s\n",
      "822:\tlearn: 0.8307766\ttest: 0.7633607\tbest: 0.7652250 (424)\ttotal: 1m 26s\tremaining: 18.7s\n",
      "823:\tlearn: 0.8307233\ttest: 0.7632364\tbest: 0.7652250 (424)\ttotal: 1m 27s\tremaining: 18.6s\n",
      "824:\tlearn: 0.8307766\ttest: 0.7626150\tbest: 0.7652250 (424)\ttotal: 1m 27s\tremaining: 18.5s\n",
      "825:\tlearn: 0.8308299\ttest: 0.7627392\tbest: 0.7652250 (424)\ttotal: 1m 27s\tremaining: 18.4s\n",
      "826:\tlearn: 0.8309364\ttest: 0.7624907\tbest: 0.7652250 (424)\ttotal: 1m 27s\tremaining: 18.3s\n",
      "827:\tlearn: 0.8311495\ttest: 0.7624907\tbest: 0.7652250 (424)\ttotal: 1m 27s\tremaining: 18.2s\n",
      "828:\tlearn: 0.8313093\ttest: 0.7626150\tbest: 0.7652250 (424)\ttotal: 1m 27s\tremaining: 18s\n",
      "829:\tlearn: 0.8313625\ttest: 0.7626150\tbest: 0.7652250 (424)\ttotal: 1m 27s\tremaining: 17.9s\n",
      "830:\tlearn: 0.8313625\ttest: 0.7623664\tbest: 0.7652250 (424)\ttotal: 1m 27s\tremaining: 17.8s\n",
      "831:\tlearn: 0.8312027\ttest: 0.7624907\tbest: 0.7652250 (424)\ttotal: 1m 27s\tremaining: 17.7s\n",
      "832:\tlearn: 0.8313625\ttest: 0.7627392\tbest: 0.7652250 (424)\ttotal: 1m 27s\tremaining: 17.6s\n",
      "833:\tlearn: 0.8315223\ttest: 0.7624907\tbest: 0.7652250 (424)\ttotal: 1m 28s\tremaining: 17.5s\n",
      "834:\tlearn: 0.8317354\ttest: 0.7624907\tbest: 0.7652250 (424)\ttotal: 1m 28s\tremaining: 17.4s\n",
      "835:\tlearn: 0.8317354\ttest: 0.7623664\tbest: 0.7652250 (424)\ttotal: 1m 28s\tremaining: 17.3s\n"
     ]
    },
    {
     "name": "stdout",
     "output_type": "stream",
     "text": [
      "836:\tlearn: 0.8320017\ttest: 0.7624907\tbest: 0.7652250 (424)\ttotal: 1m 28s\tremaining: 17.2s\n",
      "837:\tlearn: 0.8320550\ttest: 0.7623664\tbest: 0.7652250 (424)\ttotal: 1m 28s\tremaining: 17.1s\n",
      "838:\tlearn: 0.8320550\ttest: 0.7628635\tbest: 0.7652250 (424)\ttotal: 1m 28s\tremaining: 17s\n",
      "839:\tlearn: 0.8320550\ttest: 0.7628635\tbest: 0.7652250 (424)\ttotal: 1m 28s\tremaining: 16.9s\n",
      "840:\tlearn: 0.8317886\ttest: 0.7628635\tbest: 0.7652250 (424)\ttotal: 1m 28s\tremaining: 16.8s\n",
      "841:\tlearn: 0.8318419\ttest: 0.7627392\tbest: 0.7652250 (424)\ttotal: 1m 29s\tremaining: 16.7s\n",
      "842:\tlearn: 0.8318419\ttest: 0.7626150\tbest: 0.7652250 (424)\ttotal: 1m 29s\tremaining: 16.6s\n",
      "843:\tlearn: 0.8320017\ttest: 0.7626150\tbest: 0.7652250 (424)\ttotal: 1m 29s\tremaining: 16.5s\n",
      "844:\tlearn: 0.8315756\ttest: 0.7628635\tbest: 0.7652250 (424)\ttotal: 1m 29s\tremaining: 16.4s\n",
      "845:\tlearn: 0.8317886\ttest: 0.7629878\tbest: 0.7652250 (424)\ttotal: 1m 29s\tremaining: 16.3s\n",
      "846:\tlearn: 0.8318419\ttest: 0.7631121\tbest: 0.7652250 (424)\ttotal: 1m 29s\tremaining: 16.2s\n",
      "847:\tlearn: 0.8318419\ttest: 0.7631121\tbest: 0.7652250 (424)\ttotal: 1m 29s\tremaining: 16.1s\n",
      "848:\tlearn: 0.8318952\ttest: 0.7633607\tbest: 0.7652250 (424)\ttotal: 1m 29s\tremaining: 16s\n",
      "849:\tlearn: 0.8320550\ttest: 0.7631121\tbest: 0.7652250 (424)\ttotal: 1m 29s\tremaining: 15.9s\n",
      "850:\tlearn: 0.8321082\ttest: 0.7632364\tbest: 0.7652250 (424)\ttotal: 1m 30s\tremaining: 15.8s\n",
      "851:\tlearn: 0.8320017\ttest: 0.7628635\tbest: 0.7652250 (424)\ttotal: 1m 30s\tremaining: 15.7s\n",
      "852:\tlearn: 0.8320550\ttest: 0.7628635\tbest: 0.7652250 (424)\ttotal: 1m 30s\tremaining: 15.5s\n",
      "853:\tlearn: 0.8323213\ttest: 0.7628635\tbest: 0.7652250 (424)\ttotal: 1m 30s\tremaining: 15.4s\n",
      "854:\tlearn: 0.8322680\ttest: 0.7628635\tbest: 0.7652250 (424)\ttotal: 1m 30s\tremaining: 15.3s\n",
      "855:\tlearn: 0.8323213\ttest: 0.7628635\tbest: 0.7652250 (424)\ttotal: 1m 30s\tremaining: 15.2s\n",
      "856:\tlearn: 0.8323746\ttest: 0.7628635\tbest: 0.7652250 (424)\ttotal: 1m 30s\tremaining: 15.1s\n",
      "857:\tlearn: 0.8324811\ttest: 0.7628635\tbest: 0.7652250 (424)\ttotal: 1m 30s\tremaining: 15s\n",
      "858:\tlearn: 0.8324278\ttest: 0.7628635\tbest: 0.7652250 (424)\ttotal: 1m 30s\tremaining: 14.9s\n",
      "859:\tlearn: 0.8324278\ttest: 0.7627392\tbest: 0.7652250 (424)\ttotal: 1m 30s\tremaining: 14.8s\n",
      "860:\tlearn: 0.8324811\ttest: 0.7627392\tbest: 0.7652250 (424)\ttotal: 1m 30s\tremaining: 14.7s\n",
      "861:\tlearn: 0.8327474\ttest: 0.7624907\tbest: 0.7652250 (424)\ttotal: 1m 31s\tremaining: 14.6s\n",
      "862:\tlearn: 0.8329605\ttest: 0.7627392\tbest: 0.7652250 (424)\ttotal: 1m 31s\tremaining: 14.5s\n",
      "863:\tlearn: 0.8329605\ttest: 0.7624907\tbest: 0.7652250 (424)\ttotal: 1m 31s\tremaining: 14.4s\n",
      "864:\tlearn: 0.8329072\ttest: 0.7626150\tbest: 0.7652250 (424)\ttotal: 1m 31s\tremaining: 14.2s\n",
      "865:\tlearn: 0.8332268\ttest: 0.7624907\tbest: 0.7652250 (424)\ttotal: 1m 31s\tremaining: 14.1s\n",
      "866:\tlearn: 0.8333866\ttest: 0.7624907\tbest: 0.7652250 (424)\ttotal: 1m 31s\tremaining: 14s\n",
      "867:\tlearn: 0.8335464\ttest: 0.7624907\tbest: 0.7652250 (424)\ttotal: 1m 31s\tremaining: 13.9s\n",
      "868:\tlearn: 0.8335464\ttest: 0.7622421\tbest: 0.7652250 (424)\ttotal: 1m 31s\tremaining: 13.8s\n",
      "869:\tlearn: 0.8335997\ttest: 0.7622421\tbest: 0.7652250 (424)\ttotal: 1m 31s\tremaining: 13.7s\n",
      "870:\tlearn: 0.8337595\ttest: 0.7622421\tbest: 0.7652250 (424)\ttotal: 1m 31s\tremaining: 13.6s\n",
      "871:\tlearn: 0.8335997\ttest: 0.7617450\tbest: 0.7652250 (424)\ttotal: 1m 32s\tremaining: 13.5s\n",
      "872:\tlearn: 0.8343454\ttest: 0.7618693\tbest: 0.7652250 (424)\ttotal: 1m 32s\tremaining: 13.4s\n",
      "873:\tlearn: 0.8346117\ttest: 0.7616207\tbest: 0.7652250 (424)\ttotal: 1m 32s\tremaining: 13.3s\n",
      "874:\tlearn: 0.8341856\ttest: 0.7621178\tbest: 0.7652250 (424)\ttotal: 1m 32s\tremaining: 13.2s\n",
      "875:\tlearn: 0.8343454\ttest: 0.7618693\tbest: 0.7652250 (424)\ttotal: 1m 32s\tremaining: 13.1s\n",
      "876:\tlearn: 0.8345052\ttest: 0.7617450\tbest: 0.7652250 (424)\ttotal: 1m 32s\tremaining: 13s\n",
      "877:\tlearn: 0.8342921\ttest: 0.7617450\tbest: 0.7652250 (424)\ttotal: 1m 32s\tremaining: 12.9s\n",
      "878:\tlearn: 0.8343986\ttest: 0.7619935\tbest: 0.7652250 (424)\ttotal: 1m 32s\tremaining: 12.8s\n",
      "879:\tlearn: 0.8343986\ttest: 0.7617450\tbest: 0.7652250 (424)\ttotal: 1m 32s\tremaining: 12.7s\n",
      "880:\tlearn: 0.8345584\ttest: 0.7616207\tbest: 0.7652250 (424)\ttotal: 1m 33s\tremaining: 12.6s\n",
      "881:\tlearn: 0.8347715\ttest: 0.7618693\tbest: 0.7652250 (424)\ttotal: 1m 33s\tremaining: 12.5s\n",
      "882:\tlearn: 0.8348780\ttest: 0.7621178\tbest: 0.7652250 (424)\ttotal: 1m 33s\tremaining: 12.4s\n",
      "883:\tlearn: 0.8350911\ttest: 0.7621178\tbest: 0.7652250 (424)\ttotal: 1m 33s\tremaining: 12.3s\n",
      "884:\tlearn: 0.8352509\ttest: 0.7621178\tbest: 0.7652250 (424)\ttotal: 1m 33s\tremaining: 12.2s\n",
      "885:\tlearn: 0.8352509\ttest: 0.7621178\tbest: 0.7652250 (424)\ttotal: 1m 33s\tremaining: 12.1s\n",
      "886:\tlearn: 0.8353574\ttest: 0.7622421\tbest: 0.7652250 (424)\ttotal: 1m 33s\tremaining: 12s\n",
      "887:\tlearn: 0.8351976\ttest: 0.7621178\tbest: 0.7652250 (424)\ttotal: 1m 34s\tremaining: 11.9s\n",
      "888:\tlearn: 0.8351976\ttest: 0.7618693\tbest: 0.7652250 (424)\ttotal: 1m 34s\tremaining: 11.8s\n",
      "889:\tlearn: 0.8351976\ttest: 0.7618693\tbest: 0.7652250 (424)\ttotal: 1m 34s\tremaining: 11.7s\n",
      "890:\tlearn: 0.8350911\ttest: 0.7618693\tbest: 0.7652250 (424)\ttotal: 1m 34s\tremaining: 11.6s\n",
      "891:\tlearn: 0.8354107\ttest: 0.7616207\tbest: 0.7652250 (424)\ttotal: 1m 34s\tremaining: 11.5s\n",
      "892:\tlearn: 0.8355172\ttest: 0.7612478\tbest: 0.7652250 (424)\ttotal: 1m 34s\tremaining: 11.4s\n",
      "893:\tlearn: 0.8356770\ttest: 0.7611235\tbest: 0.7652250 (424)\ttotal: 1m 34s\tremaining: 11.3s\n",
      "894:\tlearn: 0.8357303\ttest: 0.7612478\tbest: 0.7652250 (424)\ttotal: 1m 35s\tremaining: 11.2s\n",
      "895:\tlearn: 0.8356237\ttest: 0.7612478\tbest: 0.7652250 (424)\ttotal: 1m 35s\tremaining: 11s\n",
      "896:\tlearn: 0.8356770\ttest: 0.7613721\tbest: 0.7652250 (424)\ttotal: 1m 35s\tremaining: 10.9s\n",
      "897:\tlearn: 0.8357303\ttest: 0.7611235\tbest: 0.7652250 (424)\ttotal: 1m 35s\tremaining: 10.8s\n",
      "898:\tlearn: 0.8359966\ttest: 0.7612478\tbest: 0.7652250 (424)\ttotal: 1m 35s\tremaining: 10.7s\n",
      "899:\tlearn: 0.8357835\ttest: 0.7611235\tbest: 0.7652250 (424)\ttotal: 1m 35s\tremaining: 10.6s\n",
      "900:\tlearn: 0.8359966\ttest: 0.7611235\tbest: 0.7652250 (424)\ttotal: 1m 35s\tremaining: 10.5s\n",
      "901:\tlearn: 0.8359966\ttest: 0.7611235\tbest: 0.7652250 (424)\ttotal: 1m 35s\tremaining: 10.4s\n",
      "902:\tlearn: 0.8362629\ttest: 0.7613721\tbest: 0.7652250 (424)\ttotal: 1m 35s\tremaining: 10.3s\n",
      "903:\tlearn: 0.8359966\ttest: 0.7608750\tbest: 0.7652250 (424)\ttotal: 1m 36s\tremaining: 10.2s\n",
      "904:\tlearn: 0.8361031\ttest: 0.7616207\tbest: 0.7652250 (424)\ttotal: 1m 36s\tremaining: 10.1s\n",
      "905:\tlearn: 0.8361031\ttest: 0.7616207\tbest: 0.7652250 (424)\ttotal: 1m 36s\tremaining: 9.98s\n",
      "906:\tlearn: 0.8361031\ttest: 0.7614964\tbest: 0.7652250 (424)\ttotal: 1m 36s\tremaining: 9.87s\n",
      "907:\tlearn: 0.8362629\ttest: 0.7614964\tbest: 0.7652250 (424)\ttotal: 1m 36s\tremaining: 9.77s\n",
      "908:\tlearn: 0.8361031\ttest: 0.7614964\tbest: 0.7652250 (424)\ttotal: 1m 36s\tremaining: 9.66s\n",
      "909:\tlearn: 0.8359966\ttest: 0.7616207\tbest: 0.7652250 (424)\ttotal: 1m 36s\tremaining: 9.55s\n",
      "910:\tlearn: 0.8361031\ttest: 0.7609993\tbest: 0.7652250 (424)\ttotal: 1m 36s\tremaining: 9.45s\n",
      "911:\tlearn: 0.8362629\ttest: 0.7611235\tbest: 0.7652250 (424)\ttotal: 1m 36s\tremaining: 9.34s\n",
      "912:\tlearn: 0.8363162\ttest: 0.7611235\tbest: 0.7652250 (424)\ttotal: 1m 36s\tremaining: 9.24s\n",
      "913:\tlearn: 0.8362097\ttest: 0.7613721\tbest: 0.7652250 (424)\ttotal: 1m 37s\tremaining: 9.13s\n",
      "914:\tlearn: 0.8362629\ttest: 0.7612478\tbest: 0.7652250 (424)\ttotal: 1m 37s\tremaining: 9.03s\n",
      "915:\tlearn: 0.8363694\ttest: 0.7609993\tbest: 0.7652250 (424)\ttotal: 1m 37s\tremaining: 8.92s\n",
      "916:\tlearn: 0.8364227\ttest: 0.7612478\tbest: 0.7652250 (424)\ttotal: 1m 37s\tremaining: 8.82s\n",
      "917:\tlearn: 0.8364227\ttest: 0.7608750\tbest: 0.7652250 (424)\ttotal: 1m 37s\tremaining: 8.71s\n",
      "918:\tlearn: 0.8364760\ttest: 0.7607507\tbest: 0.7652250 (424)\ttotal: 1m 37s\tremaining: 8.61s\n",
      "919:\tlearn: 0.8366358\ttest: 0.7605021\tbest: 0.7652250 (424)\ttotal: 1m 37s\tremaining: 8.51s\n",
      "920:\tlearn: 0.8366890\ttest: 0.7606264\tbest: 0.7652250 (424)\ttotal: 1m 37s\tremaining: 8.4s\n",
      "921:\tlearn: 0.8366890\ttest: 0.7607507\tbest: 0.7652250 (424)\ttotal: 1m 38s\tremaining: 8.3s\n",
      "922:\tlearn: 0.8369021\ttest: 0.7603778\tbest: 0.7652250 (424)\ttotal: 1m 38s\tremaining: 8.19s\n",
      "923:\tlearn: 0.8368488\ttest: 0.7603778\tbest: 0.7652250 (424)\ttotal: 1m 38s\tremaining: 8.09s\n",
      "924:\tlearn: 0.8367956\ttest: 0.7606264\tbest: 0.7652250 (424)\ttotal: 1m 38s\tremaining: 7.99s\n",
      "925:\tlearn: 0.8367423\ttest: 0.7605021\tbest: 0.7652250 (424)\ttotal: 1m 38s\tremaining: 7.88s\n",
      "926:\tlearn: 0.8367423\ttest: 0.7607507\tbest: 0.7652250 (424)\ttotal: 1m 38s\tremaining: 7.78s\n"
     ]
    },
    {
     "name": "stdout",
     "output_type": "stream",
     "text": [
      "927:\tlearn: 0.8367423\ttest: 0.7609993\tbest: 0.7652250 (424)\ttotal: 1m 38s\tremaining: 7.67s\n",
      "928:\tlearn: 0.8367956\ttest: 0.7612478\tbest: 0.7652250 (424)\ttotal: 1m 39s\tremaining: 7.57s\n",
      "929:\tlearn: 0.8369021\ttest: 0.7612478\tbest: 0.7652250 (424)\ttotal: 1m 39s\tremaining: 7.46s\n",
      "930:\tlearn: 0.8369554\ttest: 0.7612478\tbest: 0.7652250 (424)\ttotal: 1m 39s\tremaining: 7.36s\n",
      "931:\tlearn: 0.8373815\ttest: 0.7611235\tbest: 0.7652250 (424)\ttotal: 1m 39s\tremaining: 7.25s\n",
      "932:\tlearn: 0.8373282\ttest: 0.7613721\tbest: 0.7652250 (424)\ttotal: 1m 39s\tremaining: 7.14s\n",
      "933:\tlearn: 0.8373815\ttest: 0.7617450\tbest: 0.7652250 (424)\ttotal: 1m 39s\tremaining: 7.04s\n",
      "934:\tlearn: 0.8375945\ttest: 0.7616207\tbest: 0.7652250 (424)\ttotal: 1m 39s\tremaining: 6.93s\n",
      "935:\tlearn: 0.8375945\ttest: 0.7612478\tbest: 0.7652250 (424)\ttotal: 1m 39s\tremaining: 6.83s\n",
      "936:\tlearn: 0.8376478\ttest: 0.7612478\tbest: 0.7652250 (424)\ttotal: 1m 40s\tremaining: 6.72s\n",
      "937:\tlearn: 0.8377543\ttest: 0.7612478\tbest: 0.7652250 (424)\ttotal: 1m 40s\tremaining: 6.62s\n",
      "938:\tlearn: 0.8378076\ttest: 0.7609993\tbest: 0.7652250 (424)\ttotal: 1m 40s\tremaining: 6.51s\n",
      "939:\tlearn: 0.8379674\ttest: 0.7607507\tbest: 0.7652250 (424)\ttotal: 1m 40s\tremaining: 6.41s\n",
      "940:\tlearn: 0.8380207\ttest: 0.7612478\tbest: 0.7652250 (424)\ttotal: 1m 40s\tremaining: 6.3s\n",
      "941:\tlearn: 0.8381272\ttest: 0.7609993\tbest: 0.7652250 (424)\ttotal: 1m 40s\tremaining: 6.19s\n",
      "942:\tlearn: 0.8379674\ttest: 0.7612478\tbest: 0.7652250 (424)\ttotal: 1m 40s\tremaining: 6.08s\n",
      "943:\tlearn: 0.8380739\ttest: 0.7609993\tbest: 0.7652250 (424)\ttotal: 1m 40s\tremaining: 5.98s\n",
      "944:\tlearn: 0.8380207\ttest: 0.7609993\tbest: 0.7652250 (424)\ttotal: 1m 40s\tremaining: 5.87s\n",
      "945:\tlearn: 0.8381272\ttest: 0.7614964\tbest: 0.7652250 (424)\ttotal: 1m 41s\tremaining: 5.76s\n",
      "946:\tlearn: 0.8378609\ttest: 0.7613721\tbest: 0.7652250 (424)\ttotal: 1m 41s\tremaining: 5.66s\n",
      "947:\tlearn: 0.8381272\ttest: 0.7608750\tbest: 0.7652250 (424)\ttotal: 1m 41s\tremaining: 5.55s\n",
      "948:\tlearn: 0.8382337\ttest: 0.7614964\tbest: 0.7652250 (424)\ttotal: 1m 41s\tremaining: 5.45s\n",
      "949:\tlearn: 0.8382337\ttest: 0.7611235\tbest: 0.7652250 (424)\ttotal: 1m 41s\tremaining: 5.34s\n",
      "950:\tlearn: 0.8384468\ttest: 0.7611235\tbest: 0.7652250 (424)\ttotal: 1m 41s\tremaining: 5.24s\n",
      "951:\tlearn: 0.8382870\ttest: 0.7609993\tbest: 0.7652250 (424)\ttotal: 1m 41s\tremaining: 5.13s\n",
      "952:\tlearn: 0.8382337\ttest: 0.7611235\tbest: 0.7652250 (424)\ttotal: 1m 41s\tremaining: 5.02s\n",
      "953:\tlearn: 0.8382337\ttest: 0.7611235\tbest: 0.7652250 (424)\ttotal: 1m 42s\tremaining: 4.92s\n",
      "954:\tlearn: 0.8382337\ttest: 0.7613721\tbest: 0.7652250 (424)\ttotal: 1m 42s\tremaining: 4.81s\n",
      "955:\tlearn: 0.8385001\ttest: 0.7611235\tbest: 0.7652250 (424)\ttotal: 1m 42s\tremaining: 4.71s\n",
      "956:\tlearn: 0.8383935\ttest: 0.7612478\tbest: 0.7652250 (424)\ttotal: 1m 42s\tremaining: 4.6s\n",
      "957:\tlearn: 0.8385533\ttest: 0.7611235\tbest: 0.7652250 (424)\ttotal: 1m 42s\tremaining: 4.5s\n",
      "958:\tlearn: 0.8385001\ttest: 0.7619935\tbest: 0.7652250 (424)\ttotal: 1m 42s\tremaining: 4.39s\n",
      "959:\tlearn: 0.8386598\ttest: 0.7617450\tbest: 0.7652250 (424)\ttotal: 1m 42s\tremaining: 4.28s\n",
      "960:\tlearn: 0.8387664\ttest: 0.7621178\tbest: 0.7652250 (424)\ttotal: 1m 42s\tremaining: 4.18s\n",
      "961:\tlearn: 0.8387664\ttest: 0.7619935\tbest: 0.7652250 (424)\ttotal: 1m 43s\tremaining: 4.07s\n",
      "962:\tlearn: 0.8388729\ttest: 0.7619935\tbest: 0.7652250 (424)\ttotal: 1m 43s\tremaining: 3.96s\n",
      "963:\tlearn: 0.8390327\ttest: 0.7619935\tbest: 0.7652250 (424)\ttotal: 1m 43s\tremaining: 3.85s\n",
      "964:\tlearn: 0.8392458\ttest: 0.7619935\tbest: 0.7652250 (424)\ttotal: 1m 43s\tremaining: 3.75s\n",
      "965:\tlearn: 0.8392990\ttest: 0.7616207\tbest: 0.7652250 (424)\ttotal: 1m 43s\tremaining: 3.64s\n",
      "966:\tlearn: 0.8396186\ttest: 0.7616207\tbest: 0.7652250 (424)\ttotal: 1m 43s\tremaining: 3.54s\n",
      "967:\tlearn: 0.8394056\ttest: 0.7617450\tbest: 0.7652250 (424)\ttotal: 1m 43s\tremaining: 3.43s\n",
      "968:\tlearn: 0.8394588\ttest: 0.7618693\tbest: 0.7652250 (424)\ttotal: 1m 44s\tremaining: 3.33s\n",
      "969:\tlearn: 0.8393523\ttest: 0.7617450\tbest: 0.7652250 (424)\ttotal: 1m 44s\tremaining: 3.22s\n",
      "970:\tlearn: 0.8393523\ttest: 0.7617450\tbest: 0.7652250 (424)\ttotal: 1m 44s\tremaining: 3.11s\n",
      "971:\tlearn: 0.8394056\ttest: 0.7614964\tbest: 0.7652250 (424)\ttotal: 1m 44s\tremaining: 3s\n",
      "972:\tlearn: 0.8395654\ttest: 0.7608750\tbest: 0.7652250 (424)\ttotal: 1m 44s\tremaining: 2.9s\n",
      "973:\tlearn: 0.8394056\ttest: 0.7609993\tbest: 0.7652250 (424)\ttotal: 1m 44s\tremaining: 2.79s\n",
      "974:\tlearn: 0.8393523\ttest: 0.7608750\tbest: 0.7652250 (424)\ttotal: 1m 44s\tremaining: 2.69s\n",
      "975:\tlearn: 0.8396719\ttest: 0.7608750\tbest: 0.7652250 (424)\ttotal: 1m 44s\tremaining: 2.58s\n",
      "976:\tlearn: 0.8397784\ttest: 0.7612478\tbest: 0.7652250 (424)\ttotal: 1m 45s\tremaining: 2.47s\n",
      "977:\tlearn: 0.8398317\ttest: 0.7613721\tbest: 0.7652250 (424)\ttotal: 1m 45s\tremaining: 2.37s\n",
      "978:\tlearn: 0.8399382\ttest: 0.7613721\tbest: 0.7652250 (424)\ttotal: 1m 45s\tremaining: 2.26s\n",
      "979:\tlearn: 0.8398317\ttest: 0.7613721\tbest: 0.7652250 (424)\ttotal: 1m 45s\tremaining: 2.15s\n",
      "980:\tlearn: 0.8402045\ttest: 0.7612478\tbest: 0.7652250 (424)\ttotal: 1m 45s\tremaining: 2.04s\n",
      "981:\tlearn: 0.8404709\ttest: 0.7612478\tbest: 0.7652250 (424)\ttotal: 1m 45s\tremaining: 1.94s\n",
      "982:\tlearn: 0.8402045\ttest: 0.7609993\tbest: 0.7652250 (424)\ttotal: 1m 45s\tremaining: 1.83s\n",
      "983:\tlearn: 0.8404176\ttest: 0.7612478\tbest: 0.7652250 (424)\ttotal: 1m 45s\tremaining: 1.72s\n",
      "984:\tlearn: 0.8406839\ttest: 0.7612478\tbest: 0.7652250 (424)\ttotal: 1m 46s\tremaining: 1.61s\n",
      "985:\tlearn: 0.8408437\ttest: 0.7611235\tbest: 0.7652250 (424)\ttotal: 1m 46s\tremaining: 1.51s\n",
      "986:\tlearn: 0.8408437\ttest: 0.7612478\tbest: 0.7652250 (424)\ttotal: 1m 46s\tremaining: 1.4s\n",
      "987:\tlearn: 0.8407372\ttest: 0.7617450\tbest: 0.7652250 (424)\ttotal: 1m 46s\tremaining: 1.29s\n",
      "988:\tlearn: 0.8408437\ttest: 0.7611235\tbest: 0.7652250 (424)\ttotal: 1m 46s\tremaining: 1.18s\n",
      "989:\tlearn: 0.8410035\ttest: 0.7612478\tbest: 0.7652250 (424)\ttotal: 1m 46s\tremaining: 1.08s\n",
      "990:\tlearn: 0.8410035\ttest: 0.7608750\tbest: 0.7652250 (424)\ttotal: 1m 46s\tremaining: 970ms\n",
      "991:\tlearn: 0.8411633\ttest: 0.7608750\tbest: 0.7652250 (424)\ttotal: 1m 46s\tremaining: 862ms\n",
      "992:\tlearn: 0.8411100\ttest: 0.7607507\tbest: 0.7652250 (424)\ttotal: 1m 46s\tremaining: 754ms\n",
      "993:\tlearn: 0.8412698\ttest: 0.7606264\tbest: 0.7652250 (424)\ttotal: 1m 47s\tremaining: 646ms\n",
      "994:\tlearn: 0.8412698\ttest: 0.7602535\tbest: 0.7652250 (424)\ttotal: 1m 47s\tremaining: 539ms\n",
      "995:\tlearn: 0.8415362\ttest: 0.7606264\tbest: 0.7652250 (424)\ttotal: 1m 47s\tremaining: 431ms\n",
      "996:\tlearn: 0.8416427\ttest: 0.7607507\tbest: 0.7652250 (424)\ttotal: 1m 47s\tremaining: 323ms\n",
      "997:\tlearn: 0.8416960\ttest: 0.7611235\tbest: 0.7652250 (424)\ttotal: 1m 47s\tremaining: 216ms\n",
      "998:\tlearn: 0.8416427\ttest: 0.7611235\tbest: 0.7652250 (424)\ttotal: 1m 47s\tremaining: 108ms\n",
      "999:\tlearn: 0.8419090\ttest: 0.7606264\tbest: 0.7652250 (424)\ttotal: 1m 47s\tremaining: 0us\n",
      "\n",
      "bestTest = 0.7652249565\n",
      "bestIteration = 424\n",
      "\n",
      "Shrink model to first 425 iterations.\n"
     ]
    },
    {
     "data": {
      "text/plain": [
       "<catboost.core.CatBoostClassifier at 0x2b0a4fd0c70>"
      ]
     },
     "execution_count": 82,
     "metadata": {},
     "output_type": "execute_result"
    }
   ],
   "source": [
    "model.fit(xtrain,ytrain,cat_features=cate_features_index,eval_set=(xtest,ytest))"
   ]
  },
  {
   "cell_type": "code",
   "execution_count": 83,
   "metadata": {},
   "outputs": [
    {
     "name": "stdout",
     "output_type": "stream",
     "text": [
      "the test accuracy is :0.765225\n",
      "the train accuracy is : 0.9285181634174923\n"
     ]
    }
   ],
   "source": [
    "#show the model test acc, but you have to note that the acc is not the cv acc,\n",
    "#so recommend to use the cv acc to evaluate your model!\n",
    "print('the test accuracy is :{:.6f}'.format(accuracy_score(ytest,model.predict(xtest))))\n",
    "test_score_catboost = accuracy_score(ytest,model.predict(xtest))\n",
    "print(\"the train accuracy is :\",model.score(xtrain,ytrain))\n",
    "train_score_catboost = model.score(xtrain,ytrain)"
   ]
  },
  {
   "cell_type": "code",
   "execution_count": 84,
   "metadata": {},
   "outputs": [
    {
     "data": {
      "text/plain": [
       "array([1, 1, 0, ..., 1, 1, 1], dtype=int64)"
      ]
     },
     "execution_count": 84,
     "metadata": {},
     "output_type": "execute_result"
    }
   ],
   "source": [
    "model.predict(xtest)"
   ]
  },
  {
   "cell_type": "code",
   "execution_count": 85,
   "metadata": {},
   "outputs": [
    {
     "data": {
      "text/html": [
       "<div>\n",
       "<style scoped>\n",
       "    .dataframe tbody tr th:only-of-type {\n",
       "        vertical-align: middle;\n",
       "    }\n",
       "\n",
       "    .dataframe tbody tr th {\n",
       "        vertical-align: top;\n",
       "    }\n",
       "\n",
       "    .dataframe thead th {\n",
       "        text-align: right;\n",
       "    }\n",
       "</style>\n",
       "<table border=\"1\" class=\"dataframe\">\n",
       "  <thead>\n",
       "    <tr style=\"text-align: right;\">\n",
       "      <th></th>\n",
       "      <th>Models</th>\n",
       "      <th>Training Accuracy</th>\n",
       "      <th>Testing Accuracy</th>\n",
       "    </tr>\n",
       "  </thead>\n",
       "  <tbody>\n",
       "    <tr>\n",
       "      <th>0</th>\n",
       "      <td>Logistic Regression</td>\n",
       "      <td>0.774262</td>\n",
       "      <td>0.767711</td>\n",
       "    </tr>\n",
       "    <tr>\n",
       "      <th>5</th>\n",
       "      <td>Tuned Decison Tree</td>\n",
       "      <td>0.777565</td>\n",
       "      <td>0.767214</td>\n",
       "    </tr>\n",
       "    <tr>\n",
       "      <th>8</th>\n",
       "      <td>Cat Boost</td>\n",
       "      <td>0.928518</td>\n",
       "      <td>0.765225</td>\n",
       "    </tr>\n",
       "    <tr>\n",
       "      <th>7</th>\n",
       "      <td>Tuned Random Forest</td>\n",
       "      <td>0.996484</td>\n",
       "      <td>0.756276</td>\n",
       "    </tr>\n",
       "    <tr>\n",
       "      <th>2</th>\n",
       "      <td>Bernauli Naives Bayes</td>\n",
       "      <td>0.763556</td>\n",
       "      <td>0.755531</td>\n",
       "    </tr>\n",
       "    <tr>\n",
       "      <th>4</th>\n",
       "      <td>Random Forest</td>\n",
       "      <td>0.996591</td>\n",
       "      <td>0.752548</td>\n",
       "    </tr>\n",
       "    <tr>\n",
       "      <th>3</th>\n",
       "      <td>Decision Tree</td>\n",
       "      <td>0.996591</td>\n",
       "      <td>0.697862</td>\n",
       "    </tr>\n",
       "    <tr>\n",
       "      <th>6</th>\n",
       "      <td>Tuned KNN</td>\n",
       "      <td>0.745339</td>\n",
       "      <td>0.697117</td>\n",
       "    </tr>\n",
       "    <tr>\n",
       "      <th>1</th>\n",
       "      <td>KNN</td>\n",
       "      <td>0.797859</td>\n",
       "      <td>0.673130</td>\n",
       "    </tr>\n",
       "  </tbody>\n",
       "</table>\n",
       "</div>"
      ],
      "text/plain": [
       "                  Models  Training Accuracy  Testing Accuracy\n",
       "0    Logistic Regression           0.774262          0.767711\n",
       "5     Tuned Decison Tree           0.777565          0.767214\n",
       "8              Cat Boost           0.928518          0.765225\n",
       "7    Tuned Random Forest           0.996484          0.756276\n",
       "2  Bernauli Naives Bayes           0.763556          0.755531\n",
       "4          Random Forest           0.996591          0.752548\n",
       "3          Decision Tree           0.996591          0.697862\n",
       "6              Tuned KNN           0.745339          0.697117\n",
       "1                    KNN           0.797859          0.673130"
      ]
     },
     "execution_count": 85,
     "metadata": {},
     "output_type": "execute_result"
    }
   ],
   "source": [
    "Model_Scores=pd.DataFrame({'Models':['Logistic Regression','KNN','Bernauli Naives Bayes','Decision Tree','Random Forest','Tuned Decison Tree','Tuned KNN','Tuned Random Forest','Cat Boost'],\n",
    "             'Training Accuracy':[Train_Score_lr,Train_Score_knn,Train_Score_bnb,Train_Score_dt,Train_Score_rf,Train_Score_tdt,Train_Score_tknn,Train_Score_trf,train_score_catboost],\n",
    "             'Testing Accuracy':[Test_Score_lr,Test_Score_knn,Test_Score_bnb,Test_Score_dt,Test_Score_rf,Test_Score_tdt,Test_Score_tknn,Test_Score_trf,test_score_catboost],\n",
    "                })\n",
    "\n",
    "Model_Scores.sort_values(by=('Testing Accuracy'),ascending=False)"
   ]
  }
 ],
 "metadata": {
  "kernelspec": {
   "display_name": "Python 3 (ipykernel)",
   "language": "python",
   "name": "python3"
  },
  "language_info": {
   "codemirror_mode": {
    "name": "ipython",
    "version": 3
   },
   "file_extension": ".py",
   "mimetype": "text/x-python",
   "name": "python",
   "nbconvert_exporter": "python",
   "pygments_lexer": "ipython3",
   "version": "3.9.12"
  }
 },
 "nbformat": 4,
 "nbformat_minor": 1
}
