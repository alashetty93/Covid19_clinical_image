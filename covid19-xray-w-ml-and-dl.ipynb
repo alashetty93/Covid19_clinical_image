{
 "cells": [
  {
   "cell_type": "markdown",
   "id": "45651fe8",
   "metadata": {
    "papermill": {
     "duration": 0.00777,
     "end_time": "2023-04-19T16:34:52.850119",
     "exception": false,
     "start_time": "2023-04-19T16:34:52.842349",
     "status": "completed"
    },
    "tags": []
   },
   "source": [
    "## Library Import"
   ]
  },
  {
   "cell_type": "code",
   "execution_count": 1,
   "id": "9ab9efce",
   "metadata": {
    "execution": {
     "iopub.execute_input": "2023-04-19T16:34:52.868541Z",
     "iopub.status.busy": "2023-04-19T16:34:52.867311Z",
     "iopub.status.idle": "2023-04-19T16:35:02.010440Z",
     "shell.execute_reply": "2023-04-19T16:35:02.009435Z"
    },
    "papermill": {
     "duration": 9.155011,
     "end_time": "2023-04-19T16:35:02.013035",
     "exception": false,
     "start_time": "2023-04-19T16:34:52.858024",
     "status": "completed"
    },
    "tags": []
   },
   "outputs": [],
   "source": [
    "import os\n",
    "import pandas as pd\n",
    "import numpy as np\n",
    "from PIL import Image, ImageOps\n",
    "import plotly.express as px\n",
    "import matplotlib.pyplot as plt\n",
    "import seaborn as sns\n",
    "import cv2\n",
    "from tqdm import tqdm\n",
    "from sklearn.model_selection import train_test_split\n",
    "from sklearn.metrics import accuracy_score, precision_score, recall_score, f1_score\n",
    "import time\n",
    "import tensorflow as tf\n",
    "\n",
    "\n",
    "import keras\n",
    "from keras import layers\n",
    "from keras.models import Sequential\n",
    "from keras.layers import Dense, Activation, Dropout\n",
    "from sklearn.metrics import classification_report\n",
    "from tensorflow.keras.callbacks import EarlyStopping\n",
    "from keras.preprocessing.image import ImageDataGenerator"
   ]
  },
  {
   "cell_type": "markdown",
   "id": "0c7c1ff8",
   "metadata": {
    "papermill": {
     "duration": 0.008015,
     "end_time": "2023-04-19T16:35:02.030948",
     "exception": false,
     "start_time": "2023-04-19T16:35:02.022933",
     "status": "completed"
    },
    "tags": []
   },
   "source": [
    "## Data preprocessing"
   ]
  },
  {
   "cell_type": "code",
   "execution_count": 2,
   "id": "32962391",
   "metadata": {
    "_cell_guid": "b1076dfc-b9ad-4769-8c92-a6c4dae69d19",
    "_uuid": "8f2839f25d086af736a60e9eeb907d3b93b6e0e5",
    "execution": {
     "iopub.execute_input": "2023-04-19T16:35:02.050024Z",
     "iopub.status.busy": "2023-04-19T16:35:02.048686Z",
     "iopub.status.idle": "2023-04-19T16:35:03.557357Z",
     "shell.execute_reply": "2023-04-19T16:35:03.556259Z"
    },
    "papermill": {
     "duration": 1.520604,
     "end_time": "2023-04-19T16:35:03.559723",
     "exception": false,
     "start_time": "2023-04-19T16:35:02.039119",
     "status": "completed"
    },
    "tags": []
   },
   "outputs": [
    {
     "data": {
      "text/html": [
       "<div>\n",
       "<style scoped>\n",
       "    .dataframe tbody tr th:only-of-type {\n",
       "        vertical-align: middle;\n",
       "    }\n",
       "\n",
       "    .dataframe tbody tr th {\n",
       "        vertical-align: top;\n",
       "    }\n",
       "\n",
       "    .dataframe thead th {\n",
       "        text-align: right;\n",
       "    }\n",
       "</style>\n",
       "<table border=\"1\" class=\"dataframe\">\n",
       "  <thead>\n",
       "    <tr style=\"text-align: right;\">\n",
       "      <th></th>\n",
       "      <th>image_file</th>\n",
       "      <th>result</th>\n",
       "      <th>path</th>\n",
       "    </tr>\n",
       "  </thead>\n",
       "  <tbody>\n",
       "    <tr>\n",
       "      <th>0</th>\n",
       "      <td>Normal/images/Normal-859.png</td>\n",
       "      <td>Normal</td>\n",
       "      <td>../input/covid19-radiography-database/COVID-19...</td>\n",
       "    </tr>\n",
       "    <tr>\n",
       "      <th>1</th>\n",
       "      <td>Normal/images/Normal-158.png</td>\n",
       "      <td>Normal</td>\n",
       "      <td>../input/covid19-radiography-database/COVID-19...</td>\n",
       "    </tr>\n",
       "    <tr>\n",
       "      <th>2</th>\n",
       "      <td>Normal/images/Normal-10121.png</td>\n",
       "      <td>Normal</td>\n",
       "      <td>../input/covid19-radiography-database/COVID-19...</td>\n",
       "    </tr>\n",
       "    <tr>\n",
       "      <th>3</th>\n",
       "      <td>Normal/images/Normal-1811.png</td>\n",
       "      <td>Normal</td>\n",
       "      <td>../input/covid19-radiography-database/COVID-19...</td>\n",
       "    </tr>\n",
       "    <tr>\n",
       "      <th>4</th>\n",
       "      <td>Normal/images/Normal-97.png</td>\n",
       "      <td>Normal</td>\n",
       "      <td>../input/covid19-radiography-database/COVID-19...</td>\n",
       "    </tr>\n",
       "  </tbody>\n",
       "</table>\n",
       "</div>"
      ],
      "text/plain": [
       "                       image_file  result  \\\n",
       "0    Normal/images/Normal-859.png  Normal   \n",
       "1    Normal/images/Normal-158.png  Normal   \n",
       "2  Normal/images/Normal-10121.png  Normal   \n",
       "3   Normal/images/Normal-1811.png  Normal   \n",
       "4     Normal/images/Normal-97.png  Normal   \n",
       "\n",
       "                                                path  \n",
       "0  ../input/covid19-radiography-database/COVID-19...  \n",
       "1  ../input/covid19-radiography-database/COVID-19...  \n",
       "2  ../input/covid19-radiography-database/COVID-19...  \n",
       "3  ../input/covid19-radiography-database/COVID-19...  \n",
       "4  ../input/covid19-radiography-database/COVID-19...  "
      ]
     },
     "execution_count": 2,
     "metadata": {},
     "output_type": "execute_result"
    }
   ],
   "source": [
    "# label tagging to the images\n",
    "\n",
    "levels = ['Normal', 'COVID', 'Lung_Opacity', 'Viral Pneumonia']\n",
    "path = \"C:/Users/Ashvini Alashetty/covid19-radiography-database/COVID-19_Radiography_Dataset\"\n",
    "data_dir = os.path.join(path)\n",
    "\n",
    "data = []\n",
    "for id, level in enumerate(levels):\n",
    "    for file in os.listdir(os.path.join(data_dir, level + '/images')):\n",
    "        data.append(['{}/images/{}'.format(level, file), level])\n",
    "\n",
    "data = pd.DataFrame(data, columns = ['image_file', 'result'])\n",
    "\n",
    "data['path'] = path + '/' + data['image_file']\n",
    "\n",
    "data.head()"
   ]
  },
  {
   "cell_type": "code",
   "execution_count": 3,
   "id": "f92c376b",
   "metadata": {
    "execution": {
     "iopub.execute_input": "2023-04-19T16:35:03.577994Z",
     "iopub.status.busy": "2023-04-19T16:35:03.577682Z",
     "iopub.status.idle": "2023-04-19T16:35:03.583201Z",
     "shell.execute_reply": "2023-04-19T16:35:03.582154Z"
    },
    "papermill": {
     "duration": 0.018806,
     "end_time": "2023-04-19T16:35:03.586856",
     "exception": false,
     "start_time": "2023-04-19T16:35:03.568050",
     "status": "completed"
    },
    "tags": []
   },
   "outputs": [
    {
     "name": "stdout",
     "output_type": "stream",
     "text": [
      "Numbers of X-ray images: 21165\n"
     ]
    }
   ],
   "source": [
    "print(\"Numbers of X-ray images: {}\".format(data.shape[0]))"
   ]
  },
  {
   "cell_type": "code",
   "execution_count": 4,
   "id": "a0a765dc",
   "metadata": {
    "execution": {
     "iopub.execute_input": "2023-04-19T16:35:03.604471Z",
     "iopub.status.busy": "2023-04-19T16:35:03.604163Z",
     "iopub.status.idle": "2023-04-19T16:35:04.311049Z",
     "shell.execute_reply": "2023-04-19T16:35:04.310062Z"
    },
    "papermill": {
     "duration": 0.720214,
     "end_time": "2023-04-19T16:35:04.315194",
     "exception": false,
     "start_time": "2023-04-19T16:35:03.594980",
     "status": "completed"
    },
    "tags": []
   },
   "outputs": [
    {
     "data": {
      "image/png": "[encoded data removed]",
      "text/plain": [
       "<Figure size 864x864 with 8 Axes>"
      ]
     },
     "metadata": {
      "needs_background": "light"
     },
     "output_type": "display_data"
    }
   ],
   "source": [
    "#visualisation \n",
    "\n",
    "n_samples = 2\n",
    "\n",
    "fig, m_axs = plt.subplots(4, n_samples, figsize = (6*n_samples, 3*4))\n",
    "\n",
    "for n_axs, (type_name, type_rows) in zip(m_axs, data.sort_values(['result']).groupby('result')):\n",
    "    n_axs[1].set_title(type_name, fontsize = 15)\n",
    "    for c_ax, (_, c_row) in zip(n_axs, type_rows.sample(n_samples, random_state = 1234).iterrows()):       \n",
    "        picture = c_row['path']\n",
    "        image = cv2.imread(picture)\n",
    "        c_ax.imshow(image)\n",
    "        c_ax.axis('off')"
   ]
  },
  {
   "cell_type": "code",
   "execution_count": 5,
   "id": "473701a7",
   "metadata": {
    "execution": {
     "iopub.execute_input": "2023-04-19T16:35:04.338819Z",
     "iopub.status.busy": "2023-04-19T16:35:04.338463Z",
     "iopub.status.idle": "2023-04-19T16:35:04.534818Z",
     "shell.execute_reply": "2023-04-19T16:35:04.533926Z"
    },
    "papermill": {
     "duration": 0.211259,
     "end_time": "2023-04-19T16:35:04.537304",
     "exception": false,
     "start_time": "2023-04-19T16:35:04.326045",
     "status": "completed"
    },
    "tags": []
   },
   "outputs": [
    {
     "name": "stderr",
     "output_type": "stream",
     "text": [
      "/opt/conda/lib/python3.7/site-packages/seaborn/_decorators.py:43: FutureWarning: Pass the following variable as a keyword arg: x. From version 0.12, the only valid positional argument will be `data`, and passing other arguments without an explicit keyword will result in an error or misinterpretation.\n",
      "  FutureWarning\n"
     ]
    },
    {
     "data": {
      "image/png": "[encoded data removed]",
      "text/plain": [
       "<Figure size 432x288 with 1 Axes>"
      ]
     },
     "metadata": {
      "needs_background": "light"
     },
     "output_type": "display_data"
    }
   ],
   "source": [
    "sx = sns.countplot(data['result'])\n",
    "sx.set_xticklabels(labels=sx.get_xticklabels(), rotation=90)\n",
    "plt.show()"
   ]
  },
  {
   "cell_type": "code",
   "execution_count": 6,
   "id": "6356bfcf",
   "metadata": {
    "execution": {
     "iopub.execute_input": "2023-04-19T16:35:04.561910Z",
     "iopub.status.busy": "2023-04-19T16:35:04.560462Z",
     "iopub.status.idle": "2023-04-19T16:35:04.575268Z",
     "shell.execute_reply": "2023-04-19T16:35:04.574285Z"
    },
    "papermill": {
     "duration": 0.029122,
     "end_time": "2023-04-19T16:35:04.577688",
     "exception": false,
     "start_time": "2023-04-19T16:35:04.548566",
     "status": "completed"
    },
    "tags": []
   },
   "outputs": [
    {
     "name": "stdout",
     "output_type": "stream",
     "text": [
      "Normal :  10192\n",
      "Covid :  3616\n",
      "Opacity :  6012\n",
      "VIral Pneumonia :  1345\n"
     ]
    }
   ],
   "source": [
    "print('Normal : ', list(data['result']).count('Normal'))\n",
    "print('Covid : ', list(data['result']).count('COVID'))\n",
    "print('Opacity : ', list(data['result']).count('Lung_Opacity'))\n",
    "print('VIral Pneumonia : ', list(data['result']).count('Viral Pneumonia'))\n",
    "#10192 images sont normales"
   ]
  },
  {
   "cell_type": "code",
   "execution_count": 7,
   "id": "244bfb0b",
   "metadata": {
    "execution": {
     "iopub.execute_input": "2023-04-19T16:35:04.599966Z",
     "iopub.status.busy": "2023-04-19T16:35:04.599694Z",
     "iopub.status.idle": "2023-04-19T16:35:04.610812Z",
     "shell.execute_reply": "2023-04-19T16:35:04.609793Z"
    },
    "papermill": {
     "duration": 0.025781,
     "end_time": "2023-04-19T16:35:04.613946",
     "exception": false,
     "start_time": "2023-04-19T16:35:04.588165",
     "status": "completed"
    },
    "tags": []
   },
   "outputs": [
    {
     "data": {
      "text/plain": [
       "Normal             48.15\n",
       "Lung_Opacity       28.41\n",
       "COVID              17.08\n",
       "Viral Pneumonia     6.35\n",
       "Name: result, dtype: float64"
      ]
     },
     "execution_count": 7,
     "metadata": {},
     "output_type": "execute_result"
    }
   ],
   "source": [
    "round(data['result'].value_counts() / data.shape[0] * 100,2)"
   ]
  },
  {
   "cell_type": "code",
   "execution_count": 8,
   "id": "ea000d50",
   "metadata": {
    "execution": {
     "iopub.execute_input": "2023-04-19T16:35:04.636513Z",
     "iopub.status.busy": "2023-04-19T16:35:04.636185Z",
     "iopub.status.idle": "2023-04-19T16:37:34.721637Z",
     "shell.execute_reply": "2023-04-19T16:37:34.719908Z"
    },
    "papermill": {
     "duration": 150.099456,
     "end_time": "2023-04-19T16:37:34.724269",
     "exception": false,
     "start_time": "2023-04-19T16:35:04.624813",
     "status": "completed"
    },
    "tags": []
   },
   "outputs": [
    {
     "name": "stderr",
     "output_type": "stream",
     "text": [
      "100%|██████████| 21165/21165 [02:30<00:00, 141.03it/s]\n"
     ]
    }
   ],
   "source": [
    "pixel_img = []\n",
    "\n",
    "for image in tqdm(data['path']):\n",
    "    img=Image.open(image)\n",
    "    img=ImageOps.grayscale(img)\n",
    "    img=img.resize((64,64))\n",
    "    img=np.asarray(img)\n",
    "    img=img.reshape((64,64,1))\n",
    "    pixel_img.append(img)"
   ]
  },
  {
   "cell_type": "code",
   "execution_count": 9,
   "id": "a4ba22b5",
   "metadata": {
    "execution": {
     "iopub.execute_input": "2023-04-19T16:37:34.887845Z",
     "iopub.status.busy": "2023-04-19T16:37:34.887493Z",
     "iopub.status.idle": "2023-04-19T16:37:34.946553Z",
     "shell.execute_reply": "2023-04-19T16:37:34.945551Z"
    },
    "papermill": {
     "duration": 0.143562,
     "end_time": "2023-04-19T16:37:34.948860",
     "exception": false,
     "start_time": "2023-04-19T16:37:34.805298",
     "status": "completed"
    },
    "tags": []
   },
   "outputs": [
    {
     "name": "stdout",
     "output_type": "stream",
     "text": [
      "(21165, 64, 64, 1) (21165,)\n"
     ]
    }
   ],
   "source": [
    "pixel_img = np.array(pixel_img)\n",
    "label_img = data['result'].map({'Normal': 0, 'COVID': 1, 'Lung_Opacity' : 2,\n",
    "                               'Viral Pneumonia' : 3})\n",
    "\n",
    "print(pixel_img.shape, label_img.shape)"
   ]
  },
  {
   "cell_type": "code",
   "execution_count": 10,
   "id": "6695158d",
   "metadata": {
    "execution": {
     "iopub.execute_input": "2023-04-19T16:37:35.109071Z",
     "iopub.status.busy": "2023-04-19T16:37:35.108431Z",
     "iopub.status.idle": "2023-04-19T16:37:35.149077Z",
     "shell.execute_reply": "2023-04-19T16:37:35.148104Z"
    },
    "papermill": {
     "duration": 0.123404,
     "end_time": "2023-04-19T16:37:35.151326",
     "exception": false,
     "start_time": "2023-04-19T16:37:35.027922",
     "status": "completed"
    },
    "tags": []
   },
   "outputs": [
    {
     "name": "stdout",
     "output_type": "stream",
     "text": [
      "(16932, 64, 64, 1)\n",
      "(4233, 64, 64, 1)\n",
      "(16932,)\n",
      "(4233,)\n"
     ]
    }
   ],
   "source": [
    "#20% will be used for test\n",
    "X_train, X_test, y_train, y_test = train_test_split(pixel_img, label_img, \n",
    "                                                    test_size=0.2, stratify=label_img)\n",
    "print(X_train.shape)\n",
    "print(X_test.shape)\n",
    "print(y_train.shape)\n",
    "print(y_test.shape)\n",
    "\n",
    "#16932 images for train et 4233 for test"
   ]
  },
  {
   "cell_type": "code",
   "execution_count": 11,
   "id": "ba960915",
   "metadata": {
    "execution": {
     "iopub.execute_input": "2023-04-19T16:37:35.314358Z",
     "iopub.status.busy": "2023-04-19T16:37:35.312503Z",
     "iopub.status.idle": "2023-04-19T16:37:35.324060Z",
     "shell.execute_reply": "2023-04-19T16:37:35.322802Z"
    },
    "papermill": {
     "duration": 0.095593,
     "end_time": "2023-04-19T16:37:35.326577",
     "exception": false,
     "start_time": "2023-04-19T16:37:35.230984",
     "status": "completed"
    },
    "tags": []
   },
   "outputs": [
    {
     "data": {
      "text/plain": [
       "0    48.16\n",
       "2    28.40\n",
       "1    17.09\n",
       "3     6.35\n",
       "Name: result, dtype: float64"
      ]
     },
     "execution_count": 11,
     "metadata": {},
     "output_type": "execute_result"
    }
   ],
   "source": [
    "round(y_train.value_counts() / y_train.shape[0] * 100,2)"
   ]
  },
  {
   "cell_type": "code",
   "execution_count": 12,
   "id": "85b4cc38",
   "metadata": {
    "execution": {
     "iopub.execute_input": "2023-04-19T16:37:35.491579Z",
     "iopub.status.busy": "2023-04-19T16:37:35.490629Z",
     "iopub.status.idle": "2023-04-19T16:37:35.497197Z",
     "shell.execute_reply": "2023-04-19T16:37:35.496202Z"
    },
    "papermill": {
     "duration": 0.090318,
     "end_time": "2023-04-19T16:37:35.499344",
     "exception": false,
     "start_time": "2023-04-19T16:37:35.409026",
     "status": "completed"
    },
    "tags": []
   },
   "outputs": [
    {
     "name": "stdout",
     "output_type": "stream",
     "text": [
      "4096\n",
      "4\n"
     ]
    }
   ],
   "source": [
    "input_size = X_train.shape[1] * X_train.shape[2]\n",
    "print(input_size)\n",
    "\n",
    "num_classes = len(np.unique(y_train))\n",
    "print(num_classes)"
   ]
  },
  {
   "cell_type": "code",
   "execution_count": 13,
   "id": "740596e9",
   "metadata": {
    "execution": {
     "iopub.execute_input": "2023-04-19T16:37:35.662957Z",
     "iopub.status.busy": "2023-04-19T16:37:35.662599Z",
     "iopub.status.idle": "2023-04-19T16:37:35.784508Z",
     "shell.execute_reply": "2023-04-19T16:37:35.783475Z"
    },
    "papermill": {
     "duration": 0.207118,
     "end_time": "2023-04-19T16:37:35.787057",
     "exception": false,
     "start_time": "2023-04-19T16:37:35.579939",
     "status": "completed"
    },
    "tags": []
   },
   "outputs": [],
   "source": [
    "# flatten the image\n",
    "X_train = np.reshape(X_train, [X_train.shape[0], input_size])\n",
    "X_train = X_train.astype('float32') / 255\n",
    "\n",
    "X_test = np.reshape(X_test, [X_test.shape[0], input_size])\n",
    "X_test = X_test.astype('float32') / 255"
   ]
  },
  {
   "cell_type": "markdown",
   "id": "edc2db0d",
   "metadata": {
    "papermill": {
     "duration": 0.080658,
     "end_time": "2023-04-19T16:37:35.950888",
     "exception": false,
     "start_time": "2023-04-19T16:37:35.870230",
     "status": "completed"
    },
    "tags": []
   },
   "source": [
    "## Machine learning models"
   ]
  },
  {
   "cell_type": "code",
   "execution_count": 14,
   "id": "73479e84",
   "metadata": {
    "execution": {
     "iopub.execute_input": "2023-04-19T16:37:36.114889Z",
     "iopub.status.busy": "2023-04-19T16:37:36.114533Z",
     "iopub.status.idle": "2023-04-19T16:48:23.526138Z",
     "shell.execute_reply": "2023-04-19T16:48:23.524961Z"
    },
    "papermill": {
     "duration": 647.497422,
     "end_time": "2023-04-19T16:48:23.528881",
     "exception": false,
     "start_time": "2023-04-19T16:37:36.031459",
     "status": "completed"
    },
    "tags": []
   },
   "outputs": [],
   "source": [
    "from sklearn import svm\n",
    "\n",
    "# Train the SVM\n",
    "svm_model = svm.SVC(kernel='rbf')\n",
    "svm_model.fit(X_train,y_train)\n",
    "\n",
    "# Evaluate the model\n",
    "y_pred = svm_model.predict(X_test)"
   ]
  },
  {
   "cell_type": "code",
   "execution_count": 15,
   "id": "de2d11f7",
   "metadata": {
    "execution": {
     "iopub.execute_input": "2023-04-19T16:48:23.755551Z",
     "iopub.status.busy": "2023-04-19T16:48:23.755160Z",
     "iopub.status.idle": "2023-04-19T16:48:23.763117Z",
     "shell.execute_reply": "2023-04-19T16:48:23.762109Z"
    },
    "papermill": {
     "duration": 0.092479,
     "end_time": "2023-04-19T16:48:23.765336",
     "exception": false,
     "start_time": "2023-04-19T16:48:23.672857",
     "status": "completed"
    },
    "tags": []
   },
   "outputs": [
    {
     "data": {
      "text/plain": [
       "0.830380344909048"
      ]
     },
     "execution_count": 15,
     "metadata": {},
     "output_type": "execute_result"
    }
   ],
   "source": [
    "accuracy_score(y_test, y_pred)"
   ]
  },
  {
   "cell_type": "code",
   "execution_count": 16,
   "id": "a02047ce",
   "metadata": {
    "execution": {
     "iopub.execute_input": "2023-04-19T16:48:23.925861Z",
     "iopub.status.busy": "2023-04-19T16:48:23.924932Z",
     "iopub.status.idle": "2023-04-19T16:48:23.944743Z",
     "shell.execute_reply": "2023-04-19T16:48:23.943274Z"
    },
    "papermill": {
     "duration": 0.102353,
     "end_time": "2023-04-19T16:48:23.946971",
     "exception": false,
     "start_time": "2023-04-19T16:48:23.844618",
     "status": "completed"
    },
    "tags": []
   },
   "outputs": [
    {
     "name": "stdout",
     "output_type": "stream",
     "text": [
      "Classification report for classifier SVC():\n",
      "              precision    recall  f1-score   support\n",
      "\n",
      "           0       0.83      0.92      0.87      2038\n",
      "           1       0.82      0.65      0.73       723\n",
      "           2       0.82      0.77      0.79      1203\n",
      "           3       0.92      0.90      0.91       269\n",
      "\n",
      "    accuracy                           0.83      4233\n",
      "   macro avg       0.85      0.81      0.83      4233\n",
      "weighted avg       0.83      0.83      0.83      4233\n",
      "\n",
      "\n"
     ]
    }
   ],
   "source": [
    "# confusion matrix and accuracy\n",
    "\n",
    "from sklearn import metrics\n",
    "from sklearn.metrics import classification_report \n",
    "\n",
    "print(f\"Classification report for classifier {svm_model}:\\n\"\n",
    "      f\"{metrics.classification_report(y_test, y_pred)}\\n\")"
   ]
  },
  {
   "cell_type": "code",
   "execution_count": 17,
   "id": "f0a06eec",
   "metadata": {
    "execution": {
     "iopub.execute_input": "2023-04-19T16:48:24.112858Z",
     "iopub.status.busy": "2023-04-19T16:48:24.112155Z",
     "iopub.status.idle": "2023-04-19T16:49:54.158260Z",
     "shell.execute_reply": "2023-04-19T16:49:54.157271Z"
    },
    "papermill": {
     "duration": 90.130276,
     "end_time": "2023-04-19T16:49:54.160748",
     "exception": false,
     "start_time": "2023-04-19T16:48:24.030472",
     "status": "completed"
    },
    "tags": []
   },
   "outputs": [],
   "source": [
    "from sklearn.ensemble import RandomForestClassifier\n",
    "\n",
    "# Random forest classifier\n",
    "rf_model = RandomForestClassifier(n_estimators=100, n_jobs=1)\n",
    "rf_model.fit(X_train,y_train)\n",
    "\n",
    "# predict\n",
    "y_pred = rf_model.predict(X_test)"
   ]
  },
  {
   "cell_type": "code",
   "execution_count": 18,
   "id": "e8a6ca01",
   "metadata": {
    "execution": {
     "iopub.execute_input": "2023-04-19T16:49:54.358513Z",
     "iopub.status.busy": "2023-04-19T16:49:54.357937Z",
     "iopub.status.idle": "2023-04-19T16:49:54.388618Z",
     "shell.execute_reply": "2023-04-19T16:49:54.387399Z"
    },
    "papermill": {
     "duration": 0.150517,
     "end_time": "2023-04-19T16:49:54.392313",
     "exception": false,
     "start_time": "2023-04-19T16:49:54.241796",
     "status": "completed"
    },
    "tags": []
   },
   "outputs": [
    {
     "name": "stdout",
     "output_type": "stream",
     "text": [
      "Accuracy: 0.8332152137963619\n",
      "Classification report for classifier RandomForestClassifier(n_jobs=1):\n",
      "              precision    recall  f1-score   support\n",
      "\n",
      "           0       0.83      0.92      0.87      2038\n",
      "           1       0.88      0.69      0.78       723\n",
      "           2       0.81      0.78      0.79      1203\n",
      "           3       0.89      0.82      0.85       269\n",
      "\n",
      "    accuracy                           0.83      4233\n",
      "   macro avg       0.85      0.80      0.82      4233\n",
      "weighted avg       0.84      0.83      0.83      4233\n",
      "\n",
      "\n"
     ]
    }
   ],
   "source": [
    "# confusion matrix and accuracy\n",
    "\n",
    "from sklearn import metrics\n",
    "from sklearn.metrics import classification_report \n",
    "\n",
    "acc = accuracy_score(y_test, y_pred)\n",
    "print(f\"Accuracy: {acc}\")\n",
    "print(f\"Classification report for classifier {rf_model}:\\n\"\n",
    "      f\"{metrics.classification_report(y_test, y_pred)}\\n\")"
   ]
  },
  {
   "cell_type": "code",
   "execution_count": 19,
   "id": "068a7172",
   "metadata": {
    "execution": {
     "iopub.execute_input": "2023-04-19T16:49:54.725951Z",
     "iopub.status.busy": "2023-04-19T16:49:54.725501Z",
     "iopub.status.idle": "2023-04-19T17:08:02.835076Z",
     "shell.execute_reply": "2023-04-19T17:08:02.834163Z"
    },
    "papermill": {
     "duration": 1088.237436,
     "end_time": "2023-04-19T17:08:02.837544",
     "exception": false,
     "start_time": "2023-04-19T16:49:54.600108",
     "status": "completed"
    },
    "tags": []
   },
   "outputs": [],
   "source": [
    "import xgboost as xgb\n",
    "xgb_model = xgb.XGBClassifier(objective=\"binary:logistic\", random_state=42)\n",
    "xgb_model.fit(X_train, y_train)\n",
    "\n",
    "y_pred = xgb_model.predict(X_test)"
   ]
  },
  {
   "cell_type": "code",
   "execution_count": 20,
   "id": "8dbc7301",
   "metadata": {
    "execution": {
     "iopub.execute_input": "2023-04-19T17:08:03.000277Z",
     "iopub.status.busy": "2023-04-19T17:08:02.999937Z",
     "iopub.status.idle": "2023-04-19T17:08:03.018417Z",
     "shell.execute_reply": "2023-04-19T17:08:03.016754Z"
    },
    "papermill": {
     "duration": 0.100083,
     "end_time": "2023-04-19T17:08:03.020414",
     "exception": false,
     "start_time": "2023-04-19T17:08:02.920331",
     "status": "completed"
    },
    "tags": []
   },
   "outputs": [
    {
     "name": "stdout",
     "output_type": "stream",
     "text": [
      "Accuracy: 0.8745570517363572\n",
      "Classification report for classifier XGBClassifier(base_score=0.5, booster='gbtree', callbacks=None,\n",
      "              colsample_bylevel=1, colsample_bynode=1, colsample_bytree=1,\n",
      "              early_stopping_rounds=None, enable_categorical=False,\n",
      "              eval_metric=None, gamma=0, gpu_id=-1, grow_policy='depthwise',\n",
      "              importance_type=None, interaction_constraints='',\n",
      "              learning_rate=0.300000012, max_bin=256, max_cat_to_onehot=4,\n",
      "              max_delta_step=0, max_depth=6, max_leaves=0, min_child_weight=1,\n",
      "              missing=nan, monotone_constraints='()', n_estimators=100,\n",
      "              n_jobs=0, num_parallel_tree=1, objective='multi:softprob',\n",
      "              predictor='auto', random_state=42, reg_alpha=0, ...):\n",
      "              precision    recall  f1-score   support\n",
      "\n",
      "           0       0.87      0.92      0.89      2038\n",
      "           1       0.92      0.85      0.88       723\n",
      "           2       0.85      0.81      0.83      1203\n",
      "           3       0.91      0.89      0.90       269\n",
      "\n",
      "    accuracy                           0.87      4233\n",
      "   macro avg       0.89      0.87      0.88      4233\n",
      "weighted avg       0.88      0.87      0.87      4233\n",
      "\n",
      "\n"
     ]
    }
   ],
   "source": [
    "# confusion matrix and accuracy\n",
    "\n",
    "from sklearn import metrics\n",
    "from sklearn.metrics import classification_report \n",
    "\n",
    "acc = accuracy_score(y_test, y_pred)\n",
    "print(f\"Accuracy: {acc}\")\n",
    "print(f\"Classification report for classifier {xgb_model}:\\n\"\n",
    "      f\"{metrics.classification_report(y_test, y_pred)}\\n\")"
   ]
  },
  {
   "cell_type": "code",
   "execution_count": 21,
   "id": "250e24b3",
   "metadata": {
    "execution": {
     "iopub.execute_input": "2023-04-19T17:08:03.181182Z",
     "iopub.status.busy": "2023-04-19T17:08:03.180424Z",
     "iopub.status.idle": "2023-04-19T17:08:03.778919Z",
     "shell.execute_reply": "2023-04-19T17:08:03.777615Z"
    },
    "papermill": {
     "duration": 0.682166,
     "end_time": "2023-04-19T17:08:03.782816",
     "exception": false,
     "start_time": "2023-04-19T17:08:03.100650",
     "status": "completed"
    },
    "tags": []
   },
   "outputs": [],
   "source": [
    "from sklearn.naive_bayes import MultinomialNB\n",
    "\n",
    "# Train the MultinomialNB\n",
    "nb_model = MultinomialNB()\n",
    "nb_model.fit(X_train,y_train)\n",
    "\n",
    "# Evaluate the model\n",
    "y_pred = nb_model.predict(X_test)"
   ]
  },
  {
   "cell_type": "code",
   "execution_count": 22,
   "id": "019e6713",
   "metadata": {
    "execution": {
     "iopub.execute_input": "2023-04-19T17:08:04.022896Z",
     "iopub.status.busy": "2023-04-19T17:08:04.022588Z",
     "iopub.status.idle": "2023-04-19T17:08:04.038937Z",
     "shell.execute_reply": "2023-04-19T17:08:04.037685Z"
    },
    "papermill": {
     "duration": 0.099389,
     "end_time": "2023-04-19T17:08:04.041174",
     "exception": false,
     "start_time": "2023-04-19T17:08:03.941785",
     "status": "completed"
    },
    "tags": []
   },
   "outputs": [
    {
     "name": "stdout",
     "output_type": "stream",
     "text": [
      "Accuracy: 0.556343019135365\n",
      "Classification report for classifier MultinomialNB():\n",
      "              precision    recall  f1-score   support\n",
      "\n",
      "           0       0.77      0.51      0.61      2038\n",
      "           1       0.33      0.52      0.41       723\n",
      "           2       0.63      0.59      0.61      1203\n",
      "           3       0.37      0.88      0.52       269\n",
      "\n",
      "    accuracy                           0.56      4233\n",
      "   macro avg       0.53      0.62      0.54      4233\n",
      "weighted avg       0.63      0.56      0.57      4233\n",
      "\n",
      "\n"
     ]
    }
   ],
   "source": [
    "# confusion matrix and accuracy\n",
    "\n",
    "from sklearn import metrics\n",
    "from sklearn.metrics import classification_report \n",
    "\n",
    "acc = accuracy_score(y_test, y_pred)\n",
    "print(f\"Accuracy: {acc}\")\n",
    "print(f\"Classification report for classifier {nb_model}:\\n\"\n",
    "      f\"{metrics.classification_report(y_test, y_pred)}\\n\")"
   ]
  },
  {
   "cell_type": "markdown",
   "id": "b4715ac1",
   "metadata": {
    "papermill": {
     "duration": 0.078189,
     "end_time": "2023-04-19T17:08:04.200553",
     "exception": false,
     "start_time": "2023-04-19T17:08:04.122364",
     "status": "completed"
    },
    "tags": []
   },
   "source": [
    "## MLP"
   ]
  },
  {
   "cell_type": "code",
   "execution_count": 23,
   "id": "c9b4aeb0",
   "metadata": {
    "execution": {
     "iopub.execute_input": "2023-04-19T17:08:04.360952Z",
     "iopub.status.busy": "2023-04-19T17:08:04.360088Z",
     "iopub.status.idle": "2023-04-19T17:08:04.525542Z",
     "shell.execute_reply": "2023-04-19T17:08:04.524208Z"
    },
    "papermill": {
     "duration": 0.247854,
     "end_time": "2023-04-19T17:08:04.527661",
     "exception": false,
     "start_time": "2023-04-19T17:08:04.279807",
     "status": "completed"
    },
    "tags": []
   },
   "outputs": [
    {
     "name": "stdout",
     "output_type": "stream",
     "text": [
      "x_train type: <class 'numpy.ndarray'>\n",
      "x_train shape: (16932, 4096)\n",
      "x_test shape: (4233, 4096)\n",
      "y_train shape: (16932, 4)\n",
      "y_test shape: (4233, 4)\n"
     ]
    }
   ],
   "source": [
    "y_train = tf.keras.utils.to_categorical(y_train)\n",
    "y_test = tf.keras.utils.to_categorical(y_test)\n",
    "\n",
    "# MLP\n",
    "# preprocessing for x_train\n",
    "# flatten image 64*64 -> 4096\n",
    "X_train = np.reshape(X_train, [X_train.shape[0], input_size])\n",
    "X_train = X_train.astype('float32') / 255\n",
    "\n",
    "X_test = np.reshape(X_test, [X_test.shape[0], input_size])\n",
    "X_test = X_test.astype('float32') / 255\n",
    "\n",
    "print(\"x_train type:\", type(X_train))\n",
    "print(\"x_train shape:\", X_train.shape)\n",
    "print(\"x_test shape:\", X_test.shape)\n",
    "print(\"y_train shape:\", y_train.shape)\n",
    "print(\"y_test shape:\", y_test.shape)"
   ]
  },
  {
   "cell_type": "code",
   "execution_count": 24,
   "id": "2175e090",
   "metadata": {
    "execution": {
     "iopub.execute_input": "2023-04-19T17:08:04.690670Z",
     "iopub.status.busy": "2023-04-19T17:08:04.690269Z",
     "iopub.status.idle": "2023-04-19T17:08:11.144552Z",
     "shell.execute_reply": "2023-04-19T17:08:11.143493Z"
    },
    "papermill": {
     "duration": 6.537947,
     "end_time": "2023-04-19T17:08:11.146743",
     "exception": false,
     "start_time": "2023-04-19T17:08:04.608796",
     "status": "completed"
    },
    "tags": []
   },
   "outputs": [
    {
     "name": "stdout",
     "output_type": "stream",
     "text": [
      "Model: \"sequential\"\n",
      "_________________________________________________________________\n",
      "Layer (type)                 Output Shape              Param #   \n",
      "=================================================================\n",
      "dense (Dense)                (None, 256)               1048832   \n",
      "_________________________________________________________________\n",
      "activation (Activation)      (None, 256)               0         \n",
      "_________________________________________________________________\n",
      "dropout (Dropout)            (None, 256)               0         \n",
      "_________________________________________________________________\n",
      "dense_1 (Dense)              (None, 4)                 1028      \n",
      "_________________________________________________________________\n",
      "activation_1 (Activation)    (None, 4)                 0         \n",
      "=================================================================\n",
      "Total params: 1,049,860\n",
      "Trainable params: 1,049,860\n",
      "Non-trainable params: 0\n",
      "_________________________________________________________________\n"
     ]
    }
   ],
   "source": [
    "# MLP with ReLU and dropout\n",
    "mlp_model = Sequential()\n",
    "mlp_model.add(Dense(256, input_dim=input_size))\n",
    "mlp_model.add(Activation('relu'))\n",
    "mlp_model.add(Dropout(0.5))\n",
    "mlp_model.add(Dense(num_classes))\n",
    "mlp_model.add(Activation('softmax'))\n",
    "mlp_model.summary()\n",
    "\n",
    "mlp_model.compile(loss='categorical_crossentropy', optimizer='rmsprop', \n",
    "               metrics=['accuracy'])"
   ]
  },
  {
   "cell_type": "code",
   "execution_count": 25,
   "id": "114f11bd",
   "metadata": {
    "execution": {
     "iopub.execute_input": "2023-04-19T17:08:11.351594Z",
     "iopub.status.busy": "2023-04-19T17:08:11.351210Z",
     "iopub.status.idle": "2023-04-19T17:08:36.256611Z",
     "shell.execute_reply": "2023-04-19T17:08:36.255683Z"
    },
    "papermill": {
     "duration": 25.029744,
     "end_time": "2023-04-19T17:08:36.258477",
     "exception": false,
     "start_time": "2023-04-19T17:08:11.228733",
     "status": "completed"
    },
    "tags": []
   },
   "outputs": [
    {
     "name": "stdout",
     "output_type": "stream",
     "text": [
      "Epoch 1/50\n",
      "133/133 [==============================] - 2s 3ms/step - loss: 1.1331 - accuracy: 0.4878\n",
      "Epoch 2/50\n",
      "133/133 [==============================] - 1s 4ms/step - loss: 0.9746 - accuracy: 0.5802\n",
      "Epoch 3/50\n",
      "133/133 [==============================] - 0s 3ms/step - loss: 0.8992 - accuracy: 0.6332\n",
      "Epoch 4/50\n",
      "133/133 [==============================] - 0s 3ms/step - loss: 0.8696 - accuracy: 0.6509\n",
      "Epoch 5/50\n",
      "133/133 [==============================] - 0s 3ms/step - loss: 0.8459 - accuracy: 0.6588\n",
      "Epoch 6/50\n",
      "133/133 [==============================] - 0s 3ms/step - loss: 0.8306 - accuracy: 0.6723\n",
      "Epoch 7/50\n",
      "133/133 [==============================] - 0s 3ms/step - loss: 0.8174 - accuracy: 0.6741\n",
      "Epoch 8/50\n",
      "133/133 [==============================] - 0s 3ms/step - loss: 0.8043 - accuracy: 0.6807\n",
      "Epoch 9/50\n",
      "133/133 [==============================] - 0s 3ms/step - loss: 0.7935 - accuracy: 0.6844\n",
      "Epoch 10/50\n",
      "133/133 [==============================] - 0s 3ms/step - loss: 0.7851 - accuracy: 0.6875\n",
      "Epoch 11/50\n",
      "133/133 [==============================] - 0s 3ms/step - loss: 0.7746 - accuracy: 0.6897\n",
      "Epoch 12/50\n",
      "133/133 [==============================] - 0s 3ms/step - loss: 0.7677 - accuracy: 0.6929\n",
      "Epoch 13/50\n",
      "133/133 [==============================] - 0s 3ms/step - loss: 0.7588 - accuracy: 0.6979\n",
      "Epoch 14/50\n",
      "133/133 [==============================] - 0s 3ms/step - loss: 0.7544 - accuracy: 0.7004\n",
      "Epoch 15/50\n",
      "133/133 [==============================] - 0s 3ms/step - loss: 0.7463 - accuracy: 0.7033\n",
      "Epoch 16/50\n",
      "133/133 [==============================] - 0s 3ms/step - loss: 0.7398 - accuracy: 0.7049\n",
      "Epoch 17/50\n",
      "133/133 [==============================] - 0s 3ms/step - loss: 0.7364 - accuracy: 0.7071\n",
      "Epoch 18/50\n",
      "133/133 [==============================] - 0s 3ms/step - loss: 0.7299 - accuracy: 0.7072\n",
      "Epoch 19/50\n",
      "133/133 [==============================] - 0s 3ms/step - loss: 0.7248 - accuracy: 0.7116\n",
      "Epoch 20/50\n",
      "133/133 [==============================] - 0s 3ms/step - loss: 0.7208 - accuracy: 0.7134\n",
      "Epoch 21/50\n",
      "133/133 [==============================] - 0s 4ms/step - loss: 0.7162 - accuracy: 0.7157\n",
      "Epoch 22/50\n",
      "133/133 [==============================] - 1s 5ms/step - loss: 0.7140 - accuracy: 0.7175\n",
      "Epoch 23/50\n",
      "133/133 [==============================] - 1s 4ms/step - loss: 0.7084 - accuracy: 0.7168\n",
      "Epoch 24/50\n",
      "133/133 [==============================] - 0s 3ms/step - loss: 0.7029 - accuracy: 0.7184\n",
      "Epoch 25/50\n",
      "133/133 [==============================] - 0s 3ms/step - loss: 0.6985 - accuracy: 0.7222\n",
      "Epoch 26/50\n",
      "133/133 [==============================] - 1s 4ms/step - loss: 0.6949 - accuracy: 0.7248\n",
      "Epoch 27/50\n",
      "133/133 [==============================] - 0s 3ms/step - loss: 0.6901 - accuracy: 0.7294\n",
      "Epoch 28/50\n",
      "133/133 [==============================] - 0s 3ms/step - loss: 0.6892 - accuracy: 0.7261\n",
      "Epoch 29/50\n",
      "133/133 [==============================] - 0s 3ms/step - loss: 0.6873 - accuracy: 0.7292\n",
      "Epoch 30/50\n",
      "133/133 [==============================] - 0s 3ms/step - loss: 0.6840 - accuracy: 0.7313\n",
      "Epoch 31/50\n",
      "133/133 [==============================] - 0s 3ms/step - loss: 0.6791 - accuracy: 0.7337\n",
      "Epoch 32/50\n",
      "133/133 [==============================] - 0s 3ms/step - loss: 0.6775 - accuracy: 0.7320\n",
      "Epoch 33/50\n",
      "133/133 [==============================] - 0s 3ms/step - loss: 0.6732 - accuracy: 0.7336\n",
      "Epoch 34/50\n",
      "133/133 [==============================] - 0s 3ms/step - loss: 0.6717 - accuracy: 0.7343\n",
      "Epoch 35/50\n",
      "133/133 [==============================] - 0s 3ms/step - loss: 0.6687 - accuracy: 0.7367\n",
      "Epoch 36/50\n",
      "133/133 [==============================] - 0s 3ms/step - loss: 0.6687 - accuracy: 0.7377\n",
      "Epoch 37/50\n",
      "133/133 [==============================] - 0s 3ms/step - loss: 0.6666 - accuracy: 0.7371\n",
      "Epoch 38/50\n",
      "133/133 [==============================] - 0s 3ms/step - loss: 0.6617 - accuracy: 0.7387\n",
      "Epoch 39/50\n",
      "133/133 [==============================] - 0s 3ms/step - loss: 0.6595 - accuracy: 0.7395\n",
      "Epoch 40/50\n",
      "133/133 [==============================] - 0s 3ms/step - loss: 0.6574 - accuracy: 0.7382\n",
      "Epoch 41/50\n",
      "133/133 [==============================] - 0s 3ms/step - loss: 0.6514 - accuracy: 0.7434\n",
      "Epoch 42/50\n",
      "133/133 [==============================] - 0s 3ms/step - loss: 0.6504 - accuracy: 0.7440\n",
      "Epoch 43/50\n",
      "133/133 [==============================] - 0s 3ms/step - loss: 0.6490 - accuracy: 0.7452\n",
      "Epoch 44/50\n",
      "133/133 [==============================] - 0s 3ms/step - loss: 0.6462 - accuracy: 0.7446\n",
      "Epoch 45/50\n",
      "133/133 [==============================] - 0s 3ms/step - loss: 0.6474 - accuracy: 0.7467\n",
      "Epoch 46/50\n",
      "133/133 [==============================] - 0s 3ms/step - loss: 0.6455 - accuracy: 0.7486\n",
      "Epoch 47/50\n",
      "133/133 [==============================] - 0s 3ms/step - loss: 0.6421 - accuracy: 0.7494\n",
      "Epoch 48/50\n",
      "133/133 [==============================] - 0s 3ms/step - loss: 0.6361 - accuracy: 0.7530\n",
      "Epoch 49/50\n",
      "133/133 [==============================] - 0s 3ms/step - loss: 0.6377 - accuracy: 0.7508\n",
      "Epoch 50/50\n",
      "133/133 [==============================] - 0s 3ms/step - loss: 0.6329 - accuracy: 0.7496\n",
      "Training Time : 24.899923086166382\n"
     ]
    }
   ],
   "source": [
    "start_time = time.time() \n",
    "history = mlp_model.fit(X_train, y_train, epochs=50, batch_size=128)\n",
    "print(\"Training Time :\", time.time() - start_time)"
   ]
  },
  {
   "cell_type": "code",
   "execution_count": 26,
   "id": "eac75dc3",
   "metadata": {
    "execution": {
     "iopub.execute_input": "2023-04-19T17:08:36.572752Z",
     "iopub.status.busy": "2023-04-19T17:08:36.572396Z",
     "iopub.status.idle": "2023-04-19T17:08:37.616587Z",
     "shell.execute_reply": "2023-04-19T17:08:37.615677Z"
    },
    "papermill": {
     "duration": 1.182259,
     "end_time": "2023-04-19T17:08:37.618673",
     "exception": false,
     "start_time": "2023-04-19T17:08:36.436414",
     "status": "completed"
    },
    "tags": []
   },
   "outputs": [
    {
     "name": "stdout",
     "output_type": "stream",
     "text": [
      "Accuracy model8 adam: 74.75%\n"
     ]
    },
    {
     "data": {
      "text/html": [
       "<div>\n",
       "<style scoped>\n",
       "    .dataframe tbody tr th:only-of-type {\n",
       "        vertical-align: middle;\n",
       "    }\n",
       "\n",
       "    .dataframe tbody tr th {\n",
       "        vertical-align: top;\n",
       "    }\n",
       "\n",
       "    .dataframe thead th {\n",
       "        text-align: right;\n",
       "    }\n",
       "</style>\n",
       "<table border=\"1\" class=\"dataframe\">\n",
       "  <thead>\n",
       "    <tr style=\"text-align: right;\">\n",
       "      <th>col_0</th>\n",
       "      <th>0</th>\n",
       "      <th>1</th>\n",
       "      <th>2</th>\n",
       "      <th>3</th>\n",
       "    </tr>\n",
       "    <tr>\n",
       "      <th>row_0</th>\n",
       "      <th></th>\n",
       "      <th></th>\n",
       "      <th></th>\n",
       "      <th></th>\n",
       "    </tr>\n",
       "  </thead>\n",
       "  <tbody>\n",
       "    <tr>\n",
       "      <th>0</th>\n",
       "      <td>1805</td>\n",
       "      <td>82</td>\n",
       "      <td>121</td>\n",
       "      <td>30</td>\n",
       "    </tr>\n",
       "    <tr>\n",
       "      <th>1</th>\n",
       "      <td>275</td>\n",
       "      <td>320</td>\n",
       "      <td>121</td>\n",
       "      <td>7</td>\n",
       "    </tr>\n",
       "    <tr>\n",
       "      <th>2</th>\n",
       "      <td>286</td>\n",
       "      <td>98</td>\n",
       "      <td>794</td>\n",
       "      <td>25</td>\n",
       "    </tr>\n",
       "    <tr>\n",
       "      <th>3</th>\n",
       "      <td>12</td>\n",
       "      <td>5</td>\n",
       "      <td>7</td>\n",
       "      <td>245</td>\n",
       "    </tr>\n",
       "  </tbody>\n",
       "</table>\n",
       "</div>"
      ],
      "text/plain": [
       "col_0     0    1    2    3\n",
       "row_0                     \n",
       "0      1805   82  121   30\n",
       "1       275  320  121    7\n",
       "2       286   98  794   25\n",
       "3        12    5    7  245"
      ]
     },
     "execution_count": 26,
     "metadata": {},
     "output_type": "execute_result"
    }
   ],
   "source": [
    "loss, acc = mlp_model.evaluate(X_test, y_test, verbose=0)\n",
    "\n",
    "print(\"Accuracy model8 adam: %.2f%%\" % (100.0 * acc))\n",
    "\n",
    "predictions = mlp_model.predict(X_test)\n",
    "pd.crosstab(np.argmax(y_test, axis=1), np.argmax(predictions, axis=1))"
   ]
  },
  {
   "cell_type": "code",
   "execution_count": 27,
   "id": "141e5920",
   "metadata": {
    "execution": {
     "iopub.execute_input": "2023-04-19T17:08:37.831651Z",
     "iopub.status.busy": "2023-04-19T17:08:37.831346Z",
     "iopub.status.idle": "2023-04-19T17:08:37.846079Z",
     "shell.execute_reply": "2023-04-19T17:08:37.844754Z"
    },
    "papermill": {
     "duration": 0.123575,
     "end_time": "2023-04-19T17:08:37.848431",
     "exception": false,
     "start_time": "2023-04-19T17:08:37.724856",
     "status": "completed"
    },
    "tags": []
   },
   "outputs": [
    {
     "name": "stdout",
     "output_type": "stream",
     "text": [
      "Classification report for classifier :\n",
      "              precision    recall  f1-score   support\n",
      "\n",
      "           0       0.76      0.89      0.82      2038\n",
      "           1       0.63      0.44      0.52       723\n",
      "           2       0.76      0.66      0.71      1203\n",
      "           3       0.80      0.91      0.85       269\n",
      "\n",
      "    accuracy                           0.75      4233\n",
      "   macro avg       0.74      0.72      0.72      4233\n",
      "weighted avg       0.74      0.75      0.74      4233\n",
      "\n",
      "\n"
     ]
    }
   ],
   "source": [
    "# confusion matrix and accuracy\n",
    "\n",
    "from sklearn import metrics\n",
    "from sklearn.metrics import classification_report \n",
    "\n",
    "print(\"Classification report for classifier :\\n\"\n",
    "      f\"{metrics.classification_report(np.argmax(y_test, axis=1), np.argmax(predictions, axis=1))}\\n\")"
   ]
  },
  {
   "cell_type": "markdown",
   "id": "a91f3dfb",
   "metadata": {
    "papermill": {
     "duration": 0.105003,
     "end_time": "2023-04-19T17:08:38.061796",
     "exception": false,
     "start_time": "2023-04-19T17:08:37.956793",
     "status": "completed"
    },
    "tags": []
   },
   "source": [
    "## ConvNet"
   ]
  },
  {
   "cell_type": "code",
   "execution_count": 28,
   "id": "a99a32ad",
   "metadata": {
    "execution": {
     "iopub.execute_input": "2023-04-19T17:08:38.271374Z",
     "iopub.status.busy": "2023-04-19T17:08:38.271059Z",
     "iopub.status.idle": "2023-04-19T17:08:38.426604Z",
     "shell.execute_reply": "2023-04-19T17:08:38.425445Z"
    },
    "papermill": {
     "duration": 0.263358,
     "end_time": "2023-04-19T17:08:38.429295",
     "exception": false,
     "start_time": "2023-04-19T17:08:38.165937",
     "status": "completed"
    },
    "tags": []
   },
   "outputs": [
    {
     "name": "stdout",
     "output_type": "stream",
     "text": [
      "(16932, 64, 64, 1)\n",
      "(4233, 64, 64, 1)\n",
      "(16932, 4)\n",
      "(4233, 4)\n"
     ]
    }
   ],
   "source": [
    "# Reconstruct 2D matrix 64x64\n",
    "# 20% for test\n",
    "\n",
    "X_train, X_test, y_train, y_test = train_test_split(pixel_img, label_img, \n",
    "                                                    test_size=0.2, stratify=label_img)\n",
    "\n",
    "y_train = tf.keras.utils.to_categorical(y_train)\n",
    "y_test = tf.keras.utils.to_categorical(y_test)\n",
    "\n",
    "X_train = X_train.astype('float32') / 255\n",
    "X_test = X_test.astype('float32') / 255\n",
    "\n",
    "print(X_train.shape)\n",
    "print(X_test.shape)\n",
    "print(y_train.shape)\n",
    "print(y_test.shape)\n",
    "\n",
    "input_shape = (X_train.shape[1],X_train.shape[2],1)"
   ]
  },
  {
   "cell_type": "code",
   "execution_count": 29,
   "id": "a3445cff",
   "metadata": {
    "execution": {
     "iopub.execute_input": "2023-04-19T17:08:38.643478Z",
     "iopub.status.busy": "2023-04-19T17:08:38.643129Z",
     "iopub.status.idle": "2023-04-19T17:08:38.743404Z",
     "shell.execute_reply": "2023-04-19T17:08:38.742147Z"
    },
    "papermill": {
     "duration": 0.208983,
     "end_time": "2023-04-19T17:08:38.745564",
     "exception": false,
     "start_time": "2023-04-19T17:08:38.536581",
     "status": "completed"
    },
    "tags": []
   },
   "outputs": [
    {
     "name": "stdout",
     "output_type": "stream",
     "text": [
      "Model: \"sequential_1\"\n",
      "_________________________________________________________________\n",
      "Layer (type)                 Output Shape              Param #   \n",
      "=================================================================\n",
      "conv2d (Conv2D)              (None, 64, 64, 32)        320       \n",
      "_________________________________________________________________\n",
      "conv2d_1 (Conv2D)            (None, 62, 62, 32)        9248      \n",
      "_________________________________________________________________\n",
      "max_pooling2d (MaxPooling2D) (None, 31, 31, 32)        0         \n",
      "_________________________________________________________________\n",
      "dropout_1 (Dropout)          (None, 31, 31, 32)        0         \n",
      "_________________________________________________________________\n",
      "conv2d_2 (Conv2D)            (None, 31, 31, 32)        9248      \n",
      "_________________________________________________________________\n",
      "conv2d_3 (Conv2D)            (None, 29, 29, 32)        9248      \n",
      "_________________________________________________________________\n",
      "max_pooling2d_1 (MaxPooling2 (None, 14, 14, 32)        0         \n",
      "_________________________________________________________________\n",
      "dropout_2 (Dropout)          (None, 14, 14, 32)        0         \n",
      "_________________________________________________________________\n",
      "conv2d_4 (Conv2D)            (None, 14, 14, 32)        9248      \n",
      "_________________________________________________________________\n",
      "conv2d_5 (Conv2D)            (None, 12, 12, 32)        9248      \n",
      "_________________________________________________________________\n",
      "max_pooling2d_2 (MaxPooling2 (None, 6, 6, 32)          0         \n",
      "_________________________________________________________________\n",
      "dropout_3 (Dropout)          (None, 6, 6, 32)          0         \n",
      "_________________________________________________________________\n",
      "flatten (Flatten)            (None, 1152)              0         \n",
      "_________________________________________________________________\n",
      "dropout_4 (Dropout)          (None, 1152)              0         \n",
      "_________________________________________________________________\n",
      "dense_2 (Dense)              (None, 512)               590336    \n",
      "_________________________________________________________________\n",
      "dense_3 (Dense)              (None, 4)                 2052      \n",
      "=================================================================\n",
      "Total params: 638,948\n",
      "Trainable params: 638,948\n",
      "Non-trainable params: 0\n",
      "_________________________________________________________________\n"
     ]
    }
   ],
   "source": [
    "cnn_model1 = keras.Sequential(\n",
    "    [\n",
    "        keras.Input(shape=input_shape),\n",
    "        layers.Conv2D(32, kernel_size=(3,3), padding=\"same\", activation=\"relu\"),\n",
    "        layers.Conv2D(32, kernel_size=(3,3), padding=\"valid\", activation=\"relu\"),\n",
    "        layers.MaxPooling2D(pool_size=(2,2)),\n",
    "        layers.Dropout(0.2, seed=235), \n",
    "        layers.Conv2D(32, kernel_size=(3,3), padding=\"same\", activation=\"relu\"),\n",
    "        layers.Conv2D(32, kernel_size=(3,3), padding=\"valid\", activation=\"relu\"),\n",
    "        layers.MaxPooling2D(pool_size=(2,2)),\n",
    "        layers.Dropout(0.2, seed=235),\n",
    "        layers.Conv2D(32, kernel_size=(3,3), padding=\"same\", activation=\"relu\"),\n",
    "        layers.Conv2D(32, kernel_size=(3,3), padding=\"valid\", activation=\"relu\"),\n",
    "        layers.MaxPooling2D(pool_size=(2,2)),\n",
    "        layers.Dropout(0.2, seed=235),\n",
    "        layers.Flatten(),\n",
    "        layers.Dropout(0.5, seed=235),\n",
    "        layers.Dense(512, activation=\"relu\"),\n",
    "        layers.Dense(num_classes, activation=\"softmax\"),\n",
    "    ]\n",
    ")\n",
    "cnn_model1.summary()"
   ]
  },
  {
   "cell_type": "code",
   "execution_count": 30,
   "id": "e5845e4e",
   "metadata": {
    "execution": {
     "iopub.execute_input": "2023-04-19T17:08:38.957244Z",
     "iopub.status.busy": "2023-04-19T17:08:38.955599Z",
     "iopub.status.idle": "2023-04-19T17:12:01.978099Z",
     "shell.execute_reply": "2023-04-19T17:12:01.976930Z"
    },
    "papermill": {
     "duration": 203.130043,
     "end_time": "2023-04-19T17:12:01.980435",
     "exception": false,
     "start_time": "2023-04-19T17:08:38.850392",
     "status": "completed"
    },
    "tags": []
   },
   "outputs": [
    {
     "name": "stdout",
     "output_type": "stream",
     "text": [
      "Epoch 1/50\n",
      "133/133 [==============================] - 12s 29ms/step - loss: 0.8964 - accuracy: 0.6292\n",
      "Epoch 2/50\n",
      "133/133 [==============================] - 4s 27ms/step - loss: 0.6724 - accuracy: 0.7320\n",
      "Epoch 3/50\n",
      "133/133 [==============================] - 4s 27ms/step - loss: 0.5767 - accuracy: 0.7744\n",
      "Epoch 4/50\n",
      "133/133 [==============================] - 4s 27ms/step - loss: 0.5065 - accuracy: 0.8036\n",
      "Epoch 5/50\n",
      "133/133 [==============================] - 4s 27ms/step - loss: 0.4681 - accuracy: 0.8203\n",
      "Epoch 6/50\n",
      "133/133 [==============================] - 4s 27ms/step - loss: 0.4229 - accuracy: 0.8372\n",
      "Epoch 7/50\n",
      "133/133 [==============================] - 4s 27ms/step - loss: 0.4045 - accuracy: 0.8458\n",
      "Epoch 8/50\n",
      "133/133 [==============================] - 4s 27ms/step - loss: 0.3789 - accuracy: 0.8575\n",
      "Epoch 9/50\n",
      "133/133 [==============================] - 4s 27ms/step - loss: 0.3521 - accuracy: 0.8676\n",
      "Epoch 10/50\n",
      "133/133 [==============================] - 4s 27ms/step - loss: 0.3376 - accuracy: 0.8735\n",
      "Epoch 11/50\n",
      "133/133 [==============================] - 4s 28ms/step - loss: 0.3276 - accuracy: 0.8773\n",
      "Epoch 12/50\n",
      "133/133 [==============================] - 4s 27ms/step - loss: 0.3074 - accuracy: 0.8854\n",
      "Epoch 13/50\n",
      "133/133 [==============================] - 4s 27ms/step - loss: 0.2904 - accuracy: 0.8927\n",
      "Epoch 14/50\n",
      "133/133 [==============================] - 4s 27ms/step - loss: 0.2851 - accuracy: 0.8909\n",
      "Epoch 15/50\n",
      "133/133 [==============================] - 4s 27ms/step - loss: 0.2756 - accuracy: 0.8990\n",
      "Epoch 16/50\n",
      "133/133 [==============================] - 4s 27ms/step - loss: 0.2657 - accuracy: 0.8997\n",
      "Epoch 17/50\n",
      "133/133 [==============================] - 4s 27ms/step - loss: 0.2590 - accuracy: 0.9027\n",
      "Epoch 18/50\n",
      "133/133 [==============================] - 4s 27ms/step - loss: 0.2447 - accuracy: 0.9077\n",
      "Epoch 19/50\n",
      "133/133 [==============================] - 4s 27ms/step - loss: 0.2421 - accuracy: 0.9098\n",
      "Epoch 20/50\n",
      "133/133 [==============================] - 4s 28ms/step - loss: 0.2325 - accuracy: 0.9118\n",
      "Epoch 21/50\n",
      "133/133 [==============================] - 4s 28ms/step - loss: 0.2276 - accuracy: 0.9161\n",
      "Epoch 22/50\n",
      "133/133 [==============================] - 4s 28ms/step - loss: 0.2129 - accuracy: 0.9199\n",
      "Epoch 23/50\n",
      "133/133 [==============================] - 4s 28ms/step - loss: 0.2063 - accuracy: 0.9207\n",
      "Epoch 24/50\n",
      "133/133 [==============================] - 4s 28ms/step - loss: 0.2026 - accuracy: 0.9229\n",
      "Epoch 25/50\n",
      "133/133 [==============================] - 4s 28ms/step - loss: 0.2111 - accuracy: 0.9207\n",
      "Epoch 26/50\n",
      "133/133 [==============================] - 4s 28ms/step - loss: 0.1915 - accuracy: 0.9288\n",
      "Epoch 27/50\n",
      "133/133 [==============================] - 4s 28ms/step - loss: 0.1887 - accuracy: 0.9288\n",
      "Epoch 28/50\n",
      "133/133 [==============================] - 4s 28ms/step - loss: 0.1846 - accuracy: 0.9325\n",
      "Epoch 29/50\n",
      "133/133 [==============================] - 4s 28ms/step - loss: 0.1806 - accuracy: 0.9333\n",
      "Epoch 30/50\n",
      "133/133 [==============================] - 4s 28ms/step - loss: 0.1771 - accuracy: 0.9334\n",
      "Epoch 31/50\n",
      "133/133 [==============================] - 4s 28ms/step - loss: 0.1711 - accuracy: 0.9369\n",
      "Epoch 32/50\n",
      "133/133 [==============================] - 4s 28ms/step - loss: 0.1643 - accuracy: 0.9375\n",
      "Epoch 33/50\n",
      "133/133 [==============================] - 4s 28ms/step - loss: 0.1641 - accuracy: 0.9391\n",
      "Epoch 34/50\n",
      "133/133 [==============================] - 4s 28ms/step - loss: 0.1681 - accuracy: 0.9383\n",
      "Epoch 35/50\n",
      "133/133 [==============================] - 4s 28ms/step - loss: 0.1589 - accuracy: 0.9401\n",
      "Epoch 36/50\n",
      "133/133 [==============================] - 4s 28ms/step - loss: 0.1599 - accuracy: 0.9422\n",
      "Epoch 37/50\n",
      "133/133 [==============================] - 4s 29ms/step - loss: 0.1474 - accuracy: 0.9445\n",
      "Epoch 38/50\n",
      "133/133 [==============================] - 4s 28ms/step - loss: 0.1444 - accuracy: 0.9457\n",
      "Epoch 39/50\n",
      "133/133 [==============================] - 4s 28ms/step - loss: 0.1398 - accuracy: 0.9499\n",
      "Epoch 40/50\n",
      "133/133 [==============================] - 4s 28ms/step - loss: 0.1388 - accuracy: 0.9470\n",
      "Epoch 41/50\n",
      "133/133 [==============================] - 4s 28ms/step - loss: 0.1290 - accuracy: 0.9507\n",
      "Epoch 42/50\n",
      "133/133 [==============================] - 4s 28ms/step - loss: 0.1356 - accuracy: 0.9502\n",
      "Epoch 43/50\n",
      "133/133 [==============================] - 4s 28ms/step - loss: 0.1418 - accuracy: 0.9469\n",
      "Epoch 44/50\n",
      "133/133 [==============================] - 4s 28ms/step - loss: 0.1295 - accuracy: 0.9533\n",
      "Epoch 45/50\n",
      "133/133 [==============================] - 4s 28ms/step - loss: 0.1267 - accuracy: 0.9524\n",
      "Epoch 46/50\n",
      "133/133 [==============================] - 4s 28ms/step - loss: 0.1196 - accuracy: 0.9572\n",
      "Epoch 47/50\n",
      "133/133 [==============================] - 4s 28ms/step - loss: 0.1256 - accuracy: 0.9524\n",
      "Epoch 48/50\n",
      "133/133 [==============================] - 4s 28ms/step - loss: 0.1150 - accuracy: 0.9581\n",
      "Epoch 49/50\n",
      "133/133 [==============================] - 4s 28ms/step - loss: 0.1126 - accuracy: 0.9591\n",
      "Epoch 50/50\n",
      "133/133 [==============================] - 4s 28ms/step - loss: 0.1131 - accuracy: 0.9592\n",
      "Temps de calcul : 203.00861120224\n"
     ]
    }
   ],
   "source": [
    "cnn_model1.compile(loss=\"categorical_crossentropy\", optimizer=\"adam\", metrics=[\"accuracy\"])\n",
    "es = EarlyStopping(monitor='val_accuracy', mode='max', patience=10,  restore_best_weights=True)\n",
    "\n",
    "start_time = time.time() \n",
    "history = cnn_model1.fit(X_train, y_train, epochs=50, batch_size=128)\n",
    "print(\"Temps de calcul :\", time.time() - start_time)"
   ]
  },
  {
   "cell_type": "code",
   "execution_count": 31,
   "id": "dfd68d7d",
   "metadata": {
    "execution": {
     "iopub.execute_input": "2023-04-19T17:12:02.535973Z",
     "iopub.status.busy": "2023-04-19T17:12:02.535599Z",
     "iopub.status.idle": "2023-04-19T17:12:04.112874Z",
     "shell.execute_reply": "2023-04-19T17:12:04.110307Z"
    },
    "papermill": {
     "duration": 1.860632,
     "end_time": "2023-04-19T17:12:04.118748",
     "exception": false,
     "start_time": "2023-04-19T17:12:02.258116",
     "status": "completed"
    },
    "tags": []
   },
   "outputs": [
    {
     "name": "stdout",
     "output_type": "stream",
     "text": [
      "Accuracy model8 adam: 90.86%\n"
     ]
    },
    {
     "data": {
      "text/html": [
       "<div>\n",
       "<style scoped>\n",
       "    .dataframe tbody tr th:only-of-type {\n",
       "        vertical-align: middle;\n",
       "    }\n",
       "\n",
       "    .dataframe tbody tr th {\n",
       "        vertical-align: top;\n",
       "    }\n",
       "\n",
       "    .dataframe thead th {\n",
       "        text-align: right;\n",
       "    }\n",
       "</style>\n",
       "<table border=\"1\" class=\"dataframe\">\n",
       "  <thead>\n",
       "    <tr style=\"text-align: right;\">\n",
       "      <th>col_0</th>\n",
       "      <th>0</th>\n",
       "      <th>1</th>\n",
       "      <th>2</th>\n",
       "      <th>3</th>\n",
       "    </tr>\n",
       "    <tr>\n",
       "      <th>row_0</th>\n",
       "      <th></th>\n",
       "      <th></th>\n",
       "      <th></th>\n",
       "      <th></th>\n",
       "    </tr>\n",
       "  </thead>\n",
       "  <tbody>\n",
       "    <tr>\n",
       "      <th>0</th>\n",
       "      <td>1927</td>\n",
       "      <td>15</td>\n",
       "      <td>89</td>\n",
       "      <td>7</td>\n",
       "    </tr>\n",
       "    <tr>\n",
       "      <th>1</th>\n",
       "      <td>27</td>\n",
       "      <td>653</td>\n",
       "      <td>33</td>\n",
       "      <td>10</td>\n",
       "    </tr>\n",
       "    <tr>\n",
       "      <th>2</th>\n",
       "      <td>183</td>\n",
       "      <td>10</td>\n",
       "      <td>1005</td>\n",
       "      <td>5</td>\n",
       "    </tr>\n",
       "    <tr>\n",
       "      <th>3</th>\n",
       "      <td>8</td>\n",
       "      <td>0</td>\n",
       "      <td>0</td>\n",
       "      <td>261</td>\n",
       "    </tr>\n",
       "  </tbody>\n",
       "</table>\n",
       "</div>"
      ],
      "text/plain": [
       "col_0     0    1     2    3\n",
       "row_0                      \n",
       "0      1927   15    89    7\n",
       "1        27  653    33   10\n",
       "2       183   10  1005    5\n",
       "3         8    0     0  261"
      ]
     },
     "execution_count": 31,
     "metadata": {},
     "output_type": "execute_result"
    }
   ],
   "source": [
    "loss, acc = cnn_model1.evaluate(X_test, y_test, verbose=0)\n",
    "\n",
    "print(\"Accuracy model8 adam: %.2f%%\" % (100.0 * acc))\n",
    "\n",
    "predictions = cnn_model1.predict(X_test)\n",
    "pd.crosstab(np.argmax(y_test, axis=1), np.argmax(predictions, axis=1))"
   ]
  },
  {
   "cell_type": "code",
   "execution_count": 32,
   "id": "31631b60",
   "metadata": {
    "execution": {
     "iopub.execute_input": "2023-04-19T17:12:05.055965Z",
     "iopub.status.busy": "2023-04-19T17:12:05.055525Z",
     "iopub.status.idle": "2023-04-19T17:12:05.074921Z",
     "shell.execute_reply": "2023-04-19T17:12:05.073123Z"
    },
    "papermill": {
     "duration": 0.452959,
     "end_time": "2023-04-19T17:12:05.078165",
     "exception": false,
     "start_time": "2023-04-19T17:12:04.625206",
     "status": "completed"
    },
    "tags": []
   },
   "outputs": [
    {
     "name": "stdout",
     "output_type": "stream",
     "text": [
      "Classification report for classifier :\n",
      "              precision    recall  f1-score   support\n",
      "\n",
      "           0       0.90      0.95      0.92      2038\n",
      "           1       0.96      0.90      0.93       723\n",
      "           2       0.89      0.84      0.86      1203\n",
      "           3       0.92      0.97      0.95       269\n",
      "\n",
      "    accuracy                           0.91      4233\n",
      "   macro avg       0.92      0.91      0.92      4233\n",
      "weighted avg       0.91      0.91      0.91      4233\n",
      "\n",
      "\n"
     ]
    }
   ],
   "source": [
    "# confusion matrix and accuracy\n",
    "\n",
    "from sklearn import metrics\n",
    "from sklearn.metrics import classification_report \n",
    "\n",
    "print(\"Classification report for classifier :\\n\"\n",
    "      f\"{metrics.classification_report(np.argmax(y_test, axis=1), np.argmax(predictions, axis=1))}\\n\")"
   ]
  },
  {
   "cell_type": "code",
   "execution_count": 33,
   "id": "1fb663f2",
   "metadata": {
    "execution": {
     "iopub.execute_input": "2023-04-19T17:12:05.806697Z",
     "iopub.status.busy": "2023-04-19T17:12:05.806334Z",
     "iopub.status.idle": "2023-04-19T17:12:05.919387Z",
     "shell.execute_reply": "2023-04-19T17:12:05.917827Z"
    },
    "papermill": {
     "duration": 0.392733,
     "end_time": "2023-04-19T17:12:05.921515",
     "exception": false,
     "start_time": "2023-04-19T17:12:05.528782",
     "status": "completed"
    },
    "tags": []
   },
   "outputs": [
    {
     "name": "stdout",
     "output_type": "stream",
     "text": [
      "Model: \"sequential_2\"\n",
      "_________________________________________________________________\n",
      "Layer (type)                 Output Shape              Param #   \n",
      "=================================================================\n",
      "conv2d_6 (Conv2D)            (None, 64, 64, 32)        320       \n",
      "_________________________________________________________________\n",
      "conv2d_7 (Conv2D)            (None, 62, 62, 32)        9248      \n",
      "_________________________________________________________________\n",
      "max_pooling2d_3 (MaxPooling2 (None, 31, 31, 32)        0         \n",
      "_________________________________________________________________\n",
      "dropout_5 (Dropout)          (None, 31, 31, 32)        0         \n",
      "_________________________________________________________________\n",
      "conv2d_8 (Conv2D)            (None, 31, 31, 32)        9248      \n",
      "_________________________________________________________________\n",
      "conv2d_9 (Conv2D)            (None, 29, 29, 32)        9248      \n",
      "_________________________________________________________________\n",
      "max_pooling2d_4 (MaxPooling2 (None, 14, 14, 32)        0         \n",
      "_________________________________________________________________\n",
      "dropout_6 (Dropout)          (None, 14, 14, 32)        0         \n",
      "_________________________________________________________________\n",
      "conv2d_10 (Conv2D)           (None, 14, 14, 32)        9248      \n",
      "_________________________________________________________________\n",
      "conv2d_11 (Conv2D)           (None, 12, 12, 32)        9248      \n",
      "_________________________________________________________________\n",
      "max_pooling2d_5 (MaxPooling2 (None, 6, 6, 32)          0         \n",
      "_________________________________________________________________\n",
      "dropout_7 (Dropout)          (None, 6, 6, 32)          0         \n",
      "_________________________________________________________________\n",
      "conv2d_12 (Conv2D)           (None, 6, 6, 32)          9248      \n",
      "_________________________________________________________________\n",
      "conv2d_13 (Conv2D)           (None, 4, 4, 32)          9248      \n",
      "_________________________________________________________________\n",
      "max_pooling2d_6 (MaxPooling2 (None, 2, 2, 32)          0         \n",
      "_________________________________________________________________\n",
      "dropout_8 (Dropout)          (None, 2, 2, 32)          0         \n",
      "_________________________________________________________________\n",
      "flatten_1 (Flatten)          (None, 128)               0         \n",
      "_________________________________________________________________\n",
      "dropout_9 (Dropout)          (None, 128)               0         \n",
      "_________________________________________________________________\n",
      "dense_4 (Dense)              (None, 512)               66048     \n",
      "_________________________________________________________________\n",
      "dense_5 (Dense)              (None, 4)                 2052      \n",
      "=================================================================\n",
      "Total params: 133,156\n",
      "Trainable params: 133,156\n",
      "Non-trainable params: 0\n",
      "_________________________________________________________________\n"
     ]
    }
   ],
   "source": [
    "cnn_model2 = keras.Sequential(\n",
    "    [\n",
    "        keras.Input(shape=input_shape),\n",
    "        layers.Conv2D(32, kernel_size=(3,3), padding=\"same\", activation=\"relu\"),\n",
    "        layers.Conv2D(32, kernel_size=(3,3), padding=\"valid\", activation=\"relu\"),\n",
    "        layers.MaxPooling2D(pool_size=(2,2)),\n",
    "        layers.Dropout(0.2, seed=235), \n",
    "        layers.Conv2D(32, kernel_size=(3,3), padding=\"same\", activation=\"relu\"),\n",
    "        layers.Conv2D(32, kernel_size=(3,3), padding=\"valid\", activation=\"relu\"),\n",
    "        layers.MaxPooling2D(pool_size=(2,2)),\n",
    "        layers.Dropout(0.2, seed=235),\n",
    "        layers.Conv2D(32, kernel_size=(3,3), padding=\"same\", activation=\"relu\"),\n",
    "        layers.Conv2D(32, kernel_size=(3,3), padding=\"valid\", activation=\"relu\"),\n",
    "        layers.MaxPooling2D(pool_size=(2,2)),\n",
    "        layers.Dropout(0.2, seed=235),\n",
    "        layers.Conv2D(32, kernel_size=(3,3), padding=\"same\", activation=\"relu\"),\n",
    "        layers.Conv2D(32, kernel_size=(3,3), padding=\"valid\", activation=\"relu\"),\n",
    "        layers.MaxPooling2D(pool_size=(2,2)),\n",
    "        layers.Dropout(0.2, seed=235),\n",
    "        layers.Flatten(),\n",
    "        layers.Dropout(0.5, seed=235),\n",
    "        layers.Dense(512, activation=\"relu\"),\n",
    "        layers.Dense(num_classes, activation=\"softmax\"),\n",
    "    ]\n",
    ")\n",
    "cnn_model2.summary()"
   ]
  },
  {
   "cell_type": "code",
   "execution_count": 34,
   "id": "0e3ac302",
   "metadata": {
    "execution": {
     "iopub.execute_input": "2023-04-19T17:12:06.476793Z",
     "iopub.status.busy": "2023-04-19T17:12:06.476123Z",
     "iopub.status.idle": "2023-04-19T17:15:29.869092Z",
     "shell.execute_reply": "2023-04-19T17:15:29.867576Z"
    },
    "papermill": {
     "duration": 203.6745,
     "end_time": "2023-04-19T17:15:29.871498",
     "exception": false,
     "start_time": "2023-04-19T17:12:06.196998",
     "status": "completed"
    },
    "tags": []
   },
   "outputs": [
    {
     "name": "stdout",
     "output_type": "stream",
     "text": [
      "Epoch 1/50\n",
      "133/133 [==============================] - 5s 29ms/step - loss: 1.0959 - accuracy: 0.5311\n",
      "Epoch 2/50\n",
      "133/133 [==============================] - 4s 28ms/step - loss: 0.8396 - accuracy: 0.6651\n",
      "Epoch 3/50\n",
      "133/133 [==============================] - 4s 28ms/step - loss: 0.7390 - accuracy: 0.7033\n",
      "Epoch 4/50\n",
      "133/133 [==============================] - 4s 28ms/step - loss: 0.6920 - accuracy: 0.7224\n",
      "Epoch 5/50\n",
      "133/133 [==============================] - 4s 29ms/step - loss: 0.6510 - accuracy: 0.7419\n",
      "Epoch 6/50\n",
      "133/133 [==============================] - 4s 29ms/step - loss: 0.6158 - accuracy: 0.7591\n",
      "Epoch 7/50\n",
      "133/133 [==============================] - 4s 29ms/step - loss: 0.5736 - accuracy: 0.7790\n",
      "Epoch 8/50\n",
      "133/133 [==============================] - 4s 30ms/step - loss: 0.5548 - accuracy: 0.7877\n",
      "Epoch 9/50\n",
      "133/133 [==============================] - 4s 29ms/step - loss: 0.5249 - accuracy: 0.7996\n",
      "Epoch 10/50\n",
      "133/133 [==============================] - 4s 29ms/step - loss: 0.5079 - accuracy: 0.8056\n",
      "Epoch 11/50\n",
      "133/133 [==============================] - 4s 29ms/step - loss: 0.4809 - accuracy: 0.8172\n",
      "Epoch 12/50\n",
      "133/133 [==============================] - 4s 29ms/step - loss: 0.4555 - accuracy: 0.8283\n",
      "Epoch 13/50\n",
      "133/133 [==============================] - 4s 28ms/step - loss: 0.4370 - accuracy: 0.8336\n",
      "Epoch 14/50\n",
      "133/133 [==============================] - 4s 28ms/step - loss: 0.4195 - accuracy: 0.8400\n",
      "Epoch 15/50\n",
      "133/133 [==============================] - 4s 28ms/step - loss: 0.4017 - accuracy: 0.8461\n",
      "Epoch 16/50\n",
      "133/133 [==============================] - 4s 30ms/step - loss: 0.3924 - accuracy: 0.8516\n",
      "Epoch 17/50\n",
      "133/133 [==============================] - 4s 28ms/step - loss: 0.3718 - accuracy: 0.8630\n",
      "Epoch 18/50\n",
      "133/133 [==============================] - 4s 28ms/step - loss: 0.3664 - accuracy: 0.8626\n",
      "Epoch 19/50\n",
      "133/133 [==============================] - 4s 28ms/step - loss: 0.3515 - accuracy: 0.8703\n",
      "Epoch 20/50\n",
      "133/133 [==============================] - 4s 28ms/step - loss: 0.3474 - accuracy: 0.8711\n",
      "Epoch 21/50\n",
      "133/133 [==============================] - 4s 28ms/step - loss: 0.3332 - accuracy: 0.8734\n",
      "Epoch 22/50\n",
      "133/133 [==============================] - 4s 28ms/step - loss: 0.3289 - accuracy: 0.8762\n",
      "Epoch 23/50\n",
      "133/133 [==============================] - 4s 28ms/step - loss: 0.3134 - accuracy: 0.8845\n",
      "Epoch 24/50\n",
      "133/133 [==============================] - 4s 29ms/step - loss: 0.3198 - accuracy: 0.8826\n",
      "Epoch 25/50\n",
      "133/133 [==============================] - 4s 29ms/step - loss: 0.3199 - accuracy: 0.8807\n",
      "Epoch 26/50\n",
      "133/133 [==============================] - 4s 28ms/step - loss: 0.2923 - accuracy: 0.8908\n",
      "Epoch 27/50\n",
      "133/133 [==============================] - 4s 28ms/step - loss: 0.2974 - accuracy: 0.8891\n",
      "Epoch 28/50\n",
      "133/133 [==============================] - 4s 28ms/step - loss: 0.2933 - accuracy: 0.8906\n",
      "Epoch 29/50\n",
      "133/133 [==============================] - 4s 28ms/step - loss: 0.2919 - accuracy: 0.8942\n",
      "Epoch 30/50\n",
      "133/133 [==============================] - 4s 28ms/step - loss: 0.2863 - accuracy: 0.8952\n",
      "Epoch 31/50\n",
      "133/133 [==============================] - 4s 28ms/step - loss: 0.2685 - accuracy: 0.9018\n",
      "Epoch 32/50\n",
      "133/133 [==============================] - 4s 29ms/step - loss: 0.2744 - accuracy: 0.8996\n",
      "Epoch 33/50\n",
      "133/133 [==============================] - 4s 29ms/step - loss: 0.2717 - accuracy: 0.8992\n",
      "Epoch 34/50\n",
      "133/133 [==============================] - 4s 29ms/step - loss: 0.2573 - accuracy: 0.9053\n",
      "Epoch 35/50\n",
      "133/133 [==============================] - 4s 29ms/step - loss: 0.2528 - accuracy: 0.9076\n",
      "Epoch 36/50\n",
      "133/133 [==============================] - 4s 28ms/step - loss: 0.2559 - accuracy: 0.9046\n",
      "Epoch 37/50\n",
      "133/133 [==============================] - 4s 29ms/step - loss: 0.2519 - accuracy: 0.9065\n",
      "Epoch 38/50\n",
      "133/133 [==============================] - 4s 29ms/step - loss: 0.2442 - accuracy: 0.9105\n",
      "Epoch 39/50\n",
      "133/133 [==============================] - 4s 30ms/step - loss: 0.2437 - accuracy: 0.9099\n",
      "Epoch 40/50\n",
      "133/133 [==============================] - 4s 30ms/step - loss: 0.2376 - accuracy: 0.9139\n",
      "Epoch 41/50\n",
      "133/133 [==============================] - 4s 31ms/step - loss: 0.2432 - accuracy: 0.9108\n",
      "Epoch 42/50\n",
      "133/133 [==============================] - 4s 29ms/step - loss: 0.2335 - accuracy: 0.9144\n",
      "Epoch 43/50\n",
      "133/133 [==============================] - 4s 29ms/step - loss: 0.2356 - accuracy: 0.9121\n",
      "Epoch 44/50\n",
      "133/133 [==============================] - 4s 29ms/step - loss: 0.2239 - accuracy: 0.9179\n",
      "Epoch 45/50\n",
      "133/133 [==============================] - 4s 30ms/step - loss: 0.2260 - accuracy: 0.9169\n",
      "Epoch 46/50\n",
      "133/133 [==============================] - 4s 30ms/step - loss: 0.2216 - accuracy: 0.9184\n",
      "Epoch 47/50\n",
      "133/133 [==============================] - 4s 29ms/step - loss: 0.2203 - accuracy: 0.9198\n",
      "Epoch 48/50\n",
      "133/133 [==============================] - 4s 29ms/step - loss: 0.2198 - accuracy: 0.9219\n",
      "Epoch 49/50\n",
      "133/133 [==============================] - 4s 30ms/step - loss: 0.2141 - accuracy: 0.9235\n",
      "Epoch 50/50\n",
      "133/133 [==============================] - 4s 29ms/step - loss: 0.2109 - accuracy: 0.9230\n",
      "Temps de calcul : 203.379900932312\n"
     ]
    }
   ],
   "source": [
    "cnn_model2.compile(loss=\"categorical_crossentropy\", optimizer=\"adam\", metrics=[\"accuracy\"])\n",
    "es = EarlyStopping(monitor='val_accuracy', mode='max', patience=10,  restore_best_weights=True)\n",
    "\n",
    "start_time = time.time() \n",
    "history = cnn_model2.fit(X_train, y_train, epochs=50, batch_size=128)\n",
    "print(\"Temps de calcul :\", time.time() - start_time)"
   ]
  },
  {
   "cell_type": "code",
   "execution_count": 35,
   "id": "70e14a8b",
   "metadata": {
    "execution": {
     "iopub.execute_input": "2023-04-19T17:15:30.973305Z",
     "iopub.status.busy": "2023-04-19T17:15:30.972906Z",
     "iopub.status.idle": "2023-04-19T17:15:32.502089Z",
     "shell.execute_reply": "2023-04-19T17:15:32.500614Z"
    },
    "papermill": {
     "duration": 2.103858,
     "end_time": "2023-04-19T17:15:32.505063",
     "exception": false,
     "start_time": "2023-04-19T17:15:30.401205",
     "status": "completed"
    },
    "tags": []
   },
   "outputs": [
    {
     "name": "stdout",
     "output_type": "stream",
     "text": [
      "Accuracy model8 adam: 90.67%\n"
     ]
    },
    {
     "data": {
      "text/html": [
       "<div>\n",
       "<style scoped>\n",
       "    .dataframe tbody tr th:only-of-type {\n",
       "        vertical-align: middle;\n",
       "    }\n",
       "\n",
       "    .dataframe tbody tr th {\n",
       "        vertical-align: top;\n",
       "    }\n",
       "\n",
       "    .dataframe thead th {\n",
       "        text-align: right;\n",
       "    }\n",
       "</style>\n",
       "<table border=\"1\" class=\"dataframe\">\n",
       "  <thead>\n",
       "    <tr style=\"text-align: right;\">\n",
       "      <th>col_0</th>\n",
       "      <th>0</th>\n",
       "      <th>1</th>\n",
       "      <th>2</th>\n",
       "      <th>3</th>\n",
       "    </tr>\n",
       "    <tr>\n",
       "      <th>row_0</th>\n",
       "      <th></th>\n",
       "      <th></th>\n",
       "      <th></th>\n",
       "      <th></th>\n",
       "    </tr>\n",
       "  </thead>\n",
       "  <tbody>\n",
       "    <tr>\n",
       "      <th>0</th>\n",
       "      <td>1909</td>\n",
       "      <td>38</td>\n",
       "      <td>86</td>\n",
       "      <td>5</td>\n",
       "    </tr>\n",
       "    <tr>\n",
       "      <th>1</th>\n",
       "      <td>13</td>\n",
       "      <td>690</td>\n",
       "      <td>18</td>\n",
       "      <td>2</td>\n",
       "    </tr>\n",
       "    <tr>\n",
       "      <th>2</th>\n",
       "      <td>162</td>\n",
       "      <td>43</td>\n",
       "      <td>998</td>\n",
       "      <td>0</td>\n",
       "    </tr>\n",
       "    <tr>\n",
       "      <th>3</th>\n",
       "      <td>18</td>\n",
       "      <td>6</td>\n",
       "      <td>4</td>\n",
       "      <td>241</td>\n",
       "    </tr>\n",
       "  </tbody>\n",
       "</table>\n",
       "</div>"
      ],
      "text/plain": [
       "col_0     0    1    2    3\n",
       "row_0                     \n",
       "0      1909   38   86    5\n",
       "1        13  690   18    2\n",
       "2       162   43  998    0\n",
       "3        18    6    4  241"
      ]
     },
     "execution_count": 35,
     "metadata": {},
     "output_type": "execute_result"
    }
   ],
   "source": [
    "loss, acc = cnn_model2.evaluate(X_test, y_test, verbose=0)\n",
    "\n",
    "print(\"Accuracy model8 adam: %.2f%%\" % (100.0 * acc))\n",
    "\n",
    "predictions = cnn_model2.predict(X_test)\n",
    "pd.crosstab(np.argmax(y_test, axis=1), np.argmax(predictions, axis=1))"
   ]
  },
  {
   "cell_type": "code",
   "execution_count": 36,
   "id": "220d2fe7",
   "metadata": {
    "execution": {
     "iopub.execute_input": "2023-04-19T17:15:33.561101Z",
     "iopub.status.busy": "2023-04-19T17:15:33.560048Z",
     "iopub.status.idle": "2023-04-19T17:15:33.577266Z",
     "shell.execute_reply": "2023-04-19T17:15:33.575499Z"
    },
    "papermill": {
     "duration": 0.5475,
     "end_time": "2023-04-19T17:15:33.580088",
     "exception": false,
     "start_time": "2023-04-19T17:15:33.032588",
     "status": "completed"
    },
    "tags": []
   },
   "outputs": [
    {
     "name": "stdout",
     "output_type": "stream",
     "text": [
      "Classification report for classifier :\n",
      "              precision    recall  f1-score   support\n",
      "\n",
      "           0       0.91      0.94      0.92      2038\n",
      "           1       0.89      0.95      0.92       723\n",
      "           2       0.90      0.83      0.86      1203\n",
      "           3       0.97      0.90      0.93       269\n",
      "\n",
      "    accuracy                           0.91      4233\n",
      "   macro avg       0.92      0.90      0.91      4233\n",
      "weighted avg       0.91      0.91      0.91      4233\n",
      "\n",
      "\n"
     ]
    }
   ],
   "source": [
    "# confusion matrix and accuracy\n",
    "\n",
    "from sklearn import metrics\n",
    "from sklearn.metrics import classification_report \n",
    "\n",
    "print(\"Classification report for classifier :\\n\"\n",
    "      f\"{metrics.classification_report(np.argmax(y_test, axis=1), np.argmax(predictions, axis=1))}\\n\")"
   ]
  },
  {
   "cell_type": "code",
   "execution_count": null,
   "id": "b95c9383",
   "metadata": {
    "papermill": {
     "duration": 0.67963,
     "end_time": "2023-04-19T17:15:34.794483",
     "exception": false,
     "start_time": "2023-04-19T17:15:34.114853",
     "status": "completed"
    },
    "tags": []
   },
   "outputs": [],
   "source": []
  }
 ],
 "metadata": {
  "kernelspec": {
   "display_name": "Python 3 (ipykernel)",
   "language": "python",
   "name": "python3"
  },
  "language_info": {
   "codemirror_mode": {
    "name": "ipython",
    "version": 3
   },
   "file_extension": ".py",
   "mimetype": "text/x-python",
   "name": "python",
   "nbconvert_exporter": "python",
   "pygments_lexer": "ipython3",
   "version": "3.9.12"
  },
  "papermill": {
   "default_parameters": {},
   "duration": 2455.011854,
   "end_time": "2023-04-19T17:15:39.058892",
   "environment_variables": {},
   "exception": null,
   "input_path": "__notebook__.ipynb",
   "output_path": "__notebook__.ipynb",
   "parameters": {},
   "start_time": "2023-04-19T16:34:44.047038",
   "version": "2.3.4"
  }
 },
 "nbformat": 4,
 "nbformat_minor": 5
}
